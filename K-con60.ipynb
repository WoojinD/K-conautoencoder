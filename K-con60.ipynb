{
 "cells": [
  {
   "cell_type": "code",
   "execution_count": 1,
   "metadata": {},
   "outputs": [
    {
     "name": "stderr",
     "output_type": "stream",
     "text": [
      "Using TensorFlow backend.\n"
     ]
    }
   ],
   "source": [
    "import keras\n",
    "from keras.layers import Input, Dense, Dropout, LeakyReLU, Softmax, Layer\n",
    "from keras.models import Model\n",
    "from keras.datasets import mnist\n",
    "from keras import backend as K\n",
    "from keras.engine.topology import Layer\n",
    "from keras.optimizers import Optimizer\n",
    "from keras.legacy import interfaces\n",
    "from keras import callbacks\n",
    "from keras.initializers import VarianceScaling\n",
    "from sklearn.cluster import KMeans\n",
    "from keras.optimizers import SGD\n",
    "from keras.losses import mean_squared_error\n",
    "from keras.callbacks import EarlyStopping\n",
    "from keras.initializers import Constant, glorot_normal\n",
    "from keras.optimizers import Adam\n",
    "\n",
    "import metrics\n",
    "from time import time\n",
    "\n",
    "import numpy as np\n",
    "import matplotlib.pyplot as plt\n",
    "\n",
    "import math\n",
    "import numpy as np\n",
    "\n",
    "import csv"
   ]
  },
  {
   "cell_type": "code",
   "execution_count": 2,
   "metadata": {},
   "outputs": [],
   "source": [
    "class ConcreteSelect(Layer):\n",
    "    def __init__(self, output_dim, start_temp = 10.0, min_temp = 0.1, alpha = 0.99999, **kwargs):\n",
    "        self.output_dim = output_dim\n",
    "        self.start_temp = start_temp\n",
    "        self.min_temp = K.constant(min_temp)\n",
    "        self.alpha = K.constant(alpha)\n",
    "        super(ConcreteSelect, self).__init__(**kwargs)\n",
    "        \n",
    "    def build(self, input_shape):\n",
    "        self.temp = self.add_weight(name = 'temp', shape = [], initializer = Constant(self.start_temp), trainable = False)\n",
    "        self.logits = self.add_weight(name = 'logits', shape = [self.output_dim, input_shape[1]], initializer = glorot_normal(), trainable = True)\n",
    "        super(ConcreteSelect, self).build(input_shape)\n",
    "        \n",
    "    def call(self, X, training = None):\n",
    "        uniform = K.random_uniform(self.logits.shape, K.epsilon(), 1.0)\n",
    "        gumbel = -K.log(-K.log(uniform))\n",
    "        temp = K.update(self.temp, K.maximum(self.min_temp, self.temp * self.alpha))\n",
    "        noisy_logits = (self.logits + gumbel) / temp\n",
    "        samples = K.softmax(noisy_logits)\n",
    "        discrete_logits = K.one_hot(K.argmax(self.logits), self.logits.shape[1])\n",
    "\n",
    "        self.selections = K.in_train_phase(samples, discrete_logits, training)\n",
    "        Y = K.dot(X, K.transpose(self.selections))\n",
    "        return Y\n",
    "    \n",
    "    def compute_output_shape(self, input_shape):\n",
    "        return (input_shape[0], self.output_dim)\n",
    "    \n",
    "class StopperCallback(EarlyStopping):\n",
    "    \n",
    "    def __init__(self, mean_max_target = 0.998):\n",
    "        self.mean_max_target = mean_max_target\n",
    "        super(StopperCallback, self).__init__(monitor = '', patience = float('inf'), verbose = 1, mode = 'max', baseline = self.mean_max_target)\n",
    "    \n",
    "    def on_epoch_begin(self, epoch, logs = None):\n",
    "        print('mean max of probabilities:', self.get_monitor_value(logs), '- temperature', K.get_value(self.model.get_layer('concrete_select').temp))\n",
    "        #print( K.get_value(K.max(K.softmax(self.model.get_layer('concrete_select').logits), axis = -1)))\n",
    "        #print(K.get_value(K.max(self.model.get_layer('concrete_select').selections, axis = -1)))\n",
    "    \n",
    "    def get_monitor_value(self, logs):\n",
    "        monitor_value = K.get_value(K.mean(K.max(K.softmax(self.model.get_layer('concrete_select').logits), axis = -1)))\n",
    "        return monitor_value\n",
    "\n",
    "\n",
    "class ConcreteAutoencoderFeatureSelector():\n",
    "    def __init__(self, K, output_function, num_epochs = 300, batch_size = None, learning_rate = 0.001, start_temp = 10.0, min_temp = 0.1, tryout_limit = 5):\n",
    "\n",
    "        self.K = K\n",
    "        self.output_function = output_function\n",
    "        self.num_epochs = num_epochs\n",
    "        self.batch_size = batch_size\n",
    "        self.learning_rate = learning_rate\n",
    "        self.start_temp = start_temp\n",
    "        self.min_temp = min_temp\n",
    "        self.tryout_limit = tryout_limit\n",
    "        \n",
    "    def fit(self, X, Y, val_X = None, val_Y = None):\n",
    "        assert len(X) == len(Y)\n",
    "        validation_data = None\n",
    "        if val_X is not None and val_Y is not None:\n",
    "            assert len(val_X) == len(val_Y)\n",
    "            validation_data = (val_X, val_Y)\n",
    "        \n",
    "        if self.batch_size is None:\n",
    "            self.batch_size = max(len(X) // 256, 16)\n",
    "        \n",
    "        num_epochs = self.num_epochs\n",
    "        steps_per_epoch = (len(X) + self.batch_size - 1) // self.batch_size\n",
    "        \n",
    "        for i in range(self.tryout_limit):\n",
    "\n",
    "            K.set_learning_phase(1)\n",
    "\n",
    "            inputs = Input(shape = X.shape[1:])\n",
    "\n",
    "            alpha = math.exp(math.log(self.min_temp / self.start_temp) / (num_epochs * steps_per_epoch))\n",
    "            \n",
    "            self.concrete_select = ConcreteSelect(self.K, self.start_temp, self.min_temp, alpha, name = 'concrete_select')\n",
    "\n",
    "            selected_features = self.concrete_select(inputs)\n",
    "\n",
    "            outputs = self.output_function(selected_features)\n",
    "\n",
    "            self.model = Model(inputs, outputs)\n",
    "\n",
    "            self.model.compile(Adam(self.learning_rate), loss = 'mean_squared_error')\n",
    "            \n",
    "            print(self.model.summary())\n",
    "            \n",
    "            stopper_callback = StopperCallback()\n",
    "            \n",
    "            hist = self.model.fit(X, Y, self.batch_size, num_epochs, verbose = 1, callbacks = [stopper_callback], validation_data = validation_data)#, validation_freq = 10)\n",
    "            \n",
    "            if K.get_value(K.mean(K.max(K.softmax(self.concrete_select.logits, axis = -1)))) >= stopper_callback.mean_max_target:\n",
    "                break\n",
    "            \n",
    "            num_epochs *= 2\n",
    "        \n",
    "        self.probabilities = K.get_value(K.softmax(self.model.get_layer('concrete_select').logits))\n",
    "        self.indices = K.get_value(K.argmax(self.model.get_layer('concrete_select').logits))\n",
    "            \n",
    "        return self\n",
    "    \n",
    "    def get_indices(self):\n",
    "        return K.get_value(K.argmax(self.model.get_layer('concrete_select').logits))\n",
    "    \n",
    "    def get_mask(self):\n",
    "        return K.get_value(K.sum(K.one_hot(K.argmax(self.model.get_layer('concrete_select').logits), self.model.get_layer('concrete_select').logits.shape[1]), axis = 0))\n",
    "    \n",
    "    def transform(self, X):\n",
    "        return X[self.get_indices()]\n",
    "    \n",
    "    def fit_transform(self, X, y):\n",
    "        self.fit(X, y)\n",
    "        return self.transform(X)\n",
    "    \n",
    "    def get_support(self, indices = False):\n",
    "        return self.get_indices() if indices else self.get_mask()\n",
    "    \n",
    "    def get_params(self):\n",
    "        return self.model"
   ]
  },
  {
   "cell_type": "code",
   "execution_count": 3,
   "metadata": {},
   "outputs": [
    {
     "name": "stdout",
     "output_type": "stream",
     "text": [
      "(60000, 784)\n",
      "(10000, 784)\n",
      "(60, 80)\n",
      "(60,)\n",
      "[[-4.3451  -5.7096   4.1448  ...  3.6578   0.2855  -0.13646]\n",
      " [-4.0435  -5.0466   3.4547  ... -0.96792 -1.0499  -0.43679]\n",
      " [-5.1122  -4.4737   1.1776  ...  1.0954   2.7864  -1.123  ]\n",
      " ...\n",
      " [ 6.0403   5.6948   1.1209  ...  1.6611   1.741    0.5901 ]\n",
      " [ 5.5527   6.6524  -3.454   ...  0.52746  0.23702 -2.0783 ]\n",
      " [ 6.1353   5.5938   0.29583 ...  1.6467  -1.2779   1.8621 ]]\n",
      "[0. 0. 0. 0. 0. 0. 0. 0. 0. 0. 0. 0. 0. 0. 0. 0. 1. 1. 1. 1. 1. 1. 1. 1.\n",
      " 1. 1. 1. 1. 2. 2. 2. 2. 2. 2. 2. 2. 2. 2. 2. 2. 2. 2. 2. 2. 2. 2. 2. 2.\n",
      " 2. 2. 2. 2. 3. 3. 3. 3. 3. 3. 3. 3.]\n"
     ]
    }
   ],
   "source": [
    "(x_train, y_train), (x_test, y_test) = mnist.load_data()\n",
    "    \n",
    "# normalize all values between 0 and 1 and flatten the 28x28 images into vectors of size 784\n",
    "x_train = x_train.astype('float32') / 255.\n",
    "x_test = x_test.astype('float32') / 255.\n",
    "x_train = x_train.reshape((len(x_train), np.prod(x_train.shape[1:])))\n",
    "x_test = x_test.reshape((len(x_test), np.prod(x_test.shape[1:])))\n",
    "print(x_train.shape)\n",
    "print(x_test.shape)\n",
    "\n",
    "leuk_data=np.loadtxt('simulationdata60.csv',delimiter=',')\n",
    "print(leuk_data.shape)\n",
    "x_train=leuk_data;\n",
    "\n",
    "leuk_label=np.loadtxt('simulationdata60_label.csv',delimiter=',')\n",
    "print(leuk_label.shape)\n",
    "y_train=leuk_label-1;\n",
    "\n",
    "print(x_train)\n",
    "print(y_train)\n"
   ]
  },
  {
   "cell_type": "code",
   "execution_count": 4,
   "metadata": {},
   "outputs": [],
   "source": [
    "def autoencoder_with_kmeans(dims, act='relu', init='glorot_uniform', K=5, num_epochs = 300, batch_size = None, learning_rate = 0.001, start_temp = 10.0, min_temp = 0.1, tryout_limit = 5):\n",
    "    \"\"\"\n",
    "    Fully connected auto-encoder model, symmetric.\n",
    "    Arguments:\n",
    "        dims: list of number of units in each layer of encoder. dims[0] is input dim, dims[-1] is units in hidden layer.\n",
    "            The decoder is symmetric with encoder. So number of layers of the auto-encoder is 2*len(dims)-1\n",
    "        act: activation, not applied to Input, Hidden and Output layers\n",
    "    return:\n",
    "        (ae_model, encoder_model), Model of autoencoder and model of encoder\n",
    "    \"\"\"\n",
    "    n_stacks = len(dims) - 1\n",
    "\n",
    "    # input\n",
    "    clustering_input = Input(shape=(dims[-1],), name='clustering_input')\n",
    "    \n",
    "    if batch_size is None:\n",
    "        batch_size = 10 # max(dims[0] // 256, 16)\n",
    "    \n",
    "    steps_per_epoch = (dims[0] + batch_size - 1) // batch_size\n",
    "    x = Input(shape=(dims[0],), name='input')\n",
    "    alpha = math.exp(math.log(min_temp / start_temp) / (num_epochs * steps_per_epoch))\n",
    "    concrete_select = ConcreteSelect(K , start_temp, min_temp, alpha, name = 'concrete_select')\n",
    "    selected_features = concrete_select(x)\n",
    "    h = (selected_features)\n",
    "\n",
    "    # internal layers in encoder\n",
    "    for i in range(n_stacks - 1):\n",
    "        h = Dense(dims[i + 1], activation=act, kernel_initializer=init, name='encoder_%d' % i)(h)\n",
    "\n",
    "    # hidden layer\n",
    "    h = Dense(dims[-1], kernel_initializer=init, name='encoder_%d' % (n_stacks - 1))(\n",
    "        h)  # hidden layer, features are extracted from here\n",
    "    y = h\n",
    "    # internal layers in decoder\n",
    "    for i in range(n_stacks - 1, 0, -1):\n",
    "        y = Dense(dims[i], activation=act, kernel_initializer=init, name='decoder_%d' % i)(y)\n",
    "        y = LeakyReLU(0.2)(y)\n",
    "        y = Dropout(0.1)(y)\n",
    "        \n",
    "    # output\n",
    "    y = Dense(dims[0], kernel_initializer=init, name='decoder_0')(y)\n",
    "\n",
    "    return Model(inputs=[x, clustering_input], outputs=y, name='AE'), Model(inputs=x, outputs=h,\n",
    "                                                                            name='encoder'), clustering_input\n"
   ]
  },
  {
   "cell_type": "code",
   "execution_count": 5,
   "metadata": {},
   "outputs": [],
   "source": [
    "def loss_wrapper(encoded_X, label_centers, lambd):\n",
    "    def loss(y_true, y_pred):\n",
    "        cost_clustering = K.mean(K.square(label_centers - encoded_X), axis=-1)\n",
    "        cost_reconstruction = K.mean(K.square(y_true - y_pred), axis=-1)\n",
    "\n",
    "        cost = lambd * cost_clustering + cost_reconstruction\n",
    "        return cost\n",
    "\n",
    "    return loss\n",
    "\n",
    "\n",
    "class DCN(object):\n",
    "    def __init__(self, dims, n_clusters, lambd=0.5, init='glorot_uniform'):\n",
    "        super(DCN, self).__init__()\n",
    "        self.dims = dims\n",
    "        self.input_dim = dims[0]\n",
    "        self.n_stacks = len(self.dims) - 1\n",
    "\n",
    "        self.n_clusters = n_clusters\n",
    "        self.lambd = lambd\n",
    "        self.autoencoder, self.encoder, self.clustering_input = autoencoder_with_kmeans(self.dims, init=init)\n",
    "\n",
    "        self.centers = np.zeros((self.n_clusters, self.dims[-1]))\n",
    "        self.count = 100 * np.ones(self.n_clusters, dtype=np.int)\n",
    "\n",
    "    def pretrain(self, x, y=None, optimizer='adam', epochs=200, batch_size=10, save_dir='results/temp'):\n",
    "        \n",
    "        print('...Pretraining...')\n",
    "        self.autoencoder.compile(optimizer=optimizer, loss='mse')\n",
    "\n",
    "        csv_logger = callbacks.CSVLogger(save_dir + '/pretrain_log.csv')\n",
    "        cb = [csv_logger]\n",
    "        if y is not None:\n",
    "            class PrintACC(callbacks.Callback):\n",
    "                def __init__(self, x, y):\n",
    "                    self.x = x\n",
    "                    self.y = y\n",
    "                    super(PrintACC, self).__init__()\n",
    "\n",
    "                def on_epoch_end(self, epoch, logs=None):\n",
    "                    if int(epochs / 10) != 0 and epoch % int(epochs / 10) != 0:\n",
    "                        return\n",
    "                    feature_model = Model(self.model.input,\n",
    "                                          self.model.get_layer(\n",
    "                                              'encoder_%d' % (int(len(self.model.layers) / 2) - 1)).output)\n",
    "                    features = feature_model.predict(self.x)\n",
    "                    km = KMeans(n_clusters=len(np.unique(self.y)), n_init=20, n_jobs=4)\n",
    "                    y_pred = km.fit_predict(features)\n",
    "                    # print()\n",
    "                    print(' ' * 8 + '|==>  acc: %.4f,  nmi: %.4f  <==|'\n",
    "                          % (metrics.acc(self.y, y_pred), metrics.nmi(self.y, y_pred)))\n",
    "\n",
    "            cb.append(PrintACC(x, y))\n",
    "\n",
    "        # begin pretraining\n",
    "        t0 = time()\n",
    "        temp = []\n",
    "        for i in range(x.shape[0]):\n",
    "            t = []\n",
    "            for k in range(self.dims[-1]):\n",
    "                t.append(0)\n",
    "            temp.append(t)\n",
    "        temp = np.array(temp)\n",
    "        self.autoencoder.fit([x, temp], x, batch_size=batch_size, epochs=epochs, callbacks=cb)\n",
    "        print('Pretraining time: %ds' % round(time() - t0))\n",
    "        self.autoencoder.save_weights(save_dir + '/ae_weights_200.h5')\n",
    "        print('Pretrained weights are saved to %s/ae_weights_200.h5' % save_dir)\n",
    "        self.pretrained = True\n",
    "\n",
    "    def init_centers(self, x, y=None):\n",
    "        # init self.centers\n",
    "        kmeans = KMeans(n_clusters=self.n_clusters)\n",
    "        kmeans.fit(self.encoder.predict(x))\n",
    "        self.all_pred = kmeans.labels_\n",
    "        self.centers = kmeans.cluster_centers_\n",
    "\n",
    "        print('centers-', self.centers)\n",
    "        if y is not None:\n",
    "            self.metric(y, self.all_pred)\n",
    "\n",
    "    def compile(self):\n",
    "        self.autoencoder.compile(optimizer='adam', loss=loss_wrapper(self.encoder.output, self.clustering_input, 0.5))\n",
    "\n",
    "    def fit(self, x, y, epoches, batch_size=10, save_dir='./models'):\n",
    "        m = x_train.shape[0]\n",
    "        self.count = 100 * np.ones(self.n_clusters, dtype=np.int)\n",
    "        for step in range(epoches):\n",
    "            cost = []  # all cost\n",
    "\n",
    "            for batch_index in range(int(m / batch_size) + 1):\n",
    "                X_batch = x[batch_index * batch_size:(batch_index + 1) * batch_size, :]\n",
    "\n",
    "                labels_of_centers = self.centers[self.all_pred[batch_index * batch_size:(batch_index + 1) * batch_size]]\n",
    "\n",
    "                c1 = self.autoencoder.train_on_batch([X_batch, labels_of_centers], X_batch)\n",
    "                cost.append(c1)\n",
    "\n",
    "                reductX = self.encoder.predict(X_batch)\n",
    "\n",
    "                # update k-means\n",
    "                self.all_pred[\n",
    "                batch_index * batch_size:(batch_index + 1) * batch_size], self.centers, self.count = self.batch_km(\n",
    "                    reductX, self.centers, self.count)\n",
    "\n",
    "            if step % 10 == 0:\n",
    "                reductX = self.encoder.predict(x)\n",
    "                km_model = KMeans(self.n_clusters, init=self.centers)\n",
    "                self.all_pred = km_model.fit_predict(reductX)\n",
    "                self.centers = km_model.cluster_centers_\n",
    "\n",
    "                print('step-', step, ' cost:', np.mean(cost))\n",
    "                #                print('centers-',self.centers)\n",
    "                print('count-', self.count)\n",
    "                self.metric(y, self.all_pred)\n",
    "        print('saving model to:', save_dir + '/DCN_model_final.h5')\n",
    "        self.autoencoder.save_weights(save_dir + '/DCN_model_final.h5')\n",
    "\n",
    "    def batch_km(self, data, center, count):\n",
    "        \"\"\"\n",
    "        Function to perform a KMeans update on a batch of data, center is the\n",
    "        centroid from last iteration.\n",
    "\n",
    "        \"\"\"\n",
    "        N = data.shape[0]\n",
    "        K = center.shape[0]\n",
    "\n",
    "        # update assignment\n",
    "        idx = np.zeros(N, dtype=np.int)\n",
    "        for i in range(N):\n",
    "            dist = np.inf\n",
    "            ind = 0\n",
    "            for j in range(K):\n",
    "                temp_dist = np.linalg.norm(data[i] - center[j])\n",
    "                if temp_dist < dist:\n",
    "                    dist = temp_dist\n",
    "                    ind = j\n",
    "            idx[i] = ind\n",
    "\n",
    "        # update centriod\n",
    "        center_new = center\n",
    "        for i in range(N):\n",
    "            c = idx[i]\n",
    "            count[c] += 1\n",
    "            eta = 1.0 / count[c]\n",
    "            center_new[c] = (1 - eta) * center_new[c] + eta * data[i]\n",
    "        center_new.astype(np.float32)\n",
    "        return idx, center_new, count\n",
    "\n",
    "    def get_centers_and_types_of_points(self, reductX):\n",
    "        distances = np.abs(reductX - self.centers[:, np.newaxis])\n",
    "        label_types = np.min(np.argmin(distances, axis=0), axis=1)\n",
    "        labels_of_centers = self.centers[label_types]\n",
    "        return labels_of_centers, label_types\n",
    "\n",
    "    def load_weights(self, weights):  # load weights of DEC model\n",
    "        self.autoencoder.load_weights(weights)\n",
    "\n",
    "    def extract_features(self, x):\n",
    "        return self.encoder.predict(x)\n",
    "\n",
    "    def predict(self, x):  # predict cluster labels using the output of clustering layer\n",
    "        reductX = self.encoder.predict(x)\n",
    "        labels_of_centers, label_types = self.get_centers_and_types_of_points(reductX)\n",
    "        return label_types\n",
    "\n",
    "    def metric(self, y, y_pred):\n",
    "        acc = np.round(metrics.acc(y, y_pred), 5)\n",
    "        nmi = np.round(metrics.nmi(y, y_pred), 5)\n",
    "        ari = np.round(metrics.ari(y, y_pred), 5)\n",
    "        print(y_pred)\n",
    "        print('acc:', acc)\n",
    "        print('nmi:', nmi)\n",
    "        print('ari:', ari)\n",
    "\n",
    "    def get_indices(self):\n",
    "        print('indices')\n",
    "        print(K.get_value(K.argmax(self.encoder.get_layer('concrete_select').logits)))\n",
    "        return K.get_value(K.argmax(self.encoder.get_layer('concrete_select').logits))     \n",
    "    \n",
    "    def get_support(self, indices = False):\n",
    "        return self.get_indices() if indices else self.get_mask()\n",
    "    \n",
    "    def get_mask(self):\n",
    "        print('indices2')\n",
    "        print(K.get_value(K.sum(K.one_hot(K.argmax(self.encoder.get_layer('concrete_select').logits), self.model.get_layer('concrete_select').logits.shape[1]), axis = 0)))\n",
    "        return K.get_value(K.sum(K.one_hot(K.argmax(self.encoder.get_layer('concrete_select').logits), self.model.get_layer('concrete_select').logits.shape[1]), axis = 0))\n",
    "    "
   ]
  },
  {
   "cell_type": "code",
   "execution_count": 7,
   "metadata": {},
   "outputs": [
    {
     "name": "stdout",
     "output_type": "stream",
     "text": [
      "centers- [[ 9.47473347e-02  1.44494295e-01  8.40930641e-03 -2.80013680e-01\n",
      "  -3.86166692e-01 -8.01536143e-02 -1.67951062e-02  1.30814940e-01\n",
      "  -1.68370873e-01  2.55677104e-02]\n",
      " [-1.90093234e-01 -4.79013592e-01  2.75075793e-01  3.15404654e-01\n",
      "   5.14424515e+00 -1.58418968e-01 -2.48496503e-01  1.27664313e-01\n",
      "   1.10376418e+00  4.63634193e-01]\n",
      " [ 1.83218159e-02  5.66919520e-02 -9.77286696e-03  3.17519569e+00\n",
      "   1.06598854e-01  2.22254425e-01  5.16950861e-02 -5.70057705e-02\n",
      "  -4.50560451e-03  1.26445398e-01]\n",
      " [-1.59297884e-02 -2.77769536e-01  3.02013516e-01 -4.00174260e-01\n",
      "   9.46311533e-01 -2.45548129e-01 -8.90003517e-02  1.46945909e-01\n",
      "   6.14625752e-01  1.57019436e-01]]\n",
      "[2 2 2 2 2 2 2 2 2 2 2 2 2 2 2 2 0 0 0 0 0 0 0 0 0 0 0 0 3 3 3 3 3 3 3 3 3\n",
      " 3 3 3 3 3 3 3 0 3 3 0 3 3 3 3 1 1 1 1 1 1 1 1]\n",
      "acc: 0.96667\n",
      "nmi: 0.92026\n",
      "ari: 0.90283\n"
     ]
    },
    {
     "name": "stderr",
     "output_type": "stream",
     "text": [
      "C:\\Users\\admin\\anaconda3\\envs\\pythonProject10\\lib\\site-packages\\sklearn\\metrics\\cluster\\supervised.py:844: FutureWarning: The behavior of NMI will change in version 0.22. To match the behavior of 'v_measure_score', NMI will use average_method='arithmetic' by default.\n",
      "  FutureWarning)\n",
      "C:\\Users\\admin\\anaconda3\\envs\\pythonProject10\\lib\\site-packages\\sklearn\\cluster\\k_means_.py:968: RuntimeWarning: Explicit initial center position passed: performing only one init in k-means instead of n_init=10\n",
      "  return_n_iter=True)\n",
      "C:\\Users\\admin\\anaconda3\\envs\\pythonProject10\\lib\\site-packages\\sklearn\\metrics\\cluster\\supervised.py:844: FutureWarning: The behavior of NMI will change in version 0.22. To match the behavior of 'v_measure_score', NMI will use average_method='arithmetic' by default.\n",
      "  FutureWarning)\n",
      "C:\\Users\\admin\\anaconda3\\envs\\pythonProject10\\lib\\site-packages\\sklearn\\cluster\\k_means_.py:968: RuntimeWarning: Explicit initial center position passed: performing only one init in k-means instead of n_init=10\n",
      "  return_n_iter=True)\n",
      "C:\\Users\\admin\\anaconda3\\envs\\pythonProject10\\lib\\site-packages\\sklearn\\metrics\\cluster\\supervised.py:844: FutureWarning: The behavior of NMI will change in version 0.22. To match the behavior of 'v_measure_score', NMI will use average_method='arithmetic' by default.\n",
      "  FutureWarning)\n"
     ]
    },
    {
     "name": "stdout",
     "output_type": "stream",
     "text": [
      "step- 0  cost: 2.0386338\n",
      "count- [114 108 116 122]\n",
      "[2 2 2 2 2 2 2 2 2 2 2 2 2 2 2 2 0 0 0 0 0 0 0 0 0 0 0 0 3 3 3 3 3 3 3 3 3\n",
      " 3 3 3 3 3 3 3 0 3 3 0 3 3 3 3 1 1 1 1 1 1 1 1]\n",
      "acc: 0.96667\n",
      "nmi: 0.92026\n",
      "ari: 0.90283\n",
      "step- 10  cost: 2.2694788\n",
      "count- [250 188 276 346]\n",
      "[2 2 2 2 2 2 2 2 2 2 2 2 2 2 2 2 0 0 0 0 0 0 0 0 0 0 0 0 3 3 3 3 3 3 3 3 3\n",
      " 3 3 3 3 3 3 3 0 3 3 0 3 3 3 3 1 1 1 1 1 1 1 1]\n",
      "acc: 0.96667\n",
      "nmi: 0.92026\n",
      "ari: 0.90283\n"
     ]
    },
    {
     "name": "stderr",
     "output_type": "stream",
     "text": [
      "C:\\Users\\admin\\anaconda3\\envs\\pythonProject10\\lib\\site-packages\\sklearn\\cluster\\k_means_.py:968: RuntimeWarning: Explicit initial center position passed: performing only one init in k-means instead of n_init=10\n",
      "  return_n_iter=True)\n",
      "C:\\Users\\admin\\anaconda3\\envs\\pythonProject10\\lib\\site-packages\\sklearn\\metrics\\cluster\\supervised.py:844: FutureWarning: The behavior of NMI will change in version 0.22. To match the behavior of 'v_measure_score', NMI will use average_method='arithmetic' by default.\n",
      "  FutureWarning)\n",
      "C:\\Users\\admin\\anaconda3\\envs\\pythonProject10\\lib\\site-packages\\sklearn\\cluster\\k_means_.py:968: RuntimeWarning: Explicit initial center position passed: performing only one init in k-means instead of n_init=10\n",
      "  return_n_iter=True)\n",
      "C:\\Users\\admin\\anaconda3\\envs\\pythonProject10\\lib\\site-packages\\sklearn\\metrics\\cluster\\supervised.py:844: FutureWarning: The behavior of NMI will change in version 0.22. To match the behavior of 'v_measure_score', NMI will use average_method='arithmetic' by default.\n",
      "  FutureWarning)\n"
     ]
    },
    {
     "name": "stdout",
     "output_type": "stream",
     "text": [
      "step- 20  cost: 1.9253857\n",
      "count- [390 268 436 566]\n",
      "[2 2 2 2 2 2 2 2 2 2 2 2 2 2 2 2 0 0 0 0 0 0 0 0 0 0 0 0 3 3 3 3 3 3 3 3 3\n",
      " 3 3 3 3 3 3 3 0 3 3 0 3 3 3 3 1 1 1 1 1 1 1 1]\n",
      "acc: 0.96667\n",
      "nmi: 0.92026\n",
      "ari: 0.90283\n",
      "step- 30  cost: 1.968985\n",
      "count- [530 348 596 786]\n",
      "[2 2 2 2 2 2 2 2 2 2 2 2 2 2 2 2 0 0 0 0 0 0 0 0 0 0 0 0 3 3 3 3 3 3 3 3 3\n",
      " 0 3 3 3 3 3 3 0 3 3 0 3 3 3 3 1 1 1 1 1 1 1 1]\n",
      "acc: 0.95\n",
      "nmi: 0.89575\n",
      "ari: 0.85789\n"
     ]
    },
    {
     "name": "stderr",
     "output_type": "stream",
     "text": [
      "C:\\Users\\admin\\anaconda3\\envs\\pythonProject10\\lib\\site-packages\\sklearn\\cluster\\k_means_.py:968: RuntimeWarning: Explicit initial center position passed: performing only one init in k-means instead of n_init=10\n",
      "  return_n_iter=True)\n",
      "C:\\Users\\admin\\anaconda3\\envs\\pythonProject10\\lib\\site-packages\\sklearn\\metrics\\cluster\\supervised.py:844: FutureWarning: The behavior of NMI will change in version 0.22. To match the behavior of 'v_measure_score', NMI will use average_method='arithmetic' by default.\n",
      "  FutureWarning)\n",
      "C:\\Users\\admin\\anaconda3\\envs\\pythonProject10\\lib\\site-packages\\sklearn\\cluster\\k_means_.py:968: RuntimeWarning: Explicit initial center position passed: performing only one init in k-means instead of n_init=10\n",
      "  return_n_iter=True)\n",
      "C:\\Users\\admin\\anaconda3\\envs\\pythonProject10\\lib\\site-packages\\sklearn\\metrics\\cluster\\supervised.py:844: FutureWarning: The behavior of NMI will change in version 0.22. To match the behavior of 'v_measure_score', NMI will use average_method='arithmetic' by default.\n",
      "  FutureWarning)\n"
     ]
    },
    {
     "name": "stdout",
     "output_type": "stream",
     "text": [
      "step- 40  cost: 1.9479728\n",
      "count- [ 674  428  756 1002]\n",
      "[2 2 2 2 2 2 2 2 2 2 2 2 2 2 2 2 0 0 0 0 0 0 0 0 0 0 0 0 3 3 3 3 3 3 3 3 3\n",
      " 0 3 3 0 3 3 3 0 3 3 0 3 3 3 3 1 1 1 1 1 1 1 1]\n",
      "acc: 0.93333\n",
      "nmi: 0.87543\n",
      "ari: 0.81567\n",
      "step- 50  cost: 2.0412297\n",
      "count- [ 818  508  916 1218]\n",
      "[2 2 2 2 2 2 2 2 2 2 2 2 2 2 2 2 0 0 0 0 0 0 0 0 0 0 0 0 3 3 3 3 3 3 3 3 3\n",
      " 0 3 3 3 3 3 3 0 3 3 0 3 3 3 3 1 1 1 1 1 1 1 1]\n",
      "acc: 0.95\n",
      "nmi: 0.89575\n",
      "ari: 0.85789\n"
     ]
    },
    {
     "name": "stderr",
     "output_type": "stream",
     "text": [
      "C:\\Users\\admin\\anaconda3\\envs\\pythonProject10\\lib\\site-packages\\sklearn\\cluster\\k_means_.py:968: RuntimeWarning: Explicit initial center position passed: performing only one init in k-means instead of n_init=10\n",
      "  return_n_iter=True)\n",
      "C:\\Users\\admin\\anaconda3\\envs\\pythonProject10\\lib\\site-packages\\sklearn\\metrics\\cluster\\supervised.py:844: FutureWarning: The behavior of NMI will change in version 0.22. To match the behavior of 'v_measure_score', NMI will use average_method='arithmetic' by default.\n",
      "  FutureWarning)\n",
      "C:\\Users\\admin\\anaconda3\\envs\\pythonProject10\\lib\\site-packages\\sklearn\\cluster\\k_means_.py:968: RuntimeWarning: Explicit initial center position passed: performing only one init in k-means instead of n_init=10\n",
      "  return_n_iter=True)\n",
      "C:\\Users\\admin\\anaconda3\\envs\\pythonProject10\\lib\\site-packages\\sklearn\\metrics\\cluster\\supervised.py:844: FutureWarning: The behavior of NMI will change in version 0.22. To match the behavior of 'v_measure_score', NMI will use average_method='arithmetic' by default.\n",
      "  FutureWarning)\n"
     ]
    },
    {
     "name": "stdout",
     "output_type": "stream",
     "text": [
      "step- 60  cost: 4.0694046\n",
      "count- [ 948  594 1076 1442]\n",
      "[2 2 2 2 2 2 2 2 2 2 2 2 2 2 2 2 0 0 0 0 0 0 0 0 0 0 0 0 3 3 3 3 3 3 3 3 3\n",
      " 3 3 3 3 3 3 3 0 3 3 0 3 3 3 3 1 1 1 1 1 1 1 1]\n",
      "acc: 0.96667\n",
      "nmi: 0.92026\n",
      "ari: 0.90283\n",
      "step- 70  cost: 8.7591305\n",
      "count- [1068  705 1236 1651]\n",
      "[2 2 2 2 2 2 2 2 2 2 2 2 2 2 2 2 0 0 0 0 0 0 0 0 0 0 0 0 3 3 3 3 3 3 3 3 3\n",
      " 3 3 3 3 3 3 3 0 3 3 0 3 3 3 3 1 1 1 1 1 1 1 1]\n",
      "acc: 0.96667\n",
      "nmi: 0.92026\n",
      "ari: 0.90283\n"
     ]
    },
    {
     "name": "stderr",
     "output_type": "stream",
     "text": [
      "C:\\Users\\admin\\anaconda3\\envs\\pythonProject10\\lib\\site-packages\\sklearn\\cluster\\k_means_.py:968: RuntimeWarning: Explicit initial center position passed: performing only one init in k-means instead of n_init=10\n",
      "  return_n_iter=True)\n",
      "C:\\Users\\admin\\anaconda3\\envs\\pythonProject10\\lib\\site-packages\\sklearn\\metrics\\cluster\\supervised.py:844: FutureWarning: The behavior of NMI will change in version 0.22. To match the behavior of 'v_measure_score', NMI will use average_method='arithmetic' by default.\n",
      "  FutureWarning)\n",
      "C:\\Users\\admin\\anaconda3\\envs\\pythonProject10\\lib\\site-packages\\sklearn\\cluster\\k_means_.py:968: RuntimeWarning: Explicit initial center position passed: performing only one init in k-means instead of n_init=10\n",
      "  return_n_iter=True)\n",
      "C:\\Users\\admin\\anaconda3\\envs\\pythonProject10\\lib\\site-packages\\sklearn\\metrics\\cluster\\supervised.py:844: FutureWarning: The behavior of NMI will change in version 0.22. To match the behavior of 'v_measure_score', NMI will use average_method='arithmetic' by default.\n",
      "  FutureWarning)\n"
     ]
    },
    {
     "name": "stdout",
     "output_type": "stream",
     "text": [
      "step- 80  cost: 53.637596\n",
      "count- [1185  883 1396 1796]\n",
      "[2 2 2 2 2 2 2 2 2 2 2 2 2 2 2 2 0 0 0 0 0 0 0 0 0 0 0 0 3 3 3 3 3 3 3 3 3\n",
      " 3 3 3 3 3 3 3 0 3 3 0 3 3 3 3 1 1 1 1 1 1 1 1]\n",
      "acc: 0.96667\n",
      "nmi: 0.92026\n",
      "ari: 0.90283\n",
      "step- 90  cost: 142.07524\n",
      "count- [1302 1026 1556 1976]\n",
      "[2 2 2 2 2 2 2 2 2 2 2 2 2 2 2 2 0 0 0 0 0 0 0 0 0 0 0 0 3 3 3 3 3 3 3 3 3\n",
      " 3 3 3 3 3 3 3 0 3 3 0 3 3 3 3 1 1 1 1 1 1 1 1]\n",
      "acc: 0.96667\n",
      "nmi: 0.92026\n",
      "ari: 0.90283\n"
     ]
    },
    {
     "name": "stderr",
     "output_type": "stream",
     "text": [
      "C:\\Users\\admin\\anaconda3\\envs\\pythonProject10\\lib\\site-packages\\sklearn\\cluster\\k_means_.py:968: RuntimeWarning: Explicit initial center position passed: performing only one init in k-means instead of n_init=10\n",
      "  return_n_iter=True)\n",
      "C:\\Users\\admin\\anaconda3\\envs\\pythonProject10\\lib\\site-packages\\sklearn\\metrics\\cluster\\supervised.py:844: FutureWarning: The behavior of NMI will change in version 0.22. To match the behavior of 'v_measure_score', NMI will use average_method='arithmetic' by default.\n",
      "  FutureWarning)\n",
      "C:\\Users\\admin\\anaconda3\\envs\\pythonProject10\\lib\\site-packages\\sklearn\\cluster\\k_means_.py:968: RuntimeWarning: Explicit initial center position passed: performing only one init in k-means instead of n_init=10\n",
      "  return_n_iter=True)\n",
      "C:\\Users\\admin\\anaconda3\\envs\\pythonProject10\\lib\\site-packages\\sklearn\\metrics\\cluster\\supervised.py:844: FutureWarning: The behavior of NMI will change in version 0.22. To match the behavior of 'v_measure_score', NMI will use average_method='arithmetic' by default.\n",
      "  FutureWarning)\n"
     ]
    },
    {
     "name": "stdout",
     "output_type": "stream",
     "text": [
      "step- 100  cost: 617.03625\n",
      "count- [1414 1218 1716 2112]\n",
      "[2 2 2 2 2 2 2 2 2 2 2 2 2 2 2 2 0 0 0 0 0 0 0 0 3 0 0 0 3 3 3 3 3 3 3 3 3\n",
      " 3 3 3 3 3 3 3 2 3 3 2 3 3 3 3 1 1 1 1 1 1 1 1]\n",
      "acc: 0.95\n",
      "nmi: 0.8681\n",
      "ari: 0.8461\n",
      "step- 110  cost: 2871.065\n",
      "count- [1523 1342 1884 2311]\n",
      "[2 2 2 2 2 2 2 2 2 2 2 2 2 2 2 2 0 0 0 0 0 0 0 0 2 0 0 0 3 3 3 3 3 3 3 3 3\n",
      " 3 3 3 3 3 3 3 2 3 3 2 3 3 3 3 1 1 1 1 1 1 1 1]\n",
      "acc: 0.95\n",
      "nmi: 0.86951\n",
      "ari: 0.85137\n"
     ]
    },
    {
     "name": "stderr",
     "output_type": "stream",
     "text": [
      "C:\\Users\\admin\\anaconda3\\envs\\pythonProject10\\lib\\site-packages\\sklearn\\cluster\\k_means_.py:968: RuntimeWarning: Explicit initial center position passed: performing only one init in k-means instead of n_init=10\n",
      "  return_n_iter=True)\n",
      "C:\\Users\\admin\\anaconda3\\envs\\pythonProject10\\lib\\site-packages\\sklearn\\metrics\\cluster\\supervised.py:844: FutureWarning: The behavior of NMI will change in version 0.22. To match the behavior of 'v_measure_score', NMI will use average_method='arithmetic' by default.\n",
      "  FutureWarning)\n",
      "C:\\Users\\admin\\anaconda3\\envs\\pythonProject10\\lib\\site-packages\\sklearn\\cluster\\k_means_.py:968: RuntimeWarning: Explicit initial center position passed: performing only one init in k-means instead of n_init=10\n",
      "  return_n_iter=True)\n",
      "C:\\Users\\admin\\anaconda3\\envs\\pythonProject10\\lib\\site-packages\\sklearn\\metrics\\cluster\\supervised.py:844: FutureWarning: The behavior of NMI will change in version 0.22. To match the behavior of 'v_measure_score', NMI will use average_method='arithmetic' by default.\n",
      "  FutureWarning)\n"
     ]
    },
    {
     "name": "stdout",
     "output_type": "stream",
     "text": [
      "step- 120  cost: 12488.283\n",
      "count- [1630 1425 2062 2543]\n",
      "[2 2 2 2 2 2 2 2 2 2 2 2 2 2 2 2 0 0 0 0 0 0 0 0 2 0 0 0 3 3 3 3 3 3 3 3 3\n",
      " 3 3 3 3 3 3 3 2 3 3 2 3 3 3 3 1 1 1 1 1 1 1 1]\n",
      "acc: 0.95\n",
      "nmi: 0.86951\n",
      "ari: 0.85137\n",
      "step- 130  cost: 11590.182\n",
      "count- [1739 1568 2231 2722]\n",
      "[2 2 2 2 2 2 2 2 2 2 2 2 2 2 2 2 0 0 0 0 0 0 0 0 2 0 0 0 3 3 3 3 3 3 3 3 3\n",
      " 3 3 3 3 3 3 3 2 3 3 2 3 3 3 3 1 1 1 1 1 1 1 1]\n",
      "acc: 0.95\n",
      "nmi: 0.86951\n",
      "ari: 0.85137\n"
     ]
    },
    {
     "name": "stderr",
     "output_type": "stream",
     "text": [
      "C:\\Users\\admin\\anaconda3\\envs\\pythonProject10\\lib\\site-packages\\sklearn\\cluster\\k_means_.py:968: RuntimeWarning: Explicit initial center position passed: performing only one init in k-means instead of n_init=10\n",
      "  return_n_iter=True)\n",
      "C:\\Users\\admin\\anaconda3\\envs\\pythonProject10\\lib\\site-packages\\sklearn\\metrics\\cluster\\supervised.py:844: FutureWarning: The behavior of NMI will change in version 0.22. To match the behavior of 'v_measure_score', NMI will use average_method='arithmetic' by default.\n",
      "  FutureWarning)\n",
      "C:\\Users\\admin\\anaconda3\\envs\\pythonProject10\\lib\\site-packages\\sklearn\\cluster\\k_means_.py:968: RuntimeWarning: Explicit initial center position passed: performing only one init in k-means instead of n_init=10\n",
      "  return_n_iter=True)\n",
      "C:\\Users\\admin\\anaconda3\\envs\\pythonProject10\\lib\\site-packages\\sklearn\\metrics\\cluster\\supervised.py:844: FutureWarning: The behavior of NMI will change in version 0.22. To match the behavior of 'v_measure_score', NMI will use average_method='arithmetic' by default.\n",
      "  FutureWarning)\n"
     ]
    },
    {
     "name": "stdout",
     "output_type": "stream",
     "text": [
      "step- 140  cost: 44694.71\n",
      "count- [1842 1760 2401 2857]\n",
      "[2 2 2 2 2 2 2 2 2 2 2 2 2 2 2 2 0 0 0 0 0 0 0 0 2 0 0 0 3 3 3 3 3 3 3 3 3\n",
      " 3 3 3 3 3 3 3 2 3 3 2 3 3 3 3 1 1 1 1 1 1 1 1]\n",
      "acc: 0.95\n",
      "nmi: 0.86951\n",
      "ari: 0.85137\n",
      "step- 150  cost: 394986.9\n",
      "count- [1937 1961 2580 2982]\n",
      "[2 2 2 2 2 2 2 2 2 2 2 2 2 2 2 2 0 0 2 0 0 0 0 0 2 0 0 0 3 3 3 3 3 3 3 3 3\n",
      " 3 3 3 3 3 3 3 3 3 3 2 3 3 3 3 1 1 1 1 1 1 1 1]\n",
      "acc: 0.95\n",
      "nmi: 0.87375\n",
      "ari: 0.86935\n"
     ]
    },
    {
     "name": "stderr",
     "output_type": "stream",
     "text": [
      "C:\\Users\\admin\\anaconda3\\envs\\pythonProject10\\lib\\site-packages\\sklearn\\cluster\\k_means_.py:968: RuntimeWarning: Explicit initial center position passed: performing only one init in k-means instead of n_init=10\n",
      "  return_n_iter=True)\n",
      "C:\\Users\\admin\\anaconda3\\envs\\pythonProject10\\lib\\site-packages\\sklearn\\metrics\\cluster\\supervised.py:844: FutureWarning: The behavior of NMI will change in version 0.22. To match the behavior of 'v_measure_score', NMI will use average_method='arithmetic' by default.\n",
      "  FutureWarning)\n",
      "C:\\Users\\admin\\anaconda3\\envs\\pythonProject10\\lib\\site-packages\\sklearn\\cluster\\k_means_.py:968: RuntimeWarning: Explicit initial center position passed: performing only one init in k-means instead of n_init=10\n",
      "  return_n_iter=True)\n",
      "C:\\Users\\admin\\anaconda3\\envs\\pythonProject10\\lib\\site-packages\\sklearn\\metrics\\cluster\\supervised.py:844: FutureWarning: The behavior of NMI will change in version 0.22. To match the behavior of 'v_measure_score', NMI will use average_method='arithmetic' by default.\n",
      "  FutureWarning)\n"
     ]
    },
    {
     "name": "stdout",
     "output_type": "stream",
     "text": [
      "step- 160  cost: 2079714.2\n",
      "count- [2029 2095 2765 3171]\n",
      "[2 2 2 2 2 2 2 2 2 2 2 2 2 2 2 2 0 0 2 0 0 0 0 0 2 0 0 0 3 3 3 3 3 3 3 3 3\n",
      " 3 3 3 3 3 3 3 3 3 3 2 3 3 3 3 1 1 1 1 1 1 1 1]\n",
      "acc: 0.95\n",
      "nmi: 0.87375\n",
      "ari: 0.86935\n",
      "step- 170  cost: 5942258.0\n",
      "count- [2113 2275 2953 3319]\n",
      "[2 2 2 2 2 2 2 2 2 2 2 2 2 2 2 2 0 0 2 0 0 0 2 2 2 0 0 0 3 3 3 3 3 3 3 3 3\n",
      " 3 3 3 3 3 3 3 3 3 3 3 3 3 3 3 1 1 1 1 1 1 1 1]\n",
      "acc: 0.93333\n",
      "nmi: 0.88609\n",
      "ari: 0.86722\n"
     ]
    },
    {
     "name": "stderr",
     "output_type": "stream",
     "text": [
      "C:\\Users\\admin\\anaconda3\\envs\\pythonProject10\\lib\\site-packages\\sklearn\\cluster\\k_means_.py:968: RuntimeWarning: Explicit initial center position passed: performing only one init in k-means instead of n_init=10\n",
      "  return_n_iter=True)\n",
      "C:\\Users\\admin\\anaconda3\\envs\\pythonProject10\\lib\\site-packages\\sklearn\\metrics\\cluster\\supervised.py:844: FutureWarning: The behavior of NMI will change in version 0.22. To match the behavior of 'v_measure_score', NMI will use average_method='arithmetic' by default.\n",
      "  FutureWarning)\n",
      "C:\\Users\\admin\\anaconda3\\envs\\pythonProject10\\lib\\site-packages\\sklearn\\cluster\\k_means_.py:968: RuntimeWarning: Explicit initial center position passed: performing only one init in k-means instead of n_init=10\n",
      "  return_n_iter=True)\n",
      "C:\\Users\\admin\\anaconda3\\envs\\pythonProject10\\lib\\site-packages\\sklearn\\metrics\\cluster\\supervised.py:844: FutureWarning: The behavior of NMI will change in version 0.22. To match the behavior of 'v_measure_score', NMI will use average_method='arithmetic' by default.\n",
      "  FutureWarning)\n"
     ]
    },
    {
     "name": "stdout",
     "output_type": "stream",
     "text": [
      "step- 180  cost: 89587440.0\n",
      "count- [2184 2442 3153 3481]\n",
      "[2 2 2 2 2 2 2 2 2 2 2 2 2 2 2 2 0 0 2 0 0 0 2 2 3 0 0 0 3 3 3 3 3 3 3 3 3\n",
      " 3 3 3 3 3 3 3 3 3 3 3 3 3 3 3 1 1 1 1 1 1 1 1]\n",
      "acc: 0.93333\n",
      "nmi: 0.85535\n",
      "ari: 0.85246\n",
      "step- 190  cost: 61238572.0\n",
      "count- [2246 2550 3361 3703]\n",
      "[2 2 2 2 2 2 2 2 2 2 2 2 2 2 2 2 0 0 2 0 0 0 2 2 3 0 0 0 3 3 3 3 3 3 3 3 3\n",
      " 3 3 3 3 3 3 3 3 3 3 3 3 3 3 3 1 1 1 1 1 1 1 1]\n",
      "acc: 0.93333\n",
      "nmi: 0.85535\n",
      "ari: 0.85246\n"
     ]
    },
    {
     "name": "stderr",
     "output_type": "stream",
     "text": [
      "C:\\Users\\admin\\anaconda3\\envs\\pythonProject10\\lib\\site-packages\\sklearn\\cluster\\k_means_.py:968: RuntimeWarning: Explicit initial center position passed: performing only one init in k-means instead of n_init=10\n",
      "  return_n_iter=True)\n",
      "C:\\Users\\admin\\anaconda3\\envs\\pythonProject10\\lib\\site-packages\\sklearn\\metrics\\cluster\\supervised.py:844: FutureWarning: The behavior of NMI will change in version 0.22. To match the behavior of 'v_measure_score', NMI will use average_method='arithmetic' by default.\n",
      "  FutureWarning)\n",
      "C:\\Users\\admin\\anaconda3\\envs\\pythonProject10\\lib\\site-packages\\sklearn\\cluster\\k_means_.py:968: RuntimeWarning: Explicit initial center position passed: performing only one init in k-means instead of n_init=10\n",
      "  return_n_iter=True)\n",
      "C:\\Users\\admin\\anaconda3\\envs\\pythonProject10\\lib\\site-packages\\sklearn\\metrics\\cluster\\supervised.py:844: FutureWarning: The behavior of NMI will change in version 0.22. To match the behavior of 'v_measure_score', NMI will use average_method='arithmetic' by default.\n",
      "  FutureWarning)\n"
     ]
    },
    {
     "name": "stdout",
     "output_type": "stream",
     "text": [
      "step- 200  cost: 309849200.0\n",
      "count- [2310 2660 3567 3923]\n",
      "[2 2 2 2 2 2 2 2 2 2 2 2 2 2 2 2 0 0 2 0 0 0 2 2 3 0 0 0 3 3 3 3 3 3 3 3 3\n",
      " 3 3 3 3 3 3 3 3 3 3 3 3 3 3 3 1 1 1 1 1 1 1 1]\n",
      "acc: 0.93333\n",
      "nmi: 0.85535\n",
      "ari: 0.85246\n",
      "step- 210  cost: 147203540.0\n",
      "count- [2370 2746 3777 4167]\n",
      "[2 2 2 2 2 2 2 2 2 2 2 2 2 2 2 2 0 0 2 0 0 0 2 2 3 0 0 0 3 3 3 3 3 3 3 3 3\n",
      " 3 3 3 3 3 3 3 3 3 3 3 3 3 3 3 1 1 1 1 1 1 1 1]\n",
      "acc: 0.93333\n",
      "nmi: 0.85535\n",
      "ari: 0.85246\n"
     ]
    },
    {
     "name": "stderr",
     "output_type": "stream",
     "text": [
      "C:\\Users\\admin\\anaconda3\\envs\\pythonProject10\\lib\\site-packages\\sklearn\\cluster\\k_means_.py:968: RuntimeWarning: Explicit initial center position passed: performing only one init in k-means instead of n_init=10\n",
      "  return_n_iter=True)\n",
      "C:\\Users\\admin\\anaconda3\\envs\\pythonProject10\\lib\\site-packages\\sklearn\\metrics\\cluster\\supervised.py:844: FutureWarning: The behavior of NMI will change in version 0.22. To match the behavior of 'v_measure_score', NMI will use average_method='arithmetic' by default.\n",
      "  FutureWarning)\n",
      "C:\\Users\\admin\\anaconda3\\envs\\pythonProject10\\lib\\site-packages\\sklearn\\cluster\\k_means_.py:968: RuntimeWarning: Explicit initial center position passed: performing only one init in k-means instead of n_init=10\n",
      "  return_n_iter=True)\n",
      "C:\\Users\\admin\\anaconda3\\envs\\pythonProject10\\lib\\site-packages\\sklearn\\metrics\\cluster\\supervised.py:844: FutureWarning: The behavior of NMI will change in version 0.22. To match the behavior of 'v_measure_score', NMI will use average_method='arithmetic' by default.\n",
      "  FutureWarning)\n"
     ]
    },
    {
     "name": "stdout",
     "output_type": "stream",
     "text": [
      "step- 220  cost: 464126720.0\n",
      "count- [2438 2829 3979 4414]\n",
      "[2 2 2 2 2 2 2 2 2 2 2 2 2 2 2 2 0 0 2 0 0 0 2 2 3 0 0 0 3 3 3 3 3 3 3 3 3\n",
      " 3 3 3 3 3 3 3 3 3 3 3 3 3 3 3 1 1 1 1 1 1 1 1]\n",
      "acc: 0.93333\n",
      "nmi: 0.85535\n",
      "ari: 0.85246\n",
      "step- 230  cost: 1372704300.0\n",
      "count- [2508 2934 4179 4639]\n",
      "[2 2 2 2 2 2 2 2 2 2 2 2 2 2 2 2 0 0 2 0 0 0 2 2 3 0 0 0 3 3 3 3 3 3 3 3 3\n",
      " 3 3 3 3 3 3 3 3 3 3 3 3 3 3 3 1 1 1 1 1 1 1 1]\n",
      "acc: 0.93333\n",
      "nmi: 0.85535\n",
      "ari: 0.85246\n"
     ]
    },
    {
     "name": "stderr",
     "output_type": "stream",
     "text": [
      "C:\\Users\\admin\\anaconda3\\envs\\pythonProject10\\lib\\site-packages\\sklearn\\cluster\\k_means_.py:968: RuntimeWarning: Explicit initial center position passed: performing only one init in k-means instead of n_init=10\n",
      "  return_n_iter=True)\n",
      "C:\\Users\\admin\\anaconda3\\envs\\pythonProject10\\lib\\site-packages\\sklearn\\metrics\\cluster\\supervised.py:844: FutureWarning: The behavior of NMI will change in version 0.22. To match the behavior of 'v_measure_score', NMI will use average_method='arithmetic' by default.\n",
      "  FutureWarning)\n",
      "C:\\Users\\admin\\anaconda3\\envs\\pythonProject10\\lib\\site-packages\\sklearn\\cluster\\k_means_.py:968: RuntimeWarning: Explicit initial center position passed: performing only one init in k-means instead of n_init=10\n",
      "  return_n_iter=True)\n",
      "C:\\Users\\admin\\anaconda3\\envs\\pythonProject10\\lib\\site-packages\\sklearn\\metrics\\cluster\\supervised.py:844: FutureWarning: The behavior of NMI will change in version 0.22. To match the behavior of 'v_measure_score', NMI will use average_method='arithmetic' by default.\n",
      "  FutureWarning)\n"
     ]
    },
    {
     "name": "stdout",
     "output_type": "stream",
     "text": [
      "step- 240  cost: 2122453900.0\n",
      "count- [2575 3025 4382 4878]\n",
      "[2 2 2 2 2 2 2 2 2 2 2 2 2 2 2 2 0 0 2 0 0 0 2 2 3 0 0 0 3 3 3 3 3 3 3 3 3\n",
      " 3 3 3 3 3 3 3 3 3 3 3 3 3 3 3 1 1 1 1 1 1 1 1]\n",
      "acc: 0.93333\n",
      "nmi: 0.85535\n",
      "ari: 0.85246\n",
      "step- 250  cost: 3170937300.0\n",
      "count- [2652 3108 4575 5125]\n",
      "[2 2 2 2 2 2 2 2 2 2 2 2 2 2 2 2 0 0 2 0 0 0 2 2 3 0 0 0 3 3 3 3 3 3 3 3 3\n",
      " 3 3 3 3 3 3 3 3 3 3 3 3 3 3 3 1 1 1 1 1 1 1 1]\n",
      "acc: 0.93333\n",
      "nmi: 0.85535\n",
      "ari: 0.85246\n"
     ]
    },
    {
     "name": "stderr",
     "output_type": "stream",
     "text": [
      "C:\\Users\\admin\\anaconda3\\envs\\pythonProject10\\lib\\site-packages\\sklearn\\cluster\\k_means_.py:968: RuntimeWarning: Explicit initial center position passed: performing only one init in k-means instead of n_init=10\n",
      "  return_n_iter=True)\n",
      "C:\\Users\\admin\\anaconda3\\envs\\pythonProject10\\lib\\site-packages\\sklearn\\metrics\\cluster\\supervised.py:844: FutureWarning: The behavior of NMI will change in version 0.22. To match the behavior of 'v_measure_score', NMI will use average_method='arithmetic' by default.\n",
      "  FutureWarning)\n",
      "C:\\Users\\admin\\anaconda3\\envs\\pythonProject10\\lib\\site-packages\\sklearn\\cluster\\k_means_.py:968: RuntimeWarning: Explicit initial center position passed: performing only one init in k-means instead of n_init=10\n",
      "  return_n_iter=True)\n",
      "C:\\Users\\admin\\anaconda3\\envs\\pythonProject10\\lib\\site-packages\\sklearn\\metrics\\cluster\\supervised.py:844: FutureWarning: The behavior of NMI will change in version 0.22. To match the behavior of 'v_measure_score', NMI will use average_method='arithmetic' by default.\n",
      "  FutureWarning)\n"
     ]
    },
    {
     "name": "stdout",
     "output_type": "stream",
     "text": [
      "step- 260  cost: 18010237000.0\n",
      "count- [2723 3193 4774 5370]\n",
      "[2 2 2 2 2 2 2 2 2 2 2 2 2 2 2 2 0 0 2 0 0 0 2 2 3 0 0 0 3 3 3 3 3 3 3 3 3\n",
      " 3 3 3 3 3 3 3 3 3 3 3 3 3 3 3 1 1 1 1 1 1 1 1]\n",
      "acc: 0.93333\n",
      "nmi: 0.85535\n",
      "ari: 0.85246\n",
      "step- 270  cost: 14787376000.0\n",
      "count- [2799 3283 4968 5610]\n",
      "[2 2 2 2 2 2 2 2 2 2 2 2 2 2 2 2 0 0 2 0 0 0 2 0 3 0 0 0 3 3 3 3 3 3 3 3 3\n",
      " 3 3 3 3 3 3 3 3 3 3 2 3 3 3 3 1 1 1 1 1 1 1 1]\n",
      "acc: 0.93333\n",
      "nmi: 0.82544\n",
      "ari: 0.82592\n"
     ]
    },
    {
     "name": "stderr",
     "output_type": "stream",
     "text": [
      "C:\\Users\\admin\\anaconda3\\envs\\pythonProject10\\lib\\site-packages\\sklearn\\cluster\\k_means_.py:968: RuntimeWarning: Explicit initial center position passed: performing only one init in k-means instead of n_init=10\n",
      "  return_n_iter=True)\n",
      "C:\\Users\\admin\\anaconda3\\envs\\pythonProject10\\lib\\site-packages\\sklearn\\metrics\\cluster\\supervised.py:844: FutureWarning: The behavior of NMI will change in version 0.22. To match the behavior of 'v_measure_score', NMI will use average_method='arithmetic' by default.\n",
      "  FutureWarning)\n",
      "C:\\Users\\admin\\anaconda3\\envs\\pythonProject10\\lib\\site-packages\\sklearn\\cluster\\k_means_.py:968: RuntimeWarning: Explicit initial center position passed: performing only one init in k-means instead of n_init=10\n",
      "  return_n_iter=True)\n",
      "C:\\Users\\admin\\anaconda3\\envs\\pythonProject10\\lib\\site-packages\\sklearn\\metrics\\cluster\\supervised.py:844: FutureWarning: The behavior of NMI will change in version 0.22. To match the behavior of 'v_measure_score', NMI will use average_method='arithmetic' by default.\n",
      "  FutureWarning)\n"
     ]
    },
    {
     "name": "stdout",
     "output_type": "stream",
     "text": [
      "step- 280  cost: 7758762500.0\n",
      "count- [2883 3368 5155 5854]\n",
      "[2 2 2 2 2 2 2 2 2 2 2 2 2 2 2 2 0 0 2 0 0 0 2 0 2 0 0 0 3 3 3 3 3 3 3 3 3\n",
      " 3 3 3 3 3 3 3 3 3 3 2 3 3 3 3 1 1 1 1 1 1 1 1]\n",
      "acc: 0.93333\n",
      "nmi: 0.85136\n",
      "ari: 0.83666\n",
      "step- 290  cost: 38444340000.0\n",
      "count- [2970 3453 5342 6095]\n",
      "[2 2 2 2 2 2 2 2 2 2 2 2 2 2 2 2 0 0 2 0 0 0 0 0 2 0 0 0 3 3 3 3 3 3 3 3 3\n",
      " 3 3 3 3 3 3 3 2 3 3 2 3 3 3 3 1 1 1 1 1 1 1 1]\n",
      "acc: 0.93333\n",
      "nmi: 0.83996\n",
      "ari: 0.81421\n"
     ]
    },
    {
     "name": "stderr",
     "output_type": "stream",
     "text": [
      "C:\\Users\\admin\\anaconda3\\envs\\pythonProject10\\lib\\site-packages\\sklearn\\cluster\\k_means_.py:968: RuntimeWarning: Explicit initial center position passed: performing only one init in k-means instead of n_init=10\n",
      "  return_n_iter=True)\n",
      "C:\\Users\\admin\\anaconda3\\envs\\pythonProject10\\lib\\site-packages\\sklearn\\metrics\\cluster\\supervised.py:844: FutureWarning: The behavior of NMI will change in version 0.22. To match the behavior of 'v_measure_score', NMI will use average_method='arithmetic' by default.\n",
      "  FutureWarning)\n",
      "C:\\Users\\admin\\anaconda3\\envs\\pythonProject10\\lib\\site-packages\\sklearn\\cluster\\k_means_.py:968: RuntimeWarning: Explicit initial center position passed: performing only one init in k-means instead of n_init=10\n",
      "  return_n_iter=True)\n",
      "C:\\Users\\admin\\anaconda3\\envs\\pythonProject10\\lib\\site-packages\\sklearn\\metrics\\cluster\\supervised.py:844: FutureWarning: The behavior of NMI will change in version 0.22. To match the behavior of 'v_measure_score', NMI will use average_method='arithmetic' by default.\n",
      "  FutureWarning)\n"
     ]
    },
    {
     "name": "stdout",
     "output_type": "stream",
     "text": [
      "step- 300  cost: 56417060000.0\n",
      "count- [3064 3536 5527 6333]\n",
      "[2 2 2 2 2 2 2 2 2 2 2 2 2 2 2 2 0 0 2 0 0 0 0 0 2 0 0 0 3 3 3 3 3 3 3 3 3\n",
      " 3 3 3 3 3 3 3 2 3 3 2 3 3 3 3 1 1 1 1 1 1 1 1]\n",
      "acc: 0.93333\n",
      "nmi: 0.83996\n",
      "ari: 0.81421\n",
      "step- 310  cost: 61875266000.0\n",
      "count- [3163 3616 5713 6568]\n",
      "[2 2 2 2 2 2 2 2 2 2 2 2 2 2 2 2 0 0 2 0 0 0 0 0 2 0 0 0 3 3 3 3 3 3 3 3 3\n",
      " 3 3 3 3 3 3 3 2 3 3 2 3 3 3 3 1 1 1 1 1 1 1 1]\n",
      "acc: 0.93333\n",
      "nmi: 0.83996\n",
      "ari: 0.81421\n"
     ]
    },
    {
     "name": "stderr",
     "output_type": "stream",
     "text": [
      "C:\\Users\\admin\\anaconda3\\envs\\pythonProject10\\lib\\site-packages\\sklearn\\cluster\\k_means_.py:968: RuntimeWarning: Explicit initial center position passed: performing only one init in k-means instead of n_init=10\n",
      "  return_n_iter=True)\n",
      "C:\\Users\\admin\\anaconda3\\envs\\pythonProject10\\lib\\site-packages\\sklearn\\metrics\\cluster\\supervised.py:844: FutureWarning: The behavior of NMI will change in version 0.22. To match the behavior of 'v_measure_score', NMI will use average_method='arithmetic' by default.\n",
      "  FutureWarning)\n",
      "C:\\Users\\admin\\anaconda3\\envs\\pythonProject10\\lib\\site-packages\\sklearn\\cluster\\k_means_.py:968: RuntimeWarning: Explicit initial center position passed: performing only one init in k-means instead of n_init=10\n",
      "  return_n_iter=True)\n",
      "C:\\Users\\admin\\anaconda3\\envs\\pythonProject10\\lib\\site-packages\\sklearn\\metrics\\cluster\\supervised.py:844: FutureWarning: The behavior of NMI will change in version 0.22. To match the behavior of 'v_measure_score', NMI will use average_method='arithmetic' by default.\n",
      "  FutureWarning)\n"
     ]
    },
    {
     "name": "stdout",
     "output_type": "stream",
     "text": [
      "step- 320  cost: 309104770000.0\n",
      "count- [3263 3696 5904 6797]\n",
      "[2 2 2 2 2 2 2 2 2 2 2 2 2 2 2 2 0 0 0 0 0 0 0 0 2 0 0 0 3 3 3 3 3 3 3 3 3\n",
      " 2 3 3 3 3 3 3 2 3 3 2 3 3 3 3 1 1 1 1 1 1 1 1]\n",
      "acc: 0.93333\n",
      "nmi: 0.84278\n",
      "ari: 0.80016\n",
      "step- 330  cost: 612235540000.0\n",
      "count- [3367 3776 6095 7022]\n",
      "[2 2 2 2 2 2 2 2 2 2 2 2 2 2 2 2 0 0 0 0 0 0 0 0 2 0 0 0 3 3 3 3 3 3 3 3 3\n",
      " 2 3 3 2 3 3 3 2 3 3 2 3 3 3 3 1 1 1 1 1 1 1 1]\n",
      "acc: 0.91667\n",
      "nmi: 0.82027\n",
      "ari: 0.75198\n"
     ]
    },
    {
     "name": "stderr",
     "output_type": "stream",
     "text": [
      "C:\\Users\\admin\\anaconda3\\envs\\pythonProject10\\lib\\site-packages\\sklearn\\cluster\\k_means_.py:968: RuntimeWarning: Explicit initial center position passed: performing only one init in k-means instead of n_init=10\n",
      "  return_n_iter=True)\n",
      "C:\\Users\\admin\\anaconda3\\envs\\pythonProject10\\lib\\site-packages\\sklearn\\metrics\\cluster\\supervised.py:844: FutureWarning: The behavior of NMI will change in version 0.22. To match the behavior of 'v_measure_score', NMI will use average_method='arithmetic' by default.\n",
      "  FutureWarning)\n",
      "C:\\Users\\admin\\anaconda3\\envs\\pythonProject10\\lib\\site-packages\\sklearn\\cluster\\k_means_.py:968: RuntimeWarning: Explicit initial center position passed: performing only one init in k-means instead of n_init=10\n",
      "  return_n_iter=True)\n",
      "C:\\Users\\admin\\anaconda3\\envs\\pythonProject10\\lib\\site-packages\\sklearn\\metrics\\cluster\\supervised.py:844: FutureWarning: The behavior of NMI will change in version 0.22. To match the behavior of 'v_measure_score', NMI will use average_method='arithmetic' by default.\n",
      "  FutureWarning)\n"
     ]
    },
    {
     "name": "stdout",
     "output_type": "stream",
     "text": [
      "step- 340  cost: 430176530000.0\n",
      "count- [3477 3856 6289 7238]\n",
      "[2 2 2 2 2 2 2 2 2 2 2 2 2 2 2 2 0 0 0 0 0 0 0 0 2 0 0 0 3 3 3 3 3 3 3 3 3\n",
      " 2 3 3 2 3 3 3 2 3 3 2 3 3 2 3 1 1 1 1 1 1 1 1]\n",
      "acc: 0.9\n",
      "nmi: 0.80087\n",
      "ari: 0.70699\n",
      "step- 350  cost: 327596640000.0\n",
      "count- [3587 3936 6484 7453]\n",
      "[2 2 2 2 2 2 2 2 2 2 2 2 2 2 2 2 0 0 0 0 0 0 0 0 2 0 0 0 3 3 3 3 3 3 3 3 3\n",
      " 2 3 3 2 3 3 3 2 3 3 2 3 3 2 3 1 1 1 1 1 1 1 1]\n",
      "acc: 0.9\n",
      "nmi: 0.80087\n",
      "ari: 0.70699\n"
     ]
    },
    {
     "name": "stderr",
     "output_type": "stream",
     "text": [
      "C:\\Users\\admin\\anaconda3\\envs\\pythonProject10\\lib\\site-packages\\sklearn\\cluster\\k_means_.py:968: RuntimeWarning: Explicit initial center position passed: performing only one init in k-means instead of n_init=10\n",
      "  return_n_iter=True)\n",
      "C:\\Users\\admin\\anaconda3\\envs\\pythonProject10\\lib\\site-packages\\sklearn\\metrics\\cluster\\supervised.py:844: FutureWarning: The behavior of NMI will change in version 0.22. To match the behavior of 'v_measure_score', NMI will use average_method='arithmetic' by default.\n",
      "  FutureWarning)\n",
      "C:\\Users\\admin\\anaconda3\\envs\\pythonProject10\\lib\\site-packages\\sklearn\\cluster\\k_means_.py:968: RuntimeWarning: Explicit initial center position passed: performing only one init in k-means instead of n_init=10\n",
      "  return_n_iter=True)\n",
      "C:\\Users\\admin\\anaconda3\\envs\\pythonProject10\\lib\\site-packages\\sklearn\\metrics\\cluster\\supervised.py:844: FutureWarning: The behavior of NMI will change in version 0.22. To match the behavior of 'v_measure_score', NMI will use average_method='arithmetic' by default.\n",
      "  FutureWarning)\n"
     ]
    },
    {
     "name": "stdout",
     "output_type": "stream",
     "text": [
      "step- 360  cost: 1141229000000.0\n",
      "count- [3697 4016 6679 7668]\n",
      "[2 2 2 2 2 2 2 2 2 2 2 2 2 2 2 2 0 0 0 0 0 0 0 0 2 0 0 0 3 3 3 3 3 3 3 3 3\n",
      " 2 3 3 2 3 3 3 2 3 3 2 3 3 2 3 1 1 1 1 1 1 1 1]\n",
      "acc: 0.9\n",
      "nmi: 0.80087\n",
      "ari: 0.70699\n",
      "step- 370  cost: 4687988000000.0\n",
      "count- [3807 4096 6869 7888]\n",
      "[2 2 2 2 2 2 2 2 2 2 2 2 2 2 2 2 0 0 0 0 0 0 0 0 2 0 0 0 3 3 3 3 3 3 3 3 3\n",
      " 2 3 3 2 3 3 3 2 3 3 2 3 3 2 3 1 1 1 1 1 1 1 1]\n",
      "acc: 0.9\n",
      "nmi: 0.80087\n",
      "ari: 0.70699\n"
     ]
    },
    {
     "name": "stderr",
     "output_type": "stream",
     "text": [
      "C:\\Users\\admin\\anaconda3\\envs\\pythonProject10\\lib\\site-packages\\sklearn\\cluster\\k_means_.py:968: RuntimeWarning: Explicit initial center position passed: performing only one init in k-means instead of n_init=10\n",
      "  return_n_iter=True)\n",
      "C:\\Users\\admin\\anaconda3\\envs\\pythonProject10\\lib\\site-packages\\sklearn\\metrics\\cluster\\supervised.py:844: FutureWarning: The behavior of NMI will change in version 0.22. To match the behavior of 'v_measure_score', NMI will use average_method='arithmetic' by default.\n",
      "  FutureWarning)\n",
      "C:\\Users\\admin\\anaconda3\\envs\\pythonProject10\\lib\\site-packages\\sklearn\\cluster\\k_means_.py:968: RuntimeWarning: Explicit initial center position passed: performing only one init in k-means instead of n_init=10\n",
      "  return_n_iter=True)\n",
      "C:\\Users\\admin\\anaconda3\\envs\\pythonProject10\\lib\\site-packages\\sklearn\\metrics\\cluster\\supervised.py:844: FutureWarning: The behavior of NMI will change in version 0.22. To match the behavior of 'v_measure_score', NMI will use average_method='arithmetic' by default.\n",
      "  FutureWarning)\n"
     ]
    },
    {
     "name": "stdout",
     "output_type": "stream",
     "text": [
      "step- 380  cost: 2089356400000.0\n",
      "count- [3917 4176 7057 8110]\n",
      "[2 2 2 2 2 2 2 2 2 2 2 2 2 2 2 2 0 0 0 0 0 0 0 0 2 0 0 0 3 3 3 3 3 3 3 3 3\n",
      " 2 3 3 2 3 3 3 2 3 3 2 3 3 2 3 1 1 1 1 1 1 1 1]\n",
      "acc: 0.9\n",
      "nmi: 0.80087\n",
      "ari: 0.70699\n",
      "step- 390  cost: 2248812300000.0\n",
      "count- [4027 4256 7241 8336]\n",
      "[2 2 2 2 2 2 2 2 2 2 2 2 2 2 2 2 0 0 0 0 0 0 0 0 2 0 0 0 3 3 3 3 3 3 3 3 3\n",
      " 2 3 3 2 3 3 3 2 3 3 2 3 3 2 3 1 1 1 1 1 1 1 1]\n",
      "acc: 0.9\n",
      "nmi: 0.80087\n",
      "ari: 0.70699\n"
     ]
    },
    {
     "name": "stderr",
     "output_type": "stream",
     "text": [
      "C:\\Users\\admin\\anaconda3\\envs\\pythonProject10\\lib\\site-packages\\sklearn\\cluster\\k_means_.py:968: RuntimeWarning: Explicit initial center position passed: performing only one init in k-means instead of n_init=10\n",
      "  return_n_iter=True)\n",
      "C:\\Users\\admin\\anaconda3\\envs\\pythonProject10\\lib\\site-packages\\sklearn\\metrics\\cluster\\supervised.py:844: FutureWarning: The behavior of NMI will change in version 0.22. To match the behavior of 'v_measure_score', NMI will use average_method='arithmetic' by default.\n",
      "  FutureWarning)\n",
      "C:\\Users\\admin\\anaconda3\\envs\\pythonProject10\\lib\\site-packages\\sklearn\\cluster\\k_means_.py:968: RuntimeWarning: Explicit initial center position passed: performing only one init in k-means instead of n_init=10\n",
      "  return_n_iter=True)\n",
      "C:\\Users\\admin\\anaconda3\\envs\\pythonProject10\\lib\\site-packages\\sklearn\\metrics\\cluster\\supervised.py:844: FutureWarning: The behavior of NMI will change in version 0.22. To match the behavior of 'v_measure_score', NMI will use average_method='arithmetic' by default.\n",
      "  FutureWarning)\n"
     ]
    },
    {
     "name": "stdout",
     "output_type": "stream",
     "text": [
      "step- 400  cost: 11010117000000.0\n",
      "count- [4137 4336 7421 8566]\n",
      "[2 2 2 2 2 2 2 2 2 2 2 2 2 2 2 2 0 0 0 0 0 0 0 0 2 0 0 0 3 3 3 3 3 3 3 3 3\n",
      " 2 3 3 2 3 3 3 2 3 3 2 3 3 2 3 1 1 1 1 1 1 1 1]\n",
      "acc: 0.9\n",
      "nmi: 0.80087\n",
      "ari: 0.70699\n",
      "step- 410  cost: 10518766000000.0\n",
      "count- [4247 4416 7599 8798]\n",
      "[2 2 2 2 2 2 2 2 2 2 2 2 2 2 2 2 0 0 0 0 0 0 0 0 2 0 0 0 3 3 3 3 3 3 3 3 3\n",
      " 2 3 3 2 3 3 3 2 3 3 2 3 3 2 3 1 1 1 1 1 1 1 1]\n",
      "acc: 0.9\n",
      "nmi: 0.80087\n",
      "ari: 0.70699\n"
     ]
    },
    {
     "name": "stderr",
     "output_type": "stream",
     "text": [
      "C:\\Users\\admin\\anaconda3\\envs\\pythonProject10\\lib\\site-packages\\sklearn\\cluster\\k_means_.py:968: RuntimeWarning: Explicit initial center position passed: performing only one init in k-means instead of n_init=10\n",
      "  return_n_iter=True)\n",
      "C:\\Users\\admin\\anaconda3\\envs\\pythonProject10\\lib\\site-packages\\sklearn\\metrics\\cluster\\supervised.py:844: FutureWarning: The behavior of NMI will change in version 0.22. To match the behavior of 'v_measure_score', NMI will use average_method='arithmetic' by default.\n",
      "  FutureWarning)\n",
      "C:\\Users\\admin\\anaconda3\\envs\\pythonProject10\\lib\\site-packages\\sklearn\\cluster\\k_means_.py:968: RuntimeWarning: Explicit initial center position passed: performing only one init in k-means instead of n_init=10\n",
      "  return_n_iter=True)\n",
      "C:\\Users\\admin\\anaconda3\\envs\\pythonProject10\\lib\\site-packages\\sklearn\\metrics\\cluster\\supervised.py:844: FutureWarning: The behavior of NMI will change in version 0.22. To match the behavior of 'v_measure_score', NMI will use average_method='arithmetic' by default.\n",
      "  FutureWarning)\n"
     ]
    },
    {
     "name": "stdout",
     "output_type": "stream",
     "text": [
      "step- 420  cost: 35772790000000.0\n",
      "count- [4357 4496 7769 9038]\n",
      "[2 2 2 2 2 2 2 2 2 2 2 2 2 2 2 2 0 0 0 0 0 0 0 0 2 0 0 0 3 3 3 3 3 3 3 3 3\n",
      " 2 3 3 2 3 3 3 2 3 3 2 3 3 2 3 1 1 1 1 1 1 1 1]\n",
      "acc: 0.9\n",
      "nmi: 0.80087\n",
      "ari: 0.70699\n",
      "step- 430  cost: 13176624000000.0\n",
      "count- [4467 4576 7942 9275]\n",
      "[2 2 2 2 2 2 2 2 2 2 2 2 2 2 2 2 0 0 0 0 0 0 0 0 2 0 0 0 3 3 3 3 3 3 3 3 3\n",
      " 2 3 3 2 3 3 3 2 3 3 2 3 3 2 3 1 1 1 1 1 1 1 1]\n",
      "acc: 0.9\n",
      "nmi: 0.80087\n",
      "ari: 0.70699\n"
     ]
    },
    {
     "name": "stderr",
     "output_type": "stream",
     "text": [
      "C:\\Users\\admin\\anaconda3\\envs\\pythonProject10\\lib\\site-packages\\sklearn\\cluster\\k_means_.py:968: RuntimeWarning: Explicit initial center position passed: performing only one init in k-means instead of n_init=10\n",
      "  return_n_iter=True)\n",
      "C:\\Users\\admin\\anaconda3\\envs\\pythonProject10\\lib\\site-packages\\sklearn\\metrics\\cluster\\supervised.py:844: FutureWarning: The behavior of NMI will change in version 0.22. To match the behavior of 'v_measure_score', NMI will use average_method='arithmetic' by default.\n",
      "  FutureWarning)\n",
      "C:\\Users\\admin\\anaconda3\\envs\\pythonProject10\\lib\\site-packages\\sklearn\\cluster\\k_means_.py:968: RuntimeWarning: Explicit initial center position passed: performing only one init in k-means instead of n_init=10\n",
      "  return_n_iter=True)\n",
      "C:\\Users\\admin\\anaconda3\\envs\\pythonProject10\\lib\\site-packages\\sklearn\\metrics\\cluster\\supervised.py:844: FutureWarning: The behavior of NMI will change in version 0.22. To match the behavior of 'v_measure_score', NMI will use average_method='arithmetic' by default.\n",
      "  FutureWarning)\n"
     ]
    },
    {
     "name": "stdout",
     "output_type": "stream",
     "text": [
      "step- 440  cost: 182655230000000.0\n",
      "count- [4577 4656 8126 9501]\n",
      "[2 2 2 2 2 2 2 2 2 2 2 2 2 2 2 2 0 0 0 0 0 0 0 0 2 0 0 0 3 3 3 3 3 3 3 3 3\n",
      " 2 2 3 2 3 3 3 2 3 3 2 3 3 2 3 1 1 1 1 1 1 1 1]\n",
      "acc: 0.88333\n",
      "nmi: 0.78391\n",
      "ari: 0.66537\n",
      "step- 450  cost: 30408406000000.0\n",
      "count- [4687 4736 8299 9738]\n",
      "[3 2 2 2 2 2 2 2 2 2 2 2 3 2 2 2 0 0 0 0 0 0 0 0 2 0 0 0 3 3 3 3 3 3 3 3 3\n",
      " 2 2 3 2 3 3 3 2 3 3 2 3 3 2 3 1 1 1 1 1 1 1 1]\n",
      "acc: 0.85\n",
      "nmi: 0.70957\n",
      "ari: 0.59324\n"
     ]
    },
    {
     "name": "stderr",
     "output_type": "stream",
     "text": [
      "C:\\Users\\admin\\anaconda3\\envs\\pythonProject10\\lib\\site-packages\\sklearn\\cluster\\k_means_.py:968: RuntimeWarning: Explicit initial center position passed: performing only one init in k-means instead of n_init=10\n",
      "  return_n_iter=True)\n",
      "C:\\Users\\admin\\anaconda3\\envs\\pythonProject10\\lib\\site-packages\\sklearn\\metrics\\cluster\\supervised.py:844: FutureWarning: The behavior of NMI will change in version 0.22. To match the behavior of 'v_measure_score', NMI will use average_method='arithmetic' by default.\n",
      "  FutureWarning)\n",
      "C:\\Users\\admin\\anaconda3\\envs\\pythonProject10\\lib\\site-packages\\sklearn\\cluster\\k_means_.py:968: RuntimeWarning: Explicit initial center position passed: performing only one init in k-means instead of n_init=10\n",
      "  return_n_iter=True)\n",
      "C:\\Users\\admin\\anaconda3\\envs\\pythonProject10\\lib\\site-packages\\sklearn\\metrics\\cluster\\supervised.py:844: FutureWarning: The behavior of NMI will change in version 0.22. To match the behavior of 'v_measure_score', NMI will use average_method='arithmetic' by default.\n",
      "  FutureWarning)\n"
     ]
    },
    {
     "name": "stdout",
     "output_type": "stream",
     "text": [
      "step- 460  cost: 35970030000000.0\n",
      "count- [4797 4816 8461 9986]\n",
      "[3 2 2 2 2 2 2 2 2 2 2 2 3 2 2 2 0 0 0 0 0 0 0 0 2 0 0 0 3 3 3 3 3 3 3 3 3\n",
      " 2 2 3 2 3 3 3 2 3 3 2 3 3 2 3 1 1 1 1 1 1 1 1]\n",
      "acc: 0.85\n",
      "nmi: 0.70957\n",
      "ari: 0.59324\n",
      "step- 470  cost: 177108710000000.0\n",
      "count- [ 4907  4896  8623 10234]\n",
      "[3 2 2 2 2 2 2 2 2 2 2 2 3 2 2 2 0 0 0 0 0 0 0 0 2 0 0 0 3 3 3 3 3 3 3 3 3\n",
      " 2 2 3 2 3 3 3 2 3 3 2 3 3 2 3 1 1 1 1 1 1 1 1]\n",
      "acc: 0.85\n",
      "nmi: 0.70957\n",
      "ari: 0.59324\n"
     ]
    },
    {
     "name": "stderr",
     "output_type": "stream",
     "text": [
      "C:\\Users\\admin\\anaconda3\\envs\\pythonProject10\\lib\\site-packages\\sklearn\\cluster\\k_means_.py:968: RuntimeWarning: Explicit initial center position passed: performing only one init in k-means instead of n_init=10\n",
      "  return_n_iter=True)\n",
      "C:\\Users\\admin\\anaconda3\\envs\\pythonProject10\\lib\\site-packages\\sklearn\\metrics\\cluster\\supervised.py:844: FutureWarning: The behavior of NMI will change in version 0.22. To match the behavior of 'v_measure_score', NMI will use average_method='arithmetic' by default.\n",
      "  FutureWarning)\n",
      "C:\\Users\\admin\\anaconda3\\envs\\pythonProject10\\lib\\site-packages\\sklearn\\cluster\\k_means_.py:968: RuntimeWarning: Explicit initial center position passed: performing only one init in k-means instead of n_init=10\n",
      "  return_n_iter=True)\n",
      "C:\\Users\\admin\\anaconda3\\envs\\pythonProject10\\lib\\site-packages\\sklearn\\metrics\\cluster\\supervised.py:844: FutureWarning: The behavior of NMI will change in version 0.22. To match the behavior of 'v_measure_score', NMI will use average_method='arithmetic' by default.\n",
      "  FutureWarning)\n"
     ]
    },
    {
     "name": "stdout",
     "output_type": "stream",
     "text": [
      "step- 480  cost: 665850400000000.0\n",
      "count- [ 5017  4976  8778 10489]\n",
      "[3 2 2 2 3 2 2 2 2 2 2 2 3 2 2 2 0 0 0 0 0 0 0 0 2 0 0 0 3 3 3 3 3 3 3 3 3\n",
      " 2 2 3 2 3 3 3 2 3 3 2 3 3 2 3 1 1 1 1 1 1 1 1]\n",
      "acc: 0.83333\n",
      "nmi: 0.68805\n",
      "ari: 0.56206\n",
      "step- 490  cost: 450035530000000.0\n",
      "count- [ 5127  5056  8925 10752]\n",
      "[3 2 2 2 2 2 2 2 2 2 2 2 3 2 2 2 0 0 0 0 0 0 0 0 2 0 0 0 3 3 3 3 3 3 3 3 3\n",
      " 2 2 3 2 3 3 3 2 3 3 2 3 3 2 3 1 1 1 1 1 1 1 1]\n",
      "acc: 0.85\n",
      "nmi: 0.70957\n",
      "ari: 0.59324\n"
     ]
    },
    {
     "name": "stderr",
     "output_type": "stream",
     "text": [
      "C:\\Users\\admin\\anaconda3\\envs\\pythonProject10\\lib\\site-packages\\sklearn\\cluster\\k_means_.py:968: RuntimeWarning: Explicit initial center position passed: performing only one init in k-means instead of n_init=10\n",
      "  return_n_iter=True)\n",
      "C:\\Users\\admin\\anaconda3\\envs\\pythonProject10\\lib\\site-packages\\sklearn\\metrics\\cluster\\supervised.py:844: FutureWarning: The behavior of NMI will change in version 0.22. To match the behavior of 'v_measure_score', NMI will use average_method='arithmetic' by default.\n",
      "  FutureWarning)\n",
      "C:\\Users\\admin\\anaconda3\\envs\\pythonProject10\\lib\\site-packages\\sklearn\\cluster\\k_means_.py:968: RuntimeWarning: Explicit initial center position passed: performing only one init in k-means instead of n_init=10\n",
      "  return_n_iter=True)\n",
      "C:\\Users\\admin\\anaconda3\\envs\\pythonProject10\\lib\\site-packages\\sklearn\\metrics\\cluster\\supervised.py:844: FutureWarning: The behavior of NMI will change in version 0.22. To match the behavior of 'v_measure_score', NMI will use average_method='arithmetic' by default.\n",
      "  FutureWarning)\n"
     ]
    },
    {
     "name": "stdout",
     "output_type": "stream",
     "text": [
      "step- 500  cost: 65165450000000.0\n",
      "count- [ 5237  5136  9085 11002]\n",
      "[3 2 2 2 2 2 2 2 2 2 2 2 3 2 2 2 0 0 0 0 0 0 0 0 2 0 0 0 3 3 3 3 3 3 3 3 3\n",
      " 2 2 3 2 3 3 3 2 3 3 2 3 3 2 3 1 1 1 1 1 1 1 1]\n",
      "acc: 0.85\n",
      "nmi: 0.70957\n",
      "ari: 0.59324\n",
      "step- 510  cost: 180153630000000.0\n",
      "count- [ 5347  5216  9249 11248]\n",
      "[3 2 2 2 2 2 2 2 2 2 2 2 3 2 2 2 0 0 0 0 0 0 0 0 2 0 0 0 3 3 3 3 3 3 3 3 3\n",
      " 2 2 3 2 3 3 3 2 3 3 2 3 3 2 3 1 1 1 1 1 1 1 1]\n",
      "acc: 0.85\n",
      "nmi: 0.70957\n",
      "ari: 0.59324\n"
     ]
    },
    {
     "name": "stderr",
     "output_type": "stream",
     "text": [
      "C:\\Users\\admin\\anaconda3\\envs\\pythonProject10\\lib\\site-packages\\sklearn\\cluster\\k_means_.py:968: RuntimeWarning: Explicit initial center position passed: performing only one init in k-means instead of n_init=10\n",
      "  return_n_iter=True)\n",
      "C:\\Users\\admin\\anaconda3\\envs\\pythonProject10\\lib\\site-packages\\sklearn\\metrics\\cluster\\supervised.py:844: FutureWarning: The behavior of NMI will change in version 0.22. To match the behavior of 'v_measure_score', NMI will use average_method='arithmetic' by default.\n",
      "  FutureWarning)\n",
      "C:\\Users\\admin\\anaconda3\\envs\\pythonProject10\\lib\\site-packages\\sklearn\\cluster\\k_means_.py:968: RuntimeWarning: Explicit initial center position passed: performing only one init in k-means instead of n_init=10\n",
      "  return_n_iter=True)\n",
      "C:\\Users\\admin\\anaconda3\\envs\\pythonProject10\\lib\\site-packages\\sklearn\\metrics\\cluster\\supervised.py:844: FutureWarning: The behavior of NMI will change in version 0.22. To match the behavior of 'v_measure_score', NMI will use average_method='arithmetic' by default.\n",
      "  FutureWarning)\n"
     ]
    },
    {
     "name": "stdout",
     "output_type": "stream",
     "text": [
      "step- 520  cost: 601617400000000.0\n",
      "count- [ 5457  5296  9412 11495]\n",
      "[3 2 2 2 3 2 2 2 2 2 2 2 3 2 2 2 0 0 0 0 0 0 0 0 2 0 0 0 3 3 3 3 3 3 3 3 3\n",
      " 2 2 3 2 3 3 3 2 3 3 2 3 3 2 3 1 1 1 1 1 1 1 1]\n",
      "acc: 0.83333\n",
      "nmi: 0.68805\n",
      "ari: 0.56206\n",
      "step- 530  cost: 3072524800000000.0\n",
      "count- [ 5567  5376  9572 11745]\n",
      "[3 2 2 2 2 2 2 2 2 2 2 2 3 2 2 2 0 0 0 0 0 0 0 0 2 0 0 0 3 3 3 3 3 3 3 3 3\n",
      " 2 2 3 2 3 3 3 2 3 3 2 3 3 2 3 1 1 1 1 1 1 1 1]\n",
      "acc: 0.85\n",
      "nmi: 0.70957\n",
      "ari: 0.59324\n"
     ]
    },
    {
     "name": "stderr",
     "output_type": "stream",
     "text": [
      "C:\\Users\\admin\\anaconda3\\envs\\pythonProject10\\lib\\site-packages\\sklearn\\cluster\\k_means_.py:968: RuntimeWarning: Explicit initial center position passed: performing only one init in k-means instead of n_init=10\n",
      "  return_n_iter=True)\n",
      "C:\\Users\\admin\\anaconda3\\envs\\pythonProject10\\lib\\site-packages\\sklearn\\metrics\\cluster\\supervised.py:844: FutureWarning: The behavior of NMI will change in version 0.22. To match the behavior of 'v_measure_score', NMI will use average_method='arithmetic' by default.\n",
      "  FutureWarning)\n",
      "C:\\Users\\admin\\anaconda3\\envs\\pythonProject10\\lib\\site-packages\\sklearn\\cluster\\k_means_.py:968: RuntimeWarning: Explicit initial center position passed: performing only one init in k-means instead of n_init=10\n",
      "  return_n_iter=True)\n",
      "C:\\Users\\admin\\anaconda3\\envs\\pythonProject10\\lib\\site-packages\\sklearn\\metrics\\cluster\\supervised.py:844: FutureWarning: The behavior of NMI will change in version 0.22. To match the behavior of 'v_measure_score', NMI will use average_method='arithmetic' by default.\n",
      "  FutureWarning)\n"
     ]
    },
    {
     "name": "stdout",
     "output_type": "stream",
     "text": [
      "step- 540  cost: 216632080000000.0\n",
      "count- [ 5677  5456  9738 11989]\n",
      "[3 2 2 2 2 2 2 2 2 2 2 2 3 2 2 2 0 0 0 0 0 0 0 0 2 0 0 0 3 3 3 3 3 3 3 3 3\n",
      " 2 2 3 2 3 3 3 2 3 3 2 3 3 2 3 1 1 1 1 1 1 1 1]\n",
      "acc: 0.85\n",
      "nmi: 0.70957\n",
      "ari: 0.59324\n",
      "step- 550  cost: 353441820000000.0\n",
      "count- [ 5787  5536  9906 12231]\n",
      "[3 2 2 2 3 2 2 2 2 2 2 2 3 2 2 2 0 0 0 0 0 0 0 0 2 0 0 0 3 3 3 3 3 3 3 3 3\n",
      " 2 2 3 2 3 3 3 2 3 3 2 3 3 2 3 1 1 1 1 1 1 1 1]\n",
      "acc: 0.83333\n",
      "nmi: 0.68805\n",
      "ari: 0.56206\n"
     ]
    },
    {
     "name": "stderr",
     "output_type": "stream",
     "text": [
      "C:\\Users\\admin\\anaconda3\\envs\\pythonProject10\\lib\\site-packages\\sklearn\\cluster\\k_means_.py:968: RuntimeWarning: Explicit initial center position passed: performing only one init in k-means instead of n_init=10\n",
      "  return_n_iter=True)\n",
      "C:\\Users\\admin\\anaconda3\\envs\\pythonProject10\\lib\\site-packages\\sklearn\\metrics\\cluster\\supervised.py:844: FutureWarning: The behavior of NMI will change in version 0.22. To match the behavior of 'v_measure_score', NMI will use average_method='arithmetic' by default.\n",
      "  FutureWarning)\n",
      "C:\\Users\\admin\\anaconda3\\envs\\pythonProject10\\lib\\site-packages\\sklearn\\cluster\\k_means_.py:968: RuntimeWarning: Explicit initial center position passed: performing only one init in k-means instead of n_init=10\n",
      "  return_n_iter=True)\n",
      "C:\\Users\\admin\\anaconda3\\envs\\pythonProject10\\lib\\site-packages\\sklearn\\metrics\\cluster\\supervised.py:844: FutureWarning: The behavior of NMI will change in version 0.22. To match the behavior of 'v_measure_score', NMI will use average_method='arithmetic' by default.\n",
      "  FutureWarning)\n"
     ]
    },
    {
     "name": "stdout",
     "output_type": "stream",
     "text": [
      "step- 560  cost: 775060400000000.0\n",
      "count- [ 5897  5616 10066 12481]\n",
      "[3 2 2 2 2 2 2 2 2 2 2 2 3 2 2 2 0 0 0 0 0 0 0 0 2 0 0 0 3 3 3 3 3 3 3 3 3\n",
      " 2 2 3 2 3 3 3 2 3 3 2 3 3 2 3 1 1 1 1 1 1 1 1]\n",
      "acc: 0.85\n",
      "nmi: 0.70957\n",
      "ari: 0.59324\n",
      "step- 570  cost: 286984000000000.0\n",
      "count- [ 6007  5696 10233 12724]\n",
      "[3 2 2 2 3 2 2 2 2 2 2 2 3 2 2 2 0 0 0 0 0 0 0 0 2 0 0 0 3 3 3 3 3 3 3 3 3\n",
      " 2 2 3 2 3 3 3 2 3 3 2 3 3 2 3 1 1 1 1 1 1 1 1]\n",
      "acc: 0.83333\n",
      "nmi: 0.68805\n",
      "ari: 0.56206\n"
     ]
    },
    {
     "name": "stderr",
     "output_type": "stream",
     "text": [
      "C:\\Users\\admin\\anaconda3\\envs\\pythonProject10\\lib\\site-packages\\sklearn\\cluster\\k_means_.py:968: RuntimeWarning: Explicit initial center position passed: performing only one init in k-means instead of n_init=10\n",
      "  return_n_iter=True)\n",
      "C:\\Users\\admin\\anaconda3\\envs\\pythonProject10\\lib\\site-packages\\sklearn\\metrics\\cluster\\supervised.py:844: FutureWarning: The behavior of NMI will change in version 0.22. To match the behavior of 'v_measure_score', NMI will use average_method='arithmetic' by default.\n",
      "  FutureWarning)\n",
      "C:\\Users\\admin\\anaconda3\\envs\\pythonProject10\\lib\\site-packages\\sklearn\\cluster\\k_means_.py:968: RuntimeWarning: Explicit initial center position passed: performing only one init in k-means instead of n_init=10\n",
      "  return_n_iter=True)\n",
      "C:\\Users\\admin\\anaconda3\\envs\\pythonProject10\\lib\\site-packages\\sklearn\\metrics\\cluster\\supervised.py:844: FutureWarning: The behavior of NMI will change in version 0.22. To match the behavior of 'v_measure_score', NMI will use average_method='arithmetic' by default.\n",
      "  FutureWarning)\n"
     ]
    },
    {
     "name": "stdout",
     "output_type": "stream",
     "text": [
      "step- 580  cost: 522495800000000.0\n",
      "count- [ 6117  5776 10397 12970]\n",
      "[3 2 2 2 3 2 2 2 2 2 2 2 3 2 2 2 0 0 0 0 0 0 0 0 2 0 0 0 3 3 3 3 3 3 3 3 3\n",
      " 2 2 3 2 3 3 3 2 3 3 2 3 3 2 3 1 1 1 1 1 1 1 1]\n",
      "acc: 0.83333\n",
      "nmi: 0.68805\n",
      "ari: 0.56206\n",
      "step- 590  cost: 1822828300000000.0\n",
      "count- [ 6227  5856 10557 13220]\n",
      "[3 2 2 2 3 2 2 2 2 2 2 2 3 2 2 2 0 0 0 0 0 0 0 0 2 0 0 0 3 3 3 3 3 3 3 3 3\n",
      " 2 2 3 2 3 3 3 2 3 3 2 3 3 2 3 1 1 1 1 1 1 1 1]\n",
      "acc: 0.83333\n",
      "nmi: 0.68805\n",
      "ari: 0.56206\n"
     ]
    },
    {
     "name": "stderr",
     "output_type": "stream",
     "text": [
      "C:\\Users\\admin\\anaconda3\\envs\\pythonProject10\\lib\\site-packages\\sklearn\\cluster\\k_means_.py:968: RuntimeWarning: Explicit initial center position passed: performing only one init in k-means instead of n_init=10\n",
      "  return_n_iter=True)\n",
      "C:\\Users\\admin\\anaconda3\\envs\\pythonProject10\\lib\\site-packages\\sklearn\\metrics\\cluster\\supervised.py:844: FutureWarning: The behavior of NMI will change in version 0.22. To match the behavior of 'v_measure_score', NMI will use average_method='arithmetic' by default.\n",
      "  FutureWarning)\n",
      "C:\\Users\\admin\\anaconda3\\envs\\pythonProject10\\lib\\site-packages\\sklearn\\cluster\\k_means_.py:968: RuntimeWarning: Explicit initial center position passed: performing only one init in k-means instead of n_init=10\n",
      "  return_n_iter=True)\n",
      "C:\\Users\\admin\\anaconda3\\envs\\pythonProject10\\lib\\site-packages\\sklearn\\metrics\\cluster\\supervised.py:844: FutureWarning: The behavior of NMI will change in version 0.22. To match the behavior of 'v_measure_score', NMI will use average_method='arithmetic' by default.\n",
      "  FutureWarning)\n"
     ]
    },
    {
     "name": "stdout",
     "output_type": "stream",
     "text": [
      "step- 600  cost: 729371500000000.0\n",
      "count- [ 6337  5936 10717 13470]\n",
      "[3 2 2 2 3 2 2 2 2 2 2 2 3 2 2 2 0 0 0 0 0 0 0 0 2 0 0 0 3 3 3 3 3 3 3 3 3\n",
      " 2 2 3 2 3 3 3 2 3 3 2 3 3 2 3 1 1 1 1 1 1 1 1]\n",
      "acc: 0.83333\n",
      "nmi: 0.68805\n",
      "ari: 0.56206\n",
      "step- 610  cost: 5582055000000000.0\n",
      "count- [ 6447  6016 10880 13717]\n",
      "[3 2 2 2 3 2 2 2 2 2 2 2 3 2 2 2 0 0 0 0 0 0 0 0 2 0 0 0 3 3 3 3 3 3 3 3 3\n",
      " 2 2 3 2 3 3 3 2 3 3 2 3 3 2 3 1 1 1 1 1 1 1 1]\n",
      "acc: 0.83333\n",
      "nmi: 0.68805\n",
      "ari: 0.56206\n"
     ]
    },
    {
     "name": "stderr",
     "output_type": "stream",
     "text": [
      "C:\\Users\\admin\\anaconda3\\envs\\pythonProject10\\lib\\site-packages\\sklearn\\cluster\\k_means_.py:968: RuntimeWarning: Explicit initial center position passed: performing only one init in k-means instead of n_init=10\n",
      "  return_n_iter=True)\n",
      "C:\\Users\\admin\\anaconda3\\envs\\pythonProject10\\lib\\site-packages\\sklearn\\metrics\\cluster\\supervised.py:844: FutureWarning: The behavior of NMI will change in version 0.22. To match the behavior of 'v_measure_score', NMI will use average_method='arithmetic' by default.\n",
      "  FutureWarning)\n",
      "C:\\Users\\admin\\anaconda3\\envs\\pythonProject10\\lib\\site-packages\\sklearn\\cluster\\k_means_.py:968: RuntimeWarning: Explicit initial center position passed: performing only one init in k-means instead of n_init=10\n",
      "  return_n_iter=True)\n",
      "C:\\Users\\admin\\anaconda3\\envs\\pythonProject10\\lib\\site-packages\\sklearn\\metrics\\cluster\\supervised.py:844: FutureWarning: The behavior of NMI will change in version 0.22. To match the behavior of 'v_measure_score', NMI will use average_method='arithmetic' by default.\n",
      "  FutureWarning)\n"
     ]
    },
    {
     "name": "stdout",
     "output_type": "stream",
     "text": [
      "step- 620  cost: 3416500200000000.0\n",
      "count- [ 6557  6096 11040 13967]\n",
      "[3 2 2 2 3 2 2 2 2 2 2 2 3 2 2 2 0 0 0 0 0 0 0 0 2 0 0 0 3 3 3 3 3 3 3 3 3\n",
      " 2 2 3 2 3 3 3 2 3 3 2 3 3 2 2 1 1 1 1 1 1 1 1]\n",
      "acc: 0.81667\n",
      "nmi: 0.67545\n",
      "ari: 0.53088\n",
      "step- 630  cost: 5748533500000000.0\n",
      "count- [ 6667  6176 11206 14211]\n",
      "[3 2 2 2 3 2 2 2 2 2 2 2 3 2 2 2 0 0 0 0 0 0 0 0 2 0 0 0 3 3 3 3 3 3 3 3 3\n",
      " 2 2 3 2 3 3 3 2 3 3 2 3 3 2 3 1 1 1 1 1 1 1 1]\n",
      "acc: 0.83333\n",
      "nmi: 0.68805\n",
      "ari: 0.56206\n"
     ]
    },
    {
     "name": "stderr",
     "output_type": "stream",
     "text": [
      "C:\\Users\\admin\\anaconda3\\envs\\pythonProject10\\lib\\site-packages\\sklearn\\cluster\\k_means_.py:968: RuntimeWarning: Explicit initial center position passed: performing only one init in k-means instead of n_init=10\n",
      "  return_n_iter=True)\n",
      "C:\\Users\\admin\\anaconda3\\envs\\pythonProject10\\lib\\site-packages\\sklearn\\metrics\\cluster\\supervised.py:844: FutureWarning: The behavior of NMI will change in version 0.22. To match the behavior of 'v_measure_score', NMI will use average_method='arithmetic' by default.\n",
      "  FutureWarning)\n",
      "C:\\Users\\admin\\anaconda3\\envs\\pythonProject10\\lib\\site-packages\\sklearn\\cluster\\k_means_.py:968: RuntimeWarning: Explicit initial center position passed: performing only one init in k-means instead of n_init=10\n",
      "  return_n_iter=True)\n",
      "C:\\Users\\admin\\anaconda3\\envs\\pythonProject10\\lib\\site-packages\\sklearn\\metrics\\cluster\\supervised.py:844: FutureWarning: The behavior of NMI will change in version 0.22. To match the behavior of 'v_measure_score', NMI will use average_method='arithmetic' by default.\n",
      "  FutureWarning)\n"
     ]
    },
    {
     "name": "stdout",
     "output_type": "stream",
     "text": [
      "step- 640  cost: 5251089000000000.0\n",
      "count- [ 6777  6256 11371 14456]\n",
      "[3 2 2 2 3 2 2 2 2 2 2 2 3 2 2 2 0 0 0 0 0 0 0 0 2 0 0 0 3 3 3 3 3 3 3 3 3\n",
      " 2 2 3 2 3 3 3 2 3 3 2 3 3 2 3 1 1 1 1 1 1 1 1]\n",
      "acc: 0.83333\n",
      "nmi: 0.68805\n",
      "ari: 0.56206\n",
      "step- 650  cost: 6967922000000000.0\n",
      "count- [ 6887  6336 11542 14695]\n",
      "[3 2 2 2 2 2 2 2 2 2 2 2 3 2 2 2 0 0 0 0 0 0 0 0 2 0 0 0 3 3 3 3 3 3 3 3 3\n",
      " 2 2 3 2 3 3 3 2 3 3 2 3 3 2 3 1 1 1 1 1 1 1 1]\n",
      "acc: 0.85\n",
      "nmi: 0.70957\n",
      "ari: 0.59324\n"
     ]
    },
    {
     "name": "stderr",
     "output_type": "stream",
     "text": [
      "C:\\Users\\admin\\anaconda3\\envs\\pythonProject10\\lib\\site-packages\\sklearn\\cluster\\k_means_.py:968: RuntimeWarning: Explicit initial center position passed: performing only one init in k-means instead of n_init=10\n",
      "  return_n_iter=True)\n",
      "C:\\Users\\admin\\anaconda3\\envs\\pythonProject10\\lib\\site-packages\\sklearn\\metrics\\cluster\\supervised.py:844: FutureWarning: The behavior of NMI will change in version 0.22. To match the behavior of 'v_measure_score', NMI will use average_method='arithmetic' by default.\n",
      "  FutureWarning)\n",
      "C:\\Users\\admin\\anaconda3\\envs\\pythonProject10\\lib\\site-packages\\sklearn\\cluster\\k_means_.py:968: RuntimeWarning: Explicit initial center position passed: performing only one init in k-means instead of n_init=10\n",
      "  return_n_iter=True)\n",
      "C:\\Users\\admin\\anaconda3\\envs\\pythonProject10\\lib\\site-packages\\sklearn\\metrics\\cluster\\supervised.py:844: FutureWarning: The behavior of NMI will change in version 0.22. To match the behavior of 'v_measure_score', NMI will use average_method='arithmetic' by default.\n",
      "  FutureWarning)\n"
     ]
    },
    {
     "name": "stdout",
     "output_type": "stream",
     "text": [
      "step- 660  cost: 1.3195546e+16\n",
      "count- [ 6997  6416 11721 14926]\n",
      "[3 2 2 2 2 2 2 2 2 2 2 2 3 2 2 2 0 0 0 0 0 0 0 0 2 0 0 0 3 3 3 3 3 3 3 3 3\n",
      " 2 2 3 2 3 3 3 2 3 3 2 3 3 2 3 1 1 1 1 1 1 1 1]\n",
      "acc: 0.85\n",
      "nmi: 0.70957\n",
      "ari: 0.59324\n",
      "step- 670  cost: 1.4375958e+16\n",
      "count- [ 7107  6496 11906 15151]\n",
      "[3 2 2 2 2 2 2 2 2 2 2 2 3 2 2 2 0 0 0 0 0 0 0 0 2 0 0 0 3 3 3 3 3 3 3 3 3\n",
      " 2 2 3 2 3 3 3 2 3 3 2 3 3 2 3 1 1 1 1 1 1 1 1]\n",
      "acc: 0.85\n",
      "nmi: 0.70957\n",
      "ari: 0.59324\n"
     ]
    },
    {
     "name": "stderr",
     "output_type": "stream",
     "text": [
      "C:\\Users\\admin\\anaconda3\\envs\\pythonProject10\\lib\\site-packages\\sklearn\\cluster\\k_means_.py:968: RuntimeWarning: Explicit initial center position passed: performing only one init in k-means instead of n_init=10\n",
      "  return_n_iter=True)\n",
      "C:\\Users\\admin\\anaconda3\\envs\\pythonProject10\\lib\\site-packages\\sklearn\\metrics\\cluster\\supervised.py:844: FutureWarning: The behavior of NMI will change in version 0.22. To match the behavior of 'v_measure_score', NMI will use average_method='arithmetic' by default.\n",
      "  FutureWarning)\n",
      "C:\\Users\\admin\\anaconda3\\envs\\pythonProject10\\lib\\site-packages\\sklearn\\cluster\\k_means_.py:968: RuntimeWarning: Explicit initial center position passed: performing only one init in k-means instead of n_init=10\n",
      "  return_n_iter=True)\n",
      "C:\\Users\\admin\\anaconda3\\envs\\pythonProject10\\lib\\site-packages\\sklearn\\metrics\\cluster\\supervised.py:844: FutureWarning: The behavior of NMI will change in version 0.22. To match the behavior of 'v_measure_score', NMI will use average_method='arithmetic' by default.\n",
      "  FutureWarning)\n"
     ]
    },
    {
     "name": "stdout",
     "output_type": "stream",
     "text": [
      "step- 680  cost: 1.4411767e+16\n",
      "count- [ 7217  6576 12092 15375]\n",
      "[3 2 2 2 2 2 2 2 2 2 2 2 3 2 2 2 0 0 0 0 0 0 0 0 2 0 0 0 3 3 3 3 3 3 3 3 3\n",
      " 2 2 3 2 3 3 3 2 3 3 2 3 3 2 3 1 1 1 1 1 1 1 1]\n",
      "acc: 0.85\n",
      "nmi: 0.70957\n",
      "ari: 0.59324\n",
      "step- 690  cost: 1671654400000000.0\n",
      "count- [ 7327  6656 12279 15598]\n",
      "[3 2 2 2 2 2 2 2 2 2 2 2 3 2 2 2 0 0 0 0 0 0 0 0 2 0 0 0 3 3 3 3 3 3 3 3 3\n",
      " 2 2 3 2 3 3 3 2 3 3 2 3 3 2 3 1 1 1 1 1 1 1 1]\n",
      "acc: 0.85\n",
      "nmi: 0.70957\n",
      "ari: 0.59324\n"
     ]
    },
    {
     "name": "stderr",
     "output_type": "stream",
     "text": [
      "C:\\Users\\admin\\anaconda3\\envs\\pythonProject10\\lib\\site-packages\\sklearn\\cluster\\k_means_.py:968: RuntimeWarning: Explicit initial center position passed: performing only one init in k-means instead of n_init=10\n",
      "  return_n_iter=True)\n",
      "C:\\Users\\admin\\anaconda3\\envs\\pythonProject10\\lib\\site-packages\\sklearn\\metrics\\cluster\\supervised.py:844: FutureWarning: The behavior of NMI will change in version 0.22. To match the behavior of 'v_measure_score', NMI will use average_method='arithmetic' by default.\n",
      "  FutureWarning)\n",
      "C:\\Users\\admin\\anaconda3\\envs\\pythonProject10\\lib\\site-packages\\sklearn\\cluster\\k_means_.py:968: RuntimeWarning: Explicit initial center position passed: performing only one init in k-means instead of n_init=10\n",
      "  return_n_iter=True)\n",
      "C:\\Users\\admin\\anaconda3\\envs\\pythonProject10\\lib\\site-packages\\sklearn\\metrics\\cluster\\supervised.py:844: FutureWarning: The behavior of NMI will change in version 0.22. To match the behavior of 'v_measure_score', NMI will use average_method='arithmetic' by default.\n",
      "  FutureWarning)\n"
     ]
    },
    {
     "name": "stdout",
     "output_type": "stream",
     "text": [
      "step- 700  cost: 3.7426543e+16\n",
      "count- [ 7437  6736 12469 15818]\n",
      "[3 2 2 2 2 2 2 2 2 2 2 2 3 2 2 2 0 0 0 0 0 0 0 0 2 0 0 0 3 3 3 3 3 3 3 3 3\n",
      " 2 2 3 2 3 3 3 2 3 3 2 3 3 2 3 1 1 1 1 1 1 1 1]\n",
      "acc: 0.85\n",
      "nmi: 0.70957\n",
      "ari: 0.59324\n",
      "step- 710  cost: 8.343983e+16\n",
      "count- [ 7547  6816 12657 16040]\n",
      "[3 2 2 2 2 2 2 2 2 2 2 2 3 2 2 2 0 0 0 0 0 0 0 0 2 0 0 0 3 3 3 3 3 3 3 3 3\n",
      " 2 2 3 2 3 3 3 2 3 3 2 3 3 2 3 1 1 1 1 1 1 1 1]\n",
      "acc: 0.85\n",
      "nmi: 0.70957\n",
      "ari: 0.59324\n"
     ]
    },
    {
     "name": "stderr",
     "output_type": "stream",
     "text": [
      "C:\\Users\\admin\\anaconda3\\envs\\pythonProject10\\lib\\site-packages\\sklearn\\cluster\\k_means_.py:968: RuntimeWarning: Explicit initial center position passed: performing only one init in k-means instead of n_init=10\n",
      "  return_n_iter=True)\n",
      "C:\\Users\\admin\\anaconda3\\envs\\pythonProject10\\lib\\site-packages\\sklearn\\metrics\\cluster\\supervised.py:844: FutureWarning: The behavior of NMI will change in version 0.22. To match the behavior of 'v_measure_score', NMI will use average_method='arithmetic' by default.\n",
      "  FutureWarning)\n",
      "C:\\Users\\admin\\anaconda3\\envs\\pythonProject10\\lib\\site-packages\\sklearn\\cluster\\k_means_.py:968: RuntimeWarning: Explicit initial center position passed: performing only one init in k-means instead of n_init=10\n",
      "  return_n_iter=True)\n",
      "C:\\Users\\admin\\anaconda3\\envs\\pythonProject10\\lib\\site-packages\\sklearn\\metrics\\cluster\\supervised.py:844: FutureWarning: The behavior of NMI will change in version 0.22. To match the behavior of 'v_measure_score', NMI will use average_method='arithmetic' by default.\n",
      "  FutureWarning)\n"
     ]
    },
    {
     "name": "stdout",
     "output_type": "stream",
     "text": [
      "step- 720  cost: 1.575316e+16\n",
      "count- [ 7657  6896 12847 16260]\n",
      "[3 2 2 2 2 2 2 2 2 2 2 2 3 2 2 2 0 0 0 0 0 0 0 0 2 0 0 0 3 3 3 3 3 3 3 3 3\n",
      " 2 2 3 2 3 3 3 2 3 3 2 3 3 2 3 1 1 1 1 1 1 1 1]\n",
      "acc: 0.85\n",
      "nmi: 0.70957\n",
      "ari: 0.59324\n",
      "step- 730  cost: 2.9311146e+16\n",
      "count- [ 7767  6976 13039 16478]\n",
      "[3 2 2 2 2 2 2 2 2 2 2 2 3 2 2 2 0 0 0 0 0 0 0 0 2 0 0 0 3 3 3 3 3 3 3 3 3\n",
      " 2 2 3 2 3 3 3 2 3 3 2 3 3 2 3 1 1 1 1 1 1 1 1]\n",
      "acc: 0.85\n",
      "nmi: 0.70957\n",
      "ari: 0.59324\n"
     ]
    },
    {
     "name": "stderr",
     "output_type": "stream",
     "text": [
      "C:\\Users\\admin\\anaconda3\\envs\\pythonProject10\\lib\\site-packages\\sklearn\\cluster\\k_means_.py:968: RuntimeWarning: Explicit initial center position passed: performing only one init in k-means instead of n_init=10\n",
      "  return_n_iter=True)\n",
      "C:\\Users\\admin\\anaconda3\\envs\\pythonProject10\\lib\\site-packages\\sklearn\\metrics\\cluster\\supervised.py:844: FutureWarning: The behavior of NMI will change in version 0.22. To match the behavior of 'v_measure_score', NMI will use average_method='arithmetic' by default.\n",
      "  FutureWarning)\n",
      "C:\\Users\\admin\\anaconda3\\envs\\pythonProject10\\lib\\site-packages\\sklearn\\cluster\\k_means_.py:968: RuntimeWarning: Explicit initial center position passed: performing only one init in k-means instead of n_init=10\n",
      "  return_n_iter=True)\n",
      "C:\\Users\\admin\\anaconda3\\envs\\pythonProject10\\lib\\site-packages\\sklearn\\metrics\\cluster\\supervised.py:844: FutureWarning: The behavior of NMI will change in version 0.22. To match the behavior of 'v_measure_score', NMI will use average_method='arithmetic' by default.\n",
      "  FutureWarning)\n"
     ]
    },
    {
     "name": "stdout",
     "output_type": "stream",
     "text": [
      "step- 740  cost: 1.8980517e+17\n",
      "count- [ 7877  7056 13230 16697]\n",
      "[3 2 2 2 2 2 2 2 2 2 2 2 3 2 2 2 0 0 0 0 0 0 0 0 2 0 0 0 3 3 3 3 3 3 3 3 3\n",
      " 2 2 3 2 3 3 3 2 3 3 2 3 3 2 3 1 1 1 1 1 1 1 1]\n",
      "acc: 0.85\n",
      "nmi: 0.70957\n",
      "ari: 0.59324\n",
      "step- 750  cost: 1.6573888e+16\n",
      "count- [ 7987  7136 13420 16917]\n",
      "[3 2 2 2 2 2 2 2 2 2 2 2 3 2 2 2 0 0 0 0 0 0 0 0 2 0 0 0 3 3 3 3 3 3 3 3 3\n",
      " 2 2 3 2 3 3 3 2 3 3 2 3 3 2 3 1 1 1 1 1 1 1 1]\n",
      "acc: 0.85\n",
      "nmi: 0.70957\n",
      "ari: 0.59324\n"
     ]
    },
    {
     "name": "stderr",
     "output_type": "stream",
     "text": [
      "C:\\Users\\admin\\anaconda3\\envs\\pythonProject10\\lib\\site-packages\\sklearn\\cluster\\k_means_.py:968: RuntimeWarning: Explicit initial center position passed: performing only one init in k-means instead of n_init=10\n",
      "  return_n_iter=True)\n",
      "C:\\Users\\admin\\anaconda3\\envs\\pythonProject10\\lib\\site-packages\\sklearn\\metrics\\cluster\\supervised.py:844: FutureWarning: The behavior of NMI will change in version 0.22. To match the behavior of 'v_measure_score', NMI will use average_method='arithmetic' by default.\n",
      "  FutureWarning)\n",
      "C:\\Users\\admin\\anaconda3\\envs\\pythonProject10\\lib\\site-packages\\sklearn\\cluster\\k_means_.py:968: RuntimeWarning: Explicit initial center position passed: performing only one init in k-means instead of n_init=10\n",
      "  return_n_iter=True)\n",
      "C:\\Users\\admin\\anaconda3\\envs\\pythonProject10\\lib\\site-packages\\sklearn\\metrics\\cluster\\supervised.py:844: FutureWarning: The behavior of NMI will change in version 0.22. To match the behavior of 'v_measure_score', NMI will use average_method='arithmetic' by default.\n",
      "  FutureWarning)\n"
     ]
    },
    {
     "name": "stdout",
     "output_type": "stream",
     "text": [
      "step- 760  cost: 9001335000000000.0\n",
      "count- [ 8097  7216 13613 17134]\n",
      "[3 2 2 2 2 2 2 2 2 2 2 2 3 2 2 2 0 0 0 0 0 0 0 0 2 0 0 0 3 3 3 3 3 3 3 3 3\n",
      " 2 2 3 2 3 3 3 2 3 3 2 3 3 2 3 1 1 1 1 1 1 1 1]\n",
      "acc: 0.85\n",
      "nmi: 0.70957\n",
      "ari: 0.59324\n",
      "step- 770  cost: 1.5327871e+16\n",
      "count- [ 8207  7296 13808 17349]\n",
      "[3 2 2 2 2 2 2 2 2 2 2 2 3 2 2 2 0 0 0 0 0 0 0 0 2 0 0 0 3 3 3 3 3 3 3 3 3\n",
      " 2 2 3 2 3 3 3 2 3 3 2 3 3 2 3 1 1 1 1 1 1 1 1]\n",
      "acc: 0.85\n",
      "nmi: 0.70957\n",
      "ari: 0.59324\n"
     ]
    },
    {
     "name": "stderr",
     "output_type": "stream",
     "text": [
      "C:\\Users\\admin\\anaconda3\\envs\\pythonProject10\\lib\\site-packages\\sklearn\\cluster\\k_means_.py:968: RuntimeWarning: Explicit initial center position passed: performing only one init in k-means instead of n_init=10\n",
      "  return_n_iter=True)\n",
      "C:\\Users\\admin\\anaconda3\\envs\\pythonProject10\\lib\\site-packages\\sklearn\\metrics\\cluster\\supervised.py:844: FutureWarning: The behavior of NMI will change in version 0.22. To match the behavior of 'v_measure_score', NMI will use average_method='arithmetic' by default.\n",
      "  FutureWarning)\n",
      "C:\\Users\\admin\\anaconda3\\envs\\pythonProject10\\lib\\site-packages\\sklearn\\cluster\\k_means_.py:968: RuntimeWarning: Explicit initial center position passed: performing only one init in k-means instead of n_init=10\n",
      "  return_n_iter=True)\n",
      "C:\\Users\\admin\\anaconda3\\envs\\pythonProject10\\lib\\site-packages\\sklearn\\metrics\\cluster\\supervised.py:844: FutureWarning: The behavior of NMI will change in version 0.22. To match the behavior of 'v_measure_score', NMI will use average_method='arithmetic' by default.\n",
      "  FutureWarning)\n"
     ]
    },
    {
     "name": "stdout",
     "output_type": "stream",
     "text": [
      "step- 780  cost: 1.1565181e+16\n",
      "count- [ 8317  7376 14004 17563]\n",
      "[3 2 2 2 2 2 2 2 2 2 2 2 3 2 2 2 0 0 0 0 0 0 0 0 2 0 0 0 3 3 3 3 3 3 3 3 3\n",
      " 2 2 3 2 3 3 3 2 3 3 2 3 3 2 3 1 1 1 1 1 1 1 1]\n",
      "acc: 0.85\n",
      "nmi: 0.70957\n",
      "ari: 0.59324\n",
      "step- 790  cost: 1.0911698e+17\n",
      "count- [ 8427  7456 14203 17774]\n",
      "[3 2 2 2 2 2 2 2 2 2 2 2 3 2 2 2 0 0 0 0 0 0 0 0 2 0 0 0 3 3 3 3 3 3 3 3 3\n",
      " 2 2 3 2 3 3 3 2 3 3 2 3 3 2 3 1 1 1 1 1 1 1 1]\n",
      "acc: 0.85\n",
      "nmi: 0.70957\n",
      "ari: 0.59324\n"
     ]
    },
    {
     "name": "stderr",
     "output_type": "stream",
     "text": [
      "C:\\Users\\admin\\anaconda3\\envs\\pythonProject10\\lib\\site-packages\\sklearn\\cluster\\k_means_.py:968: RuntimeWarning: Explicit initial center position passed: performing only one init in k-means instead of n_init=10\n",
      "  return_n_iter=True)\n",
      "C:\\Users\\admin\\anaconda3\\envs\\pythonProject10\\lib\\site-packages\\sklearn\\metrics\\cluster\\supervised.py:844: FutureWarning: The behavior of NMI will change in version 0.22. To match the behavior of 'v_measure_score', NMI will use average_method='arithmetic' by default.\n",
      "  FutureWarning)\n",
      "C:\\Users\\admin\\anaconda3\\envs\\pythonProject10\\lib\\site-packages\\sklearn\\cluster\\k_means_.py:968: RuntimeWarning: Explicit initial center position passed: performing only one init in k-means instead of n_init=10\n",
      "  return_n_iter=True)\n",
      "C:\\Users\\admin\\anaconda3\\envs\\pythonProject10\\lib\\site-packages\\sklearn\\metrics\\cluster\\supervised.py:844: FutureWarning: The behavior of NMI will change in version 0.22. To match the behavior of 'v_measure_score', NMI will use average_method='arithmetic' by default.\n",
      "  FutureWarning)\n"
     ]
    },
    {
     "name": "stdout",
     "output_type": "stream",
     "text": [
      "step- 800  cost: 1.8342154e+17\n",
      "count- [ 8537  7536 14400 17987]\n",
      "[3 2 2 2 2 2 2 2 2 2 2 2 3 2 2 2 0 0 0 0 0 0 0 0 2 0 0 0 3 3 3 3 3 3 3 3 3\n",
      " 2 2 3 2 3 3 3 2 3 3 2 3 3 2 3 1 1 1 1 1 1 1 1]\n",
      "acc: 0.85\n",
      "nmi: 0.70957\n",
      "ari: 0.59324\n",
      "step- 810  cost: 3.1390426e+16\n",
      "count- [ 8647  7616 14597 18200]\n",
      "[3 2 2 2 2 2 2 2 2 2 2 2 3 2 2 2 0 0 0 0 0 0 0 0 2 0 0 0 3 3 3 3 3 3 3 3 3\n",
      " 2 2 3 2 3 3 3 2 3 3 2 3 3 2 3 1 1 1 1 1 1 1 1]\n",
      "acc: 0.85\n",
      "nmi: 0.70957\n",
      "ari: 0.59324\n"
     ]
    },
    {
     "name": "stderr",
     "output_type": "stream",
     "text": [
      "C:\\Users\\admin\\anaconda3\\envs\\pythonProject10\\lib\\site-packages\\sklearn\\cluster\\k_means_.py:968: RuntimeWarning: Explicit initial center position passed: performing only one init in k-means instead of n_init=10\n",
      "  return_n_iter=True)\n",
      "C:\\Users\\admin\\anaconda3\\envs\\pythonProject10\\lib\\site-packages\\sklearn\\metrics\\cluster\\supervised.py:844: FutureWarning: The behavior of NMI will change in version 0.22. To match the behavior of 'v_measure_score', NMI will use average_method='arithmetic' by default.\n",
      "  FutureWarning)\n",
      "C:\\Users\\admin\\anaconda3\\envs\\pythonProject10\\lib\\site-packages\\sklearn\\cluster\\k_means_.py:968: RuntimeWarning: Explicit initial center position passed: performing only one init in k-means instead of n_init=10\n",
      "  return_n_iter=True)\n",
      "C:\\Users\\admin\\anaconda3\\envs\\pythonProject10\\lib\\site-packages\\sklearn\\metrics\\cluster\\supervised.py:844: FutureWarning: The behavior of NMI will change in version 0.22. To match the behavior of 'v_measure_score', NMI will use average_method='arithmetic' by default.\n",
      "  FutureWarning)\n"
     ]
    },
    {
     "name": "stdout",
     "output_type": "stream",
     "text": [
      "step- 820  cost: 3.388767e+16\n",
      "count- [ 8757  7696 14796 18411]\n",
      "[2 2 2 2 2 2 2 2 2 2 2 2 2 2 2 2 0 0 0 0 0 0 0 0 2 0 0 0 3 3 3 3 3 3 3 3 3\n",
      " 2 2 3 2 3 3 3 2 3 3 2 3 3 2 2 1 1 1 1 1 1 1 1]\n",
      "acc: 0.86667\n",
      "nmi: 0.76898\n",
      "ari: 0.62725\n",
      "step- 830  cost: 2.8437193e+17\n",
      "count- [ 8867  7776 15014 18603]\n",
      "[2 2 2 2 2 2 2 2 2 2 2 2 2 2 2 2 0 0 0 0 0 0 0 0 2 0 0 0 3 3 3 3 3 3 3 3 3\n",
      " 2 2 3 2 3 3 3 2 3 3 2 3 3 2 2 1 1 1 1 1 1 1 1]\n",
      "acc: 0.86667\n",
      "nmi: 0.76898\n",
      "ari: 0.62725\n"
     ]
    },
    {
     "name": "stderr",
     "output_type": "stream",
     "text": [
      "C:\\Users\\admin\\anaconda3\\envs\\pythonProject10\\lib\\site-packages\\sklearn\\cluster\\k_means_.py:968: RuntimeWarning: Explicit initial center position passed: performing only one init in k-means instead of n_init=10\n",
      "  return_n_iter=True)\n",
      "C:\\Users\\admin\\anaconda3\\envs\\pythonProject10\\lib\\site-packages\\sklearn\\metrics\\cluster\\supervised.py:844: FutureWarning: The behavior of NMI will change in version 0.22. To match the behavior of 'v_measure_score', NMI will use average_method='arithmetic' by default.\n",
      "  FutureWarning)\n",
      "C:\\Users\\admin\\anaconda3\\envs\\pythonProject10\\lib\\site-packages\\sklearn\\cluster\\k_means_.py:968: RuntimeWarning: Explicit initial center position passed: performing only one init in k-means instead of n_init=10\n",
      "  return_n_iter=True)\n",
      "C:\\Users\\admin\\anaconda3\\envs\\pythonProject10\\lib\\site-packages\\sklearn\\metrics\\cluster\\supervised.py:844: FutureWarning: The behavior of NMI will change in version 0.22. To match the behavior of 'v_measure_score', NMI will use average_method='arithmetic' by default.\n",
      "  FutureWarning)\n"
     ]
    },
    {
     "name": "stdout",
     "output_type": "stream",
     "text": [
      "step- 840  cost: 6.1000785e+16\n",
      "count- [ 8977  7856 15231 18796]\n",
      "[2 2 2 2 2 2 2 2 2 2 2 2 2 2 2 2 0 0 0 0 0 0 0 0 2 0 0 0 3 3 3 3 3 3 3 3 3\n",
      " 2 2 3 2 3 3 3 2 3 3 2 3 3 2 3 1 1 1 1 1 1 1 1]\n",
      "acc: 0.88333\n",
      "nmi: 0.78391\n",
      "ari: 0.66537\n",
      "step- 850  cost: 3.5489195e+17\n",
      "count- [ 9087  7936 15444 18993]\n",
      "[2 2 2 2 2 2 2 2 2 2 2 2 2 2 2 2 0 0 0 0 0 0 0 0 2 0 0 0 3 3 3 3 3 3 3 3 3\n",
      " 2 2 3 2 3 3 3 2 3 3 2 3 3 2 3 1 1 1 1 1 1 1 1]\n",
      "acc: 0.88333\n",
      "nmi: 0.78391\n",
      "ari: 0.66537\n"
     ]
    },
    {
     "name": "stderr",
     "output_type": "stream",
     "text": [
      "C:\\Users\\admin\\anaconda3\\envs\\pythonProject10\\lib\\site-packages\\sklearn\\cluster\\k_means_.py:968: RuntimeWarning: Explicit initial center position passed: performing only one init in k-means instead of n_init=10\n",
      "  return_n_iter=True)\n",
      "C:\\Users\\admin\\anaconda3\\envs\\pythonProject10\\lib\\site-packages\\sklearn\\metrics\\cluster\\supervised.py:844: FutureWarning: The behavior of NMI will change in version 0.22. To match the behavior of 'v_measure_score', NMI will use average_method='arithmetic' by default.\n",
      "  FutureWarning)\n",
      "C:\\Users\\admin\\anaconda3\\envs\\pythonProject10\\lib\\site-packages\\sklearn\\cluster\\k_means_.py:968: RuntimeWarning: Explicit initial center position passed: performing only one init in k-means instead of n_init=10\n",
      "  return_n_iter=True)\n",
      "C:\\Users\\admin\\anaconda3\\envs\\pythonProject10\\lib\\site-packages\\sklearn\\metrics\\cluster\\supervised.py:844: FutureWarning: The behavior of NMI will change in version 0.22. To match the behavior of 'v_measure_score', NMI will use average_method='arithmetic' by default.\n",
      "  FutureWarning)\n"
     ]
    },
    {
     "name": "stdout",
     "output_type": "stream",
     "text": [
      "step- 860  cost: 1.2045036e+17\n",
      "count- [ 9197  8016 15661 19186]\n",
      "[2 2 2 2 2 2 2 2 2 2 2 2 2 2 2 2 0 0 0 0 0 0 0 0 2 0 0 0 3 3 3 3 3 3 3 3 3\n",
      " 2 2 3 2 3 3 3 2 3 3 2 3 3 2 3 1 1 1 1 1 1 1 1]\n",
      "acc: 0.88333\n",
      "nmi: 0.78391\n",
      "ari: 0.66537\n",
      "step- 870  cost: 2.598989e+16\n",
      "count- [ 9307  8096 15877 19380]\n",
      "[2 2 2 2 2 2 2 2 2 2 2 2 2 2 2 2 0 0 0 0 0 0 0 0 2 0 0 0 3 3 3 3 3 3 3 3 3\n",
      " 2 2 3 2 3 3 3 2 3 3 2 3 3 2 3 1 1 1 1 1 1 1 1]\n",
      "acc: 0.88333\n",
      "nmi: 0.78391\n",
      "ari: 0.66537\n"
     ]
    },
    {
     "name": "stderr",
     "output_type": "stream",
     "text": [
      "C:\\Users\\admin\\anaconda3\\envs\\pythonProject10\\lib\\site-packages\\sklearn\\cluster\\k_means_.py:968: RuntimeWarning: Explicit initial center position passed: performing only one init in k-means instead of n_init=10\n",
      "  return_n_iter=True)\n",
      "C:\\Users\\admin\\anaconda3\\envs\\pythonProject10\\lib\\site-packages\\sklearn\\metrics\\cluster\\supervised.py:844: FutureWarning: The behavior of NMI will change in version 0.22. To match the behavior of 'v_measure_score', NMI will use average_method='arithmetic' by default.\n",
      "  FutureWarning)\n",
      "C:\\Users\\admin\\anaconda3\\envs\\pythonProject10\\lib\\site-packages\\sklearn\\cluster\\k_means_.py:968: RuntimeWarning: Explicit initial center position passed: performing only one init in k-means instead of n_init=10\n",
      "  return_n_iter=True)\n",
      "C:\\Users\\admin\\anaconda3\\envs\\pythonProject10\\lib\\site-packages\\sklearn\\metrics\\cluster\\supervised.py:844: FutureWarning: The behavior of NMI will change in version 0.22. To match the behavior of 'v_measure_score', NMI will use average_method='arithmetic' by default.\n",
      "  FutureWarning)\n"
     ]
    },
    {
     "name": "stdout",
     "output_type": "stream",
     "text": [
      "step- 880  cost: 3.518248e+17\n",
      "count- [ 9417  8176 16097 19570]\n",
      "[2 2 2 2 2 2 2 2 2 2 2 2 2 2 2 2 0 0 0 0 0 0 0 0 2 0 0 0 3 3 3 3 3 3 3 3 3\n",
      " 2 2 3 2 3 3 3 2 3 3 2 3 3 2 3 1 1 1 1 1 1 1 1]\n",
      "acc: 0.88333\n",
      "nmi: 0.78391\n",
      "ari: 0.66537\n",
      "step- 890  cost: 3.377285e+17\n",
      "count- [ 9527  8256 16318 19759]\n",
      "[2 2 2 2 2 2 2 2 2 2 2 2 2 2 2 2 0 0 0 0 0 0 0 0 2 0 0 0 3 3 3 3 3 3 3 3 3\n",
      " 2 2 3 2 3 3 3 2 3 3 2 3 3 2 3 1 1 1 1 1 1 1 1]\n",
      "acc: 0.88333\n",
      "nmi: 0.78391\n",
      "ari: 0.66537\n"
     ]
    },
    {
     "name": "stderr",
     "output_type": "stream",
     "text": [
      "C:\\Users\\admin\\anaconda3\\envs\\pythonProject10\\lib\\site-packages\\sklearn\\cluster\\k_means_.py:968: RuntimeWarning: Explicit initial center position passed: performing only one init in k-means instead of n_init=10\n",
      "  return_n_iter=True)\n",
      "C:\\Users\\admin\\anaconda3\\envs\\pythonProject10\\lib\\site-packages\\sklearn\\metrics\\cluster\\supervised.py:844: FutureWarning: The behavior of NMI will change in version 0.22. To match the behavior of 'v_measure_score', NMI will use average_method='arithmetic' by default.\n",
      "  FutureWarning)\n",
      "C:\\Users\\admin\\anaconda3\\envs\\pythonProject10\\lib\\site-packages\\sklearn\\cluster\\k_means_.py:968: RuntimeWarning: Explicit initial center position passed: performing only one init in k-means instead of n_init=10\n",
      "  return_n_iter=True)\n",
      "C:\\Users\\admin\\anaconda3\\envs\\pythonProject10\\lib\\site-packages\\sklearn\\metrics\\cluster\\supervised.py:844: FutureWarning: The behavior of NMI will change in version 0.22. To match the behavior of 'v_measure_score', NMI will use average_method='arithmetic' by default.\n",
      "  FutureWarning)\n"
     ]
    },
    {
     "name": "stdout",
     "output_type": "stream",
     "text": [
      "step- 900  cost: 3.0434916e+16\n",
      "count- [ 9637  8336 16539 19948]\n",
      "[2 2 2 2 2 2 2 2 2 2 2 2 2 2 2 2 0 0 0 0 0 0 0 0 2 0 0 0 3 3 3 3 3 3 3 3 3\n",
      " 2 2 3 2 3 3 3 2 3 3 2 3 3 2 3 1 1 1 1 1 1 1 1]\n",
      "acc: 0.88333\n",
      "nmi: 0.78391\n",
      "ari: 0.66537\n",
      "step- 910  cost: 1.6876955e+17\n",
      "count- [ 9747  8416 16761 20136]\n",
      "[2 2 2 2 2 2 2 2 2 2 2 2 2 2 2 2 0 0 0 0 0 0 0 0 2 0 0 0 3 3 3 3 3 3 3 3 3\n",
      " 2 2 3 2 3 3 3 2 3 3 2 3 3 2 3 1 1 1 1 1 1 1 1]\n",
      "acc: 0.88333\n",
      "nmi: 0.78391\n",
      "ari: 0.66537\n"
     ]
    },
    {
     "name": "stderr",
     "output_type": "stream",
     "text": [
      "C:\\Users\\admin\\anaconda3\\envs\\pythonProject10\\lib\\site-packages\\sklearn\\cluster\\k_means_.py:968: RuntimeWarning: Explicit initial center position passed: performing only one init in k-means instead of n_init=10\n",
      "  return_n_iter=True)\n",
      "C:\\Users\\admin\\anaconda3\\envs\\pythonProject10\\lib\\site-packages\\sklearn\\metrics\\cluster\\supervised.py:844: FutureWarning: The behavior of NMI will change in version 0.22. To match the behavior of 'v_measure_score', NMI will use average_method='arithmetic' by default.\n",
      "  FutureWarning)\n",
      "C:\\Users\\admin\\anaconda3\\envs\\pythonProject10\\lib\\site-packages\\sklearn\\cluster\\k_means_.py:968: RuntimeWarning: Explicit initial center position passed: performing only one init in k-means instead of n_init=10\n",
      "  return_n_iter=True)\n",
      "C:\\Users\\admin\\anaconda3\\envs\\pythonProject10\\lib\\site-packages\\sklearn\\metrics\\cluster\\supervised.py:844: FutureWarning: The behavior of NMI will change in version 0.22. To match the behavior of 'v_measure_score', NMI will use average_method='arithmetic' by default.\n",
      "  FutureWarning)\n"
     ]
    },
    {
     "name": "stdout",
     "output_type": "stream",
     "text": [
      "step- 920  cost: 2.5257498e+17\n",
      "count- [ 9857  8496 16984 20323]\n",
      "[2 2 2 2 2 2 2 2 2 2 2 2 2 2 2 2 0 0 0 0 0 0 0 0 2 0 0 0 3 3 3 3 3 3 3 3 3\n",
      " 2 2 3 2 3 3 3 2 3 3 2 3 3 2 3 1 1 1 1 1 1 1 1]\n",
      "acc: 0.88333\n",
      "nmi: 0.78391\n",
      "ari: 0.66537\n",
      "step- 930  cost: 1.30105795e+17\n",
      "count- [ 9967  8576 17207 20510]\n",
      "[2 2 2 2 2 2 2 2 2 2 2 2 2 2 2 2 0 0 0 0 0 0 0 0 2 0 0 0 3 3 3 3 3 3 3 3 3\n",
      " 2 2 3 2 3 3 3 2 3 3 2 3 3 2 3 1 1 1 1 1 1 1 1]\n",
      "acc: 0.88333\n",
      "nmi: 0.78391\n",
      "ari: 0.66537\n"
     ]
    },
    {
     "name": "stderr",
     "output_type": "stream",
     "text": [
      "C:\\Users\\admin\\anaconda3\\envs\\pythonProject10\\lib\\site-packages\\sklearn\\cluster\\k_means_.py:968: RuntimeWarning: Explicit initial center position passed: performing only one init in k-means instead of n_init=10\n",
      "  return_n_iter=True)\n",
      "C:\\Users\\admin\\anaconda3\\envs\\pythonProject10\\lib\\site-packages\\sklearn\\metrics\\cluster\\supervised.py:844: FutureWarning: The behavior of NMI will change in version 0.22. To match the behavior of 'v_measure_score', NMI will use average_method='arithmetic' by default.\n",
      "  FutureWarning)\n",
      "C:\\Users\\admin\\anaconda3\\envs\\pythonProject10\\lib\\site-packages\\sklearn\\cluster\\k_means_.py:968: RuntimeWarning: Explicit initial center position passed: performing only one init in k-means instead of n_init=10\n",
      "  return_n_iter=True)\n",
      "C:\\Users\\admin\\anaconda3\\envs\\pythonProject10\\lib\\site-packages\\sklearn\\metrics\\cluster\\supervised.py:844: FutureWarning: The behavior of NMI will change in version 0.22. To match the behavior of 'v_measure_score', NMI will use average_method='arithmetic' by default.\n",
      "  FutureWarning)\n"
     ]
    },
    {
     "name": "stdout",
     "output_type": "stream",
     "text": [
      "step- 940  cost: 1.2590095e+18\n",
      "count- [10077  8656 17430 20697]\n",
      "[2 2 2 2 2 2 2 2 2 2 2 2 2 2 2 2 0 0 0 0 0 0 0 0 2 0 0 0 3 3 3 3 3 3 3 3 3\n",
      " 2 2 3 2 3 3 3 2 3 3 2 3 3 2 3 1 1 1 1 1 1 1 1]\n",
      "acc: 0.88333\n",
      "nmi: 0.78391\n",
      "ari: 0.66537\n",
      "step- 950  cost: 6.0015305e+16\n",
      "count- [10187  8736 17652 20885]\n",
      "[2 2 2 2 2 2 2 2 2 2 2 2 2 2 2 2 0 0 0 0 0 0 0 0 2 0 0 0 3 3 3 3 3 3 3 3 3\n",
      " 2 2 3 2 3 3 3 2 3 3 2 3 3 2 3 1 1 1 1 1 1 1 1]\n",
      "acc: 0.88333\n",
      "nmi: 0.78391\n",
      "ari: 0.66537\n"
     ]
    },
    {
     "name": "stderr",
     "output_type": "stream",
     "text": [
      "C:\\Users\\admin\\anaconda3\\envs\\pythonProject10\\lib\\site-packages\\sklearn\\cluster\\k_means_.py:968: RuntimeWarning: Explicit initial center position passed: performing only one init in k-means instead of n_init=10\n",
      "  return_n_iter=True)\n",
      "C:\\Users\\admin\\anaconda3\\envs\\pythonProject10\\lib\\site-packages\\sklearn\\metrics\\cluster\\supervised.py:844: FutureWarning: The behavior of NMI will change in version 0.22. To match the behavior of 'v_measure_score', NMI will use average_method='arithmetic' by default.\n",
      "  FutureWarning)\n",
      "C:\\Users\\admin\\anaconda3\\envs\\pythonProject10\\lib\\site-packages\\sklearn\\cluster\\k_means_.py:968: RuntimeWarning: Explicit initial center position passed: performing only one init in k-means instead of n_init=10\n",
      "  return_n_iter=True)\n",
      "C:\\Users\\admin\\anaconda3\\envs\\pythonProject10\\lib\\site-packages\\sklearn\\metrics\\cluster\\supervised.py:844: FutureWarning: The behavior of NMI will change in version 0.22. To match the behavior of 'v_measure_score', NMI will use average_method='arithmetic' by default.\n",
      "  FutureWarning)\n"
     ]
    },
    {
     "name": "stdout",
     "output_type": "stream",
     "text": [
      "step- 960  cost: 2.5392723e+17\n",
      "count- [10297  8816 17876 21071]\n",
      "[2 2 2 2 2 2 2 2 2 2 2 2 2 2 2 2 0 0 0 0 0 0 0 0 2 0 0 0 3 3 3 3 3 3 3 3 3\n",
      " 2 2 3 2 3 3 3 2 3 3 2 3 3 2 3 1 1 1 1 1 1 1 1]\n",
      "acc: 0.88333\n",
      "nmi: 0.78391\n",
      "ari: 0.66537\n",
      "step- 970  cost: 4.9758665e+16\n",
      "count- [10407  8896 18099 21258]\n",
      "[2 2 2 2 2 2 2 2 2 2 2 2 2 2 2 2 0 0 0 0 0 0 0 0 2 0 0 0 3 3 3 3 3 3 3 3 3\n",
      " 2 2 3 2 3 3 3 2 3 3 2 3 3 2 3 1 1 1 1 1 1 1 1]\n",
      "acc: 0.88333\n",
      "nmi: 0.78391\n",
      "ari: 0.66537\n"
     ]
    },
    {
     "name": "stderr",
     "output_type": "stream",
     "text": [
      "C:\\Users\\admin\\anaconda3\\envs\\pythonProject10\\lib\\site-packages\\sklearn\\cluster\\k_means_.py:968: RuntimeWarning: Explicit initial center position passed: performing only one init in k-means instead of n_init=10\n",
      "  return_n_iter=True)\n",
      "C:\\Users\\admin\\anaconda3\\envs\\pythonProject10\\lib\\site-packages\\sklearn\\metrics\\cluster\\supervised.py:844: FutureWarning: The behavior of NMI will change in version 0.22. To match the behavior of 'v_measure_score', NMI will use average_method='arithmetic' by default.\n",
      "  FutureWarning)\n",
      "C:\\Users\\admin\\anaconda3\\envs\\pythonProject10\\lib\\site-packages\\sklearn\\cluster\\k_means_.py:968: RuntimeWarning: Explicit initial center position passed: performing only one init in k-means instead of n_init=10\n",
      "  return_n_iter=True)\n",
      "C:\\Users\\admin\\anaconda3\\envs\\pythonProject10\\lib\\site-packages\\sklearn\\metrics\\cluster\\supervised.py:844: FutureWarning: The behavior of NMI will change in version 0.22. To match the behavior of 'v_measure_score', NMI will use average_method='arithmetic' by default.\n",
      "  FutureWarning)\n"
     ]
    },
    {
     "name": "stdout",
     "output_type": "stream",
     "text": [
      "step- 980  cost: 3.2372373e+16\n",
      "count- [10517  8976 18322 21445]\n",
      "[2 2 2 2 2 2 2 2 2 2 2 2 2 2 2 2 0 0 0 0 0 0 0 0 2 0 0 0 3 3 3 3 3 3 3 3 3\n",
      " 2 2 3 2 3 3 3 2 3 3 2 3 3 2 3 1 1 1 1 1 1 1 1]\n",
      "acc: 0.88333\n",
      "nmi: 0.78391\n",
      "ari: 0.66537\n",
      "step- 990  cost: 1.1130581e+18\n",
      "count- [10627  9056 18545 21632]\n",
      "[2 2 2 2 2 2 2 2 2 2 2 2 2 2 2 2 0 0 0 0 0 0 0 0 2 0 0 0 3 3 3 3 3 3 3 3 3\n",
      " 2 2 3 2 3 3 3 2 3 3 2 3 3 2 3 1 1 1 1 1 1 1 1]\n",
      "acc: 0.88333\n",
      "nmi: 0.78391\n",
      "ari: 0.66537\n"
     ]
    },
    {
     "name": "stderr",
     "output_type": "stream",
     "text": [
      "C:\\Users\\admin\\anaconda3\\envs\\pythonProject10\\lib\\site-packages\\sklearn\\cluster\\k_means_.py:968: RuntimeWarning: Explicit initial center position passed: performing only one init in k-means instead of n_init=10\n",
      "  return_n_iter=True)\n",
      "C:\\Users\\admin\\anaconda3\\envs\\pythonProject10\\lib\\site-packages\\sklearn\\metrics\\cluster\\supervised.py:844: FutureWarning: The behavior of NMI will change in version 0.22. To match the behavior of 'v_measure_score', NMI will use average_method='arithmetic' by default.\n",
      "  FutureWarning)\n",
      "C:\\Users\\admin\\anaconda3\\envs\\pythonProject10\\lib\\site-packages\\sklearn\\cluster\\k_means_.py:968: RuntimeWarning: Explicit initial center position passed: performing only one init in k-means instead of n_init=10\n",
      "  return_n_iter=True)\n",
      "C:\\Users\\admin\\anaconda3\\envs\\pythonProject10\\lib\\site-packages\\sklearn\\metrics\\cluster\\supervised.py:844: FutureWarning: The behavior of NMI will change in version 0.22. To match the behavior of 'v_measure_score', NMI will use average_method='arithmetic' by default.\n",
      "  FutureWarning)\n"
     ]
    },
    {
     "name": "stdout",
     "output_type": "stream",
     "text": [
      "step- 1000  cost: 1.453254e+18\n",
      "count- [10737  9136 18768 21819]\n",
      "[2 2 2 2 2 2 2 2 2 2 2 2 2 2 2 2 0 0 0 0 0 0 0 0 2 0 0 0 3 3 3 3 3 3 3 3 3\n",
      " 2 2 3 2 3 3 3 2 3 3 2 3 3 2 3 1 1 1 1 1 1 1 1]\n",
      "acc: 0.88333\n",
      "nmi: 0.78391\n",
      "ari: 0.66537\n",
      "step- 1010  cost: 1.1485564e+17\n",
      "count- [10847  9216 18990 22007]\n",
      "[2 2 2 2 2 2 2 2 2 2 2 2 2 2 2 2 0 0 0 0 0 0 0 0 2 0 0 0 3 3 3 3 3 3 3 3 3\n",
      " 2 2 3 2 3 3 3 2 3 3 2 3 3 2 3 1 1 1 1 1 1 1 1]\n",
      "acc: 0.88333\n",
      "nmi: 0.78391\n",
      "ari: 0.66537\n"
     ]
    },
    {
     "name": "stderr",
     "output_type": "stream",
     "text": [
      "C:\\Users\\admin\\anaconda3\\envs\\pythonProject10\\lib\\site-packages\\sklearn\\cluster\\k_means_.py:968: RuntimeWarning: Explicit initial center position passed: performing only one init in k-means instead of n_init=10\n",
      "  return_n_iter=True)\n",
      "C:\\Users\\admin\\anaconda3\\envs\\pythonProject10\\lib\\site-packages\\sklearn\\metrics\\cluster\\supervised.py:844: FutureWarning: The behavior of NMI will change in version 0.22. To match the behavior of 'v_measure_score', NMI will use average_method='arithmetic' by default.\n",
      "  FutureWarning)\n",
      "C:\\Users\\admin\\anaconda3\\envs\\pythonProject10\\lib\\site-packages\\sklearn\\cluster\\k_means_.py:968: RuntimeWarning: Explicit initial center position passed: performing only one init in k-means instead of n_init=10\n",
      "  return_n_iter=True)\n",
      "C:\\Users\\admin\\anaconda3\\envs\\pythonProject10\\lib\\site-packages\\sklearn\\metrics\\cluster\\supervised.py:844: FutureWarning: The behavior of NMI will change in version 0.22. To match the behavior of 'v_measure_score', NMI will use average_method='arithmetic' by default.\n",
      "  FutureWarning)\n"
     ]
    },
    {
     "name": "stdout",
     "output_type": "stream",
     "text": [
      "step- 1020  cost: 1.444967e+17\n",
      "count- [10957  9296 19212 22195]\n",
      "[2 2 2 2 2 2 2 2 2 2 2 2 2 2 2 2 0 0 0 0 0 0 0 0 2 0 0 0 3 3 3 3 3 3 3 3 3\n",
      " 2 2 3 2 3 3 3 2 3 3 2 3 3 2 3 1 1 1 1 1 1 1 1]\n",
      "acc: 0.88333\n",
      "nmi: 0.78391\n",
      "ari: 0.66537\n",
      "step- 1030  cost: 2.8794715e+17\n",
      "count- [11067  9376 19435 22382]\n",
      "[2 2 2 2 2 2 2 2 2 2 2 2 2 2 2 2 0 0 0 0 0 0 0 0 2 0 0 0 3 3 3 3 3 3 3 3 3\n",
      " 2 2 3 2 3 3 3 2 3 3 2 3 3 2 3 1 1 1 1 1 1 1 1]\n",
      "acc: 0.88333\n",
      "nmi: 0.78391\n",
      "ari: 0.66537\n"
     ]
    },
    {
     "name": "stderr",
     "output_type": "stream",
     "text": [
      "C:\\Users\\admin\\anaconda3\\envs\\pythonProject10\\lib\\site-packages\\sklearn\\cluster\\k_means_.py:968: RuntimeWarning: Explicit initial center position passed: performing only one init in k-means instead of n_init=10\n",
      "  return_n_iter=True)\n",
      "C:\\Users\\admin\\anaconda3\\envs\\pythonProject10\\lib\\site-packages\\sklearn\\metrics\\cluster\\supervised.py:844: FutureWarning: The behavior of NMI will change in version 0.22. To match the behavior of 'v_measure_score', NMI will use average_method='arithmetic' by default.\n",
      "  FutureWarning)\n",
      "C:\\Users\\admin\\anaconda3\\envs\\pythonProject10\\lib\\site-packages\\sklearn\\cluster\\k_means_.py:968: RuntimeWarning: Explicit initial center position passed: performing only one init in k-means instead of n_init=10\n",
      "  return_n_iter=True)\n",
      "C:\\Users\\admin\\anaconda3\\envs\\pythonProject10\\lib\\site-packages\\sklearn\\metrics\\cluster\\supervised.py:844: FutureWarning: The behavior of NMI will change in version 0.22. To match the behavior of 'v_measure_score', NMI will use average_method='arithmetic' by default.\n",
      "  FutureWarning)\n"
     ]
    },
    {
     "name": "stdout",
     "output_type": "stream",
     "text": [
      "step- 1040  cost: 1.28761625e+17\n",
      "count- [11177  9456 19657 22570]\n",
      "[2 2 2 2 2 2 2 2 2 2 2 2 2 2 2 2 0 0 0 0 0 0 0 0 2 0 0 0 3 3 3 3 3 3 3 3 3\n",
      " 2 3 3 2 3 3 3 2 3 3 2 3 3 2 3 1 1 1 1 1 1 1 1]\n",
      "acc: 0.9\n",
      "nmi: 0.80087\n",
      "ari: 0.70699\n",
      "step- 1050  cost: 8.397065e+17\n",
      "count- [11287  9536 19877 22760]\n",
      "[2 2 2 2 2 2 2 2 2 2 2 2 2 2 2 2 0 0 0 0 0 0 0 0 2 0 0 0 3 3 3 3 3 3 3 3 3\n",
      " 2 3 3 2 3 3 3 2 3 3 2 3 3 2 3 1 1 1 1 1 1 1 1]\n",
      "acc: 0.9\n",
      "nmi: 0.80087\n",
      "ari: 0.70699\n"
     ]
    },
    {
     "name": "stderr",
     "output_type": "stream",
     "text": [
      "C:\\Users\\admin\\anaconda3\\envs\\pythonProject10\\lib\\site-packages\\sklearn\\cluster\\k_means_.py:968: RuntimeWarning: Explicit initial center position passed: performing only one init in k-means instead of n_init=10\n",
      "  return_n_iter=True)\n",
      "C:\\Users\\admin\\anaconda3\\envs\\pythonProject10\\lib\\site-packages\\sklearn\\metrics\\cluster\\supervised.py:844: FutureWarning: The behavior of NMI will change in version 0.22. To match the behavior of 'v_measure_score', NMI will use average_method='arithmetic' by default.\n",
      "  FutureWarning)\n",
      "C:\\Users\\admin\\anaconda3\\envs\\pythonProject10\\lib\\site-packages\\sklearn\\cluster\\k_means_.py:968: RuntimeWarning: Explicit initial center position passed: performing only one init in k-means instead of n_init=10\n",
      "  return_n_iter=True)\n",
      "C:\\Users\\admin\\anaconda3\\envs\\pythonProject10\\lib\\site-packages\\sklearn\\metrics\\cluster\\supervised.py:844: FutureWarning: The behavior of NMI will change in version 0.22. To match the behavior of 'v_measure_score', NMI will use average_method='arithmetic' by default.\n",
      "  FutureWarning)\n"
     ]
    },
    {
     "name": "stdout",
     "output_type": "stream",
     "text": [
      "step- 1060  cost: 6.104717e+17\n",
      "count- [11397  9616 20097 22950]\n",
      "[2 2 2 2 2 2 2 2 2 2 2 2 2 2 2 2 0 0 0 0 0 0 0 0 2 0 0 0 3 3 3 3 3 3 3 3 3\n",
      " 2 3 3 2 3 3 3 2 3 3 2 3 3 2 3 1 1 1 1 1 1 1 1]\n",
      "acc: 0.9\n",
      "nmi: 0.80087\n",
      "ari: 0.70699\n",
      "step- 1070  cost: 5.3206225e+18\n",
      "count- [11507  9696 20317 23140]\n",
      "[2 2 2 2 2 2 2 2 2 2 2 2 2 2 2 2 0 0 0 0 0 0 0 0 2 0 0 0 3 3 3 3 3 3 3 3 3\n",
      " 2 3 3 2 3 3 3 2 3 3 2 3 3 2 3 1 1 1 1 1 1 1 1]\n",
      "acc: 0.9\n",
      "nmi: 0.80087\n",
      "ari: 0.70699\n"
     ]
    },
    {
     "name": "stderr",
     "output_type": "stream",
     "text": [
      "C:\\Users\\admin\\anaconda3\\envs\\pythonProject10\\lib\\site-packages\\sklearn\\cluster\\k_means_.py:968: RuntimeWarning: Explicit initial center position passed: performing only one init in k-means instead of n_init=10\n",
      "  return_n_iter=True)\n",
      "C:\\Users\\admin\\anaconda3\\envs\\pythonProject10\\lib\\site-packages\\sklearn\\metrics\\cluster\\supervised.py:844: FutureWarning: The behavior of NMI will change in version 0.22. To match the behavior of 'v_measure_score', NMI will use average_method='arithmetic' by default.\n",
      "  FutureWarning)\n",
      "C:\\Users\\admin\\anaconda3\\envs\\pythonProject10\\lib\\site-packages\\sklearn\\cluster\\k_means_.py:968: RuntimeWarning: Explicit initial center position passed: performing only one init in k-means instead of n_init=10\n",
      "  return_n_iter=True)\n",
      "C:\\Users\\admin\\anaconda3\\envs\\pythonProject10\\lib\\site-packages\\sklearn\\metrics\\cluster\\supervised.py:844: FutureWarning: The behavior of NMI will change in version 0.22. To match the behavior of 'v_measure_score', NMI will use average_method='arithmetic' by default.\n",
      "  FutureWarning)\n"
     ]
    },
    {
     "name": "stdout",
     "output_type": "stream",
     "text": [
      "step- 1080  cost: 1.482782e+18\n",
      "count- [11617  9776 20537 23330]\n",
      "[2 2 2 2 2 2 2 2 2 2 2 2 2 2 2 2 0 0 0 0 0 0 0 0 2 0 0 0 3 3 3 3 3 3 3 3 3\n",
      " 2 3 3 2 3 3 3 2 3 3 2 3 3 2 3 1 1 1 1 1 1 1 1]\n",
      "acc: 0.9\n",
      "nmi: 0.80087\n",
      "ari: 0.70699\n",
      "step- 1090  cost: 3.2179166e+17\n",
      "count- [11727  9856 20757 23520]\n",
      "[2 2 2 2 2 2 2 2 2 2 2 2 2 2 2 2 0 0 0 0 0 0 0 0 2 0 0 0 3 3 3 3 3 3 3 3 3\n",
      " 2 3 3 2 3 3 3 2 3 3 2 3 3 2 3 1 1 1 1 1 1 1 1]\n",
      "acc: 0.9\n",
      "nmi: 0.80087\n",
      "ari: 0.70699\n"
     ]
    },
    {
     "name": "stderr",
     "output_type": "stream",
     "text": [
      "C:\\Users\\admin\\anaconda3\\envs\\pythonProject10\\lib\\site-packages\\sklearn\\cluster\\k_means_.py:968: RuntimeWarning: Explicit initial center position passed: performing only one init in k-means instead of n_init=10\n",
      "  return_n_iter=True)\n",
      "C:\\Users\\admin\\anaconda3\\envs\\pythonProject10\\lib\\site-packages\\sklearn\\metrics\\cluster\\supervised.py:844: FutureWarning: The behavior of NMI will change in version 0.22. To match the behavior of 'v_measure_score', NMI will use average_method='arithmetic' by default.\n",
      "  FutureWarning)\n",
      "C:\\Users\\admin\\anaconda3\\envs\\pythonProject10\\lib\\site-packages\\sklearn\\cluster\\k_means_.py:968: RuntimeWarning: Explicit initial center position passed: performing only one init in k-means instead of n_init=10\n",
      "  return_n_iter=True)\n",
      "C:\\Users\\admin\\anaconda3\\envs\\pythonProject10\\lib\\site-packages\\sklearn\\metrics\\cluster\\supervised.py:844: FutureWarning: The behavior of NMI will change in version 0.22. To match the behavior of 'v_measure_score', NMI will use average_method='arithmetic' by default.\n",
      "  FutureWarning)\n"
     ]
    },
    {
     "name": "stdout",
     "output_type": "stream",
     "text": [
      "step- 1100  cost: 1.9457318e+18\n",
      "count- [11837  9936 20977 23710]\n",
      "[2 2 2 2 2 2 2 2 2 2 2 2 2 2 2 2 0 0 0 0 0 0 0 0 2 0 0 0 3 3 3 3 3 3 3 3 3\n",
      " 2 3 3 2 3 3 3 2 3 3 2 3 3 2 3 1 1 1 1 1 1 1 1]\n",
      "acc: 0.9\n",
      "nmi: 0.80087\n",
      "ari: 0.70699\n",
      "step- 1110  cost: 2.5288422e+17\n",
      "count- [11947 10016 21197 23900]\n",
      "[2 2 2 2 2 2 2 2 2 2 2 2 2 2 2 2 0 0 0 0 0 0 0 0 2 0 0 0 3 3 3 3 3 3 3 3 3\n",
      " 2 3 3 2 3 3 3 2 3 3 2 3 3 2 3 1 1 1 1 1 1 1 1]\n",
      "acc: 0.9\n",
      "nmi: 0.80087\n",
      "ari: 0.70699\n"
     ]
    },
    {
     "name": "stderr",
     "output_type": "stream",
     "text": [
      "C:\\Users\\admin\\anaconda3\\envs\\pythonProject10\\lib\\site-packages\\sklearn\\cluster\\k_means_.py:968: RuntimeWarning: Explicit initial center position passed: performing only one init in k-means instead of n_init=10\n",
      "  return_n_iter=True)\n",
      "C:\\Users\\admin\\anaconda3\\envs\\pythonProject10\\lib\\site-packages\\sklearn\\metrics\\cluster\\supervised.py:844: FutureWarning: The behavior of NMI will change in version 0.22. To match the behavior of 'v_measure_score', NMI will use average_method='arithmetic' by default.\n",
      "  FutureWarning)\n",
      "C:\\Users\\admin\\anaconda3\\envs\\pythonProject10\\lib\\site-packages\\sklearn\\cluster\\k_means_.py:968: RuntimeWarning: Explicit initial center position passed: performing only one init in k-means instead of n_init=10\n",
      "  return_n_iter=True)\n",
      "C:\\Users\\admin\\anaconda3\\envs\\pythonProject10\\lib\\site-packages\\sklearn\\metrics\\cluster\\supervised.py:844: FutureWarning: The behavior of NMI will change in version 0.22. To match the behavior of 'v_measure_score', NMI will use average_method='arithmetic' by default.\n",
      "  FutureWarning)\n"
     ]
    },
    {
     "name": "stdout",
     "output_type": "stream",
     "text": [
      "step- 1120  cost: 3.322438e+17\n",
      "count- [12057 10096 21417 24090]\n",
      "[2 2 2 2 2 2 2 2 2 2 2 2 2 2 2 2 0 0 0 0 0 0 0 0 2 0 0 0 3 3 3 3 3 3 3 3 3\n",
      " 2 3 3 2 3 3 3 2 3 3 2 3 3 2 3 1 1 1 1 1 1 1 1]\n",
      "acc: 0.9\n",
      "nmi: 0.80087\n",
      "ari: 0.70699\n",
      "step- 1130  cost: 5.4911177e+17\n",
      "count- [12167 10176 21637 24280]\n",
      "[2 2 2 2 2 2 2 2 2 2 2 2 2 2 2 2 0 0 0 0 0 0 0 0 2 0 0 0 3 3 3 3 3 3 3 3 3\n",
      " 2 3 3 2 3 3 3 2 3 3 2 3 3 2 3 1 1 1 1 1 1 1 1]\n",
      "acc: 0.9\n",
      "nmi: 0.80087\n",
      "ari: 0.70699\n"
     ]
    },
    {
     "name": "stderr",
     "output_type": "stream",
     "text": [
      "C:\\Users\\admin\\anaconda3\\envs\\pythonProject10\\lib\\site-packages\\sklearn\\cluster\\k_means_.py:968: RuntimeWarning: Explicit initial center position passed: performing only one init in k-means instead of n_init=10\n",
      "  return_n_iter=True)\n",
      "C:\\Users\\admin\\anaconda3\\envs\\pythonProject10\\lib\\site-packages\\sklearn\\metrics\\cluster\\supervised.py:844: FutureWarning: The behavior of NMI will change in version 0.22. To match the behavior of 'v_measure_score', NMI will use average_method='arithmetic' by default.\n",
      "  FutureWarning)\n",
      "C:\\Users\\admin\\anaconda3\\envs\\pythonProject10\\lib\\site-packages\\sklearn\\cluster\\k_means_.py:968: RuntimeWarning: Explicit initial center position passed: performing only one init in k-means instead of n_init=10\n",
      "  return_n_iter=True)\n",
      "C:\\Users\\admin\\anaconda3\\envs\\pythonProject10\\lib\\site-packages\\sklearn\\metrics\\cluster\\supervised.py:844: FutureWarning: The behavior of NMI will change in version 0.22. To match the behavior of 'v_measure_score', NMI will use average_method='arithmetic' by default.\n",
      "  FutureWarning)\n"
     ]
    },
    {
     "name": "stdout",
     "output_type": "stream",
     "text": [
      "step- 1140  cost: 1.2397823e+17\n",
      "count- [12277 10256 21857 24470]\n",
      "[2 2 2 2 2 2 2 2 2 2 2 2 2 2 2 2 0 0 0 0 0 0 0 0 2 0 0 0 3 3 3 3 3 3 3 3 3\n",
      " 2 3 3 2 3 3 3 2 3 3 2 3 3 2 3 1 1 1 1 1 1 1 1]\n",
      "acc: 0.9\n",
      "nmi: 0.80087\n",
      "ari: 0.70699\n",
      "step- 1150  cost: 3.9206977e+18\n",
      "count- [12387 10336 22077 24660]\n",
      "[2 2 2 2 2 2 2 2 2 2 2 2 2 2 2 2 0 0 0 0 0 0 0 0 2 0 0 0 3 3 3 3 3 3 3 3 3\n",
      " 2 3 3 2 3 3 3 2 3 3 2 3 3 2 3 1 1 1 1 1 1 1 1]\n",
      "acc: 0.9\n",
      "nmi: 0.80087\n",
      "ari: 0.70699\n"
     ]
    },
    {
     "name": "stderr",
     "output_type": "stream",
     "text": [
      "C:\\Users\\admin\\anaconda3\\envs\\pythonProject10\\lib\\site-packages\\sklearn\\cluster\\k_means_.py:968: RuntimeWarning: Explicit initial center position passed: performing only one init in k-means instead of n_init=10\n",
      "  return_n_iter=True)\n",
      "C:\\Users\\admin\\anaconda3\\envs\\pythonProject10\\lib\\site-packages\\sklearn\\metrics\\cluster\\supervised.py:844: FutureWarning: The behavior of NMI will change in version 0.22. To match the behavior of 'v_measure_score', NMI will use average_method='arithmetic' by default.\n",
      "  FutureWarning)\n",
      "C:\\Users\\admin\\anaconda3\\envs\\pythonProject10\\lib\\site-packages\\sklearn\\cluster\\k_means_.py:968: RuntimeWarning: Explicit initial center position passed: performing only one init in k-means instead of n_init=10\n",
      "  return_n_iter=True)\n",
      "C:\\Users\\admin\\anaconda3\\envs\\pythonProject10\\lib\\site-packages\\sklearn\\metrics\\cluster\\supervised.py:844: FutureWarning: The behavior of NMI will change in version 0.22. To match the behavior of 'v_measure_score', NMI will use average_method='arithmetic' by default.\n",
      "  FutureWarning)\n"
     ]
    },
    {
     "name": "stdout",
     "output_type": "stream",
     "text": [
      "step- 1160  cost: 1.4262786e+18\n",
      "count- [12497 10416 22297 24850]\n",
      "[2 2 2 2 2 2 2 2 2 2 2 2 2 2 2 2 0 0 0 0 0 0 0 0 2 0 0 0 3 3 3 3 3 3 3 3 3\n",
      " 2 3 3 2 3 3 3 2 3 3 2 3 3 2 3 1 1 1 1 1 1 1 1]\n",
      "acc: 0.9\n",
      "nmi: 0.80087\n",
      "ari: 0.70699\n",
      "step- 1170  cost: 1.2183398e+18\n",
      "count- [12607 10496 22517 25040]\n",
      "[2 2 2 2 2 2 2 2 2 2 2 2 2 2 2 2 0 0 0 0 0 0 0 0 2 0 0 0 3 3 3 3 3 3 3 3 3\n",
      " 2 3 3 2 3 3 3 2 3 3 2 3 3 2 3 1 1 1 1 1 1 1 1]\n",
      "acc: 0.9\n",
      "nmi: 0.80087\n",
      "ari: 0.70699\n"
     ]
    },
    {
     "name": "stderr",
     "output_type": "stream",
     "text": [
      "C:\\Users\\admin\\anaconda3\\envs\\pythonProject10\\lib\\site-packages\\sklearn\\cluster\\k_means_.py:968: RuntimeWarning: Explicit initial center position passed: performing only one init in k-means instead of n_init=10\n",
      "  return_n_iter=True)\n",
      "C:\\Users\\admin\\anaconda3\\envs\\pythonProject10\\lib\\site-packages\\sklearn\\metrics\\cluster\\supervised.py:844: FutureWarning: The behavior of NMI will change in version 0.22. To match the behavior of 'v_measure_score', NMI will use average_method='arithmetic' by default.\n",
      "  FutureWarning)\n",
      "C:\\Users\\admin\\anaconda3\\envs\\pythonProject10\\lib\\site-packages\\sklearn\\cluster\\k_means_.py:968: RuntimeWarning: Explicit initial center position passed: performing only one init in k-means instead of n_init=10\n",
      "  return_n_iter=True)\n",
      "C:\\Users\\admin\\anaconda3\\envs\\pythonProject10\\lib\\site-packages\\sklearn\\metrics\\cluster\\supervised.py:844: FutureWarning: The behavior of NMI will change in version 0.22. To match the behavior of 'v_measure_score', NMI will use average_method='arithmetic' by default.\n",
      "  FutureWarning)\n"
     ]
    },
    {
     "name": "stdout",
     "output_type": "stream",
     "text": [
      "step- 1180  cost: 6.1564465e+18\n",
      "count- [12717 10576 22737 25230]\n",
      "[2 2 2 2 2 2 2 2 2 2 2 2 2 2 2 2 0 0 0 0 0 0 0 0 2 0 0 0 3 3 3 3 3 3 3 3 3\n",
      " 2 3 3 2 3 3 3 2 3 3 2 3 3 2 3 1 1 1 1 1 1 1 1]\n",
      "acc: 0.9\n",
      "nmi: 0.80087\n",
      "ari: 0.70699\n",
      "step- 1190  cost: 5.1473983e+18\n",
      "count- [12827 10656 22957 25420]\n",
      "[2 2 2 2 2 2 2 2 2 2 2 2 2 2 2 2 0 0 0 0 0 0 0 0 2 0 0 0 3 3 3 3 3 3 3 3 3\n",
      " 2 3 3 2 3 3 3 2 3 3 2 3 3 2 3 1 1 1 1 1 1 1 1]\n",
      "acc: 0.9\n",
      "nmi: 0.80087\n",
      "ari: 0.70699\n"
     ]
    },
    {
     "name": "stderr",
     "output_type": "stream",
     "text": [
      "C:\\Users\\admin\\anaconda3\\envs\\pythonProject10\\lib\\site-packages\\sklearn\\cluster\\k_means_.py:968: RuntimeWarning: Explicit initial center position passed: performing only one init in k-means instead of n_init=10\n",
      "  return_n_iter=True)\n",
      "C:\\Users\\admin\\anaconda3\\envs\\pythonProject10\\lib\\site-packages\\sklearn\\metrics\\cluster\\supervised.py:844: FutureWarning: The behavior of NMI will change in version 0.22. To match the behavior of 'v_measure_score', NMI will use average_method='arithmetic' by default.\n",
      "  FutureWarning)\n",
      "C:\\Users\\admin\\anaconda3\\envs\\pythonProject10\\lib\\site-packages\\sklearn\\cluster\\k_means_.py:968: RuntimeWarning: Explicit initial center position passed: performing only one init in k-means instead of n_init=10\n",
      "  return_n_iter=True)\n",
      "C:\\Users\\admin\\anaconda3\\envs\\pythonProject10\\lib\\site-packages\\sklearn\\metrics\\cluster\\supervised.py:844: FutureWarning: The behavior of NMI will change in version 0.22. To match the behavior of 'v_measure_score', NMI will use average_method='arithmetic' by default.\n",
      "  FutureWarning)\n"
     ]
    },
    {
     "name": "stdout",
     "output_type": "stream",
     "text": [
      "step- 1200  cost: 5.6334214e+17\n",
      "count- [12937 10736 23177 25610]\n",
      "[2 2 2 2 2 2 2 2 2 2 2 2 2 2 2 2 0 0 0 0 0 0 0 0 2 0 0 0 3 3 3 3 3 3 3 3 3\n",
      " 2 3 3 2 3 3 3 2 3 3 2 3 3 2 3 1 1 1 1 1 1 1 1]\n",
      "acc: 0.9\n",
      "nmi: 0.80087\n",
      "ari: 0.70699\n",
      "step- 1210  cost: 1.13015976e+18\n",
      "count- [13047 10816 23397 25800]\n",
      "[2 2 2 2 2 2 2 2 2 2 2 2 2 2 2 2 0 0 0 0 0 0 0 0 2 0 0 0 3 3 3 3 3 3 3 3 3\n",
      " 2 3 3 2 3 3 3 2 3 3 2 3 3 2 3 1 1 1 1 1 1 1 1]\n",
      "acc: 0.9\n",
      "nmi: 0.80087\n",
      "ari: 0.70699\n"
     ]
    },
    {
     "name": "stderr",
     "output_type": "stream",
     "text": [
      "C:\\Users\\admin\\anaconda3\\envs\\pythonProject10\\lib\\site-packages\\sklearn\\cluster\\k_means_.py:968: RuntimeWarning: Explicit initial center position passed: performing only one init in k-means instead of n_init=10\n",
      "  return_n_iter=True)\n",
      "C:\\Users\\admin\\anaconda3\\envs\\pythonProject10\\lib\\site-packages\\sklearn\\metrics\\cluster\\supervised.py:844: FutureWarning: The behavior of NMI will change in version 0.22. To match the behavior of 'v_measure_score', NMI will use average_method='arithmetic' by default.\n",
      "  FutureWarning)\n",
      "C:\\Users\\admin\\anaconda3\\envs\\pythonProject10\\lib\\site-packages\\sklearn\\cluster\\k_means_.py:968: RuntimeWarning: Explicit initial center position passed: performing only one init in k-means instead of n_init=10\n",
      "  return_n_iter=True)\n",
      "C:\\Users\\admin\\anaconda3\\envs\\pythonProject10\\lib\\site-packages\\sklearn\\metrics\\cluster\\supervised.py:844: FutureWarning: The behavior of NMI will change in version 0.22. To match the behavior of 'v_measure_score', NMI will use average_method='arithmetic' by default.\n",
      "  FutureWarning)\n"
     ]
    },
    {
     "name": "stdout",
     "output_type": "stream",
     "text": [
      "step- 1220  cost: 2.502247e+17\n",
      "count- [13157 10896 23617 25990]\n",
      "[2 2 2 2 2 2 2 2 2 2 2 2 2 2 2 2 0 0 0 0 0 0 0 0 2 0 0 0 3 3 3 3 3 3 3 3 3\n",
      " 2 3 3 2 3 3 3 2 3 3 2 3 3 2 3 1 1 1 1 1 1 1 1]\n",
      "acc: 0.9\n",
      "nmi: 0.80087\n",
      "ari: 0.70699\n",
      "step- 1230  cost: 9.036704e+18\n",
      "count- [13267 10976 23837 26180]\n",
      "[2 2 2 2 2 2 2 2 2 2 2 2 2 2 2 2 0 0 0 0 0 0 0 0 2 0 0 0 3 3 3 3 3 3 3 3 3\n",
      " 2 3 3 2 3 3 3 2 3 3 2 3 3 2 3 1 1 1 1 1 1 1 1]\n",
      "acc: 0.9\n",
      "nmi: 0.80087\n",
      "ari: 0.70699\n"
     ]
    },
    {
     "name": "stderr",
     "output_type": "stream",
     "text": [
      "C:\\Users\\admin\\anaconda3\\envs\\pythonProject10\\lib\\site-packages\\sklearn\\cluster\\k_means_.py:968: RuntimeWarning: Explicit initial center position passed: performing only one init in k-means instead of n_init=10\n",
      "  return_n_iter=True)\n",
      "C:\\Users\\admin\\anaconda3\\envs\\pythonProject10\\lib\\site-packages\\sklearn\\metrics\\cluster\\supervised.py:844: FutureWarning: The behavior of NMI will change in version 0.22. To match the behavior of 'v_measure_score', NMI will use average_method='arithmetic' by default.\n",
      "  FutureWarning)\n",
      "C:\\Users\\admin\\anaconda3\\envs\\pythonProject10\\lib\\site-packages\\sklearn\\cluster\\k_means_.py:968: RuntimeWarning: Explicit initial center position passed: performing only one init in k-means instead of n_init=10\n",
      "  return_n_iter=True)\n",
      "C:\\Users\\admin\\anaconda3\\envs\\pythonProject10\\lib\\site-packages\\sklearn\\metrics\\cluster\\supervised.py:844: FutureWarning: The behavior of NMI will change in version 0.22. To match the behavior of 'v_measure_score', NMI will use average_method='arithmetic' by default.\n",
      "  FutureWarning)\n"
     ]
    },
    {
     "name": "stdout",
     "output_type": "stream",
     "text": [
      "step- 1240  cost: 1.4488827e+18\n",
      "count- [13377 11056 24057 26370]\n",
      "[2 2 2 2 2 2 2 2 2 2 2 2 2 2 2 2 0 0 0 0 0 0 0 0 2 0 0 0 3 3 3 3 3 3 3 3 3\n",
      " 2 3 3 2 3 3 3 2 3 3 2 3 3 2 3 1 1 1 1 1 1 1 1]\n",
      "acc: 0.9\n",
      "nmi: 0.80087\n",
      "ari: 0.70699\n",
      "step- 1250  cost: 4.3988786e+18\n",
      "count- [13487 11136 24277 26560]\n",
      "[2 2 2 2 2 2 2 2 2 2 2 2 2 2 2 2 0 0 0 0 0 0 0 0 2 0 0 0 3 3 3 3 3 3 3 3 3\n",
      " 2 3 3 2 3 3 3 2 3 3 2 3 3 2 3 1 1 1 1 1 1 1 1]\n",
      "acc: 0.9\n",
      "nmi: 0.80087\n",
      "ari: 0.70699\n"
     ]
    },
    {
     "name": "stderr",
     "output_type": "stream",
     "text": [
      "C:\\Users\\admin\\anaconda3\\envs\\pythonProject10\\lib\\site-packages\\sklearn\\cluster\\k_means_.py:968: RuntimeWarning: Explicit initial center position passed: performing only one init in k-means instead of n_init=10\n",
      "  return_n_iter=True)\n",
      "C:\\Users\\admin\\anaconda3\\envs\\pythonProject10\\lib\\site-packages\\sklearn\\metrics\\cluster\\supervised.py:844: FutureWarning: The behavior of NMI will change in version 0.22. To match the behavior of 'v_measure_score', NMI will use average_method='arithmetic' by default.\n",
      "  FutureWarning)\n",
      "C:\\Users\\admin\\anaconda3\\envs\\pythonProject10\\lib\\site-packages\\sklearn\\cluster\\k_means_.py:968: RuntimeWarning: Explicit initial center position passed: performing only one init in k-means instead of n_init=10\n",
      "  return_n_iter=True)\n",
      "C:\\Users\\admin\\anaconda3\\envs\\pythonProject10\\lib\\site-packages\\sklearn\\metrics\\cluster\\supervised.py:844: FutureWarning: The behavior of NMI will change in version 0.22. To match the behavior of 'v_measure_score', NMI will use average_method='arithmetic' by default.\n",
      "  FutureWarning)\n"
     ]
    },
    {
     "name": "stdout",
     "output_type": "stream",
     "text": [
      "step- 1260  cost: 1.185008e+18\n",
      "count- [13597 11216 24497 26750]\n",
      "[2 2 2 2 2 2 2 2 2 2 2 2 2 2 2 2 0 0 0 0 0 0 0 0 2 0 0 0 3 3 3 3 3 3 3 3 3\n",
      " 2 3 3 2 3 3 3 2 3 3 2 3 3 2 3 1 1 1 1 1 1 1 1]\n",
      "acc: 0.9\n",
      "nmi: 0.80087\n",
      "ari: 0.70699\n",
      "step- 1270  cost: 8.075702e+18\n",
      "count- [13707 11296 24717 26940]\n",
      "[2 2 2 2 2 2 2 2 2 2 2 2 2 2 2 2 0 0 0 0 0 0 0 0 2 0 0 0 3 3 3 3 3 3 3 3 3\n",
      " 2 3 3 2 3 3 3 2 3 3 2 3 3 2 3 1 1 1 1 1 1 1 1]\n",
      "acc: 0.9\n",
      "nmi: 0.80087\n",
      "ari: 0.70699\n"
     ]
    },
    {
     "name": "stderr",
     "output_type": "stream",
     "text": [
      "C:\\Users\\admin\\anaconda3\\envs\\pythonProject10\\lib\\site-packages\\sklearn\\cluster\\k_means_.py:968: RuntimeWarning: Explicit initial center position passed: performing only one init in k-means instead of n_init=10\n",
      "  return_n_iter=True)\n",
      "C:\\Users\\admin\\anaconda3\\envs\\pythonProject10\\lib\\site-packages\\sklearn\\metrics\\cluster\\supervised.py:844: FutureWarning: The behavior of NMI will change in version 0.22. To match the behavior of 'v_measure_score', NMI will use average_method='arithmetic' by default.\n",
      "  FutureWarning)\n",
      "C:\\Users\\admin\\anaconda3\\envs\\pythonProject10\\lib\\site-packages\\sklearn\\cluster\\k_means_.py:968: RuntimeWarning: Explicit initial center position passed: performing only one init in k-means instead of n_init=10\n",
      "  return_n_iter=True)\n",
      "C:\\Users\\admin\\anaconda3\\envs\\pythonProject10\\lib\\site-packages\\sklearn\\metrics\\cluster\\supervised.py:844: FutureWarning: The behavior of NMI will change in version 0.22. To match the behavior of 'v_measure_score', NMI will use average_method='arithmetic' by default.\n",
      "  FutureWarning)\n"
     ]
    },
    {
     "name": "stdout",
     "output_type": "stream",
     "text": [
      "step- 1280  cost: 1.774779e+19\n",
      "count- [13817 11376 24937 27130]\n",
      "[2 2 2 2 2 2 2 2 2 2 2 2 2 2 2 2 0 0 0 0 0 0 0 0 2 0 0 0 3 3 3 3 3 3 3 3 3\n",
      " 2 3 3 2 3 3 3 2 3 3 2 3 3 2 3 1 1 1 1 1 1 1 1]\n",
      "acc: 0.9\n",
      "nmi: 0.80087\n",
      "ari: 0.70699\n",
      "step- 1290  cost: 1.5887253e+19\n",
      "count- [13927 11456 25157 27320]\n",
      "[2 2 2 2 2 2 2 2 2 2 2 2 2 2 2 2 0 0 0 0 0 0 0 0 2 0 0 0 3 3 3 3 3 3 3 3 3\n",
      " 2 3 3 2 3 3 3 2 3 3 2 3 3 2 3 1 1 1 1 1 1 1 1]\n",
      "acc: 0.9\n",
      "nmi: 0.80087\n",
      "ari: 0.70699\n"
     ]
    },
    {
     "name": "stderr",
     "output_type": "stream",
     "text": [
      "C:\\Users\\admin\\anaconda3\\envs\\pythonProject10\\lib\\site-packages\\sklearn\\cluster\\k_means_.py:968: RuntimeWarning: Explicit initial center position passed: performing only one init in k-means instead of n_init=10\n",
      "  return_n_iter=True)\n",
      "C:\\Users\\admin\\anaconda3\\envs\\pythonProject10\\lib\\site-packages\\sklearn\\metrics\\cluster\\supervised.py:844: FutureWarning: The behavior of NMI will change in version 0.22. To match the behavior of 'v_measure_score', NMI will use average_method='arithmetic' by default.\n",
      "  FutureWarning)\n",
      "C:\\Users\\admin\\anaconda3\\envs\\pythonProject10\\lib\\site-packages\\sklearn\\cluster\\k_means_.py:968: RuntimeWarning: Explicit initial center position passed: performing only one init in k-means instead of n_init=10\n",
      "  return_n_iter=True)\n",
      "C:\\Users\\admin\\anaconda3\\envs\\pythonProject10\\lib\\site-packages\\sklearn\\metrics\\cluster\\supervised.py:844: FutureWarning: The behavior of NMI will change in version 0.22. To match the behavior of 'v_measure_score', NMI will use average_method='arithmetic' by default.\n",
      "  FutureWarning)\n"
     ]
    },
    {
     "name": "stdout",
     "output_type": "stream",
     "text": [
      "step- 1300  cost: 4.7290913e+18\n",
      "count- [14037 11536 25377 27510]\n",
      "[2 2 2 2 2 2 2 2 2 2 2 2 2 2 2 2 0 0 0 0 0 0 0 0 2 0 0 0 3 3 3 3 3 3 3 3 3\n",
      " 2 3 3 2 3 3 3 2 3 3 2 3 3 2 3 1 1 1 1 1 1 1 1]\n",
      "acc: 0.9\n",
      "nmi: 0.80087\n",
      "ari: 0.70699\n",
      "step- 1310  cost: 2.0627979e+18\n",
      "count- [14147 11616 25597 27700]\n",
      "[2 2 2 2 2 2 2 2 2 2 2 2 2 2 2 2 0 0 0 0 0 0 0 0 2 0 0 0 3 3 3 3 3 3 3 3 3\n",
      " 2 3 3 2 3 3 3 2 3 3 2 3 3 2 3 1 1 1 1 1 1 1 1]\n",
      "acc: 0.9\n",
      "nmi: 0.80087\n",
      "ari: 0.70699\n"
     ]
    },
    {
     "name": "stderr",
     "output_type": "stream",
     "text": [
      "C:\\Users\\admin\\anaconda3\\envs\\pythonProject10\\lib\\site-packages\\sklearn\\cluster\\k_means_.py:968: RuntimeWarning: Explicit initial center position passed: performing only one init in k-means instead of n_init=10\n",
      "  return_n_iter=True)\n",
      "C:\\Users\\admin\\anaconda3\\envs\\pythonProject10\\lib\\site-packages\\sklearn\\metrics\\cluster\\supervised.py:844: FutureWarning: The behavior of NMI will change in version 0.22. To match the behavior of 'v_measure_score', NMI will use average_method='arithmetic' by default.\n",
      "  FutureWarning)\n",
      "C:\\Users\\admin\\anaconda3\\envs\\pythonProject10\\lib\\site-packages\\sklearn\\cluster\\k_means_.py:968: RuntimeWarning: Explicit initial center position passed: performing only one init in k-means instead of n_init=10\n",
      "  return_n_iter=True)\n",
      "C:\\Users\\admin\\anaconda3\\envs\\pythonProject10\\lib\\site-packages\\sklearn\\metrics\\cluster\\supervised.py:844: FutureWarning: The behavior of NMI will change in version 0.22. To match the behavior of 'v_measure_score', NMI will use average_method='arithmetic' by default.\n",
      "  FutureWarning)\n"
     ]
    },
    {
     "name": "stdout",
     "output_type": "stream",
     "text": [
      "step- 1320  cost: 1.2456205e+18\n",
      "count- [14257 11696 25817 27890]\n",
      "[2 2 2 2 2 2 2 2 2 2 2 2 2 2 2 2 0 0 0 0 0 0 0 0 2 0 0 0 3 3 3 3 3 3 3 3 3\n",
      " 2 3 3 2 3 3 3 2 3 3 2 3 3 2 3 1 1 1 1 1 1 1 1]\n",
      "acc: 0.9\n",
      "nmi: 0.80087\n",
      "ari: 0.70699\n",
      "step- 1330  cost: 8.735774e+17\n",
      "count- [14367 11776 26037 28080]\n",
      "[2 2 2 2 2 2 2 2 2 2 2 2 2 2 2 2 0 0 0 0 0 0 0 0 2 0 0 0 3 3 3 3 3 3 3 3 3\n",
      " 2 3 3 2 3 3 3 2 3 3 2 3 3 2 3 1 1 1 1 1 1 1 1]\n",
      "acc: 0.9\n",
      "nmi: 0.80087\n",
      "ari: 0.70699\n"
     ]
    },
    {
     "name": "stderr",
     "output_type": "stream",
     "text": [
      "C:\\Users\\admin\\anaconda3\\envs\\pythonProject10\\lib\\site-packages\\sklearn\\cluster\\k_means_.py:968: RuntimeWarning: Explicit initial center position passed: performing only one init in k-means instead of n_init=10\n",
      "  return_n_iter=True)\n",
      "C:\\Users\\admin\\anaconda3\\envs\\pythonProject10\\lib\\site-packages\\sklearn\\metrics\\cluster\\supervised.py:844: FutureWarning: The behavior of NMI will change in version 0.22. To match the behavior of 'v_measure_score', NMI will use average_method='arithmetic' by default.\n",
      "  FutureWarning)\n",
      "C:\\Users\\admin\\anaconda3\\envs\\pythonProject10\\lib\\site-packages\\sklearn\\cluster\\k_means_.py:968: RuntimeWarning: Explicit initial center position passed: performing only one init in k-means instead of n_init=10\n",
      "  return_n_iter=True)\n",
      "C:\\Users\\admin\\anaconda3\\envs\\pythonProject10\\lib\\site-packages\\sklearn\\metrics\\cluster\\supervised.py:844: FutureWarning: The behavior of NMI will change in version 0.22. To match the behavior of 'v_measure_score', NMI will use average_method='arithmetic' by default.\n",
      "  FutureWarning)\n"
     ]
    },
    {
     "name": "stdout",
     "output_type": "stream",
     "text": [
      "step- 1340  cost: 4.175143e+18\n",
      "count- [14477 11856 26257 28270]\n",
      "[2 2 2 2 2 2 2 2 2 2 2 2 2 2 2 2 0 0 0 0 0 0 0 0 2 0 0 0 3 3 3 3 3 3 3 3 3\n",
      " 2 3 3 2 3 3 3 2 3 3 2 3 3 2 3 1 1 1 1 1 1 1 1]\n",
      "acc: 0.9\n",
      "nmi: 0.80087\n",
      "ari: 0.70699\n",
      "step- 1350  cost: 6.345967e+18\n",
      "count- [14587 11936 26477 28460]\n",
      "[2 2 2 2 2 2 2 2 2 2 2 2 2 2 2 2 0 0 0 0 0 0 0 0 2 0 0 0 3 3 3 3 3 3 3 3 3\n",
      " 2 3 3 2 3 3 3 2 3 3 2 3 3 2 3 1 1 1 1 1 1 1 1]\n",
      "acc: 0.9\n",
      "nmi: 0.80087\n",
      "ari: 0.70699\n"
     ]
    },
    {
     "name": "stderr",
     "output_type": "stream",
     "text": [
      "C:\\Users\\admin\\anaconda3\\envs\\pythonProject10\\lib\\site-packages\\sklearn\\cluster\\k_means_.py:968: RuntimeWarning: Explicit initial center position passed: performing only one init in k-means instead of n_init=10\n",
      "  return_n_iter=True)\n",
      "C:\\Users\\admin\\anaconda3\\envs\\pythonProject10\\lib\\site-packages\\sklearn\\metrics\\cluster\\supervised.py:844: FutureWarning: The behavior of NMI will change in version 0.22. To match the behavior of 'v_measure_score', NMI will use average_method='arithmetic' by default.\n",
      "  FutureWarning)\n",
      "C:\\Users\\admin\\anaconda3\\envs\\pythonProject10\\lib\\site-packages\\sklearn\\cluster\\k_means_.py:968: RuntimeWarning: Explicit initial center position passed: performing only one init in k-means instead of n_init=10\n",
      "  return_n_iter=True)\n",
      "C:\\Users\\admin\\anaconda3\\envs\\pythonProject10\\lib\\site-packages\\sklearn\\metrics\\cluster\\supervised.py:844: FutureWarning: The behavior of NMI will change in version 0.22. To match the behavior of 'v_measure_score', NMI will use average_method='arithmetic' by default.\n",
      "  FutureWarning)\n"
     ]
    },
    {
     "name": "stdout",
     "output_type": "stream",
     "text": [
      "step- 1360  cost: 7.5185507e+18\n",
      "count- [14697 12016 26697 28650]\n",
      "[2 2 2 2 2 2 2 2 2 2 2 2 2 2 2 2 0 0 0 0 0 0 0 0 2 0 0 0 3 3 3 3 3 3 3 3 3\n",
      " 2 3 3 2 3 3 3 2 3 3 2 3 3 2 3 1 1 1 1 1 1 1 1]\n",
      "acc: 0.9\n",
      "nmi: 0.80087\n",
      "ari: 0.70699\n",
      "step- 1370  cost: 2.9171066e+18\n",
      "count- [14807 12096 26917 28840]\n",
      "[2 2 2 2 2 2 2 2 2 2 2 2 2 2 2 2 0 0 0 0 0 0 0 0 2 0 0 0 3 3 3 3 3 3 3 3 3\n",
      " 2 3 3 2 3 3 3 2 3 3 2 3 3 2 3 1 1 1 1 1 1 1 1]\n",
      "acc: 0.9\n",
      "nmi: 0.80087\n",
      "ari: 0.70699\n"
     ]
    },
    {
     "name": "stderr",
     "output_type": "stream",
     "text": [
      "C:\\Users\\admin\\anaconda3\\envs\\pythonProject10\\lib\\site-packages\\sklearn\\cluster\\k_means_.py:968: RuntimeWarning: Explicit initial center position passed: performing only one init in k-means instead of n_init=10\n",
      "  return_n_iter=True)\n",
      "C:\\Users\\admin\\anaconda3\\envs\\pythonProject10\\lib\\site-packages\\sklearn\\metrics\\cluster\\supervised.py:844: FutureWarning: The behavior of NMI will change in version 0.22. To match the behavior of 'v_measure_score', NMI will use average_method='arithmetic' by default.\n",
      "  FutureWarning)\n",
      "C:\\Users\\admin\\anaconda3\\envs\\pythonProject10\\lib\\site-packages\\sklearn\\cluster\\k_means_.py:968: RuntimeWarning: Explicit initial center position passed: performing only one init in k-means instead of n_init=10\n",
      "  return_n_iter=True)\n",
      "C:\\Users\\admin\\anaconda3\\envs\\pythonProject10\\lib\\site-packages\\sklearn\\metrics\\cluster\\supervised.py:844: FutureWarning: The behavior of NMI will change in version 0.22. To match the behavior of 'v_measure_score', NMI will use average_method='arithmetic' by default.\n",
      "  FutureWarning)\n"
     ]
    },
    {
     "name": "stdout",
     "output_type": "stream",
     "text": [
      "step- 1380  cost: 8.594411e+18\n",
      "count- [14917 12176 27137 29030]\n",
      "[2 2 2 2 2 2 2 2 2 2 2 2 2 2 2 2 0 0 0 0 0 0 0 0 2 0 0 0 3 3 3 3 3 3 3 3 3\n",
      " 2 3 3 2 3 3 3 2 3 3 2 3 3 2 3 1 1 1 1 1 1 1 1]\n",
      "acc: 0.9\n",
      "nmi: 0.80087\n",
      "ari: 0.70699\n",
      "step- 1390  cost: 1.7510337e+19\n",
      "count- [15027 12256 27357 29220]\n",
      "[2 2 2 2 2 2 2 2 2 2 2 2 2 2 2 2 0 0 0 0 0 0 0 0 2 0 0 0 3 3 3 3 3 3 3 3 3\n",
      " 2 3 3 2 3 3 3 2 3 3 2 3 3 2 3 1 1 1 1 1 1 1 1]\n",
      "acc: 0.9\n",
      "nmi: 0.80087\n",
      "ari: 0.70699\n"
     ]
    },
    {
     "name": "stderr",
     "output_type": "stream",
     "text": [
      "C:\\Users\\admin\\anaconda3\\envs\\pythonProject10\\lib\\site-packages\\sklearn\\cluster\\k_means_.py:968: RuntimeWarning: Explicit initial center position passed: performing only one init in k-means instead of n_init=10\n",
      "  return_n_iter=True)\n",
      "C:\\Users\\admin\\anaconda3\\envs\\pythonProject10\\lib\\site-packages\\sklearn\\metrics\\cluster\\supervised.py:844: FutureWarning: The behavior of NMI will change in version 0.22. To match the behavior of 'v_measure_score', NMI will use average_method='arithmetic' by default.\n",
      "  FutureWarning)\n",
      "C:\\Users\\admin\\anaconda3\\envs\\pythonProject10\\lib\\site-packages\\sklearn\\cluster\\k_means_.py:968: RuntimeWarning: Explicit initial center position passed: performing only one init in k-means instead of n_init=10\n",
      "  return_n_iter=True)\n",
      "C:\\Users\\admin\\anaconda3\\envs\\pythonProject10\\lib\\site-packages\\sklearn\\metrics\\cluster\\supervised.py:844: FutureWarning: The behavior of NMI will change in version 0.22. To match the behavior of 'v_measure_score', NMI will use average_method='arithmetic' by default.\n",
      "  FutureWarning)\n"
     ]
    },
    {
     "name": "stdout",
     "output_type": "stream",
     "text": [
      "step- 1400  cost: 5.5501824e+18\n",
      "count- [15137 12336 27577 29410]\n",
      "[2 2 2 2 2 2 2 2 2 2 2 2 2 2 2 2 0 0 0 0 0 0 0 0 2 0 0 0 3 3 3 3 3 3 3 3 3\n",
      " 2 3 3 2 3 3 3 2 3 3 2 3 3 2 3 1 1 1 1 1 1 1 1]\n",
      "acc: 0.9\n",
      "nmi: 0.80087\n",
      "ari: 0.70699\n",
      "step- 1410  cost: 8.862534e+18\n",
      "count- [15247 12416 27797 29600]\n",
      "[2 2 2 2 2 2 2 2 2 2 2 2 2 2 2 2 0 0 0 0 0 0 0 0 2 0 0 0 3 3 3 3 3 3 3 3 3\n",
      " 2 3 3 2 3 3 3 2 3 3 2 3 3 2 3 1 1 1 1 1 1 1 1]\n",
      "acc: 0.9\n",
      "nmi: 0.80087\n",
      "ari: 0.70699\n"
     ]
    },
    {
     "name": "stderr",
     "output_type": "stream",
     "text": [
      "C:\\Users\\admin\\anaconda3\\envs\\pythonProject10\\lib\\site-packages\\sklearn\\cluster\\k_means_.py:968: RuntimeWarning: Explicit initial center position passed: performing only one init in k-means instead of n_init=10\n",
      "  return_n_iter=True)\n",
      "C:\\Users\\admin\\anaconda3\\envs\\pythonProject10\\lib\\site-packages\\sklearn\\metrics\\cluster\\supervised.py:844: FutureWarning: The behavior of NMI will change in version 0.22. To match the behavior of 'v_measure_score', NMI will use average_method='arithmetic' by default.\n",
      "  FutureWarning)\n",
      "C:\\Users\\admin\\anaconda3\\envs\\pythonProject10\\lib\\site-packages\\sklearn\\cluster\\k_means_.py:968: RuntimeWarning: Explicit initial center position passed: performing only one init in k-means instead of n_init=10\n",
      "  return_n_iter=True)\n",
      "C:\\Users\\admin\\anaconda3\\envs\\pythonProject10\\lib\\site-packages\\sklearn\\metrics\\cluster\\supervised.py:844: FutureWarning: The behavior of NMI will change in version 0.22. To match the behavior of 'v_measure_score', NMI will use average_method='arithmetic' by default.\n",
      "  FutureWarning)\n"
     ]
    },
    {
     "name": "stdout",
     "output_type": "stream",
     "text": [
      "step- 1420  cost: 3.7564265e+18\n",
      "count- [15357 12496 28017 29790]\n",
      "[2 2 2 2 2 2 2 2 2 2 2 2 2 2 2 2 0 0 0 0 0 0 0 0 2 0 0 0 3 3 3 3 3 3 3 3 3\n",
      " 2 3 3 2 3 3 3 2 3 3 2 3 3 2 3 1 1 1 1 1 1 1 1]\n",
      "acc: 0.9\n",
      "nmi: 0.80087\n",
      "ari: 0.70699\n",
      "step- 1430  cost: 3.7316923e+19\n",
      "count- [15467 12576 28237 29980]\n",
      "[2 2 2 2 2 2 2 2 2 2 2 2 2 2 2 2 0 0 0 0 0 0 0 0 2 0 0 0 3 3 3 3 3 3 3 3 3\n",
      " 2 3 3 2 3 3 3 2 3 3 2 3 3 2 3 1 1 1 1 1 1 1 1]\n",
      "acc: 0.9\n",
      "nmi: 0.80087\n",
      "ari: 0.70699\n"
     ]
    },
    {
     "name": "stderr",
     "output_type": "stream",
     "text": [
      "C:\\Users\\admin\\anaconda3\\envs\\pythonProject10\\lib\\site-packages\\sklearn\\cluster\\k_means_.py:968: RuntimeWarning: Explicit initial center position passed: performing only one init in k-means instead of n_init=10\n",
      "  return_n_iter=True)\n",
      "C:\\Users\\admin\\anaconda3\\envs\\pythonProject10\\lib\\site-packages\\sklearn\\metrics\\cluster\\supervised.py:844: FutureWarning: The behavior of NMI will change in version 0.22. To match the behavior of 'v_measure_score', NMI will use average_method='arithmetic' by default.\n",
      "  FutureWarning)\n",
      "C:\\Users\\admin\\anaconda3\\envs\\pythonProject10\\lib\\site-packages\\sklearn\\cluster\\k_means_.py:968: RuntimeWarning: Explicit initial center position passed: performing only one init in k-means instead of n_init=10\n",
      "  return_n_iter=True)\n",
      "C:\\Users\\admin\\anaconda3\\envs\\pythonProject10\\lib\\site-packages\\sklearn\\metrics\\cluster\\supervised.py:844: FutureWarning: The behavior of NMI will change in version 0.22. To match the behavior of 'v_measure_score', NMI will use average_method='arithmetic' by default.\n",
      "  FutureWarning)\n"
     ]
    },
    {
     "name": "stdout",
     "output_type": "stream",
     "text": [
      "step- 1440  cost: 1.2205456e+19\n",
      "count- [15577 12656 28457 30170]\n",
      "[2 2 2 2 2 2 2 2 2 2 2 2 2 2 2 2 0 0 0 0 0 0 0 0 2 0 0 0 3 3 3 3 3 3 3 3 3\n",
      " 2 3 3 2 3 3 3 2 3 3 2 3 3 2 3 1 1 1 1 1 1 1 1]\n",
      "acc: 0.9\n",
      "nmi: 0.80087\n",
      "ari: 0.70699\n",
      "step- 1450  cost: 1.872072e+19\n",
      "count- [15687 12736 28677 30360]\n",
      "[2 2 2 2 2 2 2 2 2 2 2 2 2 2 2 2 0 0 0 0 0 0 0 0 2 0 0 0 3 3 3 3 3 3 3 3 3\n",
      " 2 3 3 2 3 3 3 2 3 3 2 3 3 2 3 1 1 1 1 1 1 1 1]\n",
      "acc: 0.9\n",
      "nmi: 0.80087\n",
      "ari: 0.70699\n"
     ]
    },
    {
     "name": "stderr",
     "output_type": "stream",
     "text": [
      "C:\\Users\\admin\\anaconda3\\envs\\pythonProject10\\lib\\site-packages\\sklearn\\cluster\\k_means_.py:968: RuntimeWarning: Explicit initial center position passed: performing only one init in k-means instead of n_init=10\n",
      "  return_n_iter=True)\n",
      "C:\\Users\\admin\\anaconda3\\envs\\pythonProject10\\lib\\site-packages\\sklearn\\metrics\\cluster\\supervised.py:844: FutureWarning: The behavior of NMI will change in version 0.22. To match the behavior of 'v_measure_score', NMI will use average_method='arithmetic' by default.\n",
      "  FutureWarning)\n",
      "C:\\Users\\admin\\anaconda3\\envs\\pythonProject10\\lib\\site-packages\\sklearn\\cluster\\k_means_.py:968: RuntimeWarning: Explicit initial center position passed: performing only one init in k-means instead of n_init=10\n",
      "  return_n_iter=True)\n",
      "C:\\Users\\admin\\anaconda3\\envs\\pythonProject10\\lib\\site-packages\\sklearn\\metrics\\cluster\\supervised.py:844: FutureWarning: The behavior of NMI will change in version 0.22. To match the behavior of 'v_measure_score', NMI will use average_method='arithmetic' by default.\n",
      "  FutureWarning)\n"
     ]
    },
    {
     "name": "stdout",
     "output_type": "stream",
     "text": [
      "step- 1460  cost: 2.976302e+18\n",
      "count- [15797 12816 28897 30550]\n",
      "[2 2 2 2 2 2 2 2 2 2 2 2 2 2 2 2 0 0 0 0 0 0 0 0 2 0 0 0 3 3 3 3 3 3 3 3 3\n",
      " 2 3 3 2 3 3 3 2 3 3 2 3 3 2 3 1 1 1 1 1 1 1 1]\n",
      "acc: 0.9\n",
      "nmi: 0.80087\n",
      "ari: 0.70699\n",
      "step- 1470  cost: 1.7512115e+19\n",
      "count- [15907 12896 29117 30740]\n",
      "[2 2 2 2 2 2 2 2 2 2 2 2 2 2 2 2 0 0 0 0 0 0 0 0 2 0 0 0 3 3 3 3 3 3 3 3 3\n",
      " 2 3 3 2 3 3 3 2 3 3 2 3 3 2 3 1 1 1 1 1 1 1 1]\n",
      "acc: 0.9\n",
      "nmi: 0.80087\n",
      "ari: 0.70699\n"
     ]
    },
    {
     "name": "stderr",
     "output_type": "stream",
     "text": [
      "C:\\Users\\admin\\anaconda3\\envs\\pythonProject10\\lib\\site-packages\\sklearn\\cluster\\k_means_.py:968: RuntimeWarning: Explicit initial center position passed: performing only one init in k-means instead of n_init=10\n",
      "  return_n_iter=True)\n",
      "C:\\Users\\admin\\anaconda3\\envs\\pythonProject10\\lib\\site-packages\\sklearn\\metrics\\cluster\\supervised.py:844: FutureWarning: The behavior of NMI will change in version 0.22. To match the behavior of 'v_measure_score', NMI will use average_method='arithmetic' by default.\n",
      "  FutureWarning)\n",
      "C:\\Users\\admin\\anaconda3\\envs\\pythonProject10\\lib\\site-packages\\sklearn\\cluster\\k_means_.py:968: RuntimeWarning: Explicit initial center position passed: performing only one init in k-means instead of n_init=10\n",
      "  return_n_iter=True)\n",
      "C:\\Users\\admin\\anaconda3\\envs\\pythonProject10\\lib\\site-packages\\sklearn\\metrics\\cluster\\supervised.py:844: FutureWarning: The behavior of NMI will change in version 0.22. To match the behavior of 'v_measure_score', NMI will use average_method='arithmetic' by default.\n",
      "  FutureWarning)\n"
     ]
    },
    {
     "name": "stdout",
     "output_type": "stream",
     "text": [
      "step- 1480  cost: 1.5476388e+19\n",
      "count- [16017 12976 29337 30930]\n",
      "[2 2 2 2 2 2 2 2 2 2 2 2 2 2 2 2 0 0 0 0 0 0 0 0 2 0 0 0 3 3 3 3 3 3 3 3 3\n",
      " 2 3 3 2 3 3 3 2 3 3 2 3 3 2 3 1 1 1 1 1 1 1 1]\n",
      "acc: 0.9\n",
      "nmi: 0.80087\n",
      "ari: 0.70699\n",
      "step- 1490  cost: 2.278471e+19\n",
      "count- [16127 13056 29557 31120]\n",
      "[2 2 2 2 2 2 2 2 2 2 2 2 2 2 2 2 0 0 0 0 0 0 0 0 2 0 0 0 3 3 3 3 3 3 3 3 3\n",
      " 2 3 3 2 3 3 3 2 3 3 2 3 3 2 3 1 1 1 1 1 1 1 1]\n",
      "acc: 0.9\n",
      "nmi: 0.80087\n",
      "ari: 0.70699\n"
     ]
    },
    {
     "name": "stderr",
     "output_type": "stream",
     "text": [
      "C:\\Users\\admin\\anaconda3\\envs\\pythonProject10\\lib\\site-packages\\sklearn\\cluster\\k_means_.py:968: RuntimeWarning: Explicit initial center position passed: performing only one init in k-means instead of n_init=10\n",
      "  return_n_iter=True)\n",
      "C:\\Users\\admin\\anaconda3\\envs\\pythonProject10\\lib\\site-packages\\sklearn\\metrics\\cluster\\supervised.py:844: FutureWarning: The behavior of NMI will change in version 0.22. To match the behavior of 'v_measure_score', NMI will use average_method='arithmetic' by default.\n",
      "  FutureWarning)\n",
      "C:\\Users\\admin\\anaconda3\\envs\\pythonProject10\\lib\\site-packages\\sklearn\\cluster\\k_means_.py:968: RuntimeWarning: Explicit initial center position passed: performing only one init in k-means instead of n_init=10\n",
      "  return_n_iter=True)\n",
      "C:\\Users\\admin\\anaconda3\\envs\\pythonProject10\\lib\\site-packages\\sklearn\\metrics\\cluster\\supervised.py:844: FutureWarning: The behavior of NMI will change in version 0.22. To match the behavior of 'v_measure_score', NMI will use average_method='arithmetic' by default.\n",
      "  FutureWarning)\n"
     ]
    },
    {
     "name": "stdout",
     "output_type": "stream",
     "text": [
      "step- 1500  cost: 5.1220573e+18\n",
      "count- [16237 13136 29777 31310]\n",
      "[2 2 2 2 2 2 2 2 2 2 2 2 2 2 2 2 0 0 0 0 0 0 0 0 2 0 0 0 3 3 3 3 3 3 3 3 3\n",
      " 2 3 3 2 3 3 3 2 3 3 2 3 3 2 3 1 1 1 1 1 1 1 1]\n",
      "acc: 0.9\n",
      "nmi: 0.80087\n",
      "ari: 0.70699\n",
      "step- 1510  cost: 8.121556e+18\n",
      "count- [16347 13216 29997 31500]\n",
      "[2 2 2 2 2 2 2 2 2 2 2 2 2 2 2 2 0 0 0 0 0 0 0 0 2 0 0 0 3 3 3 3 3 3 3 3 3\n",
      " 2 3 3 2 3 3 3 2 3 3 2 3 3 2 3 1 1 1 1 1 1 1 1]\n",
      "acc: 0.9\n",
      "nmi: 0.80087\n",
      "ari: 0.70699\n"
     ]
    },
    {
     "name": "stderr",
     "output_type": "stream",
     "text": [
      "C:\\Users\\admin\\anaconda3\\envs\\pythonProject10\\lib\\site-packages\\sklearn\\cluster\\k_means_.py:968: RuntimeWarning: Explicit initial center position passed: performing only one init in k-means instead of n_init=10\n",
      "  return_n_iter=True)\n",
      "C:\\Users\\admin\\anaconda3\\envs\\pythonProject10\\lib\\site-packages\\sklearn\\metrics\\cluster\\supervised.py:844: FutureWarning: The behavior of NMI will change in version 0.22. To match the behavior of 'v_measure_score', NMI will use average_method='arithmetic' by default.\n",
      "  FutureWarning)\n",
      "C:\\Users\\admin\\anaconda3\\envs\\pythonProject10\\lib\\site-packages\\sklearn\\cluster\\k_means_.py:968: RuntimeWarning: Explicit initial center position passed: performing only one init in k-means instead of n_init=10\n",
      "  return_n_iter=True)\n",
      "C:\\Users\\admin\\anaconda3\\envs\\pythonProject10\\lib\\site-packages\\sklearn\\metrics\\cluster\\supervised.py:844: FutureWarning: The behavior of NMI will change in version 0.22. To match the behavior of 'v_measure_score', NMI will use average_method='arithmetic' by default.\n",
      "  FutureWarning)\n"
     ]
    },
    {
     "name": "stdout",
     "output_type": "stream",
     "text": [
      "step- 1520  cost: 7.8191885e+18\n",
      "count- [16457 13296 30217 31690]\n",
      "[2 2 2 2 2 2 2 2 2 2 2 2 2 2 2 2 0 0 0 0 0 0 0 0 2 0 0 0 3 3 3 3 3 3 3 3 3\n",
      " 2 3 3 2 3 3 3 2 3 3 2 3 3 2 3 1 1 1 1 1 1 1 1]\n",
      "acc: 0.9\n",
      "nmi: 0.80087\n",
      "ari: 0.70699\n",
      "step- 1530  cost: 2.494102e+18\n",
      "count- [16567 13376 30437 31880]\n",
      "[2 2 2 2 2 2 2 2 2 2 2 2 2 2 2 2 0 0 0 0 0 0 0 0 2 0 0 0 3 3 3 3 3 3 3 3 3\n",
      " 2 3 3 2 3 3 3 2 3 3 2 3 3 2 3 1 1 1 1 1 1 1 1]\n",
      "acc: 0.9\n",
      "nmi: 0.80087\n",
      "ari: 0.70699\n"
     ]
    },
    {
     "name": "stderr",
     "output_type": "stream",
     "text": [
      "C:\\Users\\admin\\anaconda3\\envs\\pythonProject10\\lib\\site-packages\\sklearn\\cluster\\k_means_.py:968: RuntimeWarning: Explicit initial center position passed: performing only one init in k-means instead of n_init=10\n",
      "  return_n_iter=True)\n",
      "C:\\Users\\admin\\anaconda3\\envs\\pythonProject10\\lib\\site-packages\\sklearn\\metrics\\cluster\\supervised.py:844: FutureWarning: The behavior of NMI will change in version 0.22. To match the behavior of 'v_measure_score', NMI will use average_method='arithmetic' by default.\n",
      "  FutureWarning)\n",
      "C:\\Users\\admin\\anaconda3\\envs\\pythonProject10\\lib\\site-packages\\sklearn\\cluster\\k_means_.py:968: RuntimeWarning: Explicit initial center position passed: performing only one init in k-means instead of n_init=10\n",
      "  return_n_iter=True)\n",
      "C:\\Users\\admin\\anaconda3\\envs\\pythonProject10\\lib\\site-packages\\sklearn\\metrics\\cluster\\supervised.py:844: FutureWarning: The behavior of NMI will change in version 0.22. To match the behavior of 'v_measure_score', NMI will use average_method='arithmetic' by default.\n",
      "  FutureWarning)\n"
     ]
    },
    {
     "name": "stdout",
     "output_type": "stream",
     "text": [
      "step- 1540  cost: 2.4079503e+18\n",
      "count- [16677 13456 30657 32070]\n",
      "[2 2 2 2 2 2 2 2 2 2 2 2 2 2 2 2 0 0 0 0 0 0 0 0 2 0 0 0 3 3 3 3 3 3 3 3 3\n",
      " 2 3 3 2 3 3 3 2 3 3 2 3 3 2 3 1 1 1 1 1 1 1 1]\n",
      "acc: 0.9\n",
      "nmi: 0.80087\n",
      "ari: 0.70699\n",
      "step- 1550  cost: 1.8643242e+19\n",
      "count- [16787 13536 30877 32260]\n",
      "[2 2 2 2 2 2 2 2 2 2 2 2 2 2 2 2 0 0 0 0 0 0 0 0 2 0 0 0 3 3 3 3 3 3 3 3 3\n",
      " 2 3 3 2 3 3 3 2 3 3 2 3 3 2 3 1 1 1 1 1 1 1 1]\n",
      "acc: 0.9\n",
      "nmi: 0.80087\n",
      "ari: 0.70699\n"
     ]
    },
    {
     "name": "stderr",
     "output_type": "stream",
     "text": [
      "C:\\Users\\admin\\anaconda3\\envs\\pythonProject10\\lib\\site-packages\\sklearn\\cluster\\k_means_.py:968: RuntimeWarning: Explicit initial center position passed: performing only one init in k-means instead of n_init=10\n",
      "  return_n_iter=True)\n",
      "C:\\Users\\admin\\anaconda3\\envs\\pythonProject10\\lib\\site-packages\\sklearn\\metrics\\cluster\\supervised.py:844: FutureWarning: The behavior of NMI will change in version 0.22. To match the behavior of 'v_measure_score', NMI will use average_method='arithmetic' by default.\n",
      "  FutureWarning)\n",
      "C:\\Users\\admin\\anaconda3\\envs\\pythonProject10\\lib\\site-packages\\sklearn\\cluster\\k_means_.py:968: RuntimeWarning: Explicit initial center position passed: performing only one init in k-means instead of n_init=10\n",
      "  return_n_iter=True)\n",
      "C:\\Users\\admin\\anaconda3\\envs\\pythonProject10\\lib\\site-packages\\sklearn\\metrics\\cluster\\supervised.py:844: FutureWarning: The behavior of NMI will change in version 0.22. To match the behavior of 'v_measure_score', NMI will use average_method='arithmetic' by default.\n",
      "  FutureWarning)\n"
     ]
    },
    {
     "name": "stdout",
     "output_type": "stream",
     "text": [
      "step- 1560  cost: 3.0469965e+19\n",
      "count- [16897 13616 31097 32450]\n",
      "[2 2 2 2 2 2 2 2 2 2 2 2 2 2 2 2 0 0 0 0 0 0 0 0 2 0 0 0 3 3 3 3 3 3 3 3 3\n",
      " 2 3 3 2 3 3 3 2 3 3 2 3 3 2 3 1 1 1 1 1 1 1 1]\n",
      "acc: 0.9\n",
      "nmi: 0.80087\n",
      "ari: 0.70699\n",
      "step- 1570  cost: 4.54718e+19\n",
      "count- [17007 13696 31317 32640]\n",
      "[2 2 2 2 2 2 2 2 2 2 2 2 2 2 2 2 0 0 0 0 0 0 0 0 2 0 0 0 3 3 3 3 3 3 3 3 3\n",
      " 2 3 3 2 3 3 3 2 3 3 2 3 3 2 3 1 1 1 1 1 1 1 1]\n",
      "acc: 0.9\n",
      "nmi: 0.80087\n",
      "ari: 0.70699\n"
     ]
    },
    {
     "name": "stderr",
     "output_type": "stream",
     "text": [
      "C:\\Users\\admin\\anaconda3\\envs\\pythonProject10\\lib\\site-packages\\sklearn\\cluster\\k_means_.py:968: RuntimeWarning: Explicit initial center position passed: performing only one init in k-means instead of n_init=10\n",
      "  return_n_iter=True)\n",
      "C:\\Users\\admin\\anaconda3\\envs\\pythonProject10\\lib\\site-packages\\sklearn\\metrics\\cluster\\supervised.py:844: FutureWarning: The behavior of NMI will change in version 0.22. To match the behavior of 'v_measure_score', NMI will use average_method='arithmetic' by default.\n",
      "  FutureWarning)\n",
      "C:\\Users\\admin\\anaconda3\\envs\\pythonProject10\\lib\\site-packages\\sklearn\\cluster\\k_means_.py:968: RuntimeWarning: Explicit initial center position passed: performing only one init in k-means instead of n_init=10\n",
      "  return_n_iter=True)\n",
      "C:\\Users\\admin\\anaconda3\\envs\\pythonProject10\\lib\\site-packages\\sklearn\\metrics\\cluster\\supervised.py:844: FutureWarning: The behavior of NMI will change in version 0.22. To match the behavior of 'v_measure_score', NMI will use average_method='arithmetic' by default.\n",
      "  FutureWarning)\n"
     ]
    },
    {
     "name": "stdout",
     "output_type": "stream",
     "text": [
      "step- 1580  cost: 3.98865e+18\n",
      "count- [17117 13776 31537 32830]\n",
      "[2 2 2 2 2 2 2 2 2 2 2 2 2 2 2 2 0 0 0 0 0 0 0 0 2 0 0 0 3 3 3 3 3 3 3 3 3\n",
      " 2 3 3 2 3 3 3 2 3 3 2 3 3 2 3 1 1 1 1 1 1 1 1]\n",
      "acc: 0.9\n",
      "nmi: 0.80087\n",
      "ari: 0.70699\n",
      "step- 1590  cost: 2.7087637e+18\n",
      "count- [17227 13856 31757 33020]\n",
      "[2 2 2 2 2 2 2 2 2 2 2 2 2 2 2 2 0 0 0 0 0 0 0 0 2 0 0 0 3 3 3 3 3 3 3 3 3\n",
      " 2 3 3 2 3 3 3 2 3 3 2 3 3 2 3 1 1 1 1 1 1 1 1]\n",
      "acc: 0.9\n",
      "nmi: 0.80087\n",
      "ari: 0.70699\n"
     ]
    },
    {
     "name": "stderr",
     "output_type": "stream",
     "text": [
      "C:\\Users\\admin\\anaconda3\\envs\\pythonProject10\\lib\\site-packages\\sklearn\\cluster\\k_means_.py:968: RuntimeWarning: Explicit initial center position passed: performing only one init in k-means instead of n_init=10\n",
      "  return_n_iter=True)\n",
      "C:\\Users\\admin\\anaconda3\\envs\\pythonProject10\\lib\\site-packages\\sklearn\\metrics\\cluster\\supervised.py:844: FutureWarning: The behavior of NMI will change in version 0.22. To match the behavior of 'v_measure_score', NMI will use average_method='arithmetic' by default.\n",
      "  FutureWarning)\n",
      "C:\\Users\\admin\\anaconda3\\envs\\pythonProject10\\lib\\site-packages\\sklearn\\cluster\\k_means_.py:968: RuntimeWarning: Explicit initial center position passed: performing only one init in k-means instead of n_init=10\n",
      "  return_n_iter=True)\n",
      "C:\\Users\\admin\\anaconda3\\envs\\pythonProject10\\lib\\site-packages\\sklearn\\metrics\\cluster\\supervised.py:844: FutureWarning: The behavior of NMI will change in version 0.22. To match the behavior of 'v_measure_score', NMI will use average_method='arithmetic' by default.\n",
      "  FutureWarning)\n"
     ]
    },
    {
     "name": "stdout",
     "output_type": "stream",
     "text": [
      "step- 1600  cost: 3.129324e+18\n",
      "count- [17337 13936 31977 33210]\n",
      "[2 2 2 2 2 2 2 2 2 2 2 2 2 2 2 2 0 0 0 0 0 0 0 0 2 0 0 0 3 3 3 3 3 3 3 3 3\n",
      " 2 3 3 2 3 3 3 2 3 3 2 3 3 2 3 1 1 1 1 1 1 1 1]\n",
      "acc: 0.9\n",
      "nmi: 0.80087\n",
      "ari: 0.70699\n",
      "step- 1610  cost: 2.8994254e+19\n",
      "count- [17447 14016 32197 33400]\n",
      "[2 2 2 2 2 2 2 2 2 2 2 2 2 2 2 2 0 0 0 0 0 0 0 0 2 0 0 0 3 3 3 3 3 3 3 3 3\n",
      " 2 3 3 2 3 3 3 2 3 3 2 3 3 2 3 1 1 1 1 1 1 1 1]\n",
      "acc: 0.9\n",
      "nmi: 0.80087\n",
      "ari: 0.70699\n"
     ]
    },
    {
     "name": "stderr",
     "output_type": "stream",
     "text": [
      "C:\\Users\\admin\\anaconda3\\envs\\pythonProject10\\lib\\site-packages\\sklearn\\cluster\\k_means_.py:968: RuntimeWarning: Explicit initial center position passed: performing only one init in k-means instead of n_init=10\n",
      "  return_n_iter=True)\n",
      "C:\\Users\\admin\\anaconda3\\envs\\pythonProject10\\lib\\site-packages\\sklearn\\metrics\\cluster\\supervised.py:844: FutureWarning: The behavior of NMI will change in version 0.22. To match the behavior of 'v_measure_score', NMI will use average_method='arithmetic' by default.\n",
      "  FutureWarning)\n",
      "C:\\Users\\admin\\anaconda3\\envs\\pythonProject10\\lib\\site-packages\\sklearn\\cluster\\k_means_.py:968: RuntimeWarning: Explicit initial center position passed: performing only one init in k-means instead of n_init=10\n",
      "  return_n_iter=True)\n",
      "C:\\Users\\admin\\anaconda3\\envs\\pythonProject10\\lib\\site-packages\\sklearn\\metrics\\cluster\\supervised.py:844: FutureWarning: The behavior of NMI will change in version 0.22. To match the behavior of 'v_measure_score', NMI will use average_method='arithmetic' by default.\n",
      "  FutureWarning)\n"
     ]
    },
    {
     "name": "stdout",
     "output_type": "stream",
     "text": [
      "step- 1620  cost: 2.5706091e+19\n",
      "count- [17557 14096 32417 33590]\n",
      "[2 2 2 2 2 2 2 2 2 2 2 2 2 2 2 2 0 0 0 0 0 0 0 0 2 0 0 0 3 3 3 3 3 3 3 3 3\n",
      " 2 3 3 2 3 3 3 2 3 3 2 3 3 2 3 1 1 1 1 1 1 1 1]\n",
      "acc: 0.9\n",
      "nmi: 0.80087\n",
      "ari: 0.70699\n",
      "step- 1630  cost: 3.162314e+19\n",
      "count- [17667 14176 32637 33780]\n",
      "[2 2 2 2 2 2 2 2 2 2 2 2 2 2 2 2 0 0 0 0 0 0 0 0 2 0 0 0 3 3 3 3 3 3 3 3 3\n",
      " 2 3 3 2 3 3 3 2 3 3 2 3 3 2 3 1 1 1 1 1 1 1 1]\n",
      "acc: 0.9\n",
      "nmi: 0.80087\n",
      "ari: 0.70699\n"
     ]
    },
    {
     "name": "stderr",
     "output_type": "stream",
     "text": [
      "C:\\Users\\admin\\anaconda3\\envs\\pythonProject10\\lib\\site-packages\\sklearn\\cluster\\k_means_.py:968: RuntimeWarning: Explicit initial center position passed: performing only one init in k-means instead of n_init=10\n",
      "  return_n_iter=True)\n",
      "C:\\Users\\admin\\anaconda3\\envs\\pythonProject10\\lib\\site-packages\\sklearn\\metrics\\cluster\\supervised.py:844: FutureWarning: The behavior of NMI will change in version 0.22. To match the behavior of 'v_measure_score', NMI will use average_method='arithmetic' by default.\n",
      "  FutureWarning)\n",
      "C:\\Users\\admin\\anaconda3\\envs\\pythonProject10\\lib\\site-packages\\sklearn\\cluster\\k_means_.py:968: RuntimeWarning: Explicit initial center position passed: performing only one init in k-means instead of n_init=10\n",
      "  return_n_iter=True)\n",
      "C:\\Users\\admin\\anaconda3\\envs\\pythonProject10\\lib\\site-packages\\sklearn\\metrics\\cluster\\supervised.py:844: FutureWarning: The behavior of NMI will change in version 0.22. To match the behavior of 'v_measure_score', NMI will use average_method='arithmetic' by default.\n",
      "  FutureWarning)\n"
     ]
    },
    {
     "name": "stdout",
     "output_type": "stream",
     "text": [
      "step- 1640  cost: 7.2451813e+18\n",
      "count- [17777 14256 32857 33970]\n",
      "[2 2 2 2 2 2 2 2 2 2 2 2 2 2 2 2 0 0 0 0 0 0 0 0 2 0 0 0 3 3 3 3 3 3 3 3 3\n",
      " 2 3 3 2 3 3 3 2 3 3 2 3 3 2 3 1 1 1 1 1 1 1 1]\n",
      "acc: 0.9\n",
      "nmi: 0.80087\n",
      "ari: 0.70699\n",
      "step- 1650  cost: 1.6705113e+19\n",
      "count- [17887 14336 33077 34160]\n",
      "[2 2 2 2 2 2 2 2 2 2 2 2 2 2 2 2 0 0 0 0 0 0 0 0 2 0 0 0 3 3 3 3 3 3 3 3 3\n",
      " 2 3 3 2 3 3 3 2 3 3 2 3 3 2 3 1 1 1 1 1 1 1 1]\n",
      "acc: 0.9\n",
      "nmi: 0.80087\n",
      "ari: 0.70699\n"
     ]
    },
    {
     "name": "stderr",
     "output_type": "stream",
     "text": [
      "C:\\Users\\admin\\anaconda3\\envs\\pythonProject10\\lib\\site-packages\\sklearn\\cluster\\k_means_.py:968: RuntimeWarning: Explicit initial center position passed: performing only one init in k-means instead of n_init=10\n",
      "  return_n_iter=True)\n",
      "C:\\Users\\admin\\anaconda3\\envs\\pythonProject10\\lib\\site-packages\\sklearn\\metrics\\cluster\\supervised.py:844: FutureWarning: The behavior of NMI will change in version 0.22. To match the behavior of 'v_measure_score', NMI will use average_method='arithmetic' by default.\n",
      "  FutureWarning)\n",
      "C:\\Users\\admin\\anaconda3\\envs\\pythonProject10\\lib\\site-packages\\sklearn\\cluster\\k_means_.py:968: RuntimeWarning: Explicit initial center position passed: performing only one init in k-means instead of n_init=10\n",
      "  return_n_iter=True)\n",
      "C:\\Users\\admin\\anaconda3\\envs\\pythonProject10\\lib\\site-packages\\sklearn\\metrics\\cluster\\supervised.py:844: FutureWarning: The behavior of NMI will change in version 0.22. To match the behavior of 'v_measure_score', NMI will use average_method='arithmetic' by default.\n",
      "  FutureWarning)\n"
     ]
    },
    {
     "name": "stdout",
     "output_type": "stream",
     "text": [
      "step- 1660  cost: 9.491603e+18\n",
      "count- [17997 14416 33297 34350]\n",
      "[2 2 2 2 2 2 2 2 2 2 2 2 2 2 2 2 0 0 0 0 0 0 0 0 2 0 0 0 3 3 3 3 3 3 3 3 3\n",
      " 2 3 3 2 3 3 3 2 3 3 2 3 3 2 3 1 1 1 1 1 1 1 1]\n",
      "acc: 0.9\n",
      "nmi: 0.80087\n",
      "ari: 0.70699\n",
      "step- 1670  cost: 1.1776005e+19\n",
      "count- [18107 14496 33517 34540]\n",
      "[2 2 2 2 2 2 2 2 2 2 2 2 2 2 2 2 0 0 0 0 0 0 0 0 2 0 0 0 3 3 3 3 3 3 3 3 3\n",
      " 2 3 3 2 3 3 3 2 3 3 2 3 3 2 3 1 1 1 1 1 1 1 1]\n",
      "acc: 0.9\n",
      "nmi: 0.80087\n",
      "ari: 0.70699\n"
     ]
    },
    {
     "name": "stderr",
     "output_type": "stream",
     "text": [
      "C:\\Users\\admin\\anaconda3\\envs\\pythonProject10\\lib\\site-packages\\sklearn\\cluster\\k_means_.py:968: RuntimeWarning: Explicit initial center position passed: performing only one init in k-means instead of n_init=10\n",
      "  return_n_iter=True)\n",
      "C:\\Users\\admin\\anaconda3\\envs\\pythonProject10\\lib\\site-packages\\sklearn\\metrics\\cluster\\supervised.py:844: FutureWarning: The behavior of NMI will change in version 0.22. To match the behavior of 'v_measure_score', NMI will use average_method='arithmetic' by default.\n",
      "  FutureWarning)\n",
      "C:\\Users\\admin\\anaconda3\\envs\\pythonProject10\\lib\\site-packages\\sklearn\\cluster\\k_means_.py:968: RuntimeWarning: Explicit initial center position passed: performing only one init in k-means instead of n_init=10\n",
      "  return_n_iter=True)\n",
      "C:\\Users\\admin\\anaconda3\\envs\\pythonProject10\\lib\\site-packages\\sklearn\\metrics\\cluster\\supervised.py:844: FutureWarning: The behavior of NMI will change in version 0.22. To match the behavior of 'v_measure_score', NMI will use average_method='arithmetic' by default.\n",
      "  FutureWarning)\n"
     ]
    },
    {
     "name": "stdout",
     "output_type": "stream",
     "text": [
      "step- 1680  cost: 2.689515e+19\n",
      "count- [18217 14576 33737 34730]\n",
      "[2 2 2 2 2 2 2 2 2 2 2 2 2 2 2 2 0 0 0 0 0 0 0 0 2 0 0 0 3 3 3 3 3 3 3 3 3\n",
      " 2 3 3 2 3 3 3 2 3 3 2 3 3 2 3 1 1 1 1 1 1 1 1]\n",
      "acc: 0.9\n",
      "nmi: 0.80087\n",
      "ari: 0.70699\n",
      "step- 1690  cost: 2.1619921e+19\n",
      "count- [18327 14656 33957 34920]\n",
      "[2 2 2 2 2 2 2 2 2 2 2 2 2 2 2 2 0 0 0 0 0 0 0 0 2 0 0 0 3 3 3 3 3 3 3 3 3\n",
      " 2 3 3 2 3 3 3 2 3 3 2 3 3 2 3 1 1 1 1 1 1 1 1]\n",
      "acc: 0.9\n",
      "nmi: 0.80087\n",
      "ari: 0.70699\n"
     ]
    },
    {
     "name": "stderr",
     "output_type": "stream",
     "text": [
      "C:\\Users\\admin\\anaconda3\\envs\\pythonProject10\\lib\\site-packages\\sklearn\\cluster\\k_means_.py:968: RuntimeWarning: Explicit initial center position passed: performing only one init in k-means instead of n_init=10\n",
      "  return_n_iter=True)\n",
      "C:\\Users\\admin\\anaconda3\\envs\\pythonProject10\\lib\\site-packages\\sklearn\\metrics\\cluster\\supervised.py:844: FutureWarning: The behavior of NMI will change in version 0.22. To match the behavior of 'v_measure_score', NMI will use average_method='arithmetic' by default.\n",
      "  FutureWarning)\n",
      "C:\\Users\\admin\\anaconda3\\envs\\pythonProject10\\lib\\site-packages\\sklearn\\cluster\\k_means_.py:968: RuntimeWarning: Explicit initial center position passed: performing only one init in k-means instead of n_init=10\n",
      "  return_n_iter=True)\n",
      "C:\\Users\\admin\\anaconda3\\envs\\pythonProject10\\lib\\site-packages\\sklearn\\metrics\\cluster\\supervised.py:844: FutureWarning: The behavior of NMI will change in version 0.22. To match the behavior of 'v_measure_score', NMI will use average_method='arithmetic' by default.\n",
      "  FutureWarning)\n"
     ]
    },
    {
     "name": "stdout",
     "output_type": "stream",
     "text": [
      "step- 1700  cost: 4.440148e+19\n",
      "count- [18437 14736 34177 35110]\n",
      "[2 2 2 2 2 2 2 2 2 2 2 2 2 2 2 2 0 0 0 0 0 0 0 0 2 0 0 0 3 3 3 3 3 3 3 3 3\n",
      " 2 3 3 2 3 3 3 2 3 3 2 3 3 2 3 1 1 1 1 1 1 1 1]\n",
      "acc: 0.9\n",
      "nmi: 0.80087\n",
      "ari: 0.70699\n",
      "step- 1710  cost: 2.268976e+19\n",
      "count- [18547 14816 34397 35300]\n",
      "[2 2 2 2 2 2 2 2 2 2 2 2 2 2 2 2 0 0 0 0 0 0 0 0 2 0 0 0 3 3 3 3 3 3 3 3 3\n",
      " 2 3 3 2 3 3 3 2 3 3 2 3 3 2 3 1 1 1 1 1 1 1 1]\n",
      "acc: 0.9\n",
      "nmi: 0.80087\n",
      "ari: 0.70699\n"
     ]
    },
    {
     "name": "stderr",
     "output_type": "stream",
     "text": [
      "C:\\Users\\admin\\anaconda3\\envs\\pythonProject10\\lib\\site-packages\\sklearn\\cluster\\k_means_.py:968: RuntimeWarning: Explicit initial center position passed: performing only one init in k-means instead of n_init=10\n",
      "  return_n_iter=True)\n",
      "C:\\Users\\admin\\anaconda3\\envs\\pythonProject10\\lib\\site-packages\\sklearn\\metrics\\cluster\\supervised.py:844: FutureWarning: The behavior of NMI will change in version 0.22. To match the behavior of 'v_measure_score', NMI will use average_method='arithmetic' by default.\n",
      "  FutureWarning)\n",
      "C:\\Users\\admin\\anaconda3\\envs\\pythonProject10\\lib\\site-packages\\sklearn\\cluster\\k_means_.py:968: RuntimeWarning: Explicit initial center position passed: performing only one init in k-means instead of n_init=10\n",
      "  return_n_iter=True)\n",
      "C:\\Users\\admin\\anaconda3\\envs\\pythonProject10\\lib\\site-packages\\sklearn\\metrics\\cluster\\supervised.py:844: FutureWarning: The behavior of NMI will change in version 0.22. To match the behavior of 'v_measure_score', NMI will use average_method='arithmetic' by default.\n",
      "  FutureWarning)\n"
     ]
    },
    {
     "name": "stdout",
     "output_type": "stream",
     "text": [
      "step- 1720  cost: 1.6841037e+19\n",
      "count- [18657 14896 34617 35490]\n",
      "[2 2 2 2 2 2 2 2 2 2 2 2 2 2 2 2 0 0 0 0 0 0 0 0 2 0 0 0 3 3 3 3 3 3 3 3 3\n",
      " 2 3 3 2 3 3 3 2 3 3 2 3 3 2 3 1 1 1 1 1 1 1 1]\n",
      "acc: 0.9\n",
      "nmi: 0.80087\n",
      "ari: 0.70699\n",
      "step- 1730  cost: 1.1299218e+19\n",
      "count- [18767 14976 34837 35680]\n",
      "[2 2 2 2 2 2 2 2 2 2 2 2 2 2 2 2 0 0 0 0 0 0 0 0 2 0 0 0 3 3 3 3 3 3 3 3 3\n",
      " 2 3 3 2 3 3 3 2 3 3 2 3 3 2 3 1 1 1 1 1 1 1 1]\n",
      "acc: 0.9\n",
      "nmi: 0.80087\n",
      "ari: 0.70699\n"
     ]
    },
    {
     "name": "stderr",
     "output_type": "stream",
     "text": [
      "C:\\Users\\admin\\anaconda3\\envs\\pythonProject10\\lib\\site-packages\\sklearn\\cluster\\k_means_.py:968: RuntimeWarning: Explicit initial center position passed: performing only one init in k-means instead of n_init=10\n",
      "  return_n_iter=True)\n",
      "C:\\Users\\admin\\anaconda3\\envs\\pythonProject10\\lib\\site-packages\\sklearn\\metrics\\cluster\\supervised.py:844: FutureWarning: The behavior of NMI will change in version 0.22. To match the behavior of 'v_measure_score', NMI will use average_method='arithmetic' by default.\n",
      "  FutureWarning)\n",
      "C:\\Users\\admin\\anaconda3\\envs\\pythonProject10\\lib\\site-packages\\sklearn\\cluster\\k_means_.py:968: RuntimeWarning: Explicit initial center position passed: performing only one init in k-means instead of n_init=10\n",
      "  return_n_iter=True)\n",
      "C:\\Users\\admin\\anaconda3\\envs\\pythonProject10\\lib\\site-packages\\sklearn\\metrics\\cluster\\supervised.py:844: FutureWarning: The behavior of NMI will change in version 0.22. To match the behavior of 'v_measure_score', NMI will use average_method='arithmetic' by default.\n",
      "  FutureWarning)\n"
     ]
    },
    {
     "name": "stdout",
     "output_type": "stream",
     "text": [
      "step- 1740  cost: 5.399527e+19\n",
      "count- [18877 15056 35057 35870]\n",
      "[2 2 2 2 2 2 2 2 2 2 2 2 2 2 2 2 0 0 0 0 0 0 0 0 2 0 0 0 3 3 3 3 3 3 3 3 3\n",
      " 2 3 3 2 3 3 3 2 3 3 2 3 3 2 3 1 1 1 1 1 1 1 1]\n",
      "acc: 0.9\n",
      "nmi: 0.80087\n",
      "ari: 0.70699\n",
      "step- 1750  cost: 1.289656e+19\n",
      "count- [18987 15136 35277 36060]\n",
      "[2 2 2 2 2 2 2 2 2 2 2 2 2 2 2 2 0 0 0 0 0 0 0 0 2 0 0 0 3 3 3 3 3 3 3 3 3\n",
      " 2 3 3 2 3 3 3 2 3 3 2 3 3 2 3 1 1 1 1 1 1 1 1]\n",
      "acc: 0.9\n",
      "nmi: 0.80087\n",
      "ari: 0.70699\n"
     ]
    },
    {
     "name": "stderr",
     "output_type": "stream",
     "text": [
      "C:\\Users\\admin\\anaconda3\\envs\\pythonProject10\\lib\\site-packages\\sklearn\\cluster\\k_means_.py:968: RuntimeWarning: Explicit initial center position passed: performing only one init in k-means instead of n_init=10\n",
      "  return_n_iter=True)\n",
      "C:\\Users\\admin\\anaconda3\\envs\\pythonProject10\\lib\\site-packages\\sklearn\\metrics\\cluster\\supervised.py:844: FutureWarning: The behavior of NMI will change in version 0.22. To match the behavior of 'v_measure_score', NMI will use average_method='arithmetic' by default.\n",
      "  FutureWarning)\n",
      "C:\\Users\\admin\\anaconda3\\envs\\pythonProject10\\lib\\site-packages\\sklearn\\cluster\\k_means_.py:968: RuntimeWarning: Explicit initial center position passed: performing only one init in k-means instead of n_init=10\n",
      "  return_n_iter=True)\n",
      "C:\\Users\\admin\\anaconda3\\envs\\pythonProject10\\lib\\site-packages\\sklearn\\metrics\\cluster\\supervised.py:844: FutureWarning: The behavior of NMI will change in version 0.22. To match the behavior of 'v_measure_score', NMI will use average_method='arithmetic' by default.\n",
      "  FutureWarning)\n"
     ]
    },
    {
     "name": "stdout",
     "output_type": "stream",
     "text": [
      "step- 1760  cost: 1.0161138e+19\n",
      "count- [19097 15216 35497 36250]\n",
      "[2 2 2 2 2 2 2 2 2 2 2 2 2 2 2 2 0 0 0 0 0 0 0 0 2 0 0 0 3 3 3 3 3 3 3 3 3\n",
      " 2 3 3 2 3 3 3 2 3 3 2 3 3 2 3 1 1 1 1 1 1 1 1]\n",
      "acc: 0.9\n",
      "nmi: 0.80087\n",
      "ari: 0.70699\n",
      "step- 1770  cost: 3.2835059e+19\n",
      "count- [19207 15296 35717 36440]\n",
      "[2 2 2 2 2 2 2 2 2 2 2 2 2 2 2 2 0 0 0 0 0 0 0 0 2 0 0 0 3 3 3 3 3 3 3 3 3\n",
      " 2 3 3 2 3 3 3 2 3 3 2 3 3 2 3 1 1 1 1 1 1 1 1]\n",
      "acc: 0.9\n",
      "nmi: 0.80087\n",
      "ari: 0.70699\n"
     ]
    },
    {
     "name": "stderr",
     "output_type": "stream",
     "text": [
      "C:\\Users\\admin\\anaconda3\\envs\\pythonProject10\\lib\\site-packages\\sklearn\\cluster\\k_means_.py:968: RuntimeWarning: Explicit initial center position passed: performing only one init in k-means instead of n_init=10\n",
      "  return_n_iter=True)\n",
      "C:\\Users\\admin\\anaconda3\\envs\\pythonProject10\\lib\\site-packages\\sklearn\\metrics\\cluster\\supervised.py:844: FutureWarning: The behavior of NMI will change in version 0.22. To match the behavior of 'v_measure_score', NMI will use average_method='arithmetic' by default.\n",
      "  FutureWarning)\n",
      "C:\\Users\\admin\\anaconda3\\envs\\pythonProject10\\lib\\site-packages\\sklearn\\cluster\\k_means_.py:968: RuntimeWarning: Explicit initial center position passed: performing only one init in k-means instead of n_init=10\n",
      "  return_n_iter=True)\n",
      "C:\\Users\\admin\\anaconda3\\envs\\pythonProject10\\lib\\site-packages\\sklearn\\metrics\\cluster\\supervised.py:844: FutureWarning: The behavior of NMI will change in version 0.22. To match the behavior of 'v_measure_score', NMI will use average_method='arithmetic' by default.\n",
      "  FutureWarning)\n"
     ]
    },
    {
     "name": "stdout",
     "output_type": "stream",
     "text": [
      "step- 1780  cost: 6.554408e+19\n",
      "count- [19317 15376 35937 36630]\n",
      "[2 2 2 2 2 2 2 2 2 2 2 2 2 2 2 2 0 0 0 0 0 0 0 0 2 0 0 0 3 3 3 3 3 3 3 3 3\n",
      " 2 3 3 2 3 3 3 2 3 3 2 3 3 2 3 1 1 1 1 1 1 1 1]\n",
      "acc: 0.9\n",
      "nmi: 0.80087\n",
      "ari: 0.70699\n",
      "step- 1790  cost: 2.0400244e+20\n",
      "count- [19427 15456 36157 36820]\n",
      "[2 2 2 2 2 2 2 2 2 2 2 2 2 2 2 2 0 0 0 0 0 0 0 0 2 0 0 0 3 3 3 3 3 3 3 3 3\n",
      " 2 3 3 2 3 3 3 2 3 3 2 3 3 2 3 1 1 1 1 1 1 1 1]\n",
      "acc: 0.9\n",
      "nmi: 0.80087\n",
      "ari: 0.70699\n"
     ]
    },
    {
     "name": "stderr",
     "output_type": "stream",
     "text": [
      "C:\\Users\\admin\\anaconda3\\envs\\pythonProject10\\lib\\site-packages\\sklearn\\cluster\\k_means_.py:968: RuntimeWarning: Explicit initial center position passed: performing only one init in k-means instead of n_init=10\n",
      "  return_n_iter=True)\n",
      "C:\\Users\\admin\\anaconda3\\envs\\pythonProject10\\lib\\site-packages\\sklearn\\metrics\\cluster\\supervised.py:844: FutureWarning: The behavior of NMI will change in version 0.22. To match the behavior of 'v_measure_score', NMI will use average_method='arithmetic' by default.\n",
      "  FutureWarning)\n",
      "C:\\Users\\admin\\anaconda3\\envs\\pythonProject10\\lib\\site-packages\\sklearn\\cluster\\k_means_.py:968: RuntimeWarning: Explicit initial center position passed: performing only one init in k-means instead of n_init=10\n",
      "  return_n_iter=True)\n",
      "C:\\Users\\admin\\anaconda3\\envs\\pythonProject10\\lib\\site-packages\\sklearn\\metrics\\cluster\\supervised.py:844: FutureWarning: The behavior of NMI will change in version 0.22. To match the behavior of 'v_measure_score', NMI will use average_method='arithmetic' by default.\n",
      "  FutureWarning)\n"
     ]
    },
    {
     "name": "stdout",
     "output_type": "stream",
     "text": [
      "step- 1800  cost: 7.573297e+19\n",
      "count- [19537 15536 36377 37010]\n",
      "[2 2 2 2 2 2 2 2 2 2 2 2 2 2 2 2 0 0 0 0 0 0 0 0 2 0 0 0 3 3 3 3 3 3 3 3 3\n",
      " 2 3 3 2 3 3 3 2 3 3 2 3 3 2 3 1 1 1 1 1 1 1 1]\n",
      "acc: 0.9\n",
      "nmi: 0.80087\n",
      "ari: 0.70699\n",
      "step- 1810  cost: 2.2434968e+20\n",
      "count- [19647 15616 36597 37200]\n",
      "[2 2 2 2 2 2 2 2 2 2 2 2 2 2 2 2 0 0 0 0 0 0 0 0 2 0 0 0 3 3 3 3 3 3 3 3 3\n",
      " 2 3 3 2 3 3 3 2 3 3 2 3 3 2 3 1 1 1 1 1 1 1 1]\n",
      "acc: 0.9\n",
      "nmi: 0.80087\n",
      "ari: 0.70699\n"
     ]
    },
    {
     "name": "stderr",
     "output_type": "stream",
     "text": [
      "C:\\Users\\admin\\anaconda3\\envs\\pythonProject10\\lib\\site-packages\\sklearn\\cluster\\k_means_.py:968: RuntimeWarning: Explicit initial center position passed: performing only one init in k-means instead of n_init=10\n",
      "  return_n_iter=True)\n",
      "C:\\Users\\admin\\anaconda3\\envs\\pythonProject10\\lib\\site-packages\\sklearn\\metrics\\cluster\\supervised.py:844: FutureWarning: The behavior of NMI will change in version 0.22. To match the behavior of 'v_measure_score', NMI will use average_method='arithmetic' by default.\n",
      "  FutureWarning)\n",
      "C:\\Users\\admin\\anaconda3\\envs\\pythonProject10\\lib\\site-packages\\sklearn\\cluster\\k_means_.py:968: RuntimeWarning: Explicit initial center position passed: performing only one init in k-means instead of n_init=10\n",
      "  return_n_iter=True)\n",
      "C:\\Users\\admin\\anaconda3\\envs\\pythonProject10\\lib\\site-packages\\sklearn\\metrics\\cluster\\supervised.py:844: FutureWarning: The behavior of NMI will change in version 0.22. To match the behavior of 'v_measure_score', NMI will use average_method='arithmetic' by default.\n",
      "  FutureWarning)\n"
     ]
    },
    {
     "name": "stdout",
     "output_type": "stream",
     "text": [
      "step- 1820  cost: 7.1163724e+18\n",
      "count- [19757 15696 36817 37390]\n",
      "[2 2 2 2 2 2 2 2 2 2 2 2 2 2 2 2 0 0 0 0 0 0 0 0 2 0 0 0 3 3 3 3 3 3 3 3 3\n",
      " 2 3 3 2 3 3 3 2 3 3 2 3 3 2 3 1 1 1 1 1 1 1 1]\n",
      "acc: 0.9\n",
      "nmi: 0.80087\n",
      "ari: 0.70699\n",
      "step- 1830  cost: 4.5804282e+19\n",
      "count- [19867 15776 37037 37580]\n",
      "[2 2 2 2 2 2 2 2 2 2 2 2 2 2 2 2 0 0 0 0 0 0 0 0 2 0 0 0 3 3 3 3 3 3 3 3 3\n",
      " 2 3 3 2 3 3 3 2 3 3 2 3 3 2 3 1 1 1 1 1 1 1 1]\n",
      "acc: 0.9\n",
      "nmi: 0.80087\n",
      "ari: 0.70699\n"
     ]
    },
    {
     "name": "stderr",
     "output_type": "stream",
     "text": [
      "C:\\Users\\admin\\anaconda3\\envs\\pythonProject10\\lib\\site-packages\\sklearn\\cluster\\k_means_.py:968: RuntimeWarning: Explicit initial center position passed: performing only one init in k-means instead of n_init=10\n",
      "  return_n_iter=True)\n",
      "C:\\Users\\admin\\anaconda3\\envs\\pythonProject10\\lib\\site-packages\\sklearn\\metrics\\cluster\\supervised.py:844: FutureWarning: The behavior of NMI will change in version 0.22. To match the behavior of 'v_measure_score', NMI will use average_method='arithmetic' by default.\n",
      "  FutureWarning)\n",
      "C:\\Users\\admin\\anaconda3\\envs\\pythonProject10\\lib\\site-packages\\sklearn\\cluster\\k_means_.py:968: RuntimeWarning: Explicit initial center position passed: performing only one init in k-means instead of n_init=10\n",
      "  return_n_iter=True)\n",
      "C:\\Users\\admin\\anaconda3\\envs\\pythonProject10\\lib\\site-packages\\sklearn\\metrics\\cluster\\supervised.py:844: FutureWarning: The behavior of NMI will change in version 0.22. To match the behavior of 'v_measure_score', NMI will use average_method='arithmetic' by default.\n",
      "  FutureWarning)\n"
     ]
    },
    {
     "name": "stdout",
     "output_type": "stream",
     "text": [
      "step- 1840  cost: 1.70691e+19\n",
      "count- [19977 15856 37257 37770]\n",
      "[2 2 2 2 2 2 2 2 2 2 2 2 2 2 2 2 0 0 0 0 0 0 0 0 2 0 0 0 3 3 3 3 3 3 3 3 3\n",
      " 2 3 3 2 3 3 3 2 3 3 2 3 3 2 3 1 1 1 1 1 1 1 1]\n",
      "acc: 0.9\n",
      "nmi: 0.80087\n",
      "ari: 0.70699\n",
      "step- 1850  cost: 1.6159983e+20\n",
      "count- [20087 15936 37477 37960]\n",
      "[2 2 2 2 2 2 2 2 2 2 2 2 2 2 2 2 0 0 0 0 0 0 0 0 2 0 0 0 3 3 3 3 3 3 3 3 3\n",
      " 2 3 3 2 3 3 3 2 3 3 2 3 3 2 3 1 1 1 1 1 1 1 1]\n",
      "acc: 0.9\n",
      "nmi: 0.80087\n",
      "ari: 0.70699\n"
     ]
    },
    {
     "name": "stderr",
     "output_type": "stream",
     "text": [
      "C:\\Users\\admin\\anaconda3\\envs\\pythonProject10\\lib\\site-packages\\sklearn\\cluster\\k_means_.py:968: RuntimeWarning: Explicit initial center position passed: performing only one init in k-means instead of n_init=10\n",
      "  return_n_iter=True)\n",
      "C:\\Users\\admin\\anaconda3\\envs\\pythonProject10\\lib\\site-packages\\sklearn\\metrics\\cluster\\supervised.py:844: FutureWarning: The behavior of NMI will change in version 0.22. To match the behavior of 'v_measure_score', NMI will use average_method='arithmetic' by default.\n",
      "  FutureWarning)\n",
      "C:\\Users\\admin\\anaconda3\\envs\\pythonProject10\\lib\\site-packages\\sklearn\\cluster\\k_means_.py:968: RuntimeWarning: Explicit initial center position passed: performing only one init in k-means instead of n_init=10\n",
      "  return_n_iter=True)\n",
      "C:\\Users\\admin\\anaconda3\\envs\\pythonProject10\\lib\\site-packages\\sklearn\\metrics\\cluster\\supervised.py:844: FutureWarning: The behavior of NMI will change in version 0.22. To match the behavior of 'v_measure_score', NMI will use average_method='arithmetic' by default.\n",
      "  FutureWarning)\n"
     ]
    },
    {
     "name": "stdout",
     "output_type": "stream",
     "text": [
      "step- 1860  cost: 1.20980206e+20\n",
      "count- [20197 16016 37697 38150]\n",
      "[2 2 2 2 2 2 2 2 2 2 2 2 2 2 2 2 0 0 0 0 0 0 0 0 2 0 0 0 3 3 3 3 3 3 3 3 3\n",
      " 2 3 3 2 3 3 3 2 3 3 2 3 3 2 3 1 1 1 1 1 1 1 1]\n",
      "acc: 0.9\n",
      "nmi: 0.80087\n",
      "ari: 0.70699\n",
      "step- 1870  cost: 7.1403244e+19\n",
      "count- [20307 16096 37917 38340]\n",
      "[2 2 2 2 2 2 2 2 2 2 2 2 2 2 2 2 0 0 0 0 0 0 0 0 2 0 0 0 3 3 3 3 3 3 3 3 3\n",
      " 2 3 3 2 3 3 3 2 3 3 2 3 3 2 3 1 1 1 1 1 1 1 1]\n",
      "acc: 0.9\n",
      "nmi: 0.80087\n",
      "ari: 0.70699\n"
     ]
    },
    {
     "name": "stderr",
     "output_type": "stream",
     "text": [
      "C:\\Users\\admin\\anaconda3\\envs\\pythonProject10\\lib\\site-packages\\sklearn\\cluster\\k_means_.py:968: RuntimeWarning: Explicit initial center position passed: performing only one init in k-means instead of n_init=10\n",
      "  return_n_iter=True)\n",
      "C:\\Users\\admin\\anaconda3\\envs\\pythonProject10\\lib\\site-packages\\sklearn\\metrics\\cluster\\supervised.py:844: FutureWarning: The behavior of NMI will change in version 0.22. To match the behavior of 'v_measure_score', NMI will use average_method='arithmetic' by default.\n",
      "  FutureWarning)\n",
      "C:\\Users\\admin\\anaconda3\\envs\\pythonProject10\\lib\\site-packages\\sklearn\\cluster\\k_means_.py:968: RuntimeWarning: Explicit initial center position passed: performing only one init in k-means instead of n_init=10\n",
      "  return_n_iter=True)\n",
      "C:\\Users\\admin\\anaconda3\\envs\\pythonProject10\\lib\\site-packages\\sklearn\\metrics\\cluster\\supervised.py:844: FutureWarning: The behavior of NMI will change in version 0.22. To match the behavior of 'v_measure_score', NMI will use average_method='arithmetic' by default.\n",
      "  FutureWarning)\n"
     ]
    },
    {
     "name": "stdout",
     "output_type": "stream",
     "text": [
      "step- 1880  cost: 9.1304105e+19\n",
      "count- [20417 16176 38137 38530]\n",
      "[2 2 2 2 2 2 2 2 2 2 2 2 2 2 2 2 0 0 0 0 0 0 0 0 2 0 0 0 3 3 3 3 3 3 3 3 3\n",
      " 2 3 3 2 3 3 3 2 3 3 2 3 3 2 3 1 1 1 1 1 1 1 1]\n",
      "acc: 0.9\n",
      "nmi: 0.80087\n",
      "ari: 0.70699\n",
      "step- 1890  cost: 1.7703532e+20\n",
      "count- [20527 16256 38357 38720]\n",
      "[2 2 2 2 2 2 2 2 2 2 2 2 2 2 2 2 0 0 0 0 0 0 0 0 2 0 0 0 3 3 3 3 3 3 3 3 3\n",
      " 2 3 3 2 3 3 3 2 3 3 2 3 3 2 3 1 1 1 1 1 1 1 1]\n",
      "acc: 0.9\n",
      "nmi: 0.80087\n",
      "ari: 0.70699\n"
     ]
    },
    {
     "name": "stderr",
     "output_type": "stream",
     "text": [
      "C:\\Users\\admin\\anaconda3\\envs\\pythonProject10\\lib\\site-packages\\sklearn\\cluster\\k_means_.py:968: RuntimeWarning: Explicit initial center position passed: performing only one init in k-means instead of n_init=10\n",
      "  return_n_iter=True)\n",
      "C:\\Users\\admin\\anaconda3\\envs\\pythonProject10\\lib\\site-packages\\sklearn\\metrics\\cluster\\supervised.py:844: FutureWarning: The behavior of NMI will change in version 0.22. To match the behavior of 'v_measure_score', NMI will use average_method='arithmetic' by default.\n",
      "  FutureWarning)\n",
      "C:\\Users\\admin\\anaconda3\\envs\\pythonProject10\\lib\\site-packages\\sklearn\\cluster\\k_means_.py:968: RuntimeWarning: Explicit initial center position passed: performing only one init in k-means instead of n_init=10\n",
      "  return_n_iter=True)\n",
      "C:\\Users\\admin\\anaconda3\\envs\\pythonProject10\\lib\\site-packages\\sklearn\\metrics\\cluster\\supervised.py:844: FutureWarning: The behavior of NMI will change in version 0.22. To match the behavior of 'v_measure_score', NMI will use average_method='arithmetic' by default.\n",
      "  FutureWarning)\n"
     ]
    },
    {
     "name": "stdout",
     "output_type": "stream",
     "text": [
      "step- 1900  cost: 9.988735e+19\n",
      "count- [20637 16336 38577 38910]\n",
      "[2 2 2 2 2 2 2 2 2 2 2 2 2 2 2 2 0 0 0 0 0 0 0 0 2 0 0 0 3 3 3 3 3 3 3 3 3\n",
      " 2 3 3 2 3 3 3 2 3 3 2 3 3 2 3 1 1 1 1 1 1 1 1]\n",
      "acc: 0.9\n",
      "nmi: 0.80087\n",
      "ari: 0.70699\n",
      "step- 1910  cost: 1.21729035e+20\n",
      "count- [20747 16416 38797 39100]\n",
      "[2 2 2 2 2 2 2 2 2 2 2 2 2 2 2 2 0 0 0 0 0 0 0 0 2 0 0 0 3 3 3 3 3 3 3 3 3\n",
      " 2 3 3 2 3 3 3 2 3 3 2 3 3 2 3 1 1 1 1 1 1 1 1]\n",
      "acc: 0.9\n",
      "nmi: 0.80087\n",
      "ari: 0.70699\n"
     ]
    },
    {
     "name": "stderr",
     "output_type": "stream",
     "text": [
      "C:\\Users\\admin\\anaconda3\\envs\\pythonProject10\\lib\\site-packages\\sklearn\\cluster\\k_means_.py:968: RuntimeWarning: Explicit initial center position passed: performing only one init in k-means instead of n_init=10\n",
      "  return_n_iter=True)\n",
      "C:\\Users\\admin\\anaconda3\\envs\\pythonProject10\\lib\\site-packages\\sklearn\\metrics\\cluster\\supervised.py:844: FutureWarning: The behavior of NMI will change in version 0.22. To match the behavior of 'v_measure_score', NMI will use average_method='arithmetic' by default.\n",
      "  FutureWarning)\n",
      "C:\\Users\\admin\\anaconda3\\envs\\pythonProject10\\lib\\site-packages\\sklearn\\cluster\\k_means_.py:968: RuntimeWarning: Explicit initial center position passed: performing only one init in k-means instead of n_init=10\n",
      "  return_n_iter=True)\n",
      "C:\\Users\\admin\\anaconda3\\envs\\pythonProject10\\lib\\site-packages\\sklearn\\metrics\\cluster\\supervised.py:844: FutureWarning: The behavior of NMI will change in version 0.22. To match the behavior of 'v_measure_score', NMI will use average_method='arithmetic' by default.\n",
      "  FutureWarning)\n"
     ]
    },
    {
     "name": "stdout",
     "output_type": "stream",
     "text": [
      "step- 1920  cost: 1.0932518e+19\n",
      "count- [20857 16496 39017 39290]\n",
      "[2 2 2 2 2 2 2 2 2 2 2 2 2 2 2 2 0 0 0 0 0 0 0 0 2 0 0 0 3 3 3 3 3 3 3 3 3\n",
      " 2 3 3 2 3 3 3 2 3 3 2 3 3 2 3 1 1 1 1 1 1 1 1]\n",
      "acc: 0.9\n",
      "nmi: 0.80087\n",
      "ari: 0.70699\n",
      "step- 1930  cost: 1.4201317e+20\n",
      "count- [20967 16576 39237 39480]\n",
      "[2 2 2 2 2 2 2 2 2 2 2 2 2 2 2 2 0 0 0 0 0 0 0 0 2 0 0 0 3 3 3 3 3 3 3 3 3\n",
      " 2 3 3 2 3 3 3 2 3 3 2 3 3 2 3 1 1 1 1 1 1 1 1]\n",
      "acc: 0.9\n",
      "nmi: 0.80087\n",
      "ari: 0.70699\n"
     ]
    },
    {
     "name": "stderr",
     "output_type": "stream",
     "text": [
      "C:\\Users\\admin\\anaconda3\\envs\\pythonProject10\\lib\\site-packages\\sklearn\\cluster\\k_means_.py:968: RuntimeWarning: Explicit initial center position passed: performing only one init in k-means instead of n_init=10\n",
      "  return_n_iter=True)\n",
      "C:\\Users\\admin\\anaconda3\\envs\\pythonProject10\\lib\\site-packages\\sklearn\\metrics\\cluster\\supervised.py:844: FutureWarning: The behavior of NMI will change in version 0.22. To match the behavior of 'v_measure_score', NMI will use average_method='arithmetic' by default.\n",
      "  FutureWarning)\n",
      "C:\\Users\\admin\\anaconda3\\envs\\pythonProject10\\lib\\site-packages\\sklearn\\cluster\\k_means_.py:968: RuntimeWarning: Explicit initial center position passed: performing only one init in k-means instead of n_init=10\n",
      "  return_n_iter=True)\n",
      "C:\\Users\\admin\\anaconda3\\envs\\pythonProject10\\lib\\site-packages\\sklearn\\metrics\\cluster\\supervised.py:844: FutureWarning: The behavior of NMI will change in version 0.22. To match the behavior of 'v_measure_score', NMI will use average_method='arithmetic' by default.\n",
      "  FutureWarning)\n"
     ]
    },
    {
     "name": "stdout",
     "output_type": "stream",
     "text": [
      "step- 1940  cost: 9.182999e+18\n",
      "count- [21077 16656 39457 39670]\n",
      "[2 2 2 2 2 2 2 2 2 2 2 2 2 2 2 2 0 0 0 0 0 0 0 0 2 0 0 0 3 3 3 3 3 3 3 3 3\n",
      " 2 3 3 2 3 3 3 2 3 3 2 3 3 2 3 1 1 1 1 1 1 1 1]\n",
      "acc: 0.9\n",
      "nmi: 0.80087\n",
      "ari: 0.70699\n",
      "step- 1950  cost: 3.445445e+19\n",
      "count- [21187 16736 39677 39860]\n",
      "[2 2 2 2 2 2 2 2 2 2 2 2 2 2 2 2 0 0 0 0 0 0 0 0 2 0 0 0 3 3 3 3 3 3 3 3 3\n",
      " 2 3 3 2 3 3 3 2 3 3 2 3 3 2 3 1 1 1 1 1 1 1 1]\n",
      "acc: 0.9\n",
      "nmi: 0.80087\n",
      "ari: 0.70699\n"
     ]
    },
    {
     "name": "stderr",
     "output_type": "stream",
     "text": [
      "C:\\Users\\admin\\anaconda3\\envs\\pythonProject10\\lib\\site-packages\\sklearn\\cluster\\k_means_.py:968: RuntimeWarning: Explicit initial center position passed: performing only one init in k-means instead of n_init=10\n",
      "  return_n_iter=True)\n",
      "C:\\Users\\admin\\anaconda3\\envs\\pythonProject10\\lib\\site-packages\\sklearn\\metrics\\cluster\\supervised.py:844: FutureWarning: The behavior of NMI will change in version 0.22. To match the behavior of 'v_measure_score', NMI will use average_method='arithmetic' by default.\n",
      "  FutureWarning)\n",
      "C:\\Users\\admin\\anaconda3\\envs\\pythonProject10\\lib\\site-packages\\sklearn\\cluster\\k_means_.py:968: RuntimeWarning: Explicit initial center position passed: performing only one init in k-means instead of n_init=10\n",
      "  return_n_iter=True)\n",
      "C:\\Users\\admin\\anaconda3\\envs\\pythonProject10\\lib\\site-packages\\sklearn\\metrics\\cluster\\supervised.py:844: FutureWarning: The behavior of NMI will change in version 0.22. To match the behavior of 'v_measure_score', NMI will use average_method='arithmetic' by default.\n",
      "  FutureWarning)\n"
     ]
    },
    {
     "name": "stdout",
     "output_type": "stream",
     "text": [
      "step- 1960  cost: 1.0510355e+20\n",
      "count- [21297 16816 39897 40050]\n",
      "[2 2 2 2 2 2 2 2 2 2 2 2 2 2 2 2 0 0 0 0 0 0 0 0 2 0 0 0 3 3 3 3 3 3 3 3 3\n",
      " 2 3 3 2 3 3 3 2 3 3 2 3 3 2 3 1 1 1 1 1 1 1 1]\n",
      "acc: 0.9\n",
      "nmi: 0.80087\n",
      "ari: 0.70699\n",
      "step- 1970  cost: 1.6410591e+20\n",
      "count- [21407 16896 40117 40240]\n",
      "[2 2 2 2 2 2 2 2 2 2 2 2 2 2 2 2 0 0 0 0 0 0 0 0 2 0 0 0 3 3 3 3 3 3 3 3 3\n",
      " 2 3 3 2 3 3 3 2 3 3 2 3 3 2 3 1 1 1 1 1 1 1 1]\n",
      "acc: 0.9\n",
      "nmi: 0.80087\n",
      "ari: 0.70699\n"
     ]
    },
    {
     "name": "stderr",
     "output_type": "stream",
     "text": [
      "C:\\Users\\admin\\anaconda3\\envs\\pythonProject10\\lib\\site-packages\\sklearn\\cluster\\k_means_.py:968: RuntimeWarning: Explicit initial center position passed: performing only one init in k-means instead of n_init=10\n",
      "  return_n_iter=True)\n",
      "C:\\Users\\admin\\anaconda3\\envs\\pythonProject10\\lib\\site-packages\\sklearn\\metrics\\cluster\\supervised.py:844: FutureWarning: The behavior of NMI will change in version 0.22. To match the behavior of 'v_measure_score', NMI will use average_method='arithmetic' by default.\n",
      "  FutureWarning)\n",
      "C:\\Users\\admin\\anaconda3\\envs\\pythonProject10\\lib\\site-packages\\sklearn\\cluster\\k_means_.py:968: RuntimeWarning: Explicit initial center position passed: performing only one init in k-means instead of n_init=10\n",
      "  return_n_iter=True)\n",
      "C:\\Users\\admin\\anaconda3\\envs\\pythonProject10\\lib\\site-packages\\sklearn\\metrics\\cluster\\supervised.py:844: FutureWarning: The behavior of NMI will change in version 0.22. To match the behavior of 'v_measure_score', NMI will use average_method='arithmetic' by default.\n",
      "  FutureWarning)\n"
     ]
    },
    {
     "name": "stdout",
     "output_type": "stream",
     "text": [
      "step- 1980  cost: 2.8210286e+19\n",
      "count- [21517 16976 40337 40430]\n",
      "[2 2 2 2 2 2 2 2 2 2 2 2 2 2 2 2 0 0 0 0 0 0 0 0 2 0 0 0 3 3 3 3 3 3 3 3 3\n",
      " 2 3 3 2 3 3 3 2 3 3 2 3 3 2 3 1 1 1 1 1 1 1 1]\n",
      "acc: 0.9\n",
      "nmi: 0.80087\n",
      "ari: 0.70699\n",
      "step- 1990  cost: 1.9212456e+20\n",
      "count- [21627 17056 40557 40620]\n",
      "[2 2 2 2 2 2 2 2 2 2 2 2 2 2 2 2 0 0 0 0 0 0 0 0 2 0 0 0 3 3 3 3 3 3 3 3 3\n",
      " 2 3 3 2 3 3 3 2 3 3 2 3 3 2 3 1 1 1 1 1 1 1 1]\n",
      "acc: 0.9\n",
      "nmi: 0.80087\n",
      "ari: 0.70699\n"
     ]
    },
    {
     "name": "stderr",
     "output_type": "stream",
     "text": [
      "C:\\Users\\admin\\anaconda3\\envs\\pythonProject10\\lib\\site-packages\\sklearn\\cluster\\k_means_.py:968: RuntimeWarning: Explicit initial center position passed: performing only one init in k-means instead of n_init=10\n",
      "  return_n_iter=True)\n",
      "C:\\Users\\admin\\anaconda3\\envs\\pythonProject10\\lib\\site-packages\\sklearn\\metrics\\cluster\\supervised.py:844: FutureWarning: The behavior of NMI will change in version 0.22. To match the behavior of 'v_measure_score', NMI will use average_method='arithmetic' by default.\n",
      "  FutureWarning)\n",
      "C:\\Users\\admin\\anaconda3\\envs\\pythonProject10\\lib\\site-packages\\sklearn\\cluster\\k_means_.py:968: RuntimeWarning: Explicit initial center position passed: performing only one init in k-means instead of n_init=10\n",
      "  return_n_iter=True)\n",
      "C:\\Users\\admin\\anaconda3\\envs\\pythonProject10\\lib\\site-packages\\sklearn\\metrics\\cluster\\supervised.py:844: FutureWarning: The behavior of NMI will change in version 0.22. To match the behavior of 'v_measure_score', NMI will use average_method='arithmetic' by default.\n",
      "  FutureWarning)\n"
     ]
    },
    {
     "name": "stdout",
     "output_type": "stream",
     "text": [
      "step- 2000  cost: 1.6081863e+19\n",
      "count- [21737 17136 40777 40810]\n",
      "[2 2 2 2 2 2 2 2 2 2 2 2 2 2 2 2 0 0 0 0 0 0 0 0 2 0 0 0 3 3 3 3 3 3 3 3 3\n",
      " 2 3 3 2 3 3 3 2 3 3 2 3 3 2 3 1 1 1 1 1 1 1 1]\n",
      "acc: 0.9\n",
      "nmi: 0.80087\n",
      "ari: 0.70699\n",
      "step- 2010  cost: 5.5300254e+19\n",
      "count- [21847 17216 40997 41000]\n",
      "[2 2 2 2 2 2 2 2 2 2 2 2 2 2 2 2 0 0 0 0 0 0 0 0 2 0 0 0 3 3 3 3 3 3 3 3 3\n",
      " 2 3 3 2 3 3 3 2 3 3 2 3 3 2 3 1 1 1 1 1 1 1 1]\n",
      "acc: 0.9\n",
      "nmi: 0.80087\n",
      "ari: 0.70699\n"
     ]
    },
    {
     "name": "stderr",
     "output_type": "stream",
     "text": [
      "C:\\Users\\admin\\anaconda3\\envs\\pythonProject10\\lib\\site-packages\\sklearn\\cluster\\k_means_.py:968: RuntimeWarning: Explicit initial center position passed: performing only one init in k-means instead of n_init=10\n",
      "  return_n_iter=True)\n",
      "C:\\Users\\admin\\anaconda3\\envs\\pythonProject10\\lib\\site-packages\\sklearn\\metrics\\cluster\\supervised.py:844: FutureWarning: The behavior of NMI will change in version 0.22. To match the behavior of 'v_measure_score', NMI will use average_method='arithmetic' by default.\n",
      "  FutureWarning)\n",
      "C:\\Users\\admin\\anaconda3\\envs\\pythonProject10\\lib\\site-packages\\sklearn\\cluster\\k_means_.py:968: RuntimeWarning: Explicit initial center position passed: performing only one init in k-means instead of n_init=10\n",
      "  return_n_iter=True)\n",
      "C:\\Users\\admin\\anaconda3\\envs\\pythonProject10\\lib\\site-packages\\sklearn\\metrics\\cluster\\supervised.py:844: FutureWarning: The behavior of NMI will change in version 0.22. To match the behavior of 'v_measure_score', NMI will use average_method='arithmetic' by default.\n",
      "  FutureWarning)\n"
     ]
    },
    {
     "name": "stdout",
     "output_type": "stream",
     "text": [
      "step- 2020  cost: 6.692677e+20\n",
      "count- [21957 17296 41217 41190]\n",
      "[2 2 2 2 2 2 2 2 2 2 2 2 2 2 2 2 0 0 0 0 0 0 0 0 2 0 0 0 3 3 3 3 3 3 3 3 3\n",
      " 2 3 3 2 3 3 3 2 3 3 2 3 3 2 3 1 1 1 1 1 1 1 1]\n",
      "acc: 0.9\n",
      "nmi: 0.80087\n",
      "ari: 0.70699\n",
      "step- 2030  cost: 1.1417326e+20\n",
      "count- [22067 17376 41437 41380]\n",
      "[2 2 2 2 2 2 2 2 2 2 2 2 2 2 2 2 0 0 0 0 0 0 0 0 2 0 0 0 3 3 3 3 3 3 3 3 3\n",
      " 2 3 3 2 3 3 3 2 3 3 2 3 3 2 3 1 1 1 1 1 1 1 1]\n",
      "acc: 0.9\n",
      "nmi: 0.80087\n",
      "ari: 0.70699\n"
     ]
    },
    {
     "name": "stderr",
     "output_type": "stream",
     "text": [
      "C:\\Users\\admin\\anaconda3\\envs\\pythonProject10\\lib\\site-packages\\sklearn\\cluster\\k_means_.py:968: RuntimeWarning: Explicit initial center position passed: performing only one init in k-means instead of n_init=10\n",
      "  return_n_iter=True)\n",
      "C:\\Users\\admin\\anaconda3\\envs\\pythonProject10\\lib\\site-packages\\sklearn\\metrics\\cluster\\supervised.py:844: FutureWarning: The behavior of NMI will change in version 0.22. To match the behavior of 'v_measure_score', NMI will use average_method='arithmetic' by default.\n",
      "  FutureWarning)\n",
      "C:\\Users\\admin\\anaconda3\\envs\\pythonProject10\\lib\\site-packages\\sklearn\\cluster\\k_means_.py:968: RuntimeWarning: Explicit initial center position passed: performing only one init in k-means instead of n_init=10\n",
      "  return_n_iter=True)\n",
      "C:\\Users\\admin\\anaconda3\\envs\\pythonProject10\\lib\\site-packages\\sklearn\\metrics\\cluster\\supervised.py:844: FutureWarning: The behavior of NMI will change in version 0.22. To match the behavior of 'v_measure_score', NMI will use average_method='arithmetic' by default.\n",
      "  FutureWarning)\n"
     ]
    },
    {
     "name": "stdout",
     "output_type": "stream",
     "text": [
      "step- 2040  cost: 6.2600105e+19\n",
      "count- [22177 17456 41657 41570]\n",
      "[2 2 2 2 2 2 2 2 2 2 2 2 2 2 2 2 0 0 0 0 0 0 0 0 2 0 0 0 3 3 3 3 3 3 3 3 3\n",
      " 2 3 3 2 3 3 3 2 3 3 2 3 3 2 3 1 1 1 1 1 1 1 1]\n",
      "acc: 0.9\n",
      "nmi: 0.80087\n",
      "ari: 0.70699\n",
      "step- 2050  cost: 4.0747736e+20\n",
      "count- [22287 17536 41877 41760]\n",
      "[2 2 2 2 2 2 2 2 2 2 2 2 2 2 2 2 0 0 0 0 0 0 0 0 2 0 0 0 3 3 3 3 3 3 3 3 3\n",
      " 2 3 3 2 3 3 3 2 3 3 2 3 3 2 3 1 1 1 1 1 1 1 1]\n",
      "acc: 0.9\n",
      "nmi: 0.80087\n",
      "ari: 0.70699\n"
     ]
    },
    {
     "name": "stderr",
     "output_type": "stream",
     "text": [
      "C:\\Users\\admin\\anaconda3\\envs\\pythonProject10\\lib\\site-packages\\sklearn\\cluster\\k_means_.py:968: RuntimeWarning: Explicit initial center position passed: performing only one init in k-means instead of n_init=10\n",
      "  return_n_iter=True)\n",
      "C:\\Users\\admin\\anaconda3\\envs\\pythonProject10\\lib\\site-packages\\sklearn\\metrics\\cluster\\supervised.py:844: FutureWarning: The behavior of NMI will change in version 0.22. To match the behavior of 'v_measure_score', NMI will use average_method='arithmetic' by default.\n",
      "  FutureWarning)\n",
      "C:\\Users\\admin\\anaconda3\\envs\\pythonProject10\\lib\\site-packages\\sklearn\\cluster\\k_means_.py:968: RuntimeWarning: Explicit initial center position passed: performing only one init in k-means instead of n_init=10\n",
      "  return_n_iter=True)\n",
      "C:\\Users\\admin\\anaconda3\\envs\\pythonProject10\\lib\\site-packages\\sklearn\\metrics\\cluster\\supervised.py:844: FutureWarning: The behavior of NMI will change in version 0.22. To match the behavior of 'v_measure_score', NMI will use average_method='arithmetic' by default.\n",
      "  FutureWarning)\n"
     ]
    },
    {
     "name": "stdout",
     "output_type": "stream",
     "text": [
      "step- 2060  cost: 1.7042882e+20\n",
      "count- [22397 17616 42097 41950]\n",
      "[2 2 2 2 2 2 2 2 2 2 2 2 2 2 2 2 0 0 0 0 0 0 0 0 2 0 0 0 3 3 3 3 3 3 3 3 3\n",
      " 2 3 3 2 3 3 3 2 3 3 2 3 3 2 3 1 1 1 1 1 1 1 1]\n",
      "acc: 0.9\n",
      "nmi: 0.80087\n",
      "ari: 0.70699\n",
      "step- 2070  cost: 6.8728924e+19\n",
      "count- [22507 17696 42317 42140]\n",
      "[2 2 2 2 2 2 2 2 2 2 2 2 2 2 2 2 0 0 0 0 0 0 0 0 2 0 0 0 3 3 3 3 3 3 3 3 3\n",
      " 2 3 3 2 3 3 3 2 3 3 2 3 3 2 3 1 1 1 1 1 1 1 1]\n",
      "acc: 0.9\n",
      "nmi: 0.80087\n",
      "ari: 0.70699\n"
     ]
    },
    {
     "name": "stderr",
     "output_type": "stream",
     "text": [
      "C:\\Users\\admin\\anaconda3\\envs\\pythonProject10\\lib\\site-packages\\sklearn\\cluster\\k_means_.py:968: RuntimeWarning: Explicit initial center position passed: performing only one init in k-means instead of n_init=10\n",
      "  return_n_iter=True)\n",
      "C:\\Users\\admin\\anaconda3\\envs\\pythonProject10\\lib\\site-packages\\sklearn\\metrics\\cluster\\supervised.py:844: FutureWarning: The behavior of NMI will change in version 0.22. To match the behavior of 'v_measure_score', NMI will use average_method='arithmetic' by default.\n",
      "  FutureWarning)\n",
      "C:\\Users\\admin\\anaconda3\\envs\\pythonProject10\\lib\\site-packages\\sklearn\\cluster\\k_means_.py:968: RuntimeWarning: Explicit initial center position passed: performing only one init in k-means instead of n_init=10\n",
      "  return_n_iter=True)\n",
      "C:\\Users\\admin\\anaconda3\\envs\\pythonProject10\\lib\\site-packages\\sklearn\\metrics\\cluster\\supervised.py:844: FutureWarning: The behavior of NMI will change in version 0.22. To match the behavior of 'v_measure_score', NMI will use average_method='arithmetic' by default.\n",
      "  FutureWarning)\n"
     ]
    },
    {
     "name": "stdout",
     "output_type": "stream",
     "text": [
      "step- 2080  cost: 5.4334003e+19\n",
      "count- [22617 17776 42537 42330]\n",
      "[2 2 2 2 2 2 2 2 2 2 2 2 2 2 2 2 0 0 0 0 0 0 0 0 2 0 0 0 3 3 3 3 3 3 3 3 3\n",
      " 2 3 3 2 3 3 3 2 3 3 2 3 3 2 3 1 1 1 1 1 1 1 1]\n",
      "acc: 0.9\n",
      "nmi: 0.80087\n",
      "ari: 0.70699\n",
      "step- 2090  cost: 5.130435e+19\n",
      "count- [22727 17856 42757 42520]\n",
      "[2 2 2 2 2 2 2 2 2 2 2 2 2 2 2 2 0 0 0 0 0 0 0 0 2 0 0 0 3 3 3 3 3 3 3 3 3\n",
      " 2 3 3 2 3 3 3 2 3 3 2 3 3 2 3 1 1 1 1 1 1 1 1]\n",
      "acc: 0.9\n",
      "nmi: 0.80087\n",
      "ari: 0.70699\n"
     ]
    },
    {
     "name": "stderr",
     "output_type": "stream",
     "text": [
      "C:\\Users\\admin\\anaconda3\\envs\\pythonProject10\\lib\\site-packages\\sklearn\\cluster\\k_means_.py:968: RuntimeWarning: Explicit initial center position passed: performing only one init in k-means instead of n_init=10\n",
      "  return_n_iter=True)\n",
      "C:\\Users\\admin\\anaconda3\\envs\\pythonProject10\\lib\\site-packages\\sklearn\\metrics\\cluster\\supervised.py:844: FutureWarning: The behavior of NMI will change in version 0.22. To match the behavior of 'v_measure_score', NMI will use average_method='arithmetic' by default.\n",
      "  FutureWarning)\n",
      "C:\\Users\\admin\\anaconda3\\envs\\pythonProject10\\lib\\site-packages\\sklearn\\cluster\\k_means_.py:968: RuntimeWarning: Explicit initial center position passed: performing only one init in k-means instead of n_init=10\n",
      "  return_n_iter=True)\n",
      "C:\\Users\\admin\\anaconda3\\envs\\pythonProject10\\lib\\site-packages\\sklearn\\metrics\\cluster\\supervised.py:844: FutureWarning: The behavior of NMI will change in version 0.22. To match the behavior of 'v_measure_score', NMI will use average_method='arithmetic' by default.\n",
      "  FutureWarning)\n"
     ]
    },
    {
     "name": "stdout",
     "output_type": "stream",
     "text": [
      "step- 2100  cost: 5.3331183e+19\n",
      "count- [22837 17936 42977 42710]\n",
      "[2 2 2 2 2 2 2 2 2 2 2 2 2 2 2 2 0 0 0 0 0 0 0 0 2 0 0 0 3 3 3 3 3 3 3 3 3\n",
      " 2 3 3 2 3 3 3 2 3 3 2 3 3 2 3 1 1 1 1 1 1 1 1]\n",
      "acc: 0.9\n",
      "nmi: 0.80087\n",
      "ari: 0.70699\n",
      "step- 2110  cost: 7.747945e+19\n",
      "count- [22947 18016 43197 42900]\n",
      "[2 2 2 2 2 2 2 2 2 2 2 2 2 2 2 2 0 0 0 0 0 0 0 0 2 0 0 0 3 3 3 3 3 3 3 3 3\n",
      " 2 3 3 2 3 3 3 2 3 3 2 3 3 2 3 1 1 1 1 1 1 1 1]\n",
      "acc: 0.9\n",
      "nmi: 0.80087\n",
      "ari: 0.70699\n"
     ]
    },
    {
     "name": "stderr",
     "output_type": "stream",
     "text": [
      "C:\\Users\\admin\\anaconda3\\envs\\pythonProject10\\lib\\site-packages\\sklearn\\cluster\\k_means_.py:968: RuntimeWarning: Explicit initial center position passed: performing only one init in k-means instead of n_init=10\n",
      "  return_n_iter=True)\n",
      "C:\\Users\\admin\\anaconda3\\envs\\pythonProject10\\lib\\site-packages\\sklearn\\metrics\\cluster\\supervised.py:844: FutureWarning: The behavior of NMI will change in version 0.22. To match the behavior of 'v_measure_score', NMI will use average_method='arithmetic' by default.\n",
      "  FutureWarning)\n",
      "C:\\Users\\admin\\anaconda3\\envs\\pythonProject10\\lib\\site-packages\\sklearn\\cluster\\k_means_.py:968: RuntimeWarning: Explicit initial center position passed: performing only one init in k-means instead of n_init=10\n",
      "  return_n_iter=True)\n",
      "C:\\Users\\admin\\anaconda3\\envs\\pythonProject10\\lib\\site-packages\\sklearn\\metrics\\cluster\\supervised.py:844: FutureWarning: The behavior of NMI will change in version 0.22. To match the behavior of 'v_measure_score', NMI will use average_method='arithmetic' by default.\n",
      "  FutureWarning)\n"
     ]
    },
    {
     "name": "stdout",
     "output_type": "stream",
     "text": [
      "step- 2120  cost: 7.0726886e+19\n",
      "count- [23057 18096 43417 43090]\n",
      "[2 2 2 2 2 2 2 2 2 2 2 2 2 2 2 2 0 0 0 0 0 0 0 0 2 0 0 0 3 3 3 3 3 3 3 3 3\n",
      " 2 3 3 2 3 3 3 2 3 3 2 3 3 2 3 1 1 1 1 1 1 1 1]\n",
      "acc: 0.9\n",
      "nmi: 0.80087\n",
      "ari: 0.70699\n",
      "step- 2130  cost: 1.12943726e+20\n",
      "count- [23167 18176 43637 43280]\n",
      "[2 2 2 2 2 2 2 2 2 2 2 2 2 2 2 2 0 0 0 0 0 0 0 0 2 0 0 0 3 3 3 3 3 3 3 3 3\n",
      " 2 3 3 2 3 3 3 2 3 3 2 3 3 2 3 1 1 1 1 1 1 1 1]\n",
      "acc: 0.9\n",
      "nmi: 0.80087\n",
      "ari: 0.70699\n"
     ]
    },
    {
     "name": "stderr",
     "output_type": "stream",
     "text": [
      "C:\\Users\\admin\\anaconda3\\envs\\pythonProject10\\lib\\site-packages\\sklearn\\cluster\\k_means_.py:968: RuntimeWarning: Explicit initial center position passed: performing only one init in k-means instead of n_init=10\n",
      "  return_n_iter=True)\n",
      "C:\\Users\\admin\\anaconda3\\envs\\pythonProject10\\lib\\site-packages\\sklearn\\metrics\\cluster\\supervised.py:844: FutureWarning: The behavior of NMI will change in version 0.22. To match the behavior of 'v_measure_score', NMI will use average_method='arithmetic' by default.\n",
      "  FutureWarning)\n",
      "C:\\Users\\admin\\anaconda3\\envs\\pythonProject10\\lib\\site-packages\\sklearn\\cluster\\k_means_.py:968: RuntimeWarning: Explicit initial center position passed: performing only one init in k-means instead of n_init=10\n",
      "  return_n_iter=True)\n",
      "C:\\Users\\admin\\anaconda3\\envs\\pythonProject10\\lib\\site-packages\\sklearn\\metrics\\cluster\\supervised.py:844: FutureWarning: The behavior of NMI will change in version 0.22. To match the behavior of 'v_measure_score', NMI will use average_method='arithmetic' by default.\n",
      "  FutureWarning)\n"
     ]
    },
    {
     "name": "stdout",
     "output_type": "stream",
     "text": [
      "step- 2140  cost: 2.3113406e+20\n",
      "count- [23277 18256 43857 43470]\n",
      "[2 2 2 2 2 2 2 2 2 2 2 2 2 2 2 2 0 0 0 0 0 0 0 0 2 0 0 0 3 3 3 3 3 3 3 3 3\n",
      " 2 3 3 2 3 3 3 2 3 3 2 3 3 2 3 1 1 1 1 1 1 1 1]\n",
      "acc: 0.9\n",
      "nmi: 0.80087\n",
      "ari: 0.70699\n",
      "step- 2150  cost: 9.335849e+19\n",
      "count- [23387 18336 44077 43660]\n",
      "[2 2 2 2 2 2 2 2 2 2 2 2 2 2 2 2 0 0 0 0 0 0 0 0 2 0 0 0 3 3 3 3 3 3 3 3 3\n",
      " 2 3 3 2 3 3 3 2 3 3 2 3 3 2 3 1 1 1 1 1 1 1 1]\n",
      "acc: 0.9\n",
      "nmi: 0.80087\n",
      "ari: 0.70699\n"
     ]
    },
    {
     "name": "stderr",
     "output_type": "stream",
     "text": [
      "C:\\Users\\admin\\anaconda3\\envs\\pythonProject10\\lib\\site-packages\\sklearn\\cluster\\k_means_.py:968: RuntimeWarning: Explicit initial center position passed: performing only one init in k-means instead of n_init=10\n",
      "  return_n_iter=True)\n",
      "C:\\Users\\admin\\anaconda3\\envs\\pythonProject10\\lib\\site-packages\\sklearn\\metrics\\cluster\\supervised.py:844: FutureWarning: The behavior of NMI will change in version 0.22. To match the behavior of 'v_measure_score', NMI will use average_method='arithmetic' by default.\n",
      "  FutureWarning)\n",
      "C:\\Users\\admin\\anaconda3\\envs\\pythonProject10\\lib\\site-packages\\sklearn\\cluster\\k_means_.py:968: RuntimeWarning: Explicit initial center position passed: performing only one init in k-means instead of n_init=10\n",
      "  return_n_iter=True)\n",
      "C:\\Users\\admin\\anaconda3\\envs\\pythonProject10\\lib\\site-packages\\sklearn\\metrics\\cluster\\supervised.py:844: FutureWarning: The behavior of NMI will change in version 0.22. To match the behavior of 'v_measure_score', NMI will use average_method='arithmetic' by default.\n",
      "  FutureWarning)\n"
     ]
    },
    {
     "name": "stdout",
     "output_type": "stream",
     "text": [
      "step- 2160  cost: 8.524787e+19\n",
      "count- [23497 18416 44297 43850]\n",
      "[2 2 2 2 2 2 2 2 2 2 2 2 2 2 2 2 0 0 0 0 0 0 0 0 2 0 0 0 3 3 3 3 3 3 3 3 3\n",
      " 2 3 3 2 3 3 3 2 3 3 2 3 3 2 3 1 1 1 1 1 1 1 1]\n",
      "acc: 0.9\n",
      "nmi: 0.80087\n",
      "ari: 0.70699\n",
      "step- 2170  cost: 1.5275283e+20\n",
      "count- [23607 18496 44517 44040]\n",
      "[2 2 2 2 2 2 2 2 2 2 2 2 2 2 2 2 0 0 0 0 0 0 0 0 2 0 0 0 3 3 3 3 3 3 3 3 3\n",
      " 2 3 3 2 3 3 3 2 3 3 2 3 3 2 3 1 1 1 1 1 1 1 1]\n",
      "acc: 0.9\n",
      "nmi: 0.80087\n",
      "ari: 0.70699\n"
     ]
    },
    {
     "name": "stderr",
     "output_type": "stream",
     "text": [
      "C:\\Users\\admin\\anaconda3\\envs\\pythonProject10\\lib\\site-packages\\sklearn\\cluster\\k_means_.py:968: RuntimeWarning: Explicit initial center position passed: performing only one init in k-means instead of n_init=10\n",
      "  return_n_iter=True)\n",
      "C:\\Users\\admin\\anaconda3\\envs\\pythonProject10\\lib\\site-packages\\sklearn\\metrics\\cluster\\supervised.py:844: FutureWarning: The behavior of NMI will change in version 0.22. To match the behavior of 'v_measure_score', NMI will use average_method='arithmetic' by default.\n",
      "  FutureWarning)\n",
      "C:\\Users\\admin\\anaconda3\\envs\\pythonProject10\\lib\\site-packages\\sklearn\\cluster\\k_means_.py:968: RuntimeWarning: Explicit initial center position passed: performing only one init in k-means instead of n_init=10\n",
      "  return_n_iter=True)\n",
      "C:\\Users\\admin\\anaconda3\\envs\\pythonProject10\\lib\\site-packages\\sklearn\\metrics\\cluster\\supervised.py:844: FutureWarning: The behavior of NMI will change in version 0.22. To match the behavior of 'v_measure_score', NMI will use average_method='arithmetic' by default.\n",
      "  FutureWarning)\n"
     ]
    },
    {
     "name": "stdout",
     "output_type": "stream",
     "text": [
      "step- 2180  cost: 3.993952e+20\n",
      "count- [23717 18576 44737 44230]\n",
      "[2 2 2 2 2 2 2 2 2 2 2 2 2 2 2 2 0 0 0 0 0 0 0 0 2 0 0 0 3 3 3 3 3 3 3 3 3\n",
      " 2 3 3 2 3 3 3 2 3 3 2 3 3 2 3 1 1 1 1 1 1 1 1]\n",
      "acc: 0.9\n",
      "nmi: 0.80087\n",
      "ari: 0.70699\n",
      "step- 2190  cost: 3.2867988e+20\n",
      "count- [23827 18656 44957 44420]\n",
      "[2 2 2 2 2 2 2 2 2 2 2 2 2 2 2 2 0 0 0 0 0 0 0 0 2 0 0 0 3 3 3 3 3 3 3 3 3\n",
      " 2 3 3 2 3 3 3 2 3 3 2 3 3 2 3 1 1 1 1 1 1 1 1]\n",
      "acc: 0.9\n",
      "nmi: 0.80087\n",
      "ari: 0.70699\n"
     ]
    },
    {
     "name": "stderr",
     "output_type": "stream",
     "text": [
      "C:\\Users\\admin\\anaconda3\\envs\\pythonProject10\\lib\\site-packages\\sklearn\\cluster\\k_means_.py:968: RuntimeWarning: Explicit initial center position passed: performing only one init in k-means instead of n_init=10\n",
      "  return_n_iter=True)\n",
      "C:\\Users\\admin\\anaconda3\\envs\\pythonProject10\\lib\\site-packages\\sklearn\\metrics\\cluster\\supervised.py:844: FutureWarning: The behavior of NMI will change in version 0.22. To match the behavior of 'v_measure_score', NMI will use average_method='arithmetic' by default.\n",
      "  FutureWarning)\n",
      "C:\\Users\\admin\\anaconda3\\envs\\pythonProject10\\lib\\site-packages\\sklearn\\cluster\\k_means_.py:968: RuntimeWarning: Explicit initial center position passed: performing only one init in k-means instead of n_init=10\n",
      "  return_n_iter=True)\n",
      "C:\\Users\\admin\\anaconda3\\envs\\pythonProject10\\lib\\site-packages\\sklearn\\metrics\\cluster\\supervised.py:844: FutureWarning: The behavior of NMI will change in version 0.22. To match the behavior of 'v_measure_score', NMI will use average_method='arithmetic' by default.\n",
      "  FutureWarning)\n"
     ]
    },
    {
     "name": "stdout",
     "output_type": "stream",
     "text": [
      "step- 2200  cost: 3.9254184e+19\n",
      "count- [23937 18736 45177 44610]\n",
      "[2 2 2 2 2 2 2 2 2 2 2 2 2 2 2 2 0 0 0 0 0 0 0 0 2 0 0 0 3 3 3 3 3 3 3 3 3\n",
      " 2 3 3 2 3 3 3 2 3 3 2 3 3 2 3 1 1 1 1 1 1 1 1]\n",
      "acc: 0.9\n",
      "nmi: 0.80087\n",
      "ari: 0.70699\n",
      "step- 2210  cost: 1.7013218e+20\n",
      "count- [24047 18816 45397 44800]\n",
      "[2 2 2 2 2 2 2 2 2 2 2 2 2 2 2 2 0 0 0 0 0 0 0 0 2 0 0 0 3 3 3 3 3 3 3 3 3\n",
      " 2 3 3 2 3 3 3 2 3 3 2 3 3 2 3 1 1 1 1 1 1 1 1]\n",
      "acc: 0.9\n",
      "nmi: 0.80087\n",
      "ari: 0.70699\n"
     ]
    },
    {
     "name": "stderr",
     "output_type": "stream",
     "text": [
      "C:\\Users\\admin\\anaconda3\\envs\\pythonProject10\\lib\\site-packages\\sklearn\\cluster\\k_means_.py:968: RuntimeWarning: Explicit initial center position passed: performing only one init in k-means instead of n_init=10\n",
      "  return_n_iter=True)\n",
      "C:\\Users\\admin\\anaconda3\\envs\\pythonProject10\\lib\\site-packages\\sklearn\\metrics\\cluster\\supervised.py:844: FutureWarning: The behavior of NMI will change in version 0.22. To match the behavior of 'v_measure_score', NMI will use average_method='arithmetic' by default.\n",
      "  FutureWarning)\n",
      "C:\\Users\\admin\\anaconda3\\envs\\pythonProject10\\lib\\site-packages\\sklearn\\cluster\\k_means_.py:968: RuntimeWarning: Explicit initial center position passed: performing only one init in k-means instead of n_init=10\n",
      "  return_n_iter=True)\n",
      "C:\\Users\\admin\\anaconda3\\envs\\pythonProject10\\lib\\site-packages\\sklearn\\metrics\\cluster\\supervised.py:844: FutureWarning: The behavior of NMI will change in version 0.22. To match the behavior of 'v_measure_score', NMI will use average_method='arithmetic' by default.\n",
      "  FutureWarning)\n"
     ]
    },
    {
     "name": "stdout",
     "output_type": "stream",
     "text": [
      "step- 2220  cost: 6.983875e+20\n",
      "count- [24157 18896 45617 44990]\n",
      "[2 2 2 2 2 2 2 2 2 2 2 2 2 2 2 2 0 0 0 0 0 0 0 0 2 0 0 0 3 3 3 3 3 3 3 3 3\n",
      " 2 3 3 2 3 3 3 2 3 3 2 3 3 2 3 1 1 1 1 1 1 1 1]\n",
      "acc: 0.9\n",
      "nmi: 0.80087\n",
      "ari: 0.70699\n",
      "step- 2230  cost: 1.1084654e+20\n",
      "count- [24267 18976 45837 45180]\n",
      "[2 2 2 2 2 2 2 2 2 2 2 2 2 2 2 2 0 0 0 0 0 0 0 0 2 0 0 0 3 3 3 3 3 3 3 3 3\n",
      " 2 3 3 2 3 3 3 2 3 3 2 3 3 2 3 1 1 1 1 1 1 1 1]\n",
      "acc: 0.9\n",
      "nmi: 0.80087\n",
      "ari: 0.70699\n"
     ]
    },
    {
     "name": "stderr",
     "output_type": "stream",
     "text": [
      "C:\\Users\\admin\\anaconda3\\envs\\pythonProject10\\lib\\site-packages\\sklearn\\cluster\\k_means_.py:968: RuntimeWarning: Explicit initial center position passed: performing only one init in k-means instead of n_init=10\n",
      "  return_n_iter=True)\n",
      "C:\\Users\\admin\\anaconda3\\envs\\pythonProject10\\lib\\site-packages\\sklearn\\metrics\\cluster\\supervised.py:844: FutureWarning: The behavior of NMI will change in version 0.22. To match the behavior of 'v_measure_score', NMI will use average_method='arithmetic' by default.\n",
      "  FutureWarning)\n",
      "C:\\Users\\admin\\anaconda3\\envs\\pythonProject10\\lib\\site-packages\\sklearn\\cluster\\k_means_.py:968: RuntimeWarning: Explicit initial center position passed: performing only one init in k-means instead of n_init=10\n",
      "  return_n_iter=True)\n",
      "C:\\Users\\admin\\anaconda3\\envs\\pythonProject10\\lib\\site-packages\\sklearn\\metrics\\cluster\\supervised.py:844: FutureWarning: The behavior of NMI will change in version 0.22. To match the behavior of 'v_measure_score', NMI will use average_method='arithmetic' by default.\n",
      "  FutureWarning)\n"
     ]
    },
    {
     "name": "stdout",
     "output_type": "stream",
     "text": [
      "step- 2240  cost: 4.6463475e+19\n",
      "count- [24377 19056 46057 45370]\n",
      "[2 2 2 2 2 2 2 2 2 2 2 2 2 2 2 2 0 0 0 0 0 0 0 0 2 0 0 0 3 3 3 3 3 3 3 3 3\n",
      " 2 3 3 2 3 3 3 2 3 3 2 3 3 2 3 1 1 1 1 1 1 1 1]\n",
      "acc: 0.9\n",
      "nmi: 0.80087\n",
      "ari: 0.70699\n",
      "step- 2250  cost: 4.709364e+19\n",
      "count- [24487 19136 46277 45560]\n",
      "[2 2 2 2 2 2 2 2 2 2 2 2 2 2 2 2 0 0 0 0 0 0 0 0 2 0 0 0 3 3 3 3 3 3 3 3 3\n",
      " 2 3 3 2 3 3 3 2 3 3 2 3 3 2 3 1 1 1 1 1 1 1 1]\n",
      "acc: 0.9\n",
      "nmi: 0.80087\n",
      "ari: 0.70699\n"
     ]
    },
    {
     "name": "stderr",
     "output_type": "stream",
     "text": [
      "C:\\Users\\admin\\anaconda3\\envs\\pythonProject10\\lib\\site-packages\\sklearn\\cluster\\k_means_.py:968: RuntimeWarning: Explicit initial center position passed: performing only one init in k-means instead of n_init=10\n",
      "  return_n_iter=True)\n",
      "C:\\Users\\admin\\anaconda3\\envs\\pythonProject10\\lib\\site-packages\\sklearn\\metrics\\cluster\\supervised.py:844: FutureWarning: The behavior of NMI will change in version 0.22. To match the behavior of 'v_measure_score', NMI will use average_method='arithmetic' by default.\n",
      "  FutureWarning)\n",
      "C:\\Users\\admin\\anaconda3\\envs\\pythonProject10\\lib\\site-packages\\sklearn\\cluster\\k_means_.py:968: RuntimeWarning: Explicit initial center position passed: performing only one init in k-means instead of n_init=10\n",
      "  return_n_iter=True)\n",
      "C:\\Users\\admin\\anaconda3\\envs\\pythonProject10\\lib\\site-packages\\sklearn\\metrics\\cluster\\supervised.py:844: FutureWarning: The behavior of NMI will change in version 0.22. To match the behavior of 'v_measure_score', NMI will use average_method='arithmetic' by default.\n",
      "  FutureWarning)\n"
     ]
    },
    {
     "name": "stdout",
     "output_type": "stream",
     "text": [
      "step- 2260  cost: 9.315018e+20\n",
      "count- [24597 19216 46497 45750]\n",
      "[2 2 2 2 2 2 2 2 2 2 2 2 2 2 2 2 0 0 0 0 0 0 0 0 2 0 0 0 3 3 3 3 3 3 3 3 3\n",
      " 2 3 3 2 3 3 3 2 3 3 2 3 3 2 3 1 1 1 1 1 1 1 1]\n",
      "acc: 0.9\n",
      "nmi: 0.80087\n",
      "ari: 0.70699\n",
      "step- 2270  cost: 2.6084909e+20\n",
      "count- [24707 19296 46717 45940]\n",
      "[2 2 2 2 2 2 2 2 2 2 2 2 2 2 2 2 0 0 0 0 0 0 0 0 2 0 0 0 3 3 3 3 3 3 3 3 3\n",
      " 2 3 3 2 3 3 3 2 3 3 2 3 3 2 3 1 1 1 1 1 1 1 1]\n",
      "acc: 0.9\n",
      "nmi: 0.80087\n",
      "ari: 0.70699\n"
     ]
    },
    {
     "name": "stderr",
     "output_type": "stream",
     "text": [
      "C:\\Users\\admin\\anaconda3\\envs\\pythonProject10\\lib\\site-packages\\sklearn\\cluster\\k_means_.py:968: RuntimeWarning: Explicit initial center position passed: performing only one init in k-means instead of n_init=10\n",
      "  return_n_iter=True)\n",
      "C:\\Users\\admin\\anaconda3\\envs\\pythonProject10\\lib\\site-packages\\sklearn\\metrics\\cluster\\supervised.py:844: FutureWarning: The behavior of NMI will change in version 0.22. To match the behavior of 'v_measure_score', NMI will use average_method='arithmetic' by default.\n",
      "  FutureWarning)\n",
      "C:\\Users\\admin\\anaconda3\\envs\\pythonProject10\\lib\\site-packages\\sklearn\\cluster\\k_means_.py:968: RuntimeWarning: Explicit initial center position passed: performing only one init in k-means instead of n_init=10\n",
      "  return_n_iter=True)\n",
      "C:\\Users\\admin\\anaconda3\\envs\\pythonProject10\\lib\\site-packages\\sklearn\\metrics\\cluster\\supervised.py:844: FutureWarning: The behavior of NMI will change in version 0.22. To match the behavior of 'v_measure_score', NMI will use average_method='arithmetic' by default.\n",
      "  FutureWarning)\n"
     ]
    },
    {
     "name": "stdout",
     "output_type": "stream",
     "text": [
      "step- 2280  cost: 2.0609832e+20\n",
      "count- [24817 19376 46937 46130]\n",
      "[2 2 2 2 2 2 2 2 2 2 2 2 2 2 2 2 0 0 0 0 0 0 0 0 2 0 0 0 3 3 3 3 3 3 3 3 3\n",
      " 2 3 3 2 3 3 3 2 3 3 2 3 3 2 3 1 1 1 1 1 1 1 1]\n",
      "acc: 0.9\n",
      "nmi: 0.80087\n",
      "ari: 0.70699\n",
      "step- 2290  cost: 4.1087314e+20\n",
      "count- [24927 19456 47157 46320]\n",
      "[2 2 2 2 2 2 2 2 2 2 2 2 2 2 2 2 0 0 0 0 0 0 0 0 2 0 0 0 3 3 3 3 3 3 3 3 3\n",
      " 2 3 3 2 3 3 3 2 3 3 2 3 3 2 3 1 1 1 1 1 1 1 1]\n",
      "acc: 0.9\n",
      "nmi: 0.80087\n",
      "ari: 0.70699\n"
     ]
    },
    {
     "name": "stderr",
     "output_type": "stream",
     "text": [
      "C:\\Users\\admin\\anaconda3\\envs\\pythonProject10\\lib\\site-packages\\sklearn\\cluster\\k_means_.py:968: RuntimeWarning: Explicit initial center position passed: performing only one init in k-means instead of n_init=10\n",
      "  return_n_iter=True)\n",
      "C:\\Users\\admin\\anaconda3\\envs\\pythonProject10\\lib\\site-packages\\sklearn\\metrics\\cluster\\supervised.py:844: FutureWarning: The behavior of NMI will change in version 0.22. To match the behavior of 'v_measure_score', NMI will use average_method='arithmetic' by default.\n",
      "  FutureWarning)\n",
      "C:\\Users\\admin\\anaconda3\\envs\\pythonProject10\\lib\\site-packages\\sklearn\\cluster\\k_means_.py:968: RuntimeWarning: Explicit initial center position passed: performing only one init in k-means instead of n_init=10\n",
      "  return_n_iter=True)\n",
      "C:\\Users\\admin\\anaconda3\\envs\\pythonProject10\\lib\\site-packages\\sklearn\\metrics\\cluster\\supervised.py:844: FutureWarning: The behavior of NMI will change in version 0.22. To match the behavior of 'v_measure_score', NMI will use average_method='arithmetic' by default.\n",
      "  FutureWarning)\n"
     ]
    },
    {
     "name": "stdout",
     "output_type": "stream",
     "text": [
      "step- 2300  cost: 4.0506044e+20\n",
      "count- [25037 19536 47377 46510]\n",
      "[2 2 2 2 2 2 2 2 2 2 2 2 2 2 2 2 0 0 0 0 0 0 0 0 2 0 0 0 3 3 3 3 3 3 3 3 3\n",
      " 2 3 3 2 3 3 3 2 3 3 2 3 3 2 3 1 1 1 1 1 1 1 1]\n",
      "acc: 0.9\n",
      "nmi: 0.80087\n",
      "ari: 0.70699\n",
      "step- 2310  cost: 8.0262985e+19\n",
      "count- [25147 19616 47597 46700]\n",
      "[2 2 2 2 2 2 2 2 2 2 2 2 2 2 2 2 0 0 0 0 0 0 0 0 2 0 0 0 3 3 3 3 3 3 3 3 3\n",
      " 2 3 3 2 3 3 3 2 3 3 2 3 3 2 3 1 1 1 1 1 1 1 1]\n",
      "acc: 0.9\n",
      "nmi: 0.80087\n",
      "ari: 0.70699\n"
     ]
    },
    {
     "name": "stderr",
     "output_type": "stream",
     "text": [
      "C:\\Users\\admin\\anaconda3\\envs\\pythonProject10\\lib\\site-packages\\sklearn\\cluster\\k_means_.py:968: RuntimeWarning: Explicit initial center position passed: performing only one init in k-means instead of n_init=10\n",
      "  return_n_iter=True)\n",
      "C:\\Users\\admin\\anaconda3\\envs\\pythonProject10\\lib\\site-packages\\sklearn\\metrics\\cluster\\supervised.py:844: FutureWarning: The behavior of NMI will change in version 0.22. To match the behavior of 'v_measure_score', NMI will use average_method='arithmetic' by default.\n",
      "  FutureWarning)\n",
      "C:\\Users\\admin\\anaconda3\\envs\\pythonProject10\\lib\\site-packages\\sklearn\\cluster\\k_means_.py:968: RuntimeWarning: Explicit initial center position passed: performing only one init in k-means instead of n_init=10\n",
      "  return_n_iter=True)\n",
      "C:\\Users\\admin\\anaconda3\\envs\\pythonProject10\\lib\\site-packages\\sklearn\\metrics\\cluster\\supervised.py:844: FutureWarning: The behavior of NMI will change in version 0.22. To match the behavior of 'v_measure_score', NMI will use average_method='arithmetic' by default.\n",
      "  FutureWarning)\n"
     ]
    },
    {
     "name": "stdout",
     "output_type": "stream",
     "text": [
      "step- 2320  cost: 5.1330663e+20\n",
      "count- [25257 19696 47817 46890]\n",
      "[2 2 2 2 2 2 2 2 2 2 2 2 2 2 2 2 0 0 0 0 0 0 0 0 2 0 0 0 3 3 3 3 3 3 3 3 3\n",
      " 2 3 3 2 3 3 3 2 3 3 2 3 3 2 3 1 1 1 1 1 1 1 1]\n",
      "acc: 0.9\n",
      "nmi: 0.80087\n",
      "ari: 0.70699\n",
      "step- 2330  cost: 1.21395425e+20\n",
      "count- [25367 19776 48037 47080]\n",
      "[2 2 2 2 2 2 2 2 2 2 2 2 2 2 2 2 0 0 0 0 0 0 0 0 2 0 0 0 3 3 3 3 3 3 3 3 3\n",
      " 2 3 3 2 3 3 3 2 3 3 2 3 3 2 3 1 1 1 1 1 1 1 1]\n",
      "acc: 0.9\n",
      "nmi: 0.80087\n",
      "ari: 0.70699\n"
     ]
    },
    {
     "name": "stderr",
     "output_type": "stream",
     "text": [
      "C:\\Users\\admin\\anaconda3\\envs\\pythonProject10\\lib\\site-packages\\sklearn\\cluster\\k_means_.py:968: RuntimeWarning: Explicit initial center position passed: performing only one init in k-means instead of n_init=10\n",
      "  return_n_iter=True)\n",
      "C:\\Users\\admin\\anaconda3\\envs\\pythonProject10\\lib\\site-packages\\sklearn\\metrics\\cluster\\supervised.py:844: FutureWarning: The behavior of NMI will change in version 0.22. To match the behavior of 'v_measure_score', NMI will use average_method='arithmetic' by default.\n",
      "  FutureWarning)\n",
      "C:\\Users\\admin\\anaconda3\\envs\\pythonProject10\\lib\\site-packages\\sklearn\\cluster\\k_means_.py:968: RuntimeWarning: Explicit initial center position passed: performing only one init in k-means instead of n_init=10\n",
      "  return_n_iter=True)\n",
      "C:\\Users\\admin\\anaconda3\\envs\\pythonProject10\\lib\\site-packages\\sklearn\\metrics\\cluster\\supervised.py:844: FutureWarning: The behavior of NMI will change in version 0.22. To match the behavior of 'v_measure_score', NMI will use average_method='arithmetic' by default.\n",
      "  FutureWarning)\n"
     ]
    },
    {
     "name": "stdout",
     "output_type": "stream",
     "text": [
      "step- 2340  cost: 5.6192563e+20\n",
      "count- [25477 19856 48257 47270]\n",
      "[2 2 2 2 2 2 2 2 2 2 2 2 2 2 2 2 0 0 0 0 0 0 0 0 2 0 0 0 3 3 3 3 3 3 3 3 3\n",
      " 2 3 3 2 3 3 3 2 3 3 2 3 3 2 3 1 1 1 1 1 1 1 1]\n",
      "acc: 0.9\n",
      "nmi: 0.80087\n",
      "ari: 0.70699\n",
      "step- 2350  cost: 4.0461117e+20\n",
      "count- [25587 19936 48477 47460]\n",
      "[2 2 2 2 2 2 2 2 2 2 2 2 2 2 2 2 0 0 0 0 0 0 0 0 2 0 0 0 3 3 3 3 3 3 3 3 3\n",
      " 2 3 3 2 3 3 3 2 3 3 2 3 3 2 3 1 1 1 1 1 1 1 1]\n",
      "acc: 0.9\n",
      "nmi: 0.80087\n",
      "ari: 0.70699\n"
     ]
    },
    {
     "name": "stderr",
     "output_type": "stream",
     "text": [
      "C:\\Users\\admin\\anaconda3\\envs\\pythonProject10\\lib\\site-packages\\sklearn\\cluster\\k_means_.py:968: RuntimeWarning: Explicit initial center position passed: performing only one init in k-means instead of n_init=10\n",
      "  return_n_iter=True)\n",
      "C:\\Users\\admin\\anaconda3\\envs\\pythonProject10\\lib\\site-packages\\sklearn\\metrics\\cluster\\supervised.py:844: FutureWarning: The behavior of NMI will change in version 0.22. To match the behavior of 'v_measure_score', NMI will use average_method='arithmetic' by default.\n",
      "  FutureWarning)\n",
      "C:\\Users\\admin\\anaconda3\\envs\\pythonProject10\\lib\\site-packages\\sklearn\\cluster\\k_means_.py:968: RuntimeWarning: Explicit initial center position passed: performing only one init in k-means instead of n_init=10\n",
      "  return_n_iter=True)\n",
      "C:\\Users\\admin\\anaconda3\\envs\\pythonProject10\\lib\\site-packages\\sklearn\\metrics\\cluster\\supervised.py:844: FutureWarning: The behavior of NMI will change in version 0.22. To match the behavior of 'v_measure_score', NMI will use average_method='arithmetic' by default.\n",
      "  FutureWarning)\n"
     ]
    },
    {
     "name": "stdout",
     "output_type": "stream",
     "text": [
      "step- 2360  cost: 4.1993927e+20\n",
      "count- [25697 20016 48697 47650]\n",
      "[2 2 2 2 2 2 2 2 2 2 2 2 2 2 2 2 0 0 0 0 0 0 0 0 2 0 0 0 3 3 3 3 3 3 3 3 3\n",
      " 2 3 3 2 3 3 3 2 3 3 2 3 3 2 3 1 1 1 1 1 1 1 1]\n",
      "acc: 0.9\n",
      "nmi: 0.80087\n",
      "ari: 0.70699\n",
      "step- 2370  cost: 1.5256523e+20\n",
      "count- [25807 20096 48917 47840]\n",
      "[2 2 2 2 2 2 2 2 2 2 2 2 2 2 2 2 0 0 0 0 0 0 0 0 2 0 0 0 3 3 3 3 3 3 3 3 3\n",
      " 2 3 3 2 3 3 3 2 3 3 2 3 3 2 3 1 1 1 1 1 1 1 1]\n",
      "acc: 0.9\n",
      "nmi: 0.80087\n",
      "ari: 0.70699\n"
     ]
    },
    {
     "name": "stderr",
     "output_type": "stream",
     "text": [
      "C:\\Users\\admin\\anaconda3\\envs\\pythonProject10\\lib\\site-packages\\sklearn\\cluster\\k_means_.py:968: RuntimeWarning: Explicit initial center position passed: performing only one init in k-means instead of n_init=10\n",
      "  return_n_iter=True)\n",
      "C:\\Users\\admin\\anaconda3\\envs\\pythonProject10\\lib\\site-packages\\sklearn\\metrics\\cluster\\supervised.py:844: FutureWarning: The behavior of NMI will change in version 0.22. To match the behavior of 'v_measure_score', NMI will use average_method='arithmetic' by default.\n",
      "  FutureWarning)\n",
      "C:\\Users\\admin\\anaconda3\\envs\\pythonProject10\\lib\\site-packages\\sklearn\\cluster\\k_means_.py:968: RuntimeWarning: Explicit initial center position passed: performing only one init in k-means instead of n_init=10\n",
      "  return_n_iter=True)\n",
      "C:\\Users\\admin\\anaconda3\\envs\\pythonProject10\\lib\\site-packages\\sklearn\\metrics\\cluster\\supervised.py:844: FutureWarning: The behavior of NMI will change in version 0.22. To match the behavior of 'v_measure_score', NMI will use average_method='arithmetic' by default.\n",
      "  FutureWarning)\n"
     ]
    },
    {
     "name": "stdout",
     "output_type": "stream",
     "text": [
      "step- 2380  cost: 5.4565613e+20\n",
      "count- [25917 20176 49137 48030]\n",
      "[2 2 2 2 2 2 2 2 2 2 2 2 2 2 2 2 0 0 0 0 0 0 0 0 2 0 0 0 3 3 3 3 3 3 3 3 3\n",
      " 2 3 3 2 3 3 3 2 3 3 2 3 3 2 3 1 1 1 1 1 1 1 1]\n",
      "acc: 0.9\n",
      "nmi: 0.80087\n",
      "ari: 0.70699\n",
      "step- 2390  cost: 9.432158e+19\n",
      "count- [26027 20256 49357 48220]\n",
      "[2 2 2 2 2 2 2 2 2 2 2 2 2 2 2 2 0 0 0 0 0 0 0 0 2 0 0 0 3 3 3 3 3 3 3 3 3\n",
      " 2 3 3 2 3 3 3 2 3 3 2 3 3 2 3 1 1 1 1 1 1 1 1]\n",
      "acc: 0.9\n",
      "nmi: 0.80087\n",
      "ari: 0.70699\n"
     ]
    },
    {
     "name": "stderr",
     "output_type": "stream",
     "text": [
      "C:\\Users\\admin\\anaconda3\\envs\\pythonProject10\\lib\\site-packages\\sklearn\\cluster\\k_means_.py:968: RuntimeWarning: Explicit initial center position passed: performing only one init in k-means instead of n_init=10\n",
      "  return_n_iter=True)\n",
      "C:\\Users\\admin\\anaconda3\\envs\\pythonProject10\\lib\\site-packages\\sklearn\\metrics\\cluster\\supervised.py:844: FutureWarning: The behavior of NMI will change in version 0.22. To match the behavior of 'v_measure_score', NMI will use average_method='arithmetic' by default.\n",
      "  FutureWarning)\n",
      "C:\\Users\\admin\\anaconda3\\envs\\pythonProject10\\lib\\site-packages\\sklearn\\cluster\\k_means_.py:968: RuntimeWarning: Explicit initial center position passed: performing only one init in k-means instead of n_init=10\n",
      "  return_n_iter=True)\n",
      "C:\\Users\\admin\\anaconda3\\envs\\pythonProject10\\lib\\site-packages\\sklearn\\metrics\\cluster\\supervised.py:844: FutureWarning: The behavior of NMI will change in version 0.22. To match the behavior of 'v_measure_score', NMI will use average_method='arithmetic' by default.\n",
      "  FutureWarning)\n"
     ]
    },
    {
     "name": "stdout",
     "output_type": "stream",
     "text": [
      "step- 2400  cost: 5.3908735e+20\n",
      "count- [26137 20336 49577 48410]\n",
      "[2 2 2 2 2 2 2 2 2 2 2 2 2 2 2 2 0 0 0 0 0 0 0 0 2 0 0 0 3 3 3 3 3 3 3 3 3\n",
      " 2 3 3 2 3 3 3 2 3 3 2 3 3 2 3 1 1 1 1 1 1 1 1]\n",
      "acc: 0.9\n",
      "nmi: 0.80087\n",
      "ari: 0.70699\n",
      "step- 2410  cost: 1.1716933e+21\n",
      "count- [26247 20416 49797 48600]\n",
      "[2 2 2 2 2 2 2 2 2 2 2 2 2 2 2 2 0 0 0 0 0 0 0 0 2 0 0 0 3 3 3 3 3 3 3 3 3\n",
      " 2 3 3 2 3 3 3 2 3 3 2 3 3 2 3 1 1 1 1 1 1 1 1]\n",
      "acc: 0.9\n",
      "nmi: 0.80087\n",
      "ari: 0.70699\n"
     ]
    },
    {
     "name": "stderr",
     "output_type": "stream",
     "text": [
      "C:\\Users\\admin\\anaconda3\\envs\\pythonProject10\\lib\\site-packages\\sklearn\\cluster\\k_means_.py:968: RuntimeWarning: Explicit initial center position passed: performing only one init in k-means instead of n_init=10\n",
      "  return_n_iter=True)\n",
      "C:\\Users\\admin\\anaconda3\\envs\\pythonProject10\\lib\\site-packages\\sklearn\\metrics\\cluster\\supervised.py:844: FutureWarning: The behavior of NMI will change in version 0.22. To match the behavior of 'v_measure_score', NMI will use average_method='arithmetic' by default.\n",
      "  FutureWarning)\n",
      "C:\\Users\\admin\\anaconda3\\envs\\pythonProject10\\lib\\site-packages\\sklearn\\cluster\\k_means_.py:968: RuntimeWarning: Explicit initial center position passed: performing only one init in k-means instead of n_init=10\n",
      "  return_n_iter=True)\n",
      "C:\\Users\\admin\\anaconda3\\envs\\pythonProject10\\lib\\site-packages\\sklearn\\metrics\\cluster\\supervised.py:844: FutureWarning: The behavior of NMI will change in version 0.22. To match the behavior of 'v_measure_score', NMI will use average_method='arithmetic' by default.\n",
      "  FutureWarning)\n"
     ]
    },
    {
     "name": "stdout",
     "output_type": "stream",
     "text": [
      "step- 2420  cost: 1.0876095e+21\n",
      "count- [26357 20496 50017 48790]\n",
      "[2 2 2 2 2 2 2 2 2 2 2 2 2 2 2 2 0 0 0 0 0 0 0 0 2 0 0 0 3 3 3 3 3 3 3 3 3\n",
      " 2 3 3 2 3 3 3 2 3 3 2 3 3 2 3 1 1 1 1 1 1 1 1]\n",
      "acc: 0.9\n",
      "nmi: 0.80087\n",
      "ari: 0.70699\n",
      "step- 2430  cost: 5.5292396e+20\n",
      "count- [26467 20576 50237 48980]\n",
      "[2 2 2 2 2 2 2 2 2 2 2 2 2 2 2 2 0 0 0 0 0 0 0 0 2 0 0 0 3 3 3 3 3 3 3 3 3\n",
      " 2 3 3 2 3 3 3 2 3 3 2 3 3 2 3 1 1 1 1 1 1 1 1]\n",
      "acc: 0.9\n",
      "nmi: 0.80087\n",
      "ari: 0.70699\n"
     ]
    },
    {
     "name": "stderr",
     "output_type": "stream",
     "text": [
      "C:\\Users\\admin\\anaconda3\\envs\\pythonProject10\\lib\\site-packages\\sklearn\\cluster\\k_means_.py:968: RuntimeWarning: Explicit initial center position passed: performing only one init in k-means instead of n_init=10\n",
      "  return_n_iter=True)\n",
      "C:\\Users\\admin\\anaconda3\\envs\\pythonProject10\\lib\\site-packages\\sklearn\\metrics\\cluster\\supervised.py:844: FutureWarning: The behavior of NMI will change in version 0.22. To match the behavior of 'v_measure_score', NMI will use average_method='arithmetic' by default.\n",
      "  FutureWarning)\n",
      "C:\\Users\\admin\\anaconda3\\envs\\pythonProject10\\lib\\site-packages\\sklearn\\cluster\\k_means_.py:968: RuntimeWarning: Explicit initial center position passed: performing only one init in k-means instead of n_init=10\n",
      "  return_n_iter=True)\n",
      "C:\\Users\\admin\\anaconda3\\envs\\pythonProject10\\lib\\site-packages\\sklearn\\metrics\\cluster\\supervised.py:844: FutureWarning: The behavior of NMI will change in version 0.22. To match the behavior of 'v_measure_score', NMI will use average_method='arithmetic' by default.\n",
      "  FutureWarning)\n"
     ]
    },
    {
     "name": "stdout",
     "output_type": "stream",
     "text": [
      "step- 2440  cost: 1.080324e+20\n",
      "count- [26577 20656 50457 49170]\n",
      "[2 2 2 2 2 2 2 2 2 2 2 2 2 2 2 2 0 0 0 0 0 0 0 0 2 0 0 0 3 3 3 3 3 3 3 3 3\n",
      " 2 3 3 2 3 3 3 2 3 3 2 3 3 2 3 1 1 1 1 1 1 1 1]\n",
      "acc: 0.9\n",
      "nmi: 0.80087\n",
      "ari: 0.70699\n",
      "step- 2450  cost: 2.4128424e+20\n",
      "count- [26687 20736 50677 49360]\n",
      "[2 2 2 2 2 2 2 2 2 2 2 2 2 2 2 2 0 0 0 0 0 0 0 0 2 0 0 0 3 3 3 3 3 3 3 3 3\n",
      " 2 3 3 2 3 3 3 2 3 3 2 3 3 2 3 1 1 1 1 1 1 1 1]\n",
      "acc: 0.9\n",
      "nmi: 0.80087\n",
      "ari: 0.70699\n"
     ]
    },
    {
     "name": "stderr",
     "output_type": "stream",
     "text": [
      "C:\\Users\\admin\\anaconda3\\envs\\pythonProject10\\lib\\site-packages\\sklearn\\cluster\\k_means_.py:968: RuntimeWarning: Explicit initial center position passed: performing only one init in k-means instead of n_init=10\n",
      "  return_n_iter=True)\n",
      "C:\\Users\\admin\\anaconda3\\envs\\pythonProject10\\lib\\site-packages\\sklearn\\metrics\\cluster\\supervised.py:844: FutureWarning: The behavior of NMI will change in version 0.22. To match the behavior of 'v_measure_score', NMI will use average_method='arithmetic' by default.\n",
      "  FutureWarning)\n",
      "C:\\Users\\admin\\anaconda3\\envs\\pythonProject10\\lib\\site-packages\\sklearn\\cluster\\k_means_.py:968: RuntimeWarning: Explicit initial center position passed: performing only one init in k-means instead of n_init=10\n",
      "  return_n_iter=True)\n",
      "C:\\Users\\admin\\anaconda3\\envs\\pythonProject10\\lib\\site-packages\\sklearn\\metrics\\cluster\\supervised.py:844: FutureWarning: The behavior of NMI will change in version 0.22. To match the behavior of 'v_measure_score', NMI will use average_method='arithmetic' by default.\n",
      "  FutureWarning)\n"
     ]
    },
    {
     "name": "stdout",
     "output_type": "stream",
     "text": [
      "step- 2460  cost: 2.1096634e+20\n",
      "count- [26797 20816 50897 49550]\n",
      "[2 2 2 2 2 2 2 2 2 2 2 2 2 2 2 2 0 0 0 0 0 0 0 0 2 0 0 0 3 3 3 3 3 3 3 3 3\n",
      " 2 3 3 2 3 3 3 2 3 3 2 3 3 2 3 1 1 1 1 1 1 1 1]\n",
      "acc: 0.9\n",
      "nmi: 0.80087\n",
      "ari: 0.70699\n",
      "step- 2470  cost: 2.5790275e+20\n",
      "count- [26907 20896 51117 49740]\n",
      "[2 2 2 2 2 2 2 2 2 2 2 2 2 2 2 2 0 0 0 0 0 0 0 0 2 0 0 0 3 3 3 3 3 3 3 3 3\n",
      " 2 3 3 2 3 3 3 2 3 3 2 3 3 2 3 1 1 1 1 1 1 1 1]\n",
      "acc: 0.9\n",
      "nmi: 0.80087\n",
      "ari: 0.70699\n"
     ]
    },
    {
     "name": "stderr",
     "output_type": "stream",
     "text": [
      "C:\\Users\\admin\\anaconda3\\envs\\pythonProject10\\lib\\site-packages\\sklearn\\cluster\\k_means_.py:968: RuntimeWarning: Explicit initial center position passed: performing only one init in k-means instead of n_init=10\n",
      "  return_n_iter=True)\n",
      "C:\\Users\\admin\\anaconda3\\envs\\pythonProject10\\lib\\site-packages\\sklearn\\metrics\\cluster\\supervised.py:844: FutureWarning: The behavior of NMI will change in version 0.22. To match the behavior of 'v_measure_score', NMI will use average_method='arithmetic' by default.\n",
      "  FutureWarning)\n",
      "C:\\Users\\admin\\anaconda3\\envs\\pythonProject10\\lib\\site-packages\\sklearn\\cluster\\k_means_.py:968: RuntimeWarning: Explicit initial center position passed: performing only one init in k-means instead of n_init=10\n",
      "  return_n_iter=True)\n",
      "C:\\Users\\admin\\anaconda3\\envs\\pythonProject10\\lib\\site-packages\\sklearn\\metrics\\cluster\\supervised.py:844: FutureWarning: The behavior of NMI will change in version 0.22. To match the behavior of 'v_measure_score', NMI will use average_method='arithmetic' by default.\n",
      "  FutureWarning)\n"
     ]
    },
    {
     "name": "stdout",
     "output_type": "stream",
     "text": [
      "step- 2480  cost: 9.077828e+20\n",
      "count- [27017 20976 51337 49930]\n",
      "[2 2 2 2 2 2 2 2 2 2 2 2 2 2 2 2 0 0 0 0 0 0 0 0 2 0 0 0 3 3 3 3 3 3 3 3 3\n",
      " 2 3 3 2 3 3 3 2 3 3 2 3 3 2 3 1 1 1 1 1 1 1 1]\n",
      "acc: 0.9\n",
      "nmi: 0.80087\n",
      "ari: 0.70699\n",
      "step- 2490  cost: 1.7477571e+20\n",
      "count- [27127 21056 51557 50120]\n",
      "[2 2 2 2 2 2 2 2 2 2 2 2 2 2 2 2 0 0 0 0 0 0 0 0 2 0 0 0 3 3 3 3 3 3 3 3 3\n",
      " 2 3 3 2 3 3 3 2 3 3 2 3 3 2 3 1 1 1 1 1 1 1 1]\n",
      "acc: 0.9\n",
      "nmi: 0.80087\n",
      "ari: 0.70699\n"
     ]
    },
    {
     "name": "stderr",
     "output_type": "stream",
     "text": [
      "C:\\Users\\admin\\anaconda3\\envs\\pythonProject10\\lib\\site-packages\\sklearn\\cluster\\k_means_.py:968: RuntimeWarning: Explicit initial center position passed: performing only one init in k-means instead of n_init=10\n",
      "  return_n_iter=True)\n",
      "C:\\Users\\admin\\anaconda3\\envs\\pythonProject10\\lib\\site-packages\\sklearn\\metrics\\cluster\\supervised.py:844: FutureWarning: The behavior of NMI will change in version 0.22. To match the behavior of 'v_measure_score', NMI will use average_method='arithmetic' by default.\n",
      "  FutureWarning)\n",
      "C:\\Users\\admin\\anaconda3\\envs\\pythonProject10\\lib\\site-packages\\sklearn\\cluster\\k_means_.py:968: RuntimeWarning: Explicit initial center position passed: performing only one init in k-means instead of n_init=10\n",
      "  return_n_iter=True)\n",
      "C:\\Users\\admin\\anaconda3\\envs\\pythonProject10\\lib\\site-packages\\sklearn\\metrics\\cluster\\supervised.py:844: FutureWarning: The behavior of NMI will change in version 0.22. To match the behavior of 'v_measure_score', NMI will use average_method='arithmetic' by default.\n",
      "  FutureWarning)\n"
     ]
    },
    {
     "name": "stdout",
     "output_type": "stream",
     "text": [
      "step- 2500  cost: 2.5550863e+20\n",
      "count- [27237 21136 51777 50310]\n",
      "[2 2 2 2 2 2 2 2 2 2 2 2 2 2 2 2 0 0 0 0 0 0 0 0 2 0 0 0 3 3 3 3 3 3 3 3 3\n",
      " 2 3 3 2 3 3 3 2 3 3 2 3 3 2 3 1 1 1 1 1 1 1 1]\n",
      "acc: 0.9\n",
      "nmi: 0.80087\n",
      "ari: 0.70699\n",
      "step- 2510  cost: 2.2348395e+21\n",
      "count- [27347 21216 51997 50500]\n",
      "[2 2 2 2 2 2 2 2 2 2 2 2 2 2 2 2 0 0 0 0 0 0 0 0 2 0 0 0 3 3 3 3 3 3 3 3 3\n",
      " 2 3 3 2 3 3 3 2 3 3 2 3 3 2 3 1 1 1 1 1 1 1 1]\n",
      "acc: 0.9\n",
      "nmi: 0.80087\n",
      "ari: 0.70699\n"
     ]
    },
    {
     "name": "stderr",
     "output_type": "stream",
     "text": [
      "C:\\Users\\admin\\anaconda3\\envs\\pythonProject10\\lib\\site-packages\\sklearn\\cluster\\k_means_.py:968: RuntimeWarning: Explicit initial center position passed: performing only one init in k-means instead of n_init=10\n",
      "  return_n_iter=True)\n",
      "C:\\Users\\admin\\anaconda3\\envs\\pythonProject10\\lib\\site-packages\\sklearn\\metrics\\cluster\\supervised.py:844: FutureWarning: The behavior of NMI will change in version 0.22. To match the behavior of 'v_measure_score', NMI will use average_method='arithmetic' by default.\n",
      "  FutureWarning)\n",
      "C:\\Users\\admin\\anaconda3\\envs\\pythonProject10\\lib\\site-packages\\sklearn\\cluster\\k_means_.py:968: RuntimeWarning: Explicit initial center position passed: performing only one init in k-means instead of n_init=10\n",
      "  return_n_iter=True)\n",
      "C:\\Users\\admin\\anaconda3\\envs\\pythonProject10\\lib\\site-packages\\sklearn\\metrics\\cluster\\supervised.py:844: FutureWarning: The behavior of NMI will change in version 0.22. To match the behavior of 'v_measure_score', NMI will use average_method='arithmetic' by default.\n",
      "  FutureWarning)\n"
     ]
    },
    {
     "name": "stdout",
     "output_type": "stream",
     "text": [
      "step- 2520  cost: 1.3268806e+20\n",
      "count- [27457 21296 52217 50690]\n",
      "[2 2 2 2 2 2 2 2 2 2 2 2 2 2 2 2 0 0 0 0 0 0 0 0 2 0 0 0 3 3 3 3 3 3 3 3 3\n",
      " 2 3 3 2 3 3 3 2 3 3 2 3 3 2 3 1 1 1 1 1 1 1 1]\n",
      "acc: 0.9\n",
      "nmi: 0.80087\n",
      "ari: 0.70699\n",
      "step- 2530  cost: 9.5110894e+20\n",
      "count- [27567 21376 52437 50880]\n",
      "[2 2 2 2 2 2 2 2 2 2 2 2 2 2 2 2 0 0 0 0 0 0 0 0 2 0 0 0 3 3 3 3 3 3 3 3 3\n",
      " 2 3 3 2 3 3 3 2 3 3 2 3 3 2 3 1 1 1 1 1 1 1 1]\n",
      "acc: 0.9\n",
      "nmi: 0.80087\n",
      "ari: 0.70699\n"
     ]
    },
    {
     "name": "stderr",
     "output_type": "stream",
     "text": [
      "C:\\Users\\admin\\anaconda3\\envs\\pythonProject10\\lib\\site-packages\\sklearn\\cluster\\k_means_.py:968: RuntimeWarning: Explicit initial center position passed: performing only one init in k-means instead of n_init=10\n",
      "  return_n_iter=True)\n",
      "C:\\Users\\admin\\anaconda3\\envs\\pythonProject10\\lib\\site-packages\\sklearn\\metrics\\cluster\\supervised.py:844: FutureWarning: The behavior of NMI will change in version 0.22. To match the behavior of 'v_measure_score', NMI will use average_method='arithmetic' by default.\n",
      "  FutureWarning)\n",
      "C:\\Users\\admin\\anaconda3\\envs\\pythonProject10\\lib\\site-packages\\sklearn\\cluster\\k_means_.py:968: RuntimeWarning: Explicit initial center position passed: performing only one init in k-means instead of n_init=10\n",
      "  return_n_iter=True)\n",
      "C:\\Users\\admin\\anaconda3\\envs\\pythonProject10\\lib\\site-packages\\sklearn\\metrics\\cluster\\supervised.py:844: FutureWarning: The behavior of NMI will change in version 0.22. To match the behavior of 'v_measure_score', NMI will use average_method='arithmetic' by default.\n",
      "  FutureWarning)\n"
     ]
    },
    {
     "name": "stdout",
     "output_type": "stream",
     "text": [
      "step- 2540  cost: 3.5755744e+21\n",
      "count- [27677 21456 52657 51070]\n",
      "[2 2 2 2 2 2 2 2 2 2 2 2 2 2 2 2 0 0 0 0 0 0 0 0 2 0 0 0 3 3 3 3 3 3 3 3 3\n",
      " 2 3 3 2 3 3 3 2 3 3 2 3 3 2 3 1 1 1 1 1 1 1 1]\n",
      "acc: 0.9\n",
      "nmi: 0.80087\n",
      "ari: 0.70699\n",
      "step- 2550  cost: 3.0141097e+20\n",
      "count- [27787 21536 52877 51260]\n",
      "[2 2 2 2 2 2 2 2 2 2 2 2 2 2 2 2 0 0 0 0 0 0 0 0 2 0 0 0 3 3 3 3 3 3 3 3 3\n",
      " 2 3 3 2 3 3 3 2 3 3 2 3 3 2 3 1 1 1 1 1 1 1 1]\n",
      "acc: 0.9\n",
      "nmi: 0.80087\n",
      "ari: 0.70699\n"
     ]
    },
    {
     "name": "stderr",
     "output_type": "stream",
     "text": [
      "C:\\Users\\admin\\anaconda3\\envs\\pythonProject10\\lib\\site-packages\\sklearn\\cluster\\k_means_.py:968: RuntimeWarning: Explicit initial center position passed: performing only one init in k-means instead of n_init=10\n",
      "  return_n_iter=True)\n",
      "C:\\Users\\admin\\anaconda3\\envs\\pythonProject10\\lib\\site-packages\\sklearn\\metrics\\cluster\\supervised.py:844: FutureWarning: The behavior of NMI will change in version 0.22. To match the behavior of 'v_measure_score', NMI will use average_method='arithmetic' by default.\n",
      "  FutureWarning)\n",
      "C:\\Users\\admin\\anaconda3\\envs\\pythonProject10\\lib\\site-packages\\sklearn\\cluster\\k_means_.py:968: RuntimeWarning: Explicit initial center position passed: performing only one init in k-means instead of n_init=10\n",
      "  return_n_iter=True)\n",
      "C:\\Users\\admin\\anaconda3\\envs\\pythonProject10\\lib\\site-packages\\sklearn\\metrics\\cluster\\supervised.py:844: FutureWarning: The behavior of NMI will change in version 0.22. To match the behavior of 'v_measure_score', NMI will use average_method='arithmetic' by default.\n",
      "  FutureWarning)\n"
     ]
    },
    {
     "name": "stdout",
     "output_type": "stream",
     "text": [
      "step- 2560  cost: 2.909809e+21\n",
      "count- [27897 21616 53097 51450]\n",
      "[2 2 2 2 2 2 2 2 2 2 2 2 2 2 2 2 0 0 0 0 0 0 0 0 2 0 0 0 3 3 3 3 3 3 3 3 3\n",
      " 2 3 3 2 3 3 3 2 3 3 2 3 3 2 3 1 1 1 1 1 1 1 1]\n",
      "acc: 0.9\n",
      "nmi: 0.80087\n",
      "ari: 0.70699\n",
      "step- 2570  cost: 9.969243e+20\n",
      "count- [28007 21696 53317 51640]\n",
      "[2 2 2 2 2 2 2 2 2 2 2 2 2 2 2 2 0 0 0 0 0 0 0 0 2 0 0 0 3 3 3 3 3 3 3 3 3\n",
      " 2 3 3 2 3 3 3 2 3 3 2 3 3 2 3 1 1 1 1 1 1 1 1]\n",
      "acc: 0.9\n",
      "nmi: 0.80087\n",
      "ari: 0.70699\n"
     ]
    },
    {
     "name": "stderr",
     "output_type": "stream",
     "text": [
      "C:\\Users\\admin\\anaconda3\\envs\\pythonProject10\\lib\\site-packages\\sklearn\\cluster\\k_means_.py:968: RuntimeWarning: Explicit initial center position passed: performing only one init in k-means instead of n_init=10\n",
      "  return_n_iter=True)\n",
      "C:\\Users\\admin\\anaconda3\\envs\\pythonProject10\\lib\\site-packages\\sklearn\\metrics\\cluster\\supervised.py:844: FutureWarning: The behavior of NMI will change in version 0.22. To match the behavior of 'v_measure_score', NMI will use average_method='arithmetic' by default.\n",
      "  FutureWarning)\n",
      "C:\\Users\\admin\\anaconda3\\envs\\pythonProject10\\lib\\site-packages\\sklearn\\cluster\\k_means_.py:968: RuntimeWarning: Explicit initial center position passed: performing only one init in k-means instead of n_init=10\n",
      "  return_n_iter=True)\n",
      "C:\\Users\\admin\\anaconda3\\envs\\pythonProject10\\lib\\site-packages\\sklearn\\metrics\\cluster\\supervised.py:844: FutureWarning: The behavior of NMI will change in version 0.22. To match the behavior of 'v_measure_score', NMI will use average_method='arithmetic' by default.\n",
      "  FutureWarning)\n"
     ]
    },
    {
     "name": "stdout",
     "output_type": "stream",
     "text": [
      "step- 2580  cost: 7.824558e+20\n",
      "count- [28117 21776 53537 51830]\n",
      "[2 2 2 2 2 2 2 2 2 2 2 2 2 2 2 2 0 0 0 0 0 0 0 0 2 0 0 0 3 3 3 3 3 3 3 3 3\n",
      " 2 3 3 2 3 3 3 2 3 3 2 3 3 2 3 1 1 1 1 1 1 1 1]\n",
      "acc: 0.9\n",
      "nmi: 0.80087\n",
      "ari: 0.70699\n",
      "step- 2590  cost: 7.4277446e+20\n",
      "count- [28227 21856 53757 52020]\n",
      "[2 2 2 2 2 2 2 2 2 2 2 2 2 2 2 2 0 0 0 0 0 0 0 0 2 0 0 0 3 3 3 3 3 3 3 3 3\n",
      " 2 3 3 2 3 3 3 2 3 3 2 3 3 2 3 1 1 1 1 1 1 1 1]\n",
      "acc: 0.9\n",
      "nmi: 0.80087\n",
      "ari: 0.70699\n"
     ]
    },
    {
     "name": "stderr",
     "output_type": "stream",
     "text": [
      "C:\\Users\\admin\\anaconda3\\envs\\pythonProject10\\lib\\site-packages\\sklearn\\cluster\\k_means_.py:968: RuntimeWarning: Explicit initial center position passed: performing only one init in k-means instead of n_init=10\n",
      "  return_n_iter=True)\n",
      "C:\\Users\\admin\\anaconda3\\envs\\pythonProject10\\lib\\site-packages\\sklearn\\metrics\\cluster\\supervised.py:844: FutureWarning: The behavior of NMI will change in version 0.22. To match the behavior of 'v_measure_score', NMI will use average_method='arithmetic' by default.\n",
      "  FutureWarning)\n",
      "C:\\Users\\admin\\anaconda3\\envs\\pythonProject10\\lib\\site-packages\\sklearn\\cluster\\k_means_.py:968: RuntimeWarning: Explicit initial center position passed: performing only one init in k-means instead of n_init=10\n",
      "  return_n_iter=True)\n",
      "C:\\Users\\admin\\anaconda3\\envs\\pythonProject10\\lib\\site-packages\\sklearn\\metrics\\cluster\\supervised.py:844: FutureWarning: The behavior of NMI will change in version 0.22. To match the behavior of 'v_measure_score', NMI will use average_method='arithmetic' by default.\n",
      "  FutureWarning)\n"
     ]
    },
    {
     "name": "stdout",
     "output_type": "stream",
     "text": [
      "step- 2600  cost: 4.399705e+20\n",
      "count- [28337 21936 53977 52210]\n",
      "[2 2 2 2 2 2 2 2 2 2 2 2 2 2 2 2 0 0 0 0 0 0 0 0 2 0 0 0 3 3 3 3 3 3 3 3 3\n",
      " 2 3 3 2 3 3 3 2 3 3 2 3 3 2 3 1 1 1 1 1 1 1 1]\n",
      "acc: 0.9\n",
      "nmi: 0.80087\n",
      "ari: 0.70699\n",
      "step- 2610  cost: 1.0153408e+21\n",
      "count- [28447 22016 54197 52400]\n",
      "[2 2 2 2 2 2 2 2 2 2 2 2 2 2 2 2 0 0 0 0 0 0 0 0 2 0 0 0 3 3 3 3 3 3 3 3 3\n",
      " 2 3 3 2 3 3 3 2 3 3 2 3 3 2 3 1 1 1 1 1 1 1 1]\n",
      "acc: 0.9\n",
      "nmi: 0.80087\n",
      "ari: 0.70699\n"
     ]
    },
    {
     "name": "stderr",
     "output_type": "stream",
     "text": [
      "C:\\Users\\admin\\anaconda3\\envs\\pythonProject10\\lib\\site-packages\\sklearn\\cluster\\k_means_.py:968: RuntimeWarning: Explicit initial center position passed: performing only one init in k-means instead of n_init=10\n",
      "  return_n_iter=True)\n",
      "C:\\Users\\admin\\anaconda3\\envs\\pythonProject10\\lib\\site-packages\\sklearn\\metrics\\cluster\\supervised.py:844: FutureWarning: The behavior of NMI will change in version 0.22. To match the behavior of 'v_measure_score', NMI will use average_method='arithmetic' by default.\n",
      "  FutureWarning)\n",
      "C:\\Users\\admin\\anaconda3\\envs\\pythonProject10\\lib\\site-packages\\sklearn\\cluster\\k_means_.py:968: RuntimeWarning: Explicit initial center position passed: performing only one init in k-means instead of n_init=10\n",
      "  return_n_iter=True)\n",
      "C:\\Users\\admin\\anaconda3\\envs\\pythonProject10\\lib\\site-packages\\sklearn\\metrics\\cluster\\supervised.py:844: FutureWarning: The behavior of NMI will change in version 0.22. To match the behavior of 'v_measure_score', NMI will use average_method='arithmetic' by default.\n",
      "  FutureWarning)\n"
     ]
    },
    {
     "name": "stdout",
     "output_type": "stream",
     "text": [
      "step- 2620  cost: 2.1981155e+20\n",
      "count- [28557 22096 54417 52590]\n",
      "[2 2 2 2 2 2 2 2 2 2 2 2 2 2 2 2 0 0 0 0 0 0 0 0 2 0 0 0 3 3 3 3 3 3 3 3 3\n",
      " 2 3 3 2 3 3 3 2 3 3 2 3 3 2 3 1 1 1 1 1 1 1 1]\n",
      "acc: 0.9\n",
      "nmi: 0.80087\n",
      "ari: 0.70699\n",
      "step- 2630  cost: 2.2449804e+20\n",
      "count- [28667 22176 54637 52780]\n",
      "[2 2 2 2 2 2 2 2 2 2 2 2 2 2 2 2 0 0 0 0 0 0 0 0 2 0 0 0 3 3 3 3 3 3 3 3 3\n",
      " 2 3 3 2 3 3 3 2 3 3 2 3 3 2 3 1 1 1 1 1 1 1 1]\n",
      "acc: 0.9\n",
      "nmi: 0.80087\n",
      "ari: 0.70699\n"
     ]
    },
    {
     "name": "stderr",
     "output_type": "stream",
     "text": [
      "C:\\Users\\admin\\anaconda3\\envs\\pythonProject10\\lib\\site-packages\\sklearn\\cluster\\k_means_.py:968: RuntimeWarning: Explicit initial center position passed: performing only one init in k-means instead of n_init=10\n",
      "  return_n_iter=True)\n",
      "C:\\Users\\admin\\anaconda3\\envs\\pythonProject10\\lib\\site-packages\\sklearn\\metrics\\cluster\\supervised.py:844: FutureWarning: The behavior of NMI will change in version 0.22. To match the behavior of 'v_measure_score', NMI will use average_method='arithmetic' by default.\n",
      "  FutureWarning)\n",
      "C:\\Users\\admin\\anaconda3\\envs\\pythonProject10\\lib\\site-packages\\sklearn\\cluster\\k_means_.py:968: RuntimeWarning: Explicit initial center position passed: performing only one init in k-means instead of n_init=10\n",
      "  return_n_iter=True)\n",
      "C:\\Users\\admin\\anaconda3\\envs\\pythonProject10\\lib\\site-packages\\sklearn\\metrics\\cluster\\supervised.py:844: FutureWarning: The behavior of NMI will change in version 0.22. To match the behavior of 'v_measure_score', NMI will use average_method='arithmetic' by default.\n",
      "  FutureWarning)\n"
     ]
    },
    {
     "name": "stdout",
     "output_type": "stream",
     "text": [
      "step- 2640  cost: 2.0298473e+20\n",
      "count- [28777 22256 54857 52970]\n",
      "[2 2 2 2 2 2 2 2 2 2 2 2 2 2 2 2 0 0 0 0 0 0 0 0 2 0 0 0 3 3 3 3 3 3 3 3 3\n",
      " 2 3 3 2 3 3 3 2 3 3 2 3 3 2 3 1 1 1 1 1 1 1 1]\n",
      "acc: 0.9\n",
      "nmi: 0.80087\n",
      "ari: 0.70699\n",
      "step- 2650  cost: 2.3752553e+21\n",
      "count- [28887 22336 55077 53160]\n",
      "[2 2 2 2 2 2 2 2 2 2 2 2 2 2 2 2 0 0 0 0 0 0 0 0 2 0 0 0 3 3 3 3 3 3 3 3 3\n",
      " 2 3 3 2 3 3 3 2 3 3 2 3 3 2 3 1 1 1 1 1 1 1 1]\n",
      "acc: 0.9\n",
      "nmi: 0.80087\n",
      "ari: 0.70699\n"
     ]
    },
    {
     "name": "stderr",
     "output_type": "stream",
     "text": [
      "C:\\Users\\admin\\anaconda3\\envs\\pythonProject10\\lib\\site-packages\\sklearn\\cluster\\k_means_.py:968: RuntimeWarning: Explicit initial center position passed: performing only one init in k-means instead of n_init=10\n",
      "  return_n_iter=True)\n",
      "C:\\Users\\admin\\anaconda3\\envs\\pythonProject10\\lib\\site-packages\\sklearn\\metrics\\cluster\\supervised.py:844: FutureWarning: The behavior of NMI will change in version 0.22. To match the behavior of 'v_measure_score', NMI will use average_method='arithmetic' by default.\n",
      "  FutureWarning)\n",
      "C:\\Users\\admin\\anaconda3\\envs\\pythonProject10\\lib\\site-packages\\sklearn\\cluster\\k_means_.py:968: RuntimeWarning: Explicit initial center position passed: performing only one init in k-means instead of n_init=10\n",
      "  return_n_iter=True)\n",
      "C:\\Users\\admin\\anaconda3\\envs\\pythonProject10\\lib\\site-packages\\sklearn\\metrics\\cluster\\supervised.py:844: FutureWarning: The behavior of NMI will change in version 0.22. To match the behavior of 'v_measure_score', NMI will use average_method='arithmetic' by default.\n",
      "  FutureWarning)\n"
     ]
    },
    {
     "name": "stdout",
     "output_type": "stream",
     "text": [
      "step- 2660  cost: 3.4276753e+20\n",
      "count- [28997 22416 55297 53350]\n",
      "[2 2 2 2 2 2 2 2 2 2 2 2 2 2 2 2 0 0 0 0 0 0 0 0 2 0 0 0 3 3 3 3 3 3 3 3 3\n",
      " 2 3 3 2 3 3 3 2 3 3 2 3 3 2 3 1 1 1 1 1 1 1 1]\n",
      "acc: 0.9\n",
      "nmi: 0.80087\n",
      "ari: 0.70699\n",
      "step- 2670  cost: 3.391631e+20\n",
      "count- [29107 22496 55517 53540]\n",
      "[2 2 2 2 2 2 2 2 2 2 2 2 2 2 2 2 0 0 0 0 0 0 0 0 2 0 0 0 3 3 3 3 3 3 3 3 3\n",
      " 2 3 3 2 3 3 3 2 3 3 2 3 3 2 3 1 1 1 1 1 1 1 1]\n",
      "acc: 0.9\n",
      "nmi: 0.80087\n",
      "ari: 0.70699\n"
     ]
    },
    {
     "name": "stderr",
     "output_type": "stream",
     "text": [
      "C:\\Users\\admin\\anaconda3\\envs\\pythonProject10\\lib\\site-packages\\sklearn\\cluster\\k_means_.py:968: RuntimeWarning: Explicit initial center position passed: performing only one init in k-means instead of n_init=10\n",
      "  return_n_iter=True)\n",
      "C:\\Users\\admin\\anaconda3\\envs\\pythonProject10\\lib\\site-packages\\sklearn\\metrics\\cluster\\supervised.py:844: FutureWarning: The behavior of NMI will change in version 0.22. To match the behavior of 'v_measure_score', NMI will use average_method='arithmetic' by default.\n",
      "  FutureWarning)\n",
      "C:\\Users\\admin\\anaconda3\\envs\\pythonProject10\\lib\\site-packages\\sklearn\\cluster\\k_means_.py:968: RuntimeWarning: Explicit initial center position passed: performing only one init in k-means instead of n_init=10\n",
      "  return_n_iter=True)\n",
      "C:\\Users\\admin\\anaconda3\\envs\\pythonProject10\\lib\\site-packages\\sklearn\\metrics\\cluster\\supervised.py:844: FutureWarning: The behavior of NMI will change in version 0.22. To match the behavior of 'v_measure_score', NMI will use average_method='arithmetic' by default.\n",
      "  FutureWarning)\n"
     ]
    },
    {
     "name": "stdout",
     "output_type": "stream",
     "text": [
      "step- 2680  cost: 6.619691e+20\n",
      "count- [29217 22576 55737 53730]\n",
      "[2 2 2 2 2 2 2 2 2 2 2 2 2 2 2 2 0 0 0 0 0 0 0 0 2 0 0 0 3 3 3 3 3 3 3 3 3\n",
      " 2 3 3 2 3 3 3 2 3 3 2 3 3 2 3 1 1 1 1 1 1 1 1]\n",
      "acc: 0.9\n",
      "nmi: 0.80087\n",
      "ari: 0.70699\n",
      "step- 2690  cost: 2.7146553e+20\n",
      "count- [29327 22656 55957 53920]\n",
      "[2 2 2 2 2 2 2 2 2 2 2 2 2 2 2 2 0 0 0 0 0 0 0 0 2 0 0 0 3 3 3 3 3 3 3 3 3\n",
      " 2 3 3 2 3 3 3 2 3 3 2 3 3 2 3 1 1 1 1 1 1 1 1]\n",
      "acc: 0.9\n",
      "nmi: 0.80087\n",
      "ari: 0.70699\n"
     ]
    },
    {
     "name": "stderr",
     "output_type": "stream",
     "text": [
      "C:\\Users\\admin\\anaconda3\\envs\\pythonProject10\\lib\\site-packages\\sklearn\\cluster\\k_means_.py:968: RuntimeWarning: Explicit initial center position passed: performing only one init in k-means instead of n_init=10\n",
      "  return_n_iter=True)\n",
      "C:\\Users\\admin\\anaconda3\\envs\\pythonProject10\\lib\\site-packages\\sklearn\\metrics\\cluster\\supervised.py:844: FutureWarning: The behavior of NMI will change in version 0.22. To match the behavior of 'v_measure_score', NMI will use average_method='arithmetic' by default.\n",
      "  FutureWarning)\n",
      "C:\\Users\\admin\\anaconda3\\envs\\pythonProject10\\lib\\site-packages\\sklearn\\cluster\\k_means_.py:968: RuntimeWarning: Explicit initial center position passed: performing only one init in k-means instead of n_init=10\n",
      "  return_n_iter=True)\n",
      "C:\\Users\\admin\\anaconda3\\envs\\pythonProject10\\lib\\site-packages\\sklearn\\metrics\\cluster\\supervised.py:844: FutureWarning: The behavior of NMI will change in version 0.22. To match the behavior of 'v_measure_score', NMI will use average_method='arithmetic' by default.\n",
      "  FutureWarning)\n"
     ]
    },
    {
     "name": "stdout",
     "output_type": "stream",
     "text": [
      "step- 2700  cost: 4.8130047e+20\n",
      "count- [29437 22736 56177 54110]\n",
      "[2 2 2 2 2 2 2 2 2 2 2 2 2 2 2 2 0 0 0 0 0 0 0 0 2 0 0 0 3 3 3 3 3 3 3 3 3\n",
      " 2 3 3 2 3 3 3 2 3 3 2 3 3 2 3 1 1 1 1 1 1 1 1]\n",
      "acc: 0.9\n",
      "nmi: 0.80087\n",
      "ari: 0.70699\n",
      "step- 2710  cost: 2.653253e+21\n",
      "count- [29547 22816 56397 54300]\n",
      "[2 2 2 2 2 2 2 2 2 2 2 2 2 2 2 2 0 0 0 0 0 0 0 0 2 0 0 0 3 3 3 3 3 3 3 3 3\n",
      " 2 3 3 2 3 3 3 2 3 3 2 3 3 2 3 1 1 1 1 1 1 1 1]\n",
      "acc: 0.9\n",
      "nmi: 0.80087\n",
      "ari: 0.70699\n"
     ]
    },
    {
     "name": "stderr",
     "output_type": "stream",
     "text": [
      "C:\\Users\\admin\\anaconda3\\envs\\pythonProject10\\lib\\site-packages\\sklearn\\cluster\\k_means_.py:968: RuntimeWarning: Explicit initial center position passed: performing only one init in k-means instead of n_init=10\n",
      "  return_n_iter=True)\n",
      "C:\\Users\\admin\\anaconda3\\envs\\pythonProject10\\lib\\site-packages\\sklearn\\metrics\\cluster\\supervised.py:844: FutureWarning: The behavior of NMI will change in version 0.22. To match the behavior of 'v_measure_score', NMI will use average_method='arithmetic' by default.\n",
      "  FutureWarning)\n",
      "C:\\Users\\admin\\anaconda3\\envs\\pythonProject10\\lib\\site-packages\\sklearn\\cluster\\k_means_.py:968: RuntimeWarning: Explicit initial center position passed: performing only one init in k-means instead of n_init=10\n",
      "  return_n_iter=True)\n",
      "C:\\Users\\admin\\anaconda3\\envs\\pythonProject10\\lib\\site-packages\\sklearn\\metrics\\cluster\\supervised.py:844: FutureWarning: The behavior of NMI will change in version 0.22. To match the behavior of 'v_measure_score', NMI will use average_method='arithmetic' by default.\n",
      "  FutureWarning)\n"
     ]
    },
    {
     "name": "stdout",
     "output_type": "stream",
     "text": [
      "step- 2720  cost: 4.7702078e+20\n",
      "count- [29657 22896 56617 54490]\n",
      "[2 2 2 2 2 2 2 2 2 2 2 2 2 2 2 2 0 0 0 0 0 0 0 0 2 0 0 0 3 3 3 3 3 3 3 3 3\n",
      " 2 3 3 2 3 3 3 2 3 3 2 3 3 2 3 1 1 1 1 1 1 1 1]\n",
      "acc: 0.9\n",
      "nmi: 0.80087\n",
      "ari: 0.70699\n",
      "step- 2730  cost: 3.109397e+21\n",
      "count- [29767 22976 56837 54680]\n",
      "[2 2 2 2 2 2 2 2 2 2 2 2 2 2 2 2 0 0 0 0 0 0 0 0 2 0 0 0 3 3 3 3 3 3 3 3 3\n",
      " 2 3 3 2 3 3 3 2 3 3 2 3 3 2 3 1 1 1 1 1 1 1 1]\n",
      "acc: 0.9\n",
      "nmi: 0.80087\n",
      "ari: 0.70699\n"
     ]
    },
    {
     "name": "stderr",
     "output_type": "stream",
     "text": [
      "C:\\Users\\admin\\anaconda3\\envs\\pythonProject10\\lib\\site-packages\\sklearn\\cluster\\k_means_.py:968: RuntimeWarning: Explicit initial center position passed: performing only one init in k-means instead of n_init=10\n",
      "  return_n_iter=True)\n",
      "C:\\Users\\admin\\anaconda3\\envs\\pythonProject10\\lib\\site-packages\\sklearn\\metrics\\cluster\\supervised.py:844: FutureWarning: The behavior of NMI will change in version 0.22. To match the behavior of 'v_measure_score', NMI will use average_method='arithmetic' by default.\n",
      "  FutureWarning)\n",
      "C:\\Users\\admin\\anaconda3\\envs\\pythonProject10\\lib\\site-packages\\sklearn\\cluster\\k_means_.py:968: RuntimeWarning: Explicit initial center position passed: performing only one init in k-means instead of n_init=10\n",
      "  return_n_iter=True)\n",
      "C:\\Users\\admin\\anaconda3\\envs\\pythonProject10\\lib\\site-packages\\sklearn\\metrics\\cluster\\supervised.py:844: FutureWarning: The behavior of NMI will change in version 0.22. To match the behavior of 'v_measure_score', NMI will use average_method='arithmetic' by default.\n",
      "  FutureWarning)\n"
     ]
    },
    {
     "name": "stdout",
     "output_type": "stream",
     "text": [
      "step- 2740  cost: 3.4793488e+20\n",
      "count- [29877 23056 57057 54870]\n",
      "[2 2 2 2 2 2 2 2 2 2 2 2 2 2 2 2 0 0 0 0 0 0 0 0 2 0 0 0 3 3 3 3 3 3 3 3 3\n",
      " 2 3 3 2 3 3 3 2 3 3 2 3 3 2 3 1 1 1 1 1 1 1 1]\n",
      "acc: 0.9\n",
      "nmi: 0.80087\n",
      "ari: 0.70699\n",
      "step- 2750  cost: 3.8150717e+20\n",
      "count- [29987 23136 57277 55060]\n",
      "[2 2 2 2 2 2 2 2 2 2 2 2 2 2 2 2 0 0 0 0 0 0 0 0 2 0 0 0 3 3 3 3 3 3 3 3 3\n",
      " 2 3 3 2 3 3 3 2 3 3 2 3 3 2 3 1 1 1 1 1 1 1 1]\n",
      "acc: 0.9\n",
      "nmi: 0.80087\n",
      "ari: 0.70699\n"
     ]
    },
    {
     "name": "stderr",
     "output_type": "stream",
     "text": [
      "C:\\Users\\admin\\anaconda3\\envs\\pythonProject10\\lib\\site-packages\\sklearn\\cluster\\k_means_.py:968: RuntimeWarning: Explicit initial center position passed: performing only one init in k-means instead of n_init=10\n",
      "  return_n_iter=True)\n",
      "C:\\Users\\admin\\anaconda3\\envs\\pythonProject10\\lib\\site-packages\\sklearn\\metrics\\cluster\\supervised.py:844: FutureWarning: The behavior of NMI will change in version 0.22. To match the behavior of 'v_measure_score', NMI will use average_method='arithmetic' by default.\n",
      "  FutureWarning)\n",
      "C:\\Users\\admin\\anaconda3\\envs\\pythonProject10\\lib\\site-packages\\sklearn\\cluster\\k_means_.py:968: RuntimeWarning: Explicit initial center position passed: performing only one init in k-means instead of n_init=10\n",
      "  return_n_iter=True)\n",
      "C:\\Users\\admin\\anaconda3\\envs\\pythonProject10\\lib\\site-packages\\sklearn\\metrics\\cluster\\supervised.py:844: FutureWarning: The behavior of NMI will change in version 0.22. To match the behavior of 'v_measure_score', NMI will use average_method='arithmetic' by default.\n",
      "  FutureWarning)\n"
     ]
    },
    {
     "name": "stdout",
     "output_type": "stream",
     "text": [
      "step- 2760  cost: 7.218139e+20\n",
      "count- [30097 23216 57497 55250]\n",
      "[2 2 2 2 2 2 2 2 2 2 2 2 2 2 2 2 0 0 0 0 0 0 0 0 2 0 0 0 3 3 3 3 3 3 3 3 3\n",
      " 2 3 3 2 3 3 3 2 3 3 2 3 3 2 3 1 1 1 1 1 1 1 1]\n",
      "acc: 0.9\n",
      "nmi: 0.80087\n",
      "ari: 0.70699\n",
      "step- 2770  cost: 7.788895e+20\n",
      "count- [30207 23296 57717 55440]\n",
      "[2 2 2 2 2 2 2 2 2 2 2 2 2 2 2 2 0 0 0 0 0 0 0 0 2 0 0 0 3 3 3 3 3 3 3 3 3\n",
      " 2 3 3 2 3 3 3 2 3 3 2 3 3 2 3 1 1 1 1 1 1 1 1]\n",
      "acc: 0.9\n",
      "nmi: 0.80087\n",
      "ari: 0.70699\n"
     ]
    },
    {
     "name": "stderr",
     "output_type": "stream",
     "text": [
      "C:\\Users\\admin\\anaconda3\\envs\\pythonProject10\\lib\\site-packages\\sklearn\\cluster\\k_means_.py:968: RuntimeWarning: Explicit initial center position passed: performing only one init in k-means instead of n_init=10\n",
      "  return_n_iter=True)\n",
      "C:\\Users\\admin\\anaconda3\\envs\\pythonProject10\\lib\\site-packages\\sklearn\\metrics\\cluster\\supervised.py:844: FutureWarning: The behavior of NMI will change in version 0.22. To match the behavior of 'v_measure_score', NMI will use average_method='arithmetic' by default.\n",
      "  FutureWarning)\n",
      "C:\\Users\\admin\\anaconda3\\envs\\pythonProject10\\lib\\site-packages\\sklearn\\cluster\\k_means_.py:968: RuntimeWarning: Explicit initial center position passed: performing only one init in k-means instead of n_init=10\n",
      "  return_n_iter=True)\n",
      "C:\\Users\\admin\\anaconda3\\envs\\pythonProject10\\lib\\site-packages\\sklearn\\metrics\\cluster\\supervised.py:844: FutureWarning: The behavior of NMI will change in version 0.22. To match the behavior of 'v_measure_score', NMI will use average_method='arithmetic' by default.\n",
      "  FutureWarning)\n"
     ]
    },
    {
     "name": "stdout",
     "output_type": "stream",
     "text": [
      "step- 2780  cost: 1.1759338e+20\n",
      "count- [30317 23376 57937 55630]\n",
      "[2 2 2 2 2 2 2 2 2 2 2 2 2 2 2 2 0 0 0 0 0 0 0 0 2 0 0 0 3 3 3 3 3 3 3 3 3\n",
      " 2 3 3 2 3 3 3 2 3 3 2 3 3 2 3 1 1 1 1 1 1 1 1]\n",
      "acc: 0.9\n",
      "nmi: 0.80087\n",
      "ari: 0.70699\n",
      "step- 2790  cost: 4.1728572e+21\n",
      "count- [30427 23456 58157 55820]\n",
      "[2 2 2 2 2 2 2 2 2 2 2 2 2 2 2 2 0 0 0 0 0 0 0 0 2 0 0 0 3 3 3 3 3 3 3 3 3\n",
      " 2 3 3 2 3 3 3 2 3 3 2 3 3 2 3 1 1 1 1 1 1 1 1]\n",
      "acc: 0.9\n",
      "nmi: 0.80087\n",
      "ari: 0.70699\n"
     ]
    },
    {
     "name": "stderr",
     "output_type": "stream",
     "text": [
      "C:\\Users\\admin\\anaconda3\\envs\\pythonProject10\\lib\\site-packages\\sklearn\\cluster\\k_means_.py:968: RuntimeWarning: Explicit initial center position passed: performing only one init in k-means instead of n_init=10\n",
      "  return_n_iter=True)\n",
      "C:\\Users\\admin\\anaconda3\\envs\\pythonProject10\\lib\\site-packages\\sklearn\\metrics\\cluster\\supervised.py:844: FutureWarning: The behavior of NMI will change in version 0.22. To match the behavior of 'v_measure_score', NMI will use average_method='arithmetic' by default.\n",
      "  FutureWarning)\n",
      "C:\\Users\\admin\\anaconda3\\envs\\pythonProject10\\lib\\site-packages\\sklearn\\cluster\\k_means_.py:968: RuntimeWarning: Explicit initial center position passed: performing only one init in k-means instead of n_init=10\n",
      "  return_n_iter=True)\n",
      "C:\\Users\\admin\\anaconda3\\envs\\pythonProject10\\lib\\site-packages\\sklearn\\metrics\\cluster\\supervised.py:844: FutureWarning: The behavior of NMI will change in version 0.22. To match the behavior of 'v_measure_score', NMI will use average_method='arithmetic' by default.\n",
      "  FutureWarning)\n"
     ]
    },
    {
     "name": "stdout",
     "output_type": "stream",
     "text": [
      "step- 2800  cost: 6.4180545e+20\n",
      "count- [30537 23536 58377 56010]\n",
      "[2 2 2 2 2 2 2 2 2 2 2 2 2 2 2 2 0 0 0 0 0 0 0 0 2 0 0 0 3 3 3 3 3 3 3 3 3\n",
      " 2 3 3 2 3 3 3 2 3 3 2 3 3 2 3 1 1 1 1 1 1 1 1]\n",
      "acc: 0.9\n",
      "nmi: 0.80087\n",
      "ari: 0.70699\n",
      "step- 2810  cost: 1.3892828e+21\n",
      "count- [30647 23616 58597 56200]\n",
      "[2 2 2 2 2 2 2 2 2 2 2 2 2 2 2 2 0 0 0 0 0 0 0 0 2 0 0 0 3 3 3 3 3 3 3 3 3\n",
      " 2 3 3 2 3 3 3 2 3 3 2 3 3 2 3 1 1 1 1 1 1 1 1]\n",
      "acc: 0.9\n",
      "nmi: 0.80087\n",
      "ari: 0.70699\n"
     ]
    },
    {
     "name": "stderr",
     "output_type": "stream",
     "text": [
      "C:\\Users\\admin\\anaconda3\\envs\\pythonProject10\\lib\\site-packages\\sklearn\\cluster\\k_means_.py:968: RuntimeWarning: Explicit initial center position passed: performing only one init in k-means instead of n_init=10\n",
      "  return_n_iter=True)\n",
      "C:\\Users\\admin\\anaconda3\\envs\\pythonProject10\\lib\\site-packages\\sklearn\\metrics\\cluster\\supervised.py:844: FutureWarning: The behavior of NMI will change in version 0.22. To match the behavior of 'v_measure_score', NMI will use average_method='arithmetic' by default.\n",
      "  FutureWarning)\n",
      "C:\\Users\\admin\\anaconda3\\envs\\pythonProject10\\lib\\site-packages\\sklearn\\cluster\\k_means_.py:968: RuntimeWarning: Explicit initial center position passed: performing only one init in k-means instead of n_init=10\n",
      "  return_n_iter=True)\n",
      "C:\\Users\\admin\\anaconda3\\envs\\pythonProject10\\lib\\site-packages\\sklearn\\metrics\\cluster\\supervised.py:844: FutureWarning: The behavior of NMI will change in version 0.22. To match the behavior of 'v_measure_score', NMI will use average_method='arithmetic' by default.\n",
      "  FutureWarning)\n"
     ]
    },
    {
     "name": "stdout",
     "output_type": "stream",
     "text": [
      "step- 2820  cost: 4.2546793e+20\n",
      "count- [30757 23696 58817 56390]\n",
      "[2 2 2 2 2 2 2 2 2 2 2 2 2 2 2 2 0 0 0 0 0 0 0 0 2 0 0 0 3 3 3 3 3 3 3 3 3\n",
      " 2 3 3 2 3 3 3 2 3 3 2 3 3 2 3 1 1 1 1 1 1 1 1]\n",
      "acc: 0.9\n",
      "nmi: 0.80087\n",
      "ari: 0.70699\n",
      "step- 2830  cost: 3.078742e+20\n",
      "count- [30867 23776 59037 56580]\n",
      "[2 2 2 2 2 2 2 2 2 2 2 2 2 2 2 2 0 0 0 0 0 0 0 0 2 0 0 0 3 3 3 3 3 3 3 3 3\n",
      " 2 3 3 2 3 3 3 2 3 3 2 3 3 2 3 1 1 1 1 1 1 1 1]\n",
      "acc: 0.9\n",
      "nmi: 0.80087\n",
      "ari: 0.70699\n"
     ]
    },
    {
     "name": "stderr",
     "output_type": "stream",
     "text": [
      "C:\\Users\\admin\\anaconda3\\envs\\pythonProject10\\lib\\site-packages\\sklearn\\cluster\\k_means_.py:968: RuntimeWarning: Explicit initial center position passed: performing only one init in k-means instead of n_init=10\n",
      "  return_n_iter=True)\n",
      "C:\\Users\\admin\\anaconda3\\envs\\pythonProject10\\lib\\site-packages\\sklearn\\metrics\\cluster\\supervised.py:844: FutureWarning: The behavior of NMI will change in version 0.22. To match the behavior of 'v_measure_score', NMI will use average_method='arithmetic' by default.\n",
      "  FutureWarning)\n",
      "C:\\Users\\admin\\anaconda3\\envs\\pythonProject10\\lib\\site-packages\\sklearn\\cluster\\k_means_.py:968: RuntimeWarning: Explicit initial center position passed: performing only one init in k-means instead of n_init=10\n",
      "  return_n_iter=True)\n",
      "C:\\Users\\admin\\anaconda3\\envs\\pythonProject10\\lib\\site-packages\\sklearn\\metrics\\cluster\\supervised.py:844: FutureWarning: The behavior of NMI will change in version 0.22. To match the behavior of 'v_measure_score', NMI will use average_method='arithmetic' by default.\n",
      "  FutureWarning)\n"
     ]
    },
    {
     "name": "stdout",
     "output_type": "stream",
     "text": [
      "step- 2840  cost: 1.764182e+20\n",
      "count- [30977 23856 59257 56770]\n",
      "[2 2 2 2 2 2 2 2 2 2 2 2 2 2 2 2 0 0 0 0 0 0 0 0 2 0 0 0 3 3 3 3 3 3 3 3 3\n",
      " 2 3 3 2 3 3 3 2 3 3 2 3 3 2 3 1 1 1 1 1 1 1 1]\n",
      "acc: 0.9\n",
      "nmi: 0.80087\n",
      "ari: 0.70699\n",
      "step- 2850  cost: 3.382349e+20\n",
      "count- [31087 23936 59477 56960]\n",
      "[2 2 2 2 2 2 2 2 2 2 2 2 2 2 2 2 0 0 0 0 0 0 0 0 2 0 0 0 3 3 3 3 3 3 3 3 3\n",
      " 2 3 3 2 3 3 3 2 3 3 2 3 3 2 3 1 1 1 1 1 1 1 1]\n",
      "acc: 0.9\n",
      "nmi: 0.80087\n",
      "ari: 0.70699\n"
     ]
    },
    {
     "name": "stderr",
     "output_type": "stream",
     "text": [
      "C:\\Users\\admin\\anaconda3\\envs\\pythonProject10\\lib\\site-packages\\sklearn\\cluster\\k_means_.py:968: RuntimeWarning: Explicit initial center position passed: performing only one init in k-means instead of n_init=10\n",
      "  return_n_iter=True)\n",
      "C:\\Users\\admin\\anaconda3\\envs\\pythonProject10\\lib\\site-packages\\sklearn\\metrics\\cluster\\supervised.py:844: FutureWarning: The behavior of NMI will change in version 0.22. To match the behavior of 'v_measure_score', NMI will use average_method='arithmetic' by default.\n",
      "  FutureWarning)\n",
      "C:\\Users\\admin\\anaconda3\\envs\\pythonProject10\\lib\\site-packages\\sklearn\\cluster\\k_means_.py:968: RuntimeWarning: Explicit initial center position passed: performing only one init in k-means instead of n_init=10\n",
      "  return_n_iter=True)\n",
      "C:\\Users\\admin\\anaconda3\\envs\\pythonProject10\\lib\\site-packages\\sklearn\\metrics\\cluster\\supervised.py:844: FutureWarning: The behavior of NMI will change in version 0.22. To match the behavior of 'v_measure_score', NMI will use average_method='arithmetic' by default.\n",
      "  FutureWarning)\n"
     ]
    },
    {
     "name": "stdout",
     "output_type": "stream",
     "text": [
      "step- 2860  cost: 5.6894234e+20\n",
      "count- [31197 24016 59697 57150]\n",
      "[2 2 2 2 2 2 2 2 2 2 2 2 2 2 2 2 0 0 0 0 0 0 0 0 2 0 0 0 3 3 3 3 3 3 3 3 3\n",
      " 2 3 3 2 3 3 3 2 3 3 2 3 3 2 3 1 1 1 1 1 1 1 1]\n",
      "acc: 0.9\n",
      "nmi: 0.80087\n",
      "ari: 0.70699\n",
      "step- 2870  cost: 1.6649017e+21\n",
      "count- [31307 24096 59917 57340]\n",
      "[2 2 2 2 2 2 2 2 2 2 2 2 2 2 2 2 0 0 0 0 0 0 0 0 2 0 0 0 3 3 3 3 3 3 3 3 3\n",
      " 2 3 3 2 3 3 3 2 3 3 2 3 3 2 3 1 1 1 1 1 1 1 1]\n",
      "acc: 0.9\n",
      "nmi: 0.80087\n",
      "ari: 0.70699\n"
     ]
    },
    {
     "name": "stderr",
     "output_type": "stream",
     "text": [
      "C:\\Users\\admin\\anaconda3\\envs\\pythonProject10\\lib\\site-packages\\sklearn\\cluster\\k_means_.py:968: RuntimeWarning: Explicit initial center position passed: performing only one init in k-means instead of n_init=10\n",
      "  return_n_iter=True)\n",
      "C:\\Users\\admin\\anaconda3\\envs\\pythonProject10\\lib\\site-packages\\sklearn\\metrics\\cluster\\supervised.py:844: FutureWarning: The behavior of NMI will change in version 0.22. To match the behavior of 'v_measure_score', NMI will use average_method='arithmetic' by default.\n",
      "  FutureWarning)\n",
      "C:\\Users\\admin\\anaconda3\\envs\\pythonProject10\\lib\\site-packages\\sklearn\\cluster\\k_means_.py:968: RuntimeWarning: Explicit initial center position passed: performing only one init in k-means instead of n_init=10\n",
      "  return_n_iter=True)\n",
      "C:\\Users\\admin\\anaconda3\\envs\\pythonProject10\\lib\\site-packages\\sklearn\\metrics\\cluster\\supervised.py:844: FutureWarning: The behavior of NMI will change in version 0.22. To match the behavior of 'v_measure_score', NMI will use average_method='arithmetic' by default.\n",
      "  FutureWarning)\n"
     ]
    },
    {
     "name": "stdout",
     "output_type": "stream",
     "text": [
      "step- 2880  cost: 2.6337273e+21\n",
      "count- [31417 24176 60137 57530]\n",
      "[2 2 2 2 2 2 2 2 2 2 2 2 2 2 2 2 0 0 0 0 0 0 0 0 2 0 0 0 3 3 3 3 3 3 3 3 3\n",
      " 2 3 3 2 3 3 3 2 3 3 2 3 3 2 3 1 1 1 1 1 1 1 1]\n",
      "acc: 0.9\n",
      "nmi: 0.80087\n",
      "ari: 0.70699\n",
      "step- 2890  cost: 1.2572788e+21\n",
      "count- [31527 24256 60357 57720]\n",
      "[2 2 2 2 2 2 2 2 2 2 2 2 2 2 2 2 0 0 0 0 0 0 0 0 2 0 0 0 3 3 3 3 3 3 3 3 3\n",
      " 2 3 3 2 3 3 3 2 3 3 2 3 3 2 3 1 1 1 1 1 1 1 1]\n",
      "acc: 0.9\n",
      "nmi: 0.80087\n",
      "ari: 0.70699\n"
     ]
    },
    {
     "name": "stderr",
     "output_type": "stream",
     "text": [
      "C:\\Users\\admin\\anaconda3\\envs\\pythonProject10\\lib\\site-packages\\sklearn\\cluster\\k_means_.py:968: RuntimeWarning: Explicit initial center position passed: performing only one init in k-means instead of n_init=10\n",
      "  return_n_iter=True)\n",
      "C:\\Users\\admin\\anaconda3\\envs\\pythonProject10\\lib\\site-packages\\sklearn\\metrics\\cluster\\supervised.py:844: FutureWarning: The behavior of NMI will change in version 0.22. To match the behavior of 'v_measure_score', NMI will use average_method='arithmetic' by default.\n",
      "  FutureWarning)\n",
      "C:\\Users\\admin\\anaconda3\\envs\\pythonProject10\\lib\\site-packages\\sklearn\\cluster\\k_means_.py:968: RuntimeWarning: Explicit initial center position passed: performing only one init in k-means instead of n_init=10\n",
      "  return_n_iter=True)\n",
      "C:\\Users\\admin\\anaconda3\\envs\\pythonProject10\\lib\\site-packages\\sklearn\\metrics\\cluster\\supervised.py:844: FutureWarning: The behavior of NMI will change in version 0.22. To match the behavior of 'v_measure_score', NMI will use average_method='arithmetic' by default.\n",
      "  FutureWarning)\n"
     ]
    },
    {
     "name": "stdout",
     "output_type": "stream",
     "text": [
      "step- 2900  cost: 1.8238878e+20\n",
      "count- [31637 24336 60577 57910]\n",
      "[2 2 2 2 2 2 2 2 2 2 2 2 2 2 2 2 0 0 0 0 0 0 0 0 2 0 0 0 3 3 3 3 3 3 3 3 3\n",
      " 2 3 3 2 3 3 3 2 3 3 2 3 3 2 3 1 1 1 1 1 1 1 1]\n",
      "acc: 0.9\n",
      "nmi: 0.80087\n",
      "ari: 0.70699\n",
      "step- 2910  cost: 2.9450503e+20\n",
      "count- [31747 24416 60797 58100]\n",
      "[2 2 2 2 2 2 2 2 2 2 2 2 2 2 2 2 0 0 0 0 0 0 0 0 2 0 0 0 3 3 3 3 3 3 3 3 3\n",
      " 2 3 3 2 3 3 3 2 3 3 2 3 3 2 3 1 1 1 1 1 1 1 1]\n",
      "acc: 0.9\n",
      "nmi: 0.80087\n",
      "ari: 0.70699\n"
     ]
    },
    {
     "name": "stderr",
     "output_type": "stream",
     "text": [
      "C:\\Users\\admin\\anaconda3\\envs\\pythonProject10\\lib\\site-packages\\sklearn\\cluster\\k_means_.py:968: RuntimeWarning: Explicit initial center position passed: performing only one init in k-means instead of n_init=10\n",
      "  return_n_iter=True)\n",
      "C:\\Users\\admin\\anaconda3\\envs\\pythonProject10\\lib\\site-packages\\sklearn\\metrics\\cluster\\supervised.py:844: FutureWarning: The behavior of NMI will change in version 0.22. To match the behavior of 'v_measure_score', NMI will use average_method='arithmetic' by default.\n",
      "  FutureWarning)\n",
      "C:\\Users\\admin\\anaconda3\\envs\\pythonProject10\\lib\\site-packages\\sklearn\\cluster\\k_means_.py:968: RuntimeWarning: Explicit initial center position passed: performing only one init in k-means instead of n_init=10\n",
      "  return_n_iter=True)\n",
      "C:\\Users\\admin\\anaconda3\\envs\\pythonProject10\\lib\\site-packages\\sklearn\\metrics\\cluster\\supervised.py:844: FutureWarning: The behavior of NMI will change in version 0.22. To match the behavior of 'v_measure_score', NMI will use average_method='arithmetic' by default.\n",
      "  FutureWarning)\n"
     ]
    },
    {
     "name": "stdout",
     "output_type": "stream",
     "text": [
      "step- 2920  cost: 6.556071e+20\n",
      "count- [31857 24496 61017 58290]\n",
      "[2 2 2 2 2 2 2 2 2 2 2 2 2 2 2 2 0 0 0 0 0 0 0 0 2 0 0 0 3 3 3 3 3 3 3 3 3\n",
      " 2 3 3 2 3 3 3 2 3 3 2 3 3 2 3 1 1 1 1 1 1 1 1]\n",
      "acc: 0.9\n",
      "nmi: 0.80087\n",
      "ari: 0.70699\n",
      "step- 2930  cost: 2.1845132e+21\n",
      "count- [31967 24576 61237 58480]\n",
      "[2 2 2 2 2 2 2 2 2 2 2 2 2 2 2 2 0 0 0 0 0 0 0 0 2 0 0 0 3 3 3 3 3 3 3 3 3\n",
      " 2 3 3 2 3 3 3 2 3 3 2 3 3 2 3 1 1 1 1 1 1 1 1]\n",
      "acc: 0.9\n",
      "nmi: 0.80087\n",
      "ari: 0.70699\n"
     ]
    },
    {
     "name": "stderr",
     "output_type": "stream",
     "text": [
      "C:\\Users\\admin\\anaconda3\\envs\\pythonProject10\\lib\\site-packages\\sklearn\\cluster\\k_means_.py:968: RuntimeWarning: Explicit initial center position passed: performing only one init in k-means instead of n_init=10\n",
      "  return_n_iter=True)\n",
      "C:\\Users\\admin\\anaconda3\\envs\\pythonProject10\\lib\\site-packages\\sklearn\\metrics\\cluster\\supervised.py:844: FutureWarning: The behavior of NMI will change in version 0.22. To match the behavior of 'v_measure_score', NMI will use average_method='arithmetic' by default.\n",
      "  FutureWarning)\n",
      "C:\\Users\\admin\\anaconda3\\envs\\pythonProject10\\lib\\site-packages\\sklearn\\cluster\\k_means_.py:968: RuntimeWarning: Explicit initial center position passed: performing only one init in k-means instead of n_init=10\n",
      "  return_n_iter=True)\n",
      "C:\\Users\\admin\\anaconda3\\envs\\pythonProject10\\lib\\site-packages\\sklearn\\metrics\\cluster\\supervised.py:844: FutureWarning: The behavior of NMI will change in version 0.22. To match the behavior of 'v_measure_score', NMI will use average_method='arithmetic' by default.\n",
      "  FutureWarning)\n"
     ]
    },
    {
     "name": "stdout",
     "output_type": "stream",
     "text": [
      "step- 2940  cost: 1.8097518e+20\n",
      "count- [32077 24656 61457 58670]\n",
      "[2 2 2 2 2 2 2 2 2 2 2 2 2 2 2 2 0 0 0 0 0 0 0 0 2 0 0 0 3 3 3 3 3 3 3 3 3\n",
      " 2 3 3 2 3 3 3 2 3 3 2 3 3 2 3 1 1 1 1 1 1 1 1]\n",
      "acc: 0.9\n",
      "nmi: 0.80087\n",
      "ari: 0.70699\n",
      "step- 2950  cost: 1.3750165e+21\n",
      "count- [32187 24736 61677 58860]\n",
      "[2 2 2 2 2 2 2 2 2 2 2 2 2 2 2 2 0 0 0 0 0 0 0 0 2 0 0 0 3 3 3 3 3 3 3 3 3\n",
      " 2 3 3 2 3 3 3 2 3 3 2 3 3 2 3 1 1 1 1 1 1 1 1]\n",
      "acc: 0.9\n",
      "nmi: 0.80087\n",
      "ari: 0.70699\n"
     ]
    },
    {
     "name": "stderr",
     "output_type": "stream",
     "text": [
      "C:\\Users\\admin\\anaconda3\\envs\\pythonProject10\\lib\\site-packages\\sklearn\\cluster\\k_means_.py:968: RuntimeWarning: Explicit initial center position passed: performing only one init in k-means instead of n_init=10\n",
      "  return_n_iter=True)\n",
      "C:\\Users\\admin\\anaconda3\\envs\\pythonProject10\\lib\\site-packages\\sklearn\\metrics\\cluster\\supervised.py:844: FutureWarning: The behavior of NMI will change in version 0.22. To match the behavior of 'v_measure_score', NMI will use average_method='arithmetic' by default.\n",
      "  FutureWarning)\n",
      "C:\\Users\\admin\\anaconda3\\envs\\pythonProject10\\lib\\site-packages\\sklearn\\cluster\\k_means_.py:968: RuntimeWarning: Explicit initial center position passed: performing only one init in k-means instead of n_init=10\n",
      "  return_n_iter=True)\n",
      "C:\\Users\\admin\\anaconda3\\envs\\pythonProject10\\lib\\site-packages\\sklearn\\metrics\\cluster\\supervised.py:844: FutureWarning: The behavior of NMI will change in version 0.22. To match the behavior of 'v_measure_score', NMI will use average_method='arithmetic' by default.\n",
      "  FutureWarning)\n"
     ]
    },
    {
     "name": "stdout",
     "output_type": "stream",
     "text": [
      "step- 2960  cost: 1.7761613e+20\n",
      "count- [32297 24816 61897 59050]\n",
      "[2 2 2 2 2 2 2 2 2 2 2 2 2 2 2 2 0 0 0 0 0 0 0 0 2 0 0 0 3 3 3 3 3 3 3 3 3\n",
      " 2 3 3 2 3 3 3 2 3 3 2 3 3 2 3 1 1 1 1 1 1 1 1]\n",
      "acc: 0.9\n",
      "nmi: 0.80087\n",
      "ari: 0.70699\n",
      "step- 2970  cost: 2.6072157e+21\n",
      "count- [32407 24896 62117 59240]\n",
      "[2 2 2 2 2 2 2 2 2 2 2 2 2 2 2 2 0 0 0 0 0 0 0 0 2 0 0 0 3 3 3 3 3 3 3 3 3\n",
      " 2 3 3 2 3 3 3 2 3 3 2 3 3 2 3 1 1 1 1 1 1 1 1]\n",
      "acc: 0.9\n",
      "nmi: 0.80087\n",
      "ari: 0.70699\n"
     ]
    },
    {
     "name": "stderr",
     "output_type": "stream",
     "text": [
      "C:\\Users\\admin\\anaconda3\\envs\\pythonProject10\\lib\\site-packages\\sklearn\\cluster\\k_means_.py:968: RuntimeWarning: Explicit initial center position passed: performing only one init in k-means instead of n_init=10\n",
      "  return_n_iter=True)\n",
      "C:\\Users\\admin\\anaconda3\\envs\\pythonProject10\\lib\\site-packages\\sklearn\\metrics\\cluster\\supervised.py:844: FutureWarning: The behavior of NMI will change in version 0.22. To match the behavior of 'v_measure_score', NMI will use average_method='arithmetic' by default.\n",
      "  FutureWarning)\n",
      "C:\\Users\\admin\\anaconda3\\envs\\pythonProject10\\lib\\site-packages\\sklearn\\cluster\\k_means_.py:968: RuntimeWarning: Explicit initial center position passed: performing only one init in k-means instead of n_init=10\n",
      "  return_n_iter=True)\n",
      "C:\\Users\\admin\\anaconda3\\envs\\pythonProject10\\lib\\site-packages\\sklearn\\metrics\\cluster\\supervised.py:844: FutureWarning: The behavior of NMI will change in version 0.22. To match the behavior of 'v_measure_score', NMI will use average_method='arithmetic' by default.\n",
      "  FutureWarning)\n"
     ]
    },
    {
     "name": "stdout",
     "output_type": "stream",
     "text": [
      "step- 2980  cost: 4.2501342e+21\n",
      "count- [32517 24976 62337 59430]\n",
      "[2 2 2 2 2 2 2 2 2 2 2 2 2 2 2 2 0 0 0 0 0 0 0 0 2 0 0 0 3 3 3 3 3 3 3 3 3\n",
      " 2 3 3 2 3 3 3 2 3 3 2 3 3 2 3 1 1 1 1 1 1 1 1]\n",
      "acc: 0.9\n",
      "nmi: 0.80087\n",
      "ari: 0.70699\n",
      "step- 2990  cost: 2.3380855e+21\n",
      "count- [32627 25056 62557 59620]\n",
      "[2 2 2 2 2 2 2 2 2 2 2 2 2 2 2 2 0 0 0 0 0 0 0 0 2 0 0 0 3 3 3 3 3 3 3 3 3\n",
      " 2 3 3 2 3 3 3 2 3 3 2 3 3 2 3 1 1 1 1 1 1 1 1]\n",
      "acc: 0.9\n",
      "nmi: 0.80087\n",
      "ari: 0.70699\n"
     ]
    },
    {
     "name": "stderr",
     "output_type": "stream",
     "text": [
      "C:\\Users\\admin\\anaconda3\\envs\\pythonProject10\\lib\\site-packages\\sklearn\\cluster\\k_means_.py:968: RuntimeWarning: Explicit initial center position passed: performing only one init in k-means instead of n_init=10\n",
      "  return_n_iter=True)\n",
      "C:\\Users\\admin\\anaconda3\\envs\\pythonProject10\\lib\\site-packages\\sklearn\\metrics\\cluster\\supervised.py:844: FutureWarning: The behavior of NMI will change in version 0.22. To match the behavior of 'v_measure_score', NMI will use average_method='arithmetic' by default.\n",
      "  FutureWarning)\n",
      "C:\\Users\\admin\\anaconda3\\envs\\pythonProject10\\lib\\site-packages\\sklearn\\cluster\\k_means_.py:968: RuntimeWarning: Explicit initial center position passed: performing only one init in k-means instead of n_init=10\n",
      "  return_n_iter=True)\n",
      "C:\\Users\\admin\\anaconda3\\envs\\pythonProject10\\lib\\site-packages\\sklearn\\metrics\\cluster\\supervised.py:844: FutureWarning: The behavior of NMI will change in version 0.22. To match the behavior of 'v_measure_score', NMI will use average_method='arithmetic' by default.\n",
      "  FutureWarning)\n"
     ]
    },
    {
     "name": "stdout",
     "output_type": "stream",
     "text": [
      "step- 3000  cost: 2.1855514e+21\n",
      "count- [32737 25136 62777 59810]\n",
      "[2 2 2 2 2 2 2 2 2 2 2 2 2 2 2 2 0 0 0 0 0 0 0 0 2 0 0 0 3 3 3 3 3 3 3 3 3\n",
      " 2 3 3 2 3 3 3 2 3 3 2 3 3 2 3 1 1 1 1 1 1 1 1]\n",
      "acc: 0.9\n",
      "nmi: 0.80087\n",
      "ari: 0.70699\n",
      "step- 3010  cost: 3.4052933e+21\n",
      "count- [32847 25216 62997 60000]\n",
      "[2 2 2 2 2 2 2 2 2 2 2 2 2 2 2 2 0 0 0 0 0 0 0 0 2 0 0 0 3 3 3 3 3 3 3 3 3\n",
      " 2 3 3 2 3 3 3 2 3 3 2 3 3 2 3 1 1 1 1 1 1 1 1]\n",
      "acc: 0.9\n",
      "nmi: 0.80087\n",
      "ari: 0.70699\n"
     ]
    },
    {
     "name": "stderr",
     "output_type": "stream",
     "text": [
      "C:\\Users\\admin\\anaconda3\\envs\\pythonProject10\\lib\\site-packages\\sklearn\\cluster\\k_means_.py:968: RuntimeWarning: Explicit initial center position passed: performing only one init in k-means instead of n_init=10\n",
      "  return_n_iter=True)\n",
      "C:\\Users\\admin\\anaconda3\\envs\\pythonProject10\\lib\\site-packages\\sklearn\\metrics\\cluster\\supervised.py:844: FutureWarning: The behavior of NMI will change in version 0.22. To match the behavior of 'v_measure_score', NMI will use average_method='arithmetic' by default.\n",
      "  FutureWarning)\n",
      "C:\\Users\\admin\\anaconda3\\envs\\pythonProject10\\lib\\site-packages\\sklearn\\cluster\\k_means_.py:968: RuntimeWarning: Explicit initial center position passed: performing only one init in k-means instead of n_init=10\n",
      "  return_n_iter=True)\n",
      "C:\\Users\\admin\\anaconda3\\envs\\pythonProject10\\lib\\site-packages\\sklearn\\metrics\\cluster\\supervised.py:844: FutureWarning: The behavior of NMI will change in version 0.22. To match the behavior of 'v_measure_score', NMI will use average_method='arithmetic' by default.\n",
      "  FutureWarning)\n"
     ]
    },
    {
     "name": "stdout",
     "output_type": "stream",
     "text": [
      "step- 3020  cost: 9.741964e+20\n",
      "count- [32957 25296 63217 60190]\n",
      "[2 2 2 2 2 2 2 2 2 2 2 2 2 2 2 2 0 0 0 0 0 0 0 0 2 0 0 0 3 3 3 3 3 3 3 3 3\n",
      " 2 3 3 2 3 3 3 2 3 3 2 3 3 2 3 1 1 1 1 1 1 1 1]\n",
      "acc: 0.9\n",
      "nmi: 0.80087\n",
      "ari: 0.70699\n",
      "step- 3030  cost: 1.3724171e+21\n",
      "count- [33067 25376 63437 60380]\n",
      "[2 2 2 2 2 2 2 2 2 2 2 2 2 2 2 2 0 0 0 0 0 0 0 0 2 0 0 0 3 3 3 3 3 3 3 3 3\n",
      " 2 3 3 2 3 3 3 2 3 3 2 3 3 2 3 1 1 1 1 1 1 1 1]\n",
      "acc: 0.9\n",
      "nmi: 0.80087\n",
      "ari: 0.70699\n"
     ]
    },
    {
     "name": "stderr",
     "output_type": "stream",
     "text": [
      "C:\\Users\\admin\\anaconda3\\envs\\pythonProject10\\lib\\site-packages\\sklearn\\cluster\\k_means_.py:968: RuntimeWarning: Explicit initial center position passed: performing only one init in k-means instead of n_init=10\n",
      "  return_n_iter=True)\n",
      "C:\\Users\\admin\\anaconda3\\envs\\pythonProject10\\lib\\site-packages\\sklearn\\metrics\\cluster\\supervised.py:844: FutureWarning: The behavior of NMI will change in version 0.22. To match the behavior of 'v_measure_score', NMI will use average_method='arithmetic' by default.\n",
      "  FutureWarning)\n",
      "C:\\Users\\admin\\anaconda3\\envs\\pythonProject10\\lib\\site-packages\\sklearn\\cluster\\k_means_.py:968: RuntimeWarning: Explicit initial center position passed: performing only one init in k-means instead of n_init=10\n",
      "  return_n_iter=True)\n",
      "C:\\Users\\admin\\anaconda3\\envs\\pythonProject10\\lib\\site-packages\\sklearn\\metrics\\cluster\\supervised.py:844: FutureWarning: The behavior of NMI will change in version 0.22. To match the behavior of 'v_measure_score', NMI will use average_method='arithmetic' by default.\n",
      "  FutureWarning)\n"
     ]
    },
    {
     "name": "stdout",
     "output_type": "stream",
     "text": [
      "step- 3040  cost: 2.5045658e+21\n",
      "count- [33177 25456 63657 60570]\n",
      "[2 2 2 2 2 2 2 2 2 2 2 2 2 2 2 2 0 0 0 0 0 0 0 0 2 0 0 0 3 3 3 3 3 3 3 3 3\n",
      " 2 3 3 2 3 3 3 2 3 3 2 3 3 2 3 1 1 1 1 1 1 1 1]\n",
      "acc: 0.9\n",
      "nmi: 0.80087\n",
      "ari: 0.70699\n",
      "step- 3050  cost: 3.1517113e+21\n",
      "count- [33287 25536 63877 60760]\n",
      "[2 2 2 2 2 2 2 2 2 2 2 2 2 2 2 2 0 0 0 0 0 0 0 0 2 0 0 0 3 3 3 3 3 3 3 3 3\n",
      " 2 3 3 2 3 3 3 2 3 3 2 3 3 2 3 1 1 1 1 1 1 1 1]\n",
      "acc: 0.9\n",
      "nmi: 0.80087\n",
      "ari: 0.70699\n"
     ]
    },
    {
     "name": "stderr",
     "output_type": "stream",
     "text": [
      "C:\\Users\\admin\\anaconda3\\envs\\pythonProject10\\lib\\site-packages\\sklearn\\cluster\\k_means_.py:968: RuntimeWarning: Explicit initial center position passed: performing only one init in k-means instead of n_init=10\n",
      "  return_n_iter=True)\n",
      "C:\\Users\\admin\\anaconda3\\envs\\pythonProject10\\lib\\site-packages\\sklearn\\metrics\\cluster\\supervised.py:844: FutureWarning: The behavior of NMI will change in version 0.22. To match the behavior of 'v_measure_score', NMI will use average_method='arithmetic' by default.\n",
      "  FutureWarning)\n",
      "C:\\Users\\admin\\anaconda3\\envs\\pythonProject10\\lib\\site-packages\\sklearn\\cluster\\k_means_.py:968: RuntimeWarning: Explicit initial center position passed: performing only one init in k-means instead of n_init=10\n",
      "  return_n_iter=True)\n",
      "C:\\Users\\admin\\anaconda3\\envs\\pythonProject10\\lib\\site-packages\\sklearn\\metrics\\cluster\\supervised.py:844: FutureWarning: The behavior of NMI will change in version 0.22. To match the behavior of 'v_measure_score', NMI will use average_method='arithmetic' by default.\n",
      "  FutureWarning)\n"
     ]
    },
    {
     "name": "stdout",
     "output_type": "stream",
     "text": [
      "step- 3060  cost: 1.2825864e+22\n",
      "count- [33397 25616 64097 60950]\n",
      "[2 2 2 2 2 2 2 2 2 2 2 2 2 2 2 2 0 0 0 0 0 0 0 0 2 0 0 0 3 3 3 3 3 3 3 3 3\n",
      " 2 3 3 2 3 3 3 2 3 3 2 3 3 2 3 1 1 1 1 1 1 1 1]\n",
      "acc: 0.9\n",
      "nmi: 0.80087\n",
      "ari: 0.70699\n",
      "step- 3070  cost: 5.7437175e+20\n",
      "count- [33507 25696 64317 61140]\n",
      "[2 2 2 2 2 2 2 2 2 2 2 2 2 2 2 2 0 0 0 0 0 0 0 0 2 0 0 0 3 3 3 3 3 3 3 3 3\n",
      " 2 3 3 2 3 3 3 2 3 3 2 3 3 2 3 1 1 1 1 1 1 1 1]\n",
      "acc: 0.9\n",
      "nmi: 0.80087\n",
      "ari: 0.70699\n"
     ]
    },
    {
     "name": "stderr",
     "output_type": "stream",
     "text": [
      "C:\\Users\\admin\\anaconda3\\envs\\pythonProject10\\lib\\site-packages\\sklearn\\cluster\\k_means_.py:968: RuntimeWarning: Explicit initial center position passed: performing only one init in k-means instead of n_init=10\n",
      "  return_n_iter=True)\n",
      "C:\\Users\\admin\\anaconda3\\envs\\pythonProject10\\lib\\site-packages\\sklearn\\metrics\\cluster\\supervised.py:844: FutureWarning: The behavior of NMI will change in version 0.22. To match the behavior of 'v_measure_score', NMI will use average_method='arithmetic' by default.\n",
      "  FutureWarning)\n",
      "C:\\Users\\admin\\anaconda3\\envs\\pythonProject10\\lib\\site-packages\\sklearn\\cluster\\k_means_.py:968: RuntimeWarning: Explicit initial center position passed: performing only one init in k-means instead of n_init=10\n",
      "  return_n_iter=True)\n",
      "C:\\Users\\admin\\anaconda3\\envs\\pythonProject10\\lib\\site-packages\\sklearn\\metrics\\cluster\\supervised.py:844: FutureWarning: The behavior of NMI will change in version 0.22. To match the behavior of 'v_measure_score', NMI will use average_method='arithmetic' by default.\n",
      "  FutureWarning)\n"
     ]
    },
    {
     "name": "stdout",
     "output_type": "stream",
     "text": [
      "step- 3080  cost: 4.323213e+21\n",
      "count- [33617 25776 64537 61330]\n",
      "[2 2 2 2 2 2 2 2 2 2 2 2 2 2 2 2 0 0 0 0 0 0 0 0 2 0 0 0 3 3 3 3 3 3 3 3 3\n",
      " 2 3 3 2 3 3 3 2 3 3 2 3 3 2 3 1 1 1 1 1 1 1 1]\n",
      "acc: 0.9\n",
      "nmi: 0.80087\n",
      "ari: 0.70699\n",
      "step- 3090  cost: 5.588269e+21\n",
      "count- [33727 25856 64757 61520]\n",
      "[2 2 2 2 2 2 2 2 2 2 2 2 2 2 2 2 0 0 0 0 0 0 0 0 2 0 0 0 3 3 3 3 3 3 3 3 3\n",
      " 2 3 3 2 3 3 3 2 3 3 2 3 3 2 3 1 1 1 1 1 1 1 1]\n",
      "acc: 0.9\n",
      "nmi: 0.80087\n",
      "ari: 0.70699\n"
     ]
    },
    {
     "name": "stderr",
     "output_type": "stream",
     "text": [
      "C:\\Users\\admin\\anaconda3\\envs\\pythonProject10\\lib\\site-packages\\sklearn\\cluster\\k_means_.py:968: RuntimeWarning: Explicit initial center position passed: performing only one init in k-means instead of n_init=10\n",
      "  return_n_iter=True)\n",
      "C:\\Users\\admin\\anaconda3\\envs\\pythonProject10\\lib\\site-packages\\sklearn\\metrics\\cluster\\supervised.py:844: FutureWarning: The behavior of NMI will change in version 0.22. To match the behavior of 'v_measure_score', NMI will use average_method='arithmetic' by default.\n",
      "  FutureWarning)\n",
      "C:\\Users\\admin\\anaconda3\\envs\\pythonProject10\\lib\\site-packages\\sklearn\\cluster\\k_means_.py:968: RuntimeWarning: Explicit initial center position passed: performing only one init in k-means instead of n_init=10\n",
      "  return_n_iter=True)\n",
      "C:\\Users\\admin\\anaconda3\\envs\\pythonProject10\\lib\\site-packages\\sklearn\\metrics\\cluster\\supervised.py:844: FutureWarning: The behavior of NMI will change in version 0.22. To match the behavior of 'v_measure_score', NMI will use average_method='arithmetic' by default.\n",
      "  FutureWarning)\n"
     ]
    },
    {
     "name": "stdout",
     "output_type": "stream",
     "text": [
      "step- 3100  cost: 7.966159e+20\n",
      "count- [33837 25936 64977 61710]\n",
      "[2 2 2 2 2 2 2 2 2 2 2 2 2 2 2 2 0 0 0 0 0 0 0 0 2 0 0 0 3 3 3 3 3 3 3 3 3\n",
      " 2 3 3 2 3 3 3 2 3 3 2 3 3 2 3 1 1 1 1 1 1 1 1]\n",
      "acc: 0.9\n",
      "nmi: 0.80087\n",
      "ari: 0.70699\n",
      "step- 3110  cost: 2.0123413e+21\n",
      "count- [33947 26016 65197 61900]\n",
      "[2 2 2 2 2 2 2 2 2 2 2 2 2 2 2 2 0 0 0 0 0 0 0 0 2 0 0 0 3 3 3 3 3 3 3 3 3\n",
      " 2 3 3 2 3 3 3 2 3 3 2 3 3 2 3 1 1 1 1 1 1 1 1]\n",
      "acc: 0.9\n",
      "nmi: 0.80087\n",
      "ari: 0.70699\n"
     ]
    },
    {
     "name": "stderr",
     "output_type": "stream",
     "text": [
      "C:\\Users\\admin\\anaconda3\\envs\\pythonProject10\\lib\\site-packages\\sklearn\\cluster\\k_means_.py:968: RuntimeWarning: Explicit initial center position passed: performing only one init in k-means instead of n_init=10\n",
      "  return_n_iter=True)\n",
      "C:\\Users\\admin\\anaconda3\\envs\\pythonProject10\\lib\\site-packages\\sklearn\\metrics\\cluster\\supervised.py:844: FutureWarning: The behavior of NMI will change in version 0.22. To match the behavior of 'v_measure_score', NMI will use average_method='arithmetic' by default.\n",
      "  FutureWarning)\n",
      "C:\\Users\\admin\\anaconda3\\envs\\pythonProject10\\lib\\site-packages\\sklearn\\cluster\\k_means_.py:968: RuntimeWarning: Explicit initial center position passed: performing only one init in k-means instead of n_init=10\n",
      "  return_n_iter=True)\n",
      "C:\\Users\\admin\\anaconda3\\envs\\pythonProject10\\lib\\site-packages\\sklearn\\metrics\\cluster\\supervised.py:844: FutureWarning: The behavior of NMI will change in version 0.22. To match the behavior of 'v_measure_score', NMI will use average_method='arithmetic' by default.\n",
      "  FutureWarning)\n"
     ]
    },
    {
     "name": "stdout",
     "output_type": "stream",
     "text": [
      "step- 3120  cost: 5.2919414e+20\n",
      "count- [34057 26096 65417 62090]\n",
      "[2 2 2 2 2 2 2 2 2 2 2 2 2 2 2 2 0 0 0 0 0 0 0 0 2 0 0 0 3 3 3 3 3 3 3 3 3\n",
      " 2 3 3 2 3 3 3 2 3 3 2 3 3 2 3 1 1 1 1 1 1 1 1]\n",
      "acc: 0.9\n",
      "nmi: 0.80087\n",
      "ari: 0.70699\n",
      "step- 3130  cost: 7.9875125e+20\n",
      "count- [34167 26176 65637 62280]\n",
      "[2 2 2 2 2 2 2 2 2 2 2 2 2 2 2 2 0 0 0 0 0 0 0 0 2 0 0 0 3 3 3 3 3 3 3 3 3\n",
      " 2 3 3 2 3 3 3 2 3 3 2 3 3 2 3 1 1 1 1 1 1 1 1]\n",
      "acc: 0.9\n",
      "nmi: 0.80087\n",
      "ari: 0.70699\n"
     ]
    },
    {
     "name": "stderr",
     "output_type": "stream",
     "text": [
      "C:\\Users\\admin\\anaconda3\\envs\\pythonProject10\\lib\\site-packages\\sklearn\\cluster\\k_means_.py:968: RuntimeWarning: Explicit initial center position passed: performing only one init in k-means instead of n_init=10\n",
      "  return_n_iter=True)\n",
      "C:\\Users\\admin\\anaconda3\\envs\\pythonProject10\\lib\\site-packages\\sklearn\\metrics\\cluster\\supervised.py:844: FutureWarning: The behavior of NMI will change in version 0.22. To match the behavior of 'v_measure_score', NMI will use average_method='arithmetic' by default.\n",
      "  FutureWarning)\n",
      "C:\\Users\\admin\\anaconda3\\envs\\pythonProject10\\lib\\site-packages\\sklearn\\cluster\\k_means_.py:968: RuntimeWarning: Explicit initial center position passed: performing only one init in k-means instead of n_init=10\n",
      "  return_n_iter=True)\n",
      "C:\\Users\\admin\\anaconda3\\envs\\pythonProject10\\lib\\site-packages\\sklearn\\metrics\\cluster\\supervised.py:844: FutureWarning: The behavior of NMI will change in version 0.22. To match the behavior of 'v_measure_score', NMI will use average_method='arithmetic' by default.\n",
      "  FutureWarning)\n"
     ]
    },
    {
     "name": "stdout",
     "output_type": "stream",
     "text": [
      "step- 3140  cost: 3.2739278e+21\n",
      "count- [34277 26256 65857 62470]\n",
      "[2 2 2 2 2 2 2 2 2 2 2 2 2 2 2 2 0 0 0 0 0 0 0 0 2 0 0 0 3 3 3 3 3 3 3 3 3\n",
      " 2 3 3 2 3 3 3 2 3 3 2 3 3 2 3 1 1 1 1 1 1 1 1]\n",
      "acc: 0.9\n",
      "nmi: 0.80087\n",
      "ari: 0.70699\n",
      "step- 3150  cost: 2.5946856e+21\n",
      "count- [34387 26336 66077 62660]\n",
      "[2 2 2 2 2 2 2 2 2 2 2 2 2 2 2 2 0 0 0 0 0 0 0 0 2 0 0 0 3 3 3 3 3 3 3 3 3\n",
      " 2 3 3 2 3 3 3 2 3 3 2 3 3 2 3 1 1 1 1 1 1 1 1]\n",
      "acc: 0.9\n",
      "nmi: 0.80087\n",
      "ari: 0.70699\n"
     ]
    },
    {
     "name": "stderr",
     "output_type": "stream",
     "text": [
      "C:\\Users\\admin\\anaconda3\\envs\\pythonProject10\\lib\\site-packages\\sklearn\\cluster\\k_means_.py:968: RuntimeWarning: Explicit initial center position passed: performing only one init in k-means instead of n_init=10\n",
      "  return_n_iter=True)\n",
      "C:\\Users\\admin\\anaconda3\\envs\\pythonProject10\\lib\\site-packages\\sklearn\\metrics\\cluster\\supervised.py:844: FutureWarning: The behavior of NMI will change in version 0.22. To match the behavior of 'v_measure_score', NMI will use average_method='arithmetic' by default.\n",
      "  FutureWarning)\n",
      "C:\\Users\\admin\\anaconda3\\envs\\pythonProject10\\lib\\site-packages\\sklearn\\cluster\\k_means_.py:968: RuntimeWarning: Explicit initial center position passed: performing only one init in k-means instead of n_init=10\n",
      "  return_n_iter=True)\n",
      "C:\\Users\\admin\\anaconda3\\envs\\pythonProject10\\lib\\site-packages\\sklearn\\metrics\\cluster\\supervised.py:844: FutureWarning: The behavior of NMI will change in version 0.22. To match the behavior of 'v_measure_score', NMI will use average_method='arithmetic' by default.\n",
      "  FutureWarning)\n"
     ]
    },
    {
     "name": "stdout",
     "output_type": "stream",
     "text": [
      "step- 3160  cost: 1.142165e+22\n",
      "count- [34497 26416 66297 62850]\n",
      "[2 2 2 2 2 2 2 2 2 2 2 2 2 2 2 2 0 0 0 0 0 0 0 0 2 0 0 0 3 3 3 3 3 3 3 3 3\n",
      " 2 3 3 2 3 3 3 2 3 3 2 3 3 2 3 1 1 1 1 1 1 1 1]\n",
      "acc: 0.9\n",
      "nmi: 0.80087\n",
      "ari: 0.70699\n",
      "step- 3170  cost: 7.9725176e+20\n",
      "count- [34607 26496 66517 63040]\n",
      "[2 2 2 2 2 2 2 2 2 2 2 2 2 2 2 2 0 0 0 0 0 0 0 0 2 0 0 0 3 3 3 3 3 3 3 3 3\n",
      " 2 3 3 2 3 3 3 2 3 3 2 3 3 2 3 1 1 1 1 1 1 1 1]\n",
      "acc: 0.9\n",
      "nmi: 0.80087\n",
      "ari: 0.70699\n"
     ]
    },
    {
     "name": "stderr",
     "output_type": "stream",
     "text": [
      "C:\\Users\\admin\\anaconda3\\envs\\pythonProject10\\lib\\site-packages\\sklearn\\cluster\\k_means_.py:968: RuntimeWarning: Explicit initial center position passed: performing only one init in k-means instead of n_init=10\n",
      "  return_n_iter=True)\n",
      "C:\\Users\\admin\\anaconda3\\envs\\pythonProject10\\lib\\site-packages\\sklearn\\metrics\\cluster\\supervised.py:844: FutureWarning: The behavior of NMI will change in version 0.22. To match the behavior of 'v_measure_score', NMI will use average_method='arithmetic' by default.\n",
      "  FutureWarning)\n",
      "C:\\Users\\admin\\anaconda3\\envs\\pythonProject10\\lib\\site-packages\\sklearn\\cluster\\k_means_.py:968: RuntimeWarning: Explicit initial center position passed: performing only one init in k-means instead of n_init=10\n",
      "  return_n_iter=True)\n",
      "C:\\Users\\admin\\anaconda3\\envs\\pythonProject10\\lib\\site-packages\\sklearn\\metrics\\cluster\\supervised.py:844: FutureWarning: The behavior of NMI will change in version 0.22. To match the behavior of 'v_measure_score', NMI will use average_method='arithmetic' by default.\n",
      "  FutureWarning)\n"
     ]
    },
    {
     "name": "stdout",
     "output_type": "stream",
     "text": [
      "step- 3180  cost: 1.0131121e+22\n",
      "count- [34717 26576 66737 63230]\n",
      "[2 2 2 2 2 2 2 2 2 2 2 2 2 2 2 2 0 0 0 0 0 0 0 0 2 0 0 0 3 3 3 3 3 3 3 3 3\n",
      " 2 3 3 2 3 3 3 2 3 3 2 3 3 2 3 1 1 1 1 1 1 1 1]\n",
      "acc: 0.9\n",
      "nmi: 0.80087\n",
      "ari: 0.70699\n",
      "step- 3190  cost: 8.3010506e+21\n",
      "count- [34827 26656 66957 63420]\n",
      "[2 2 2 2 2 2 2 2 2 2 2 2 2 2 2 2 0 0 0 0 0 0 0 0 2 0 0 0 3 3 3 3 3 3 3 3 3\n",
      " 2 3 3 2 3 3 3 2 3 3 2 3 3 2 3 1 1 1 1 1 1 1 1]\n",
      "acc: 0.9\n",
      "nmi: 0.80087\n",
      "ari: 0.70699\n",
      "saving model to: ./models/DCN_model_final.h5\n"
     ]
    }
   ],
   "source": [
    "dcn = DCN(dims=[x_train.shape[-1], 500, 500, 2000, 10], n_clusters=4, lambd=0.001)\n",
    "dcn.compile()\n",
    "\n",
    "\n",
    "ae_weights = 'results/temp/ae_weights_200.h5'\n",
    "#ae_weights=None\n",
    "\n",
    "if ae_weights is None:\n",
    "    pretrain_epochs = 2000\n",
    "    dcn.pretrain(x=x_train, epochs=pretrain_epochs)\n",
    "else:\n",
    "    dcn.autoencoder.load_weights(ae_weights)\n",
    "dcn.init_centers(x_train, y_train)\n",
    "\n",
    "dcn.fit(x_train, y_train, epoches=3200, batch_size=40)\n",
    "\n",
    "\n"
   ]
  },
  {
   "cell_type": "code",
   "execution_count": 8,
   "metadata": {},
   "outputs": [],
   "source": [
    "#y_pred = dcn.predict(x_test)\n",
    "#print(y_pred)\n",
    "\n"
   ]
  },
  {
   "cell_type": "code",
   "execution_count": 9,
   "metadata": {},
   "outputs": [],
   "source": [
    "#dcn.metric(y_test, y_pred)"
   ]
  },
  {
   "cell_type": "code",
   "execution_count": 10,
   "metadata": {},
   "outputs": [
    {
     "name": "stdout",
     "output_type": "stream",
     "text": [
      "indices\n",
      "[1 1 1 1 0]\n"
     ]
    },
    {
     "data": {
      "text/plain": [
       "array([1, 1, 1, 1, 0], dtype=int64)"
      ]
     },
     "execution_count": 10,
     "metadata": {},
     "output_type": "execute_result"
    }
   ],
   "source": [
    "dcn.get_support(indices = True)"
   ]
  },
  {
   "cell_type": "code",
   "execution_count": null,
   "metadata": {},
   "outputs": [],
   "source": []
  }
 ],
 "metadata": {
  "kernelspec": {
   "display_name": "pythonProject10",
   "language": "python",
   "name": "pythonproject10"
  },
  "language_info": {
   "codemirror_mode": {
    "name": "ipython",
    "version": 3
   },
   "file_extension": ".py",
   "mimetype": "text/x-python",
   "name": "python",
   "nbconvert_exporter": "python",
   "pygments_lexer": "ipython3",
   "version": "3.5.6"
  }
 },
 "nbformat": 4,
 "nbformat_minor": 4
}
